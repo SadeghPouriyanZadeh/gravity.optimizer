{
  "nbformat": 4,
  "nbformat_minor": 0,
  "metadata": {
    "colab": {
      "name": "kerasImplementation.ipynb",
      "provenance": [],
      "collapsed_sections": []
    },
    "kernelspec": {
      "name": "python3",
      "display_name": "Python 3"
    },
    "accelerator": "GPU"
  },
  "cells": [
    {
      "cell_type": "code",
      "metadata": {
        "id": "0siAij-6WGyE",
        "colab": {
          "base_uri": "https://localhost:8080/"
        },
        "outputId": "b9b87072-25b6-4737-893a-1e839cf1624a"
      },
      "source": [
        "%tensorflow_version 2.x\n",
        "import tensorflow as tf\n",
        "import numpy as np\n",
        "from matplotlib import pyplot as plt\n",
        "device_name = tf.test.gpu_device_name()\n",
        "if device_name != '/device:GPU:0':\n",
        "  raise SystemError('GPU device not found')\n",
        "print('Found GPU at: {}'.format(device_name))"
      ],
      "execution_count": null,
      "outputs": [
        {
          "output_type": "stream",
          "text": [
            "Found GPU at: /device:GPU:0\n"
          ],
          "name": "stdout"
        }
      ]
    },
    {
      "cell_type": "markdown",
      "metadata": {
        "id": "pRm4P1XNXzA_"
      },
      "source": [
        "# Optimizers Definition"
      ]
    },
    {
      "cell_type": "code",
      "metadata": {
        "id": "FcvJWtkga1-x"
      },
      "source": [
        "class Gravity(tf.keras.optimizers.Optimizer):\n",
        "    def __init__(self, dt, g, name=\"Gravity\", **kwargs):\n",
        "        \"\"\"Call super().__init__() and use _set_hyper() to store hyperparameters\"\"\"\n",
        "        super().__init__(name, **kwargs)\n",
        "        self.g = g\n",
        "        self.dt = dt\n",
        "        self.epsilon = 1e-7\n",
        "    \n",
        "    def _create_slots(self, var_list):\n",
        "        \"\"\"For each model variable, create the optimizer variable associated with it.\n",
        "        TensorFlow calls these optimizer variables \"slots\".\n",
        "        For momentum optimization, we need one momentum slot per model variable.\n",
        "        \"\"\"\n",
        "        for var in var_list:\n",
        "            self.add_slot(var, \"velocity\")\n",
        "\n",
        "\n",
        "    @tf.function\n",
        "    def _resource_apply_dense(self, grad, var):\n",
        "        \"\"\"Update the slots and perform one optimization step for one model variable\n",
        "        \"\"\"\n",
        "        # Compute sine and cosine based on sin(arctan(X)) and cos(arctan(x)) formula\n",
        "        sine = tf.math.divide(grad, tf.math.sqrt(1+tf.math.square(grad)+self.epsilon))\n",
        "        cosine = tf.math.divide(1, tf.math.sqrt(1+tf.math.square(grad)+self.epsilon))\n",
        "\n",
        "        # Update Velocity\n",
        "        current_velocity = self.get_slot(var, \"velocity\")\n",
        "        mask = current_velocity*grad<0\n",
        "        corrected_velocity = tf.where(mask, current_velocity, 0)\n",
        "        updated_velocity = -self.g*(sine*cosine)*self.dt + corrected_velocity\n",
        "        updated_var = updated_velocity*self.dt + var\n",
        "        current_velocity.assign(updated_velocity)\n",
        "        var.assign(updated_var)\n",
        "\n",
        "    def _resource_apply_sparse(self, grad, var):\n",
        "        raise NotImplementedError\n",
        "    def get_config(self):\n",
        "        base_config = super().get_config()\n",
        "        return base_config"
      ],
      "execution_count": null,
      "outputs": []
    },
    {
      "cell_type": "code",
      "metadata": {
        "id": "kbP6IdVzieJj"
      },
      "source": [
        "class Gravity2(tf.keras.optimizers.Optimizer):\n",
        "    def __init__(self, learning_rate, beta=0.9, c=1, name=\"Gravity\", **kwargs):\n",
        "        \"\"\"Call super().__init__() and use _set_hyper() to store hyperparameters\"\"\"\n",
        "        super().__init__(name, **kwargs)\n",
        "        self.learning_rate = learning_rate\n",
        "        self.beta = beta\n",
        "        self.c = c\n",
        "        self.epsilon = 1e-7\n",
        "    \n",
        "    def _create_slots(self, var_list):\n",
        "        \"\"\"For each model variable, create the optimizer variable associated with it.\n",
        "        TensorFlow calls these optimizer variables \"slots\".\n",
        "        For momentum optimization, we need one momentum slot per model variable.\n",
        "        \"\"\"\n",
        "        for var in var_list:\n",
        "            self.add_slot(var, \"velocity\")\n",
        "\n",
        "    @tf.function\n",
        "    def _resource_apply_dense(self, grad, var):\n",
        "        \"\"\"Update the slots and perform one optimization step for one model variable\n",
        "        \"\"\"\n",
        "        m = tf.reduce_max(tf.abs(grad))*self.c\n",
        "        gradient_term = (grad) / (1 + (grad/(m+self.epsilon))**2)\n",
        "        velocity = self.get_slot(var, \"velocity\")\n",
        "        updated_velocity = self.beta*velocity + (1-self.beta)*gradient_term\n",
        "        updated_var = var - self.learning_rate*updated_velocity\n",
        "        velocity.assign(updated_velocity)\n",
        "        var.assign(updated_var)\n",
        "\n",
        "    def _resource_apply_sparse(self, grad, var):\n",
        "        raise NotImplementedError\n",
        "    def get_config(self):\n",
        "        base_config = super().get_config()\n",
        "        return base_config"
      ],
      "execution_count": null,
      "outputs": []
    },
    {
      "cell_type": "code",
      "metadata": {
        "id": "Zv6iyw-0Tj12"
      },
      "source": [
        "class Pace(tf.keras.optimizers.Optimizer):\n",
        "    def __init__(self, lr, name=\"AdaptivePace\", **kwargs):\n",
        "        \"\"\"Call super().__init__() and use _set_hyper() to store hyperparameters\"\"\"\n",
        "        super().__init__(name, **kwargs)\n",
        "        self.learning_rate = lr\n",
        "        self.epsilon = 1e-7\n",
        "        self.pace_log = {'min':[], 'max':[], 'mean':[], 'std':[]}\n",
        "    \n",
        "    def _create_slots(self, var_list):\n",
        "        \"\"\"For each model variable, create the optimizer variable associated with it.\n",
        "        TensorFlow calls these optimizer variables \"slots\".\n",
        "        For momentum optimization, we need one momentum slot per model variable.\n",
        "        \"\"\"\n",
        "        pass\n",
        "\n",
        "    @tf.function\n",
        "    def _resource_apply_dense(self, grad, var):\n",
        "        \"\"\"Update the slots and perform one optimization step for one model variable\n",
        "        \"\"\"\n",
        "        # dist = tfp.distributions.Normal(loc=float(tf.math.reduce_mean(grad)),\n",
        "        #                         scale=float(tf.math.reduce_std(grad)),\n",
        "        #                         validate_args=False, allow_nan_stats=False, name='Normal')\n",
        "        # b = dist.prob(float(tf.math.reduce_std(grad)))\n",
        "        # self.pace_log['min'].append(tf.reduce_min(grad).numpy())\n",
        "        # self.pace_log['max'].append(tf.reduce_max(grad).numpy())\n",
        "        # self.pace_log['mean'].append(tf.reduce_mean(grad).numpy())\n",
        "        # self.pace_log['std'].append(tf.math.reduce_std(grad).numpy())      \n",
        "        b = self.learning_rate\n",
        "        a = b*abs(float(tf.math.reduce_std(grad)))\n",
        "        step = -a*tf.math.tanh((b/a)*grad)\n",
        "        updated_var = step + var\n",
        "        var.assign(updated_var)\n",
        "\n",
        "    def _resource_apply_sparse(self, grad, var):\n",
        "        raise NotImplementedError\n",
        "    def get_config(self):\n",
        "        base_config = super().get_config()\n",
        "        return base_config"
      ],
      "execution_count": null,
      "outputs": []
    },
    {
      "cell_type": "markdown",
      "metadata": {
        "id": "1ToKPjvy8QwX"
      },
      "source": [
        "# Models Definitions"
      ]
    },
    {
      "cell_type": "markdown",
      "metadata": {
        "id": "M1WOZkoA8VCX"
      },
      "source": [
        "## LeNet-5"
      ]
    },
    {
      "cell_type": "code",
      "metadata": {
        "id": "P8hEMSKP8ZNu"
      },
      "source": [
        "def lenet5(input_shape=(32, 32, 1), num_classes=10, activation_function='tanh', classifier_activation=None):\n",
        "    model = tf.keras.Sequential()\n",
        "    model.add(tf.keras.layers.Conv2D(filters=6, kernel_size=(5, 5), activation=activation_function, padding='valid', input_shape=input_shape))\n",
        "    model.add(tf.keras.layers.AveragePooling2D((2, 2)))\n",
        "\n",
        "    model.add(tf.keras.layers.Conv2D(filters=16, kernel_size=(5, 5), activation=activation_function, padding='valid'))\n",
        "    model.add(tf.keras.layers.AveragePooling2D((2, 2)))\n",
        "\n",
        "    model.add(tf.keras.layers.Flatten())\n",
        "\n",
        "    model.add(tf.keras.layers.Dense(units=120, activation=activation_function))\n",
        "    model.add(tf.keras.layers.Dense(units=84, activation=activation_function))\n",
        "    model.add(tf.keras.layers.Dense(units=num_classes, activation=classifier_activation))\n",
        "    return model\n",
        "\n",
        "\n",
        "def alexnet(input_shape=(227, 227, 3), num_classes=1000, activation_function='relu', classifier_activation='softmax'):\n",
        "    model = tf.keras.Sequential()\n",
        "    model.add(tf.keras.layers.Conv2D(filters=96, kernel_size=(11, 11), strides=(4, 4), activation=activation_function, padding='valid', input_shape=input_shape))\n",
        "    model.add(tf.keras.layers.MaxPool2D((3, 3), strides=(2, 2)))\n",
        "\n",
        "    model.add(tf.keras.layers.Conv2D(filters=256, kernel_size=(5, 5), strides=(1, 1), activation=activation_function, padding='same'))\n",
        "    model.add(tf.keras.layers.MaxPool2D((3, 3), strides=(2, 2)))\n",
        "\n",
        "    model.add(tf.keras.layers.Conv2D(filters=384, kernel_size=(3, 3), strides=(1, 1), activation=activation_function, padding='same'))\n",
        "    model.add(tf.keras.layers.Conv2D(filters=384, kernel_size=(3, 3), strides=(1, 1), activation=activation_function, padding='same'))\n",
        "    model.add(tf.keras.layers.Conv2D(filters=256, kernel_size=(3, 3), strides=(1, 1), activation=activation_function, padding='same'))\n",
        "    model.add(tf.keras.layers.MaxPool2D((3, 3), strides=(2, 2)))\n",
        "\n",
        "    model.add(tf.keras.layers.Flatten())\n",
        "\n",
        "    model.add(tf.keras.layers.Dense(units=4096, activation=activation_function))\n",
        "    model.add(tf.keras.layers.Dense(units=4096, activation=activation_function))\n",
        "    model.add(tf.keras.layers.Dense(units=num_classes, activation=classifier_activation))\n",
        "    return model\n",
        "\n",
        "\n",
        "def vgg16(input_shape=(224, 224, 3), num_classes=1000, activation_function='relu', classifier_activation='softmax', drop_out_rate=0.5):\n",
        "    model = tf.keras.Sequential()\n",
        "    model.add(tf.keras.layers.Conv2D(filters=64, kernel_size=(3, 3), activation=activation_function, padding='same', input_shape=input_shape))\n",
        "    model.add(tf.keras.layers.Conv2D(filters=64, kernel_size=(3, 3), activation=activation_function, padding='same'))\n",
        "    model.add(tf.keras.layers.MaxPool2D((2, 2)))\n",
        "\n",
        "    model.add(tf.keras.layers.Conv2D(filters=128, kernel_size=(3, 3), activation=activation_function, padding='same'))\n",
        "    model.add(tf.keras.layers.Conv2D(filters=128, kernel_size=(3, 3), activation=activation_function, padding='same'))\n",
        "    model.add(tf.keras.layers.MaxPool2D((2, 2)))\n",
        "\n",
        "    model.add(tf.keras.layers.Conv2D(filters=256, kernel_size=(3, 3), activation=activation_function, padding='same'))\n",
        "    model.add(tf.keras.layers.Conv2D(filters=256, kernel_size=(3, 3), activation=activation_function, padding='same'))\n",
        "    model.add(tf.keras.layers.Conv2D(filters=256, kernel_size=(3, 3), activation=activation_function, padding='same'))\n",
        "    model.add(tf.keras.layers.MaxPool2D((2, 2)))\n",
        "\n",
        "    model.add(tf.keras.layers.Conv2D(filters=512, kernel_size=(3, 3), activation=activation_function, padding='same'))\n",
        "    model.add(tf.keras.layers.Conv2D(filters=512, kernel_size=(3, 3), activation=activation_function, padding='same'))\n",
        "    model.add(tf.keras.layers.Conv2D(filters=512, kernel_size=(3, 3), activation=activation_function, padding='same'))\n",
        "    model.add(tf.keras.layers.MaxPool2D((2, 2)))\n",
        "\n",
        "    model.add(tf.keras.layers.Conv2D(filters=512, kernel_size=(3, 3), activation=activation_function, padding='same'))\n",
        "    model.add(tf.keras.layers.Conv2D(filters=512, kernel_size=(3, 3), activation=activation_function, padding='same'))\n",
        "    model.add(tf.keras.layers.Conv2D(filters=512, kernel_size=(3, 3), activation=activation_function, padding='same'))\n",
        "    model.add(tf.keras.layers.MaxPool2D((2, 2)))\n",
        "\n",
        "    model.add(tf.keras.layers.Flatten())\n",
        "\n",
        "    model.add(tf.keras.layers.Dense(units=4096, activation=activation_function))\n",
        "    model.add(tf.keras.layers.Dropout(drop_out_rate))\n",
        "    model.add(tf.keras.layers.Dense(units=4096, activation=activation_function))\n",
        "    model.add(tf.keras.layers.Dropout(drop_out_rate))\n",
        "    model.add(tf.keras.layers.Dense(units=num_classes, activation=classifier_activation))\n",
        "    return model\n",
        "\n",
        "def custom_vgg16(input_shape=(32, 32, 3), num_classes=10, activation_function='relu', classifier_activation=None, drop_out_rate=0.5):\n",
        "    model = tf.keras.Sequential()\n",
        "    model.add(tf.keras.layers.Conv2D(filters=64, kernel_size=(3, 3), activation=activation_function, padding='same', input_shape=input_shape))\n",
        "    model.add(tf.keras.layers.Conv2D(filters=64, kernel_size=(3, 3), activation=activation_function, padding='same'))\n",
        "    model.add(tf.keras.layers.MaxPool2D((2, 2)))\n",
        "\n",
        "    model.add(tf.keras.layers.Conv2D(filters=128, kernel_size=(3, 3), activation=activation_function, padding='same'))\n",
        "    model.add(tf.keras.layers.Conv2D(filters=128, kernel_size=(3, 3), activation=activation_function, padding='same'))\n",
        "    model.add(tf.keras.layers.MaxPool2D((2, 2)))\n",
        "\n",
        "    model.add(tf.keras.layers.Conv2D(filters=256, kernel_size=(3, 3), activation=activation_function, padding='same'))\n",
        "    model.add(tf.keras.layers.Conv2D(filters=256, kernel_size=(3, 3), activation=activation_function, padding='same'))\n",
        "    model.add(tf.keras.layers.Conv2D(filters=256, kernel_size=(3, 3), activation=activation_function, padding='same'))\n",
        "    model.add(tf.keras.layers.MaxPool2D((2, 2)))\n",
        "\n",
        "    model.add(tf.keras.layers.Conv2D(filters=512, kernel_size=(3, 3), activation=activation_function, padding='same'))\n",
        "    model.add(tf.keras.layers.Conv2D(filters=512, kernel_size=(3, 3), activation=activation_function, padding='same'))\n",
        "    model.add(tf.keras.layers.Conv2D(filters=512, kernel_size=(3, 3), activation=activation_function, padding='same'))\n",
        "    model.add(tf.keras.layers.MaxPool2D((2, 2)))\n",
        "\n",
        "    model.add(tf.keras.layers.Conv2D(filters=512, kernel_size=(3, 3), activation=activation_function, padding='same'))\n",
        "    model.add(tf.keras.layers.Conv2D(filters=512, kernel_size=(3, 3), activation=activation_function, padding='same'))\n",
        "    model.add(tf.keras.layers.Conv2D(filters=512, kernel_size=(3, 3), activation=activation_function, padding='same'))\n",
        "    model.add(tf.keras.layers.MaxPool2D((2, 2)))\n",
        "\n",
        "    model.add(tf.keras.layers.Flatten())\n",
        "    model.add(tf.keras.layers.BatchNormalization())\n",
        "\n",
        "    model.add(tf.keras.layers.Dense(units=4096, activation=activation_function))\n",
        "    model.add(tf.keras.layers.Dropout(drop_out_rate))\n",
        "    model.add(tf.keras.layers.BatchNormalization())\n",
        "    model.add(tf.keras.layers.Dense(units=4096, activation=activation_function))\n",
        "    model.add(tf.keras.layers.Dropout(drop_out_rate))\n",
        "    model.add(tf.keras.layers.BatchNormalization())\n",
        "    model.add(tf.keras.layers.Dense(units=num_classes, activation=classifier_activation))\n",
        "    return model"
      ],
      "execution_count": null,
      "outputs": []
    },
    {
      "cell_type": "markdown",
      "metadata": {
        "id": "MynFjb3Bb2bP"
      },
      "source": [
        "# MNIST Dataset Test"
      ]
    },
    {
      "cell_type": "code",
      "metadata": {
        "id": "tfn_ZOlSb2bQ"
      },
      "source": [
        "mnist = tf.keras.datasets.mnist\n",
        "\n",
        "(X_train, y_train), (X_test, y_test) = mnist.load_data()\n",
        "X_train = X_train.reshape((X_train.shape[0], 28, 28, 1)).astype('float32')\n",
        "X_test = X_test.reshape((X_test.shape[0], 28, 28, 1)).astype('float32')\n",
        "\n",
        "X_train, X_test = X_train / 255.0, X_test / 255.0\n",
        "\n",
        "y_train = tf.keras.utils.to_categorical(y_train)\n",
        "y_test = tf.keras.utils.to_categorical(y_test)"
      ],
      "execution_count": null,
      "outputs": []
    },
    {
      "cell_type": "code",
      "metadata": {
        "id": "PsFHrCtQYcON"
      },
      "source": [
        "model = tf.keras.Sequential()\n",
        "\n",
        "model.add(tf.keras.layers.Conv2D(filters=32, kernel_size=(3, 3), activation='relu', padding='same', input_shape=(28,28,1)))\n",
        "model.add(tf.keras.layers.MaxPool2D((2, 2)))\n",
        "\n",
        "model.add(tf.keras.layers.Conv2D(filters=64, kernel_size=(3, 3), activation='relu', padding='same'))\n",
        "model.add(tf.keras.layers.MaxPool2D((2, 2)))\n",
        "\n",
        "model.add(tf.keras.layers.Conv2D(filters=128, kernel_size=(3, 3), activation='relu', padding='same'))\n",
        "model.add(tf.keras.layers.Conv2D(filters=128, kernel_size=(3, 3), activation='relu', padding='same'))\n",
        "model.add(tf.keras.layers.Conv2D(filters=128, kernel_size=(3, 3), activation='relu', padding='same'))\n",
        "model.add(tf.keras.layers.MaxPool2D((2, 2)))\n",
        "\n",
        "model.add(tf.keras.layers.Flatten())\n",
        "\n",
        "model.add(tf.keras.layers.Dense(units=128, activation='relu'))\n",
        "# model.add(tf.keras.layers.Dropout(0.5))\n",
        "model.add(tf.keras.layers.Dense(units=256, activation='relu'))\n",
        "# model.add(tf.keras.layers.Dropout(0.5))\n",
        "model.add(tf.keras.layers.Dense(units=10, activation='softmax'))\n",
        "\n",
        "cost_func = tf.keras.losses.CategoricalCrossentropy(from_logits=False)\n",
        "adam_opt = tf.keras.optimizers.Adam(learning_rate=0.001, beta_1=0.9, beta_2=0.999,)\n",
        "pace_opt = Pace(lr=0.001)\n",
        "gravity_opt = Gravity2(learning_rate=0.1, c=1)\n",
        "model.compile(optimizer=gravity_opt, loss=cost_func, metrics=['accuracy'])\n",
        "early_stopping = tf.keras.callbacks.EarlyStopping(monitor=\"val_loss\",\n",
        "                                                  min_delta=0,\n",
        "                                                  patience=20,\n",
        "                                                  verbose=1,\n",
        "                                                  mode=\"auto\",\n",
        "                                                  baseline=None,\n",
        "                                                  restore_best_weights=True)\n",
        "my_callbacks = [early_stopping]\n",
        "model.fit(X_train, y_train, epochs=500, batch_size=256, validation_data=(X_test, y_test))\n"
      ],
      "execution_count": null,
      "outputs": []
    },
    {
      "cell_type": "code",
      "metadata": {
        "id": "MUG13supYr_U"
      },
      "source": [
        "model.evaluate(X_test,  y_test, verbose=1)"
      ],
      "execution_count": null,
      "outputs": []
    },
    {
      "cell_type": "markdown",
      "metadata": {
        "id": "_40VUUsS92xS"
      },
      "source": [
        "# CIFAR 10"
      ]
    },
    {
      "cell_type": "code",
      "metadata": {
        "id": "zfAVGdvi91_u",
        "colab": {
          "base_uri": "https://localhost:8080/"
        },
        "outputId": "dcb8ac78-e139-49c9-81fa-b7d3fdf230e6"
      },
      "source": [
        "(input_train, target_train), (input_test, target_test) = tf.keras.datasets.cifar10.load_data()\n",
        "img_width, img_height, img_num_channels = 32, 32, 3\n",
        "no_classes = 10\n",
        "input_shape = (img_width, img_height, img_num_channels)\n",
        "# print(target_train.shape)\n",
        "input_train = input_train.astype('float32')\n",
        "input_test = input_test.astype('float32')\n",
        "\n",
        "# Normalize data\n",
        "input_train = input_train / 255\n",
        "input_test = input_test / 255"
      ],
      "execution_count": null,
      "outputs": [
        {
          "output_type": "stream",
          "text": [
            "Downloading data from https://www.cs.toronto.edu/~kriz/cifar-10-python.tar.gz\n",
            "170500096/170498071 [==============================] - 2s 0us/step\n"
          ],
          "name": "stdout"
        }
      ]
    },
    {
      "cell_type": "code",
      "metadata": {
        "id": "dL2oFLcq_DdA"
      },
      "source": [
        "cifar_model = custom_vgg16((32, 32, 3), 10, classifier_activation=None)\n",
        "\n",
        "# Optimizers definition\n",
        "pace_opt = Pace(lr=0.05)\n",
        "gravity_opt = Gravity2(learning_rate=0.075, beta=0.9, c=1)\n",
        "sgd_opt = tf.keras.optimizers.SGD(learning_rate=0.1, momentum=0.9)\n",
        "adam_opt = tf.keras.optimizers.Adam(learning_rate=0.001)\n",
        "\n",
        "\n",
        "# Model configuration\n",
        "optimizer = gravity_opt\n",
        "cost_func = tf.keras.losses.SparseCategoricalCrossentropy(from_logits=True)\n",
        "cifar_model.compile(loss=cost_func, optimizer=optimizer, metrics=['accuracy'])"
      ],
      "execution_count": null,
      "outputs": []
    },
    {
      "cell_type": "code",
      "metadata": {
        "id": "beuF3JNMGnXn"
      },
      "source": [
        "batch_size = 128\n",
        "no_epochs = 100\n",
        "verbosity = 1\n",
        "history1 = cifar_model.fit(input_train, target_train,\n",
        "                          batch_size=batch_size,\n",
        "                          epochs=no_epochs,\n",
        "                          verbose=verbosity,\n",
        "                          validation_data=(input_test, target_test))"
      ],
      "execution_count": null,
      "outputs": []
    },
    {
      "cell_type": "markdown",
      "metadata": {
        "id": "6z6IGkbkc90S"
      },
      "source": [
        "# No Drop Out\n",
        "**Adam**: loss: 0.0757 - accuracy: 0.9737 - val_loss: 2.8531 - val_accuracy: 0.6755\n",
        "\n",
        "**Gravity**: loss: 3.9684e-04 - accuracy: 1.0000 - val_loss: 2.7818 - val_accuracy: 0.7048\n",
        "\n",
        "# With Drop Out 0.5\n",
        "***50 Epochs***\n",
        "\n",
        "**Adam**: loss: 0.5390 - accuracy: 0.8111 - val_loss: 0.9564 - val_accuracy: 0.7133\n",
        "\n",
        "**Gravity**: loss: 0.5070 - accuracy: 0.8219 - val_loss: 0.9880 - val_accuracy: 0.7164\n",
        "\n",
        "***100 Epochs***\n",
        "\n",
        "**Adam**: loss: 0.3687 - accuracy: 0.8640 - val_loss: 1.3471 - val_accuracy: 0.7096\n",
        "\n",
        "**Gravity**: loss: 0.3024 - accuracy: 0.8952 - val_loss: 1.1554 - val_accuracy: 0.7310"
      ]
    },
    {
      "cell_type": "code",
      "metadata": {
        "id": "K9RXcYkT_8t_",
        "colab": {
          "base_uri": "https://localhost:8080/"
        },
        "outputId": "2ef6ccc0-6318-457e-fc6c-9de2596aa0f3"
      },
      "source": [
        "# Generate generalization metrics\n",
        "score = cifar_model.evaluate(input_test, target_test, verbose=0)\n",
        "print(f'Test loss: {score[0]} / Test accuracy: {score[1]}')"
      ],
      "execution_count": null,
      "outputs": [
        {
          "output_type": "stream",
          "text": [
            "Test loss: 0.9563698172569275 / Test accuracy: 0.7132999897003174\n"
          ],
          "name": "stdout"
        }
      ]
    },
    {
      "cell_type": "code",
      "metadata": {
        "id": "6jDhqK6KAXLn",
        "colab": {
          "base_uri": "https://localhost:8080/",
          "height": 573
        },
        "outputId": "404d0323-0811-4dff-a4ea-1ce408f633da"
      },
      "source": [
        "# Visualize history\n",
        "# Plot history: Loss\n",
        "plt.plot(history.history['val_loss'])\n",
        "plt.title('Validation loss history')\n",
        "plt.ylabel('Loss value')\n",
        "plt.xlabel('No. epoch')\n",
        "plt.show()\n",
        "\n",
        "# Plot history: Accuracy\n",
        "plt.plot(history.history['val_accuracy'])\n",
        "plt.title('Validation accuracy history')\n",
        "plt.ylabel('Accuracy value (%)')\n",
        "plt.xlabel('No. epoch')\n",
        "plt.show()"
      ],
      "execution_count": null,
      "outputs": [
        {
          "output_type": "display_data",
          "data": {
            "image/png": "[encoded data removed]",
            "text/plain": [
              "<Figure size 432x288 with 1 Axes>"
            ]
          },
          "metadata": {
            "tags": [],
            "needs_background": "light"
          }
        },
        {
          "output_type": "display_data",
          "data": {
            "image/png": "[encoded data removed]",
            "text/plain": [
              "<Figure size 432x288 with 1 Axes>"
            ]
          },
          "metadata": {
            "tags": [],
            "needs_background": "light"
          }
        }
      ]
    }
  ]
}