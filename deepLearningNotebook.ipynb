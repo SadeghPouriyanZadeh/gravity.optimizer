{
 "cells": [
  {
   "cell_type": "markdown",
   "metadata": {
    "id": "yEVWWGAytvXA"
   },
   "source": [
    "# Import Modules"
   ]
  },
  {
   "cell_type": "code",
   "execution_count": 17,
   "metadata": {
    "id": "H_adi4DUtvXD"
   },
   "outputs": [],
   "source": [
    "import numpy as np\n",
    "from matplotlib import pyplot as plt\n",
    "import PIL\n",
    "%matplotlib inline"
   ]
  },
  {
   "cell_type": "markdown",
   "metadata": {
    "id": "bBeRwmdutvXO"
   },
   "source": [
    "# Structure Design"
   ]
  },
  {
   "cell_type": "markdown",
   "metadata": {
    "id": "qrEsUnixtvXQ"
   },
   "source": [
    "## Activation Functions Definition"
   ]
  },
  {
   "cell_type": "code",
   "execution_count": 18,
   "metadata": {
    "id": "icI3PddDtvXR"
   },
   "outputs": [],
   "source": [
    "def sigmoid(z):\n",
    "    return 1 / (1 + np.exp(-z))\n",
    "\n",
    "\n",
    "def sigmoid_derivative(z):\n",
    "    return sigmoid(z)*(1-sigmoid(z))\n",
    "\n",
    "\n",
    "def relu(z, leak_grad=1e-8):\n",
    "    return np.maximum(leak_grad*z, z)\n",
    "\n",
    "\n",
    "def relu_derivative(z, leak_grad=1e-8):\n",
    "    return np.where(z <= 0, leak_grad, 1)\n",
    "\n",
    "\n",
    "def tanh(z):\n",
    "    return (np.exp(z) - np.exp(-z)) / (np.exp(z) + np.exp(-z))\n",
    "\n",
    "\n",
    "def tanh_derivative(z):\n",
    "    return 1 - tanh(z)**2"
   ]
  },
  {
   "cell_type": "code",
   "execution_count": 19,
   "metadata": {
    "id": "ToG5-ziotvXY"
   },
   "outputs": [],
   "source": [
    "activation_functions_dict = {'sigmoid': (sigmoid, sigmoid_derivative),\n",
    "                             'relu': (relu, relu_derivative),\n",
    "                             'tanh': (tanh, tanh_derivative)}"
   ]
  },
  {
   "cell_type": "markdown",
   "metadata": {
    "id": "A53MQON8tvXh"
   },
   "source": [
    "## Layer Namespace Definition"
   ]
  },
  {
   "cell_type": "code",
   "execution_count": 20,
   "metadata": {
    "id": "7aVttHGxtvXi"
   },
   "outputs": [],
   "source": [
    "class LayerNamespace(object):\n",
    "    pass"
   ]
  },
  {
   "cell_type": "markdown",
   "metadata": {
    "id": "CotRqlYStvXo"
   },
   "source": [
    "## Structure Class Definition"
   ]
  },
  {
   "cell_type": "code",
   "execution_count": 21,
   "metadata": {
    "id": "fVGGGu36tvXp"
   },
   "outputs": [],
   "source": [
    "class ModelStructure(object):\n",
    "    def __init__(self):\n",
    "        self.__layers = []\n",
    "\n",
    "    def add_input_layer(self, input_features: int):\n",
    "        assert len(self.__layers) == 0, 'Add input layer before other layers'\n",
    "        assert type(input_features) == int, 'Enter integer number'\n",
    "        layer_0 = LayerNamespace()\n",
    "        layer_0.units_number = input_features\n",
    "        self.__layers.append(layer_0)\n",
    "\n",
    "    def add_layer(self, units_number: int, activation_function_name: str,\n",
    "                  keep_prob=1):\n",
    "        assert type(units_number) == int, 'Enter integer number'\n",
    "        assert len(self.__layers) > 0, 'First add input layer'\n",
    "\n",
    "        try:\n",
    "            layer = LayerNamespace()\n",
    "            valid_key = activation_function_name.lower()\n",
    "            layer.activation_function = activation_functions_dict[valid_key][0]\n",
    "            layer.activation_function_derivative = activation_functions_dict[valid_key][1]\n",
    "            layer.units_number = units_number\n",
    "            layer.keep_prob = keep_prob\n",
    "            self.__layers.append(layer)\n",
    "        except KeyError as error:\n",
    "            message = 'Valid activation functions: '\n",
    "            message += ', '.join(activation_functions_dict.keys())\n",
    "            raise KeyError(f'{error} ({message})')\n",
    "\n",
    "        return True\n",
    "\n",
    "    @property\n",
    "    def layers(self):\n",
    "        assert len(self.__layers) > 1, 'At least nsert one layer'\n",
    "        return self.__layers\n",
    "\n",
    "    def summary(self):\n",
    "        print(f'Input Features: {self.layers[0].units_number}')\n",
    "        total_parameters = 0\n",
    "        pre_units = self.layers[0].units_number\n",
    "        for i, layer in enumerate(self.layers[1:]):\n",
    "            weights = layer.units_number * pre_units\n",
    "            biases = layer.units_number\n",
    "            message_parts = [f'Layer #{i+1}:',\n",
    "                             f'{layer.units_number}',\n",
    "                             f'{layer.activation_function.__name__}',\n",
    "                             f'units with {weights} weights and',\n",
    "                             f'{biases} biases']\n",
    "            print(' '.join(message_parts))\n",
    "            pre_units = layer.units_number\n",
    "            total_parameters += (weights+biases)\n",
    "        print(f'Total Parameters: {total_parameters}')"
   ]
  },
  {
   "cell_type": "markdown",
   "metadata": {
    "id": "5-RlP8zmtvX-"
   },
   "source": [
    "# Computation"
   ]
  },
  {
   "cell_type": "markdown",
   "metadata": {
    "id": "fOIA9vhitvX_"
   },
   "source": [
    "## Tools"
   ]
  },
  {
   "cell_type": "markdown",
   "metadata": {},
   "source": [
    "### Initializer"
   ]
  },
  {
   "cell_type": "code",
   "execution_count": 22,
   "metadata": {
    "id": "aQdsZ1fytvYA"
   },
   "outputs": [],
   "source": [
    "def initialize(layers: list):\n",
    "    result = []\n",
    "    previous_layer = layers[0]\n",
    "    for layer in layers[1:]:\n",
    "        shape = (layer.units_number,\n",
    "                 previous_layer.units_number)\n",
    "        # On weight initialization in deep neural networks\n",
    "        scale_dict = {'relu': np.sqrt(2/shape[1]),\n",
    "                      'tanh': np.sqrt(1/shape[1]),\n",
    "                      'sigmoid': np.sqrt((3.6**2)/shape[1])}\n",
    "        func_name = layer.activation_function.__name__\n",
    "        layer.W = np.random.randn(\n",
    "            shape[0], shape[1]) * scale_dict[func_name]\n",
    "\n",
    "        layer.b = np.zeros((shape[0], 1))\n",
    "        result.append(layer)\n",
    "        previous_layer = layer\n",
    "    return result"
   ]
  },
  {
   "cell_type": "markdown",
   "metadata": {},
   "source": [
    "### Mini Batch Generator"
   ]
  },
  {
   "cell_type": "code",
   "execution_count": 23,
   "metadata": {
    "id": "aQdsZ1fytvYA"
   },
   "outputs": [],
   "source": [
    "def mini_batch_generator(x: np.ndarray, y: np.ndarray, batch_size: int):\n",
    "    assert x.shape[1] == y.shape[1]\n",
    "    m = x.shape[1]\n",
    "    random_indice = np.random.permutation(m)\n",
    "    shuffled_x = x[:, random_indice]\n",
    "    shuffled_y = y[:, random_indice]\n",
    "\n",
    "    div = divmod(m, batch_size)\n",
    "    for i in range(div[0]):\n",
    "        x_mini_batch = shuffled_x[:, i*batch_size:(i+1)*batch_size]\n",
    "        x_mini_batch = x_mini_batch.reshape(x.shape[0], batch_size)\n",
    "\n",
    "        y_mini_batch = shuffled_y[:, i*batch_size:(i+1)*batch_size]\n",
    "        y_mini_batch = y_mini_batch.reshape(y.shape[0], batch_size)\n",
    "\n",
    "        yield x_mini_batch, y_mini_batch\n",
    "\n",
    "    if div[1]:\n",
    "        x_mini_batch = shuffled_x[:, div[0]*batch_size:]\n",
    "        x_mini_batch = x_mini_batch.reshape(x.shape[0], div[1])\n",
    "\n",
    "        y_mini_batch = shuffled_y[:, div[0]*batch_size:]\n",
    "        y_mini_batch = y_mini_batch.reshape(y.shape[0], div[1])\n",
    "\n",
    "        yield x_mini_batch, y_mini_batch"
   ]
  },
  {
   "cell_type": "markdown",
   "metadata": {},
   "source": [
    "### Metric Calculators"
   ]
  },
  {
   "cell_type": "code",
   "execution_count": 24,
   "metadata": {
    "id": "aQdsZ1fytvYA"
   },
   "outputs": [],
   "source": [
    "def predict(model_output):\n",
    "    prediction = np.where(model_output > 0.5, 1, 0)\n",
    "    return prediction\n",
    "\n",
    "\n",
    "def accuracy(prediction, expected):\n",
    "    assert prediction.shape == expected.shape\n",
    "    assert prediction.shape[0] == 1\n",
    "    m = expected.shape[1]\n",
    "    accuracy = np.sum(prediction == expected)/m\n",
    "    return accuracy"
   ]
  },
  {
   "cell_type": "markdown",
   "metadata": {},
   "source": [
    "### Metric Visualization"
   ]
  },
  {
   "cell_type": "code",
   "execution_count": 25,
   "metadata": {
    "id": "aQdsZ1fytvYA"
   },
   "outputs": [],
   "source": [
    "def print_metrics(interval=100):\n",
    "    def result_function(epoch, metrics):\n",
    "        if (epoch == 1) or (epoch % interval == 0):\n",
    "            cost = metrics['costs'][-1]\n",
    "            accuracy = metrics['accuracies'][-1]*100\n",
    "            message_parts = [f'Epoch #{epoch:0>4}',\n",
    "                             f'Cost: {cost:.4f}',\n",
    "                             f'Accuracy: {accuracy:.2f}%']\n",
    "\n",
    "            if metrics['validation_costs']:\n",
    "                validation_cost = metrics['validation_costs'][-1]\n",
    "                validation_accuracy = metrics['validation_accuracies'][-1]*100\n",
    "                message_parts.append(\n",
    "                    f'Validation Cost: {validation_cost:.4f}')\n",
    "                message_parts.append(\n",
    "                    f'Validation Accuracy: {validation_accuracy:.2f}%')\n",
    "\n",
    "            print(' | '.join(message_parts))\n",
    "    return result_function"
   ]
  },
  {
   "cell_type": "code",
   "execution_count": 26,
   "metadata": {
    "id": "Dr2fr-aXtvYW"
   },
   "outputs": [],
   "source": [
    "def plot_metrics(metrics: dict, interval=100):\n",
    "    cost = metrics['costs']\n",
    "    accuracy = metrics['accuracies']\n",
    "    validation_cost = metrics['validation_costs']\n",
    "    validation_accuracies = metrics['validation_accuracies']\n",
    "\n",
    "    fig, axes = plt.subplots(2, 1)\n",
    "\n",
    "    axes[0].plot(cost[::interval], label='Cost')\n",
    "    axes[0].plot(validation_cost[::interval], label='Validation Cost')\n",
    "    axes[0].set_ylabel('Cost')\n",
    "    axes[0].legend()\n",
    "\n",
    "    axes[1].plot(accuracy[::interval], label='Accuracy')\n",
    "    axes[1].plot(validation_accuracies[::interval],\n",
    "                 label='Validation Accuracy')\n",
    "    axes[1].set_ylabel(f'Accuracy')\n",
    "    axes[1].legend()\n",
    "\n",
    "    fig.suptitle(f'iterations (per {interval} epochs)')\n",
    "    fig.tight_layout()\n",
    "    fig.set_size_inches(8, 8)\n",
    "    plt.show()"
   ]
  },
  {
   "cell_type": "markdown",
   "metadata": {
    "id": "fOIA9vhitvX_"
   },
   "source": [
    "## Cost Functions"
   ]
  },
  {
   "cell_type": "code",
   "execution_count": 27,
   "metadata": {
    "id": "aQdsZ1fytvYA"
   },
   "outputs": [],
   "source": [
    "def cross_entropy_cost(Y, Y_hat, epsilon=1e-4):\n",
    "    assert Y.shape == Y_hat.shape, f'{Y.shape} != {Y_hat.shape}'\n",
    "    m = Y.shape[1]  # number of examples\n",
    "    cost = (-1/m) * (np.dot(Y, np.log(Y_hat+epsilon).T) +\n",
    "                     np.dot((1-Y), np.log(1-Y_hat+epsilon).T))\n",
    "    return cost.item()\n",
    "\n",
    "\n",
    "def cross_entropy_derivative(Y, Y_hat, epsilon=1e-4):\n",
    "    return ((1-Y)/(1-Y_hat+epsilon)) - (Y/Y_hat+epsilon)\n",
    "\n",
    "\n",
    "def get_regularization_cost(layers: list, m: int, lambda_: float) -> float:\n",
    "    cost = 0\n",
    "    for layer in layers:\n",
    "        cost += np.sum(np.square(layer.W))\n",
    "    cost *= (1/m) * (lambda_/2)\n",
    "    return cost"
   ]
  },
  {
   "cell_type": "markdown",
   "metadata": {
    "id": "fOIA9vhitvX_"
   },
   "source": [
    "## Optimizers"
   ]
  },
  {
   "cell_type": "markdown",
   "metadata": {},
   "source": [
    "### Optimizer Superclass"
   ]
  },
  {
   "cell_type": "code",
   "execution_count": 28,
   "metadata": {},
   "outputs": [],
   "source": [
    "class Optimizer(object):\n",
    "    def initiate_parameters(self, layers: list):\n",
    "        pass\n",
    "    def update_parameters(self, layers: list):\n",
    "        pass\n",
    "    def update_optimizer(self, metrics: dict):\n",
    "        pass"
   ]
  },
  {
   "cell_type": "markdown",
   "metadata": {},
   "source": [
    "### Gradient Descent"
   ]
  },
  {
   "cell_type": "code",
   "execution_count": 29,
   "metadata": {},
   "outputs": [],
   "source": [
    "class GradientDescent(Optimizer):\n",
    "    def __init__(self, learning_rate):\n",
    "        self.learning_rate = learning_rate\n",
    "        \n",
    "    def update_parameters(self, layers: list):\n",
    "        for layer in layers:\n",
    "            layer.W = layer.W - self.learning_rate*layer.dW\n",
    "            layer.b = layer.b - self.learning_rate*layer.db\n",
    "        return True"
   ]
  },
  {
   "cell_type": "markdown",
   "metadata": {},
   "source": [
    "### Momentum"
   ]
  },
  {
   "cell_type": "code",
   "execution_count": 30,
   "metadata": {},
   "outputs": [],
   "source": [
    "class Momentum(Optimizer):\n",
    "    def __init__(self, learning_rate, beta):\n",
    "        self.learning_rate = learning_rate\n",
    "        self.beta = beta\n",
    "\n",
    "    def initiate_parameters(self, layers: list):\n",
    "        for layer in layers:\n",
    "            layer.V_dW = np.zeros(layer.W.shape)\n",
    "            layer.V_db = np.zeros(layer.b.shape)\n",
    "        return True\n",
    "            \n",
    "    def update_parameters(self, layers: list):\n",
    "        for layer in layers:            \n",
    "            layer.V_dW = self.beta*layer.V_dW + (1-self.beta)*layer.dW\n",
    "            layer.V_db = self.beta*layer.V_db + (1-self.beta)*layer.db\n",
    "            \n",
    "            layer.W = layer.W - self.learning_rate*layer.V_dW\n",
    "            layer.b = layer.b - self.learning_rate*layer.V_db\n",
    "        return True"
   ]
  },
  {
   "cell_type": "markdown",
   "metadata": {},
   "source": [
    "### RMSprop"
   ]
  },
  {
   "cell_type": "code",
   "execution_count": 31,
   "metadata": {},
   "outputs": [],
   "source": [
    "class RMSprop(Optimizer):\n",
    "    def __init__(self, learning_rate, beta=0.9):\n",
    "        self.learning_rate = learning_rate\n",
    "        self.beta = beta\n",
    "        self.epsilon = 1e-8\n",
    "\n",
    "    def initiate_parameters(self, layers: list):\n",
    "        for layer in layers:\n",
    "            layer.S_dW = np.zeros(layer.W.shape)\n",
    "            layer.S_db = np.zeros(layer.b.shape)\n",
    "        return True\n",
    "            \n",
    "    def update_parameters(self, layers: list):\n",
    "        for layer in layers:            \n",
    "            layer.S_dW = self.beta*layer.S_dW + (1-self.beta)*np.square(layer.dW)\n",
    "            layer.S_db = self.beta*layer.S_db + (1-self.beta)*np.square(layer.db)\n",
    "            \n",
    "            layer.W = layer.W - self.learning_rate*(layer.dW/(np.sqrt(layer.S_dW)+self.epsilon))\n",
    "            layer.b = layer.b - self.learning_rate*(layer.db/(np.sqrt(layer.S_db)+self.epsilon))\n",
    "        return True"
   ]
  },
  {
   "cell_type": "markdown",
   "metadata": {},
   "source": [
    "### Adam"
   ]
  },
  {
   "cell_type": "code",
   "execution_count": 32,
   "metadata": {},
   "outputs": [],
   "source": [
    "class Adam(Optimizer):\n",
    "    def __init__(self, learning_rate, beta_1=0.9, beta_2=0.999):\n",
    "        self.learning_rate = learning_rate\n",
    "        self.beta_1 = beta_1\n",
    "        self.beta_2 = beta_2\n",
    "        self.epsilon = 1e-8\n",
    "        self.counter = 0\n",
    "\n",
    "    def initiate_parameters(self, layers: list):\n",
    "        self.counter = 0\n",
    "        for layer in layers:\n",
    "            layer.V_dW = np.zeros(layer.W.shape)\n",
    "            layer.V_db = np.zeros(layer.b.shape)\n",
    "            layer.S_dW = np.zeros(layer.W.shape)\n",
    "            layer.S_db = np.zeros(layer.b.shape)\n",
    "            \n",
    "            layer.V_corrected_dW = np.zeros(layer.W.shape)\n",
    "            layer.V_corrected_db = np.zeros(layer.b.shape)\n",
    "            layer.S_corrected_dW = np.zeros(layer.W.shape)\n",
    "            layer.S_corrected_db = np.zeros(layer.b.shape)\n",
    "        return True\n",
    "            \n",
    "    def update_parameters(self, layers: list):\n",
    "        for layer in layers:            \n",
    "            layer.V_dW = self.beta_1*layer.V_dW + (1-self.beta_1)*layer.dW\n",
    "            layer.V_db = self.beta_1*layer.V_db + (1-self.beta_1)*layer.db\n",
    "            layer.S_dW = self.beta_2*layer.S_dW + (1-self.beta_2)*np.square(layer.dW)\n",
    "            layer.S_db = self.beta_2*layer.S_db + (1-self.beta_2)*np.square(layer.db)\n",
    "            \n",
    "            # Apply bias correction\n",
    "            momentum_correction = 1/(1-self.beta_1**(self.counter+1))\n",
    "            rmsprop_correction = 1/(1-self.beta_2**(self.counter+1))\n",
    "\n",
    "            layer.V_corrected_dW = layer.V_dW*momentum_correction\n",
    "            layer.V_corrected_db = layer.V_db*momentum_correction\n",
    "            layer.S_corrected_dW = layer.S_dW*rmsprop_correction\n",
    "            layer.S_corrected_db = layer.S_db*rmsprop_correction\n",
    "        \n",
    "            layer.W = layer.W - self.learning_rate*(layer.V_corrected_dW/(np.sqrt(layer.S_corrected_dW)+self.epsilon))\n",
    "            layer.b = layer.b - self.learning_rate*(layer.V_corrected_db/(np.sqrt(layer.S_corrected_db)+self.epsilon))\n",
    "        self.counter += 1\n",
    "        return True"
   ]
  },
  {
   "cell_type": "markdown",
   "metadata": {},
   "source": [
    "### Mechanic Rules"
   ]
  },
  {
   "cell_type": "code",
   "execution_count": 33,
   "metadata": {},
   "outputs": [],
   "source": [
    "class MechanicRules(Optimizer):\n",
    "    def __init__(self, learning_rate, g=9.81):\n",
    "        self.learning_rate = learning_rate\n",
    "        self.g = g\n",
    "        self.epsilon = 1e-8\n",
    "\n",
    "    def initiate_parameters(self, layers: list):\n",
    "        for layer in layers:\n",
    "            layer.v_hat_W = np.zeros(layer.W.shape)\n",
    "            layer.v_hat_b = np.zeros(layer.b.shape)\n",
    "            \n",
    "            layer.a_hat_W = np.zeros(layer.W.shape)\n",
    "            layer.a_hat_b = np.zeros(layer.b.shape)\n",
    "        return True\n",
    "            \n",
    "    def update_parameters(self, layers: list):\n",
    "        for layer in layers:\n",
    "            s_W = 1 / (np.sqrt(1+np.square(layer.dW))+self.epsilon)\n",
    "            s_b = 1 / (np.sqrt(1+np.square(layer.db))+self.epsilon)\n",
    "            \n",
    "            layer.W = (-0.5*(self.g*layer.dW*s_W + layer.a_hat_W)*(self.learning_rate**2) + layer.v_hat_W*self.learning_rate + layer.W)*s_W\n",
    "            layer.b = (-0.5*(self.g*layer.db*s_b + layer.a_hat_b)*(self.learning_rate**2) + layer.v_hat_b*self.learning_rate + layer.b)*s_b\n",
    "            \n",
    "            layer.v_hat_W = -(self.g*layer.dW*s_W+layer.a_hat_W)*self.learning_rate + layer.v_hat_W\n",
    "            layer.v_hat_b = -(self.g*layer.db*s_b+layer.a_hat_b)*self.learning_rate + layer.v_hat_b\n",
    "        return True"
   ]
  },
  {
   "cell_type": "markdown",
   "metadata": {},
   "source": [
    "### Gravity"
   ]
  },
  {
   "cell_type": "code",
   "execution_count": 34,
   "metadata": {},
   "outputs": [],
   "source": [
    "class Gravity(Optimizer):\n",
    "    def __init__(self, learning_rate, g=9.81):\n",
    "        self.learning_rate = learning_rate\n",
    "        self.g = g\n",
    "        self.epsilon = 1e-8\n",
    "\n",
    "    def initiate_parameters(self, layers: list):\n",
    "        for layer in layers:\n",
    "            layer.v_W = np.zeros(layer.W.shape)\n",
    "            layer.v_b = np.zeros(layer.b.shape)\n",
    "        return True\n",
    "            \n",
    "    def update_parameters(self, layers: list):\n",
    "        for layer in layers:\n",
    "            c1_W = (-self.g*layer.dW) / (1+np.square(layer.dW)+self.epsilon)\n",
    "            c2_W = 1 / (np.sqrt(1+np.square(layer.dW))+self.epsilon)\n",
    "            layer.v_W = c1_W*self.learning_rate + c2_W*layer.v_W\n",
    "                        \n",
    "            c1_b = (-self.g*layer.db) / (1+np.square(layer.db)+self.epsilon)\n",
    "            c2_b = 1 / (np.sqrt(1+np.square(layer.db))+self.epsilon)\n",
    "            layer.v_b = c1_b*self.learning_rate + c2_b*layer.v_b\n",
    "            \n",
    "            layer.W = self.learning_rate*layer.v_W + layer.W\n",
    "            layer.b = self.learning_rate*layer.v_b + layer.b\n",
    "\n",
    "        return True"
   ]
  },
  {
   "cell_type": "markdown",
   "metadata": {
    "id": "kArP_ESqtvYG"
   },
   "source": [
    "## Main Model Class"
   ]
  },
  {
   "cell_type": "code",
   "execution_count": 35,
   "metadata": {
    "id": "UVvWPqcotvYO"
   },
   "outputs": [],
   "source": [
    "class Classifier(object):\n",
    "    def __init__(self, model_structure: ModelStructure):\n",
    "        self.input_features = model_structure.layers[0].units_number\n",
    "        self.layers = initialize(model_structure.layers)\n",
    "        self.cost_function = cross_entropy_cost\n",
    "        self.cost_function_derivative = cross_entropy_derivative\n",
    "        self.trained_epochs = 0\n",
    "\n",
    "    def feed_forward(self, X: np.ndarray):\n",
    "        assert X.shape[0] == self.input_features\n",
    "        A_prev = X\n",
    "        for layer in self.layers:\n",
    "            Z = np.dot(layer.W, A_prev) + layer.b\n",
    "            A = layer.activation_function(Z)\n",
    "            A_prev = A\n",
    "        Y_hat = A_prev\n",
    "        return Y_hat\n",
    "\n",
    "    def feed_forward_train(self, X: np.ndarray):\n",
    "        assert X.shape[0] == self.input_features\n",
    "        A_prev = X\n",
    "        for layer in self.layers:\n",
    "            layer.A_previous = A_prev\n",
    "            layer.Z = np.dot(layer.W, A_prev) + layer.b\n",
    "            A_raw = layer.activation_function(\n",
    "                layer.Z)  # Before applying dropout\n",
    "            layer.D = np.random.rand(\n",
    "                *A_raw.shape) < layer.keep_prob  # Dropout Mask\n",
    "            layer.A = (A_raw * layer.D) / layer.keep_prob\n",
    "            A_prev = layer.A\n",
    "        Y_hat = A_prev\n",
    "        return Y_hat\n",
    "\n",
    "    def back_propagate(self, cost_derivative, lambda_):\n",
    "        dA_prev = cost_derivative\n",
    "        m = self.layers[0].Z.shape[1]  # number of examples\n",
    "        for layer in self.layers[::-1]:\n",
    "            layer.dA = (dA_prev*layer.D) / layer.keep_prob\n",
    "            layer.dZ = layer.dA * layer.activation_function_derivative(layer.Z)\n",
    "            layer.dW = (1/m) * np.dot(layer.dZ,\n",
    "                                      layer.A_previous.T) + (lambda_/m)*layer.W\n",
    "            layer.db = 1/m * np.sum(layer.dZ, axis=1, keepdims=True)\n",
    "            dA_prev = np.dot(layer.W.T, layer.dZ)\n",
    "        return True\n",
    "\n",
    "    def fit_minibatch(self, mini_X, mini_Y, lambda_, optimizer):\n",
    "        mini_Y_hat = self.feed_forward_train(mini_X)\n",
    "        cost_derivative = self.cost_function_derivative(mini_Y, mini_Y_hat)\n",
    "        self.back_propagate(cost_derivative, lambda_)\n",
    "        optimizer.update_parameters(self.layers)\n",
    "        return True\n",
    "\n",
    "    def fit(self, X, Y, epochs, batch_size, optimizer,\n",
    "            lambda_=0,\n",
    "            validation_data=None,\n",
    "            metrics_printer=None):\n",
    "        \n",
    "        # Assert Shapes\n",
    "        assert X.shape[1] == Y.shape[1]        \n",
    "        m = X.shape[1]\n",
    "        if validation_data:\n",
    "            assert type(validation_data) == tuple\n",
    "            assert type(validation_data[0]) == np.ndarray\n",
    "            assert type(validation_data[1]) == np.ndarray\n",
    "            assert validation_data[0].shape[0] == X.shape[0]\n",
    "            assert validation_data[1].shape[0] == Y.shape[0]\n",
    "            assert validation_data[0].shape[1] == validation_data[1].shape[1]\n",
    "\n",
    "        metrics = {\n",
    "            'costs': [],\n",
    "            'accuracies': [],\n",
    "            'validation_costs': [],\n",
    "            'validation_accuracies': [],\n",
    "            'learning_rate': []\n",
    "        }\n",
    "        optimizer.initiate_parameters(self.layers)\n",
    "        for _ in range(1, epochs+1):            \n",
    "            mini_batchs = mini_batch_generator(X, Y, batch_size)\n",
    "            for mini_X, mini_Y in mini_batchs:\n",
    "                self.fit_minibatch(mini_X, mini_Y, lambda_, optimizer)\n",
    "\n",
    "            regularization_cost = get_regularization_cost(self.layers, m,\n",
    "                                                          lambda_)\n",
    "\n",
    "            train_Y_hat = self.feed_forward(X)\n",
    "            train_cost = self.cost_function(Y, train_Y_hat)\n",
    "            train_cost += regularization_cost\n",
    "            train_prediction = predict(train_Y_hat)\n",
    "            train_accuracy = accuracy(train_prediction, Y)\n",
    "            metrics['costs'].append(train_cost)\n",
    "            metrics['accuracies'].append(train_accuracy)\n",
    "\n",
    "            if validation_data:\n",
    "                validation_X = validation_data[0]\n",
    "                validation_Y = validation_data[1]\n",
    "                validation_Y_hat = self.feed_forward(validation_X)\n",
    "                validation_cost = self.cost_function(validation_Y,\n",
    "                                                     validation_Y_hat) \n",
    "                validation_cost += regularization_cost\n",
    "                validation_prediction = predict(validation_Y_hat)\n",
    "                validation_accuracy = accuracy(validation_prediction,\n",
    "                                               validation_Y)\n",
    "                metrics['validation_costs'].append(validation_cost)\n",
    "                metrics['validation_accuracies'].append(validation_accuracy)\n",
    "\n",
    "            self.trained_epochs += 1\n",
    "\n",
    "            if metrics_printer:\n",
    "                metrics_printer(self.trained_epochs, metrics)\n",
    "                \n",
    "            optimizer.update_optimizer(metrics)\n",
    "        return metrics"
   ]
  },
  {
   "cell_type": "markdown",
   "metadata": {
    "id": "AGPh33-0tvYi"
   },
   "source": [
    "# Test (Binary Classification on Cat vs Dogs Dataset)"
   ]
  },
  {
   "cell_type": "code",
   "execution_count": 36,
   "metadata": {},
   "outputs": [],
   "source": [
    "def get_cats_vs_dogs_dataset(cats_array_path,\n",
    "                             dogs_array_path,\n",
    "                             seed=42, test_size = 0.3):\n",
    "    cats = np.load(cats_array_path)\n",
    "    flatten_cats = cats.reshape(cats.shape[0], -1).T    \n",
    "    dogs = np.load(dogs_array_path)\n",
    "    flatten_dogs = dogs.reshape(dogs.shape[0], -1).T\n",
    "    cats_labels = np.ones((1, flatten_cats.shape[1]))\n",
    "    dogs_labels = np.zeros((1, flatten_dogs.shape[1]))\n",
    "    X = np.concatenate((flatten_cats, flatten_dogs), axis=1)\n",
    "    Y = np.concatenate((cats_labels, dogs_labels), axis=1)    \n",
    "    \n",
    "    m = X.shape[1]\n",
    "    np.random.seed(seed)\n",
    "    random_indice = np.random.permutation(m)\n",
    "    shuffled_X = X[:, random_indice]\n",
    "    shuffled_Y = Y[:, random_indice]\n",
    "    \n",
    "    test_size = int(m*test_size)\n",
    "    train_size = m - test_size\n",
    "    train_X = shuffled_X[:, 0:train_size]\n",
    "    train_Y = shuffled_Y[:, 0:train_size]\n",
    "    test_X = shuffled_X[:, train_size:]\n",
    "    test_Y = shuffled_Y[:, train_size:]\n",
    "    return train_X, train_Y, test_X, test_Y"
   ]
  },
  {
   "cell_type": "code",
   "execution_count": 42,
   "metadata": {},
   "outputs": [],
   "source": [
    "from pathlib import Path"
   ]
  },
  {
   "cell_type": "code",
   "execution_count": 49,
   "metadata": {},
   "outputs": [
    {
     "data": {
      "text/plain": [
       "True"
      ]
     },
     "execution_count": 49,
     "metadata": {},
     "output_type": "execute_result"
    }
   ],
   "source": [
    "cats_path = Path.joinpath(Path('datasets'),Path('cats_vs_dogs'),Path('cats_array.npy'))\n",
    "dogs_path = Path.joinpath(Path('datasets'),Path('cats_vs_dogs'),Path('dogs_array.npy'))\n",
    "cats_path.exists()"
   ]
  },
  {
   "cell_type": "code",
   "execution_count": 46,
   "metadata": {},
   "outputs": [
    {
     "name": "stdout",
     "output_type": "stream",
     "text": [
      "Shape of X_train: (12288, 17451)\n",
      "Shape of Y_train: (1, 17451)\n",
      "Shape of X_test: (12288, 7479)\n",
      "Shape of Y_test: (1, 7479)\n"
     ]
    }
   ],
   "source": [
    "X_train, Y_train, X_test, Y_test = get_cats_vs_dogs_dataset(cats_path, dogs_path)\n",
    "print(f'Shape of X_train: {X_train.shape}')\n",
    "print(f'Shape of Y_train: {Y_train.shape}')\n",
    "print(f'Shape of X_test: {X_test.shape}')\n",
    "print(f'Shape of Y_test: {Y_test.shape}')"
   ]
  },
  {
   "cell_type": "code",
   "execution_count": 38,
   "metadata": {},
   "outputs": [
    {
     "name": "stdout",
     "output_type": "stream",
     "text": [
      "[1.]\n"
     ]
    },
    {
     "data": {
      "image/png": "[encoded data removed]",
      "text/plain": [
       "<PIL.Image.Image image mode=RGB size=64x64 at 0x1A91B3E21F0>"
      ]
     },
     "execution_count": 38,
     "metadata": {},
     "output_type": "execute_result"
    }
   ],
   "source": [
    "number = 13\n",
    "print(Y_train[:, number])\n",
    "PIL.Image.fromarray(X_train[:, number].reshape((64, 64, 3)))"
   ]
  },
  {
   "cell_type": "code",
   "execution_count": 39,
   "metadata": {},
   "outputs": [
    {
     "name": "stdout",
     "output_type": "stream",
     "text": [
      "[0.]\n"
     ]
    },
    {
     "data": {
      "image/png": "[encoded data removed]",
      "text/plain": [
       "<PIL.Image.Image image mode=RGB size=64x64 at 0x1A91B3E2910>"
      ]
     },
     "execution_count": 39,
     "metadata": {},
     "output_type": "execute_result"
    }
   ],
   "source": [
    "number = 7\n",
    "print(Y_test[:, number])\n",
    "PIL.Image.fromarray(X_test[:, number].reshape((64, 64, 3)))"
   ]
  },
  {
   "cell_type": "code",
   "execution_count": null,
   "metadata": {
    "colab": {
     "base_uri": "https://localhost:8080/",
     "height": 85
    },
    "id": "LSBp5zQYtvYx",
    "outputId": "1da7ea41-de0d-4ac0-fc82-1e899cabc9cb"
   },
   "outputs": [],
   "source": [
    "structure = ModelStructure()\n",
    "structure.add_input_layer(test_x.shape[0])\n",
    "structure.add_layer(1000, 'relu', keep_prob=1)\n",
    "structure.add_layer(1000, 'relu', keep_prob=1)\n",
    "structure.add_layer(1, 'sigmoid')\n",
    "structure.summary()"
   ]
  },
  {
   "cell_type": "code",
   "execution_count": null,
   "metadata": {
    "colab": {
     "base_uri": "https://localhost:8080/",
     "height": 714
    },
    "id": "HJKqQXnatvY5",
    "outputId": "a9979d39-bac8-400a-ecf3-01f54185ed7a"
   },
   "outputs": [],
   "source": [
    "# del model\n",
    "model = Classifier(structure)\n",
    "\n",
    "gd_optimizer = GradientDescent(learning_rate=0.01)\n",
    "\n",
    "momentum_optimizer = Momentum(learning_rate=0.01, beta=0.9)\n",
    "rmsprop_optimizer = RMSprop(learning_rate=0.0002, beta=0.999)\n",
    "adam_optimizer = Adam(learning_rate=0.001)\n",
    "\n",
    "gravity = Gravity(learning_rate=0.01, g=10)\n",
    "\n",
    "epochs=50\n",
    "metrics = model.fit(X_train, Y_train, epochs, optimizer=gravity,\n",
    "                    batch_size=128, validation_data=(X_test, Y_test),\n",
    "                    lambda_=0, metrics_printer=print_metrics(1))"
   ]
  },
  {
   "cell_type": "markdown",
   "metadata": {
    "id": "-rBBC8sDtvZE"
   },
   "source": [
    "## Plot Cost"
   ]
  },
  {
   "cell_type": "code",
   "execution_count": null,
   "metadata": {
    "colab": {
     "base_uri": "https://localhost:8080/",
     "height": 543
    },
    "id": "UUHB7gPqtvZG",
    "outputId": "c19e85c7-d635-4f32-faa9-86ea442faf97"
   },
   "outputs": [],
   "source": [
    "plt.xkcd()\n",
    "plot_metrics(metrics) "
   ]
  },
  {
   "cell_type": "code",
   "execution_count": null,
   "metadata": {},
   "outputs": [],
   "source": []
  }
 ],
 "metadata": {
  "colab": {
   "collapsed_sections": [],
   "name": "neural_network_more_features_added.ipynb",
   "provenance": [],
   "toc_visible": true
  },
  "kernelspec": {
   "display_name": "Python 3",
   "language": "python",
   "name": "python3"
  },
  "language_info": {
   "codemirror_mode": {
    "name": "ipython",
    "version": 3
   },
   "file_extension": ".py",
   "mimetype": "text/x-python",
   "name": "python",
   "nbconvert_exporter": "python",
   "pygments_lexer": "ipython3",
   "version": "3.8.3"
  },
  "toc-autonumbering": true
 },
 "nbformat": 4,
 "nbformat_minor": 4
}
