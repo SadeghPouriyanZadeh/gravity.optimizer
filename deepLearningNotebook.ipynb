{
  "nbformat": 4,
  "nbformat_minor": 0,
  "metadata": {
    "colab": {
      "name": "deepLearningNotebook.ipynb",
      "provenance": [],
      "collapsed_sections": [],
      "toc_visible": true
    },
    "kernelspec": {
      "display_name": "Python 3",
      "language": "python",
      "name": "python3"
    },
    "language_info": {
      "codemirror_mode": {
        "name": "ipython",
        "version": 3
      },
      "file_extension": ".py",
      "mimetype": "text/x-python",
      "name": "python",
      "nbconvert_exporter": "python",
      "pygments_lexer": "ipython3",
      "version": "3.8.3"
    },
    "toc-autonumbering": true
  },
  "cells": [
    {
      "cell_type": "markdown",
      "metadata": {
        "id": "yEVWWGAytvXA"
      },
      "source": [
        "# Import Modules"
      ]
    },
    {
      "cell_type": "code",
      "metadata": {
        "id": "H_adi4DUtvXD"
      },
      "source": [
        "import numpy as np\n",
        "from matplotlib import pyplot as plt\n",
        "import PIL\n",
        "from pathlib import Path\n",
        "import pandas as pd\n",
        "import copy\n",
        "%matplotlib inline"
      ],
      "execution_count": 1,
      "outputs": []
    },
    {
      "cell_type": "markdown",
      "metadata": {
        "id": "bBeRwmdutvXO"
      },
      "source": [
        "# Structure Design"
      ]
    },
    {
      "cell_type": "markdown",
      "metadata": {
        "id": "qrEsUnixtvXQ"
      },
      "source": [
        "## Activation Functions Definition"
      ]
    },
    {
      "cell_type": "code",
      "metadata": {
        "id": "icI3PddDtvXR"
      },
      "source": [
        "def sigmoid(z):\n",
        "    # negative_overflow = np.where(z<=-709, 0, 0)\n",
        "    okay_range = np.where((-709<z)&(z<709), 1/(1 + np.exp(-z)), 0)\n",
        "    positive_overflow = np.where(z>=709, 1, 0)\n",
        "    return okay_range + positive_overflow\n",
        "\n",
        "def sigmoid_derivative(z):\n",
        "    return sigmoid(z)*(1-sigmoid(z))\n",
        "\n",
        "\n",
        "def relu(z, leak_grad=1e-8):\n",
        "    return np.maximum(leak_grad*z, z)\n",
        "\n",
        "\n",
        "def relu_derivative(z, leak_grad=1e-8):\n",
        "    return np.where(z <= 0, leak_grad, 1)\n",
        "\n",
        "\n",
        "def tanh(z):\n",
        "    return (np.exp(z) - np.exp(-z)) / (np.exp(z) + np.exp(-z))\n",
        "\n",
        "\n",
        "def tanh_derivative(z):\n",
        "    return 1 - tanh(z)**2\n",
        "\n",
        "\n",
        "def softmax(Z, epsilon=1e-8):\n",
        "    Z = Z - np.max(Z)\n",
        "    exp_Z = np.exp(Z)\n",
        "    return exp_Z / (np.sum(exp_Z, axis=0)+epsilon)\n",
        "\n",
        "def softmax_derivative(Z):\n",
        "    return 1"
      ],
      "execution_count": 2,
      "outputs": []
    },
    {
      "cell_type": "code",
      "metadata": {
        "id": "ToG5-ziotvXY"
      },
      "source": [
        "activation_functions_dict = {'sigmoid': (sigmoid, sigmoid_derivative),\n",
        "                             'relu': (relu, relu_derivative),\n",
        "                             'tanh': (tanh, tanh_derivative),\n",
        "                             'softmax': (softmax, softmax_derivative)}"
      ],
      "execution_count": 3,
      "outputs": []
    },
    {
      "cell_type": "markdown",
      "metadata": {
        "id": "A53MQON8tvXh"
      },
      "source": [
        "## Layer Namespace Definition"
      ]
    },
    {
      "cell_type": "code",
      "metadata": {
        "id": "7aVttHGxtvXi"
      },
      "source": [
        "class LayerNamespace(object):\n",
        "    pass"
      ],
      "execution_count": 4,
      "outputs": []
    },
    {
      "cell_type": "markdown",
      "metadata": {
        "id": "CotRqlYStvXo"
      },
      "source": [
        "## Structure Class Definition"
      ]
    },
    {
      "cell_type": "code",
      "metadata": {
        "id": "fVGGGu36tvXp"
      },
      "source": [
        "class ModelStructure(object):\n",
        "    def __init__(self):\n",
        "        self.__layers = []\n",
        "\n",
        "    def add_input_layer(self, input_features: int):\n",
        "        assert len(self.__layers) == 0, 'Add input layer before other layers'\n",
        "        assert type(input_features) == int, 'Enter integer number'\n",
        "        layer_0 = LayerNamespace()\n",
        "        layer_0.units_number = input_features\n",
        "        self.__layers.append(layer_0)\n",
        "\n",
        "    def add_layer(self, units_number: int, activation_function_name: str,\n",
        "                  keep_prob=1):\n",
        "        assert type(units_number) == int, 'Enter integer number'\n",
        "        assert len(self.__layers) > 0, 'First add input layer'\n",
        "\n",
        "        try:\n",
        "            layer = LayerNamespace()\n",
        "            valid_key = activation_function_name.lower()\n",
        "            layer.activation_function = activation_functions_dict[valid_key][0]\n",
        "            layer.activation_function_derivative = activation_functions_dict[valid_key][1]\n",
        "            layer.units_number = units_number\n",
        "            layer.keep_prob = keep_prob\n",
        "            self.__layers.append(layer)\n",
        "        except KeyError as error:\n",
        "            message = 'Valid activation functions: '\n",
        "            message += ', '.join(activation_functions_dict.keys())\n",
        "            raise KeyError(f'{error} ({message})')\n",
        "\n",
        "        return True\n",
        "\n",
        "    @property\n",
        "    def layers(self):\n",
        "        assert len(self.__layers) > 1, 'At least nsert one layer'\n",
        "        return self.__layers\n",
        "\n",
        "    def summary(self):\n",
        "        print(f'Input Features: {self.layers[0].units_number}')\n",
        "        total_parameters = 0\n",
        "        pre_units = self.layers[0].units_number\n",
        "        for i, layer in enumerate(self.layers[1:]):\n",
        "            weights = layer.units_number * pre_units\n",
        "            biases = layer.units_number\n",
        "            message_parts = [f'Layer #{i+1}:',\n",
        "                             f'{layer.units_number}',\n",
        "                             f'{layer.activation_function.__name__}',\n",
        "                             f'units with {weights} weights and',\n",
        "                             f'{biases} biases']\n",
        "            print(' '.join(message_parts))\n",
        "            pre_units = layer.units_number\n",
        "            total_parameters += (weights+biases)\n",
        "        print(f'Total Parameters: {total_parameters}')"
      ],
      "execution_count": 5,
      "outputs": []
    },
    {
      "cell_type": "markdown",
      "metadata": {
        "id": "5-RlP8zmtvX-"
      },
      "source": [
        "# Computation"
      ]
    },
    {
      "cell_type": "markdown",
      "metadata": {
        "id": "fOIA9vhitvX_"
      },
      "source": [
        "## Tools"
      ]
    },
    {
      "cell_type": "markdown",
      "metadata": {
        "id": "kMwEotMQDRig"
      },
      "source": [
        "### Initializer"
      ]
    },
    {
      "cell_type": "code",
      "metadata": {
        "id": "aQdsZ1fytvYA"
      },
      "source": [
        "def initialize(layers: list):\n",
        "    result = []\n",
        "    previous_layer = layers[0]\n",
        "    for layer in layers[1:]:\n",
        "        shape = (layer.units_number,\n",
        "                 previous_layer.units_number)\n",
        "        # On weight initialization in deep neural networks\n",
        "        scale_dict = {'relu': np.sqrt(2/shape[1]),\n",
        "                      'tanh': np.sqrt(1/shape[1]),\n",
        "                      'sigmoid': np.sqrt((3.6**2)/shape[1]),\n",
        "                      'softmax': np.sqrt((3.6**2)/shape[1])}\n",
        "        func_name = layer.activation_function.__name__\n",
        "        layer.W = np.random.randn(\n",
        "            shape[0], shape[1]) * scale_dict[func_name]\n",
        "\n",
        "        layer.b = np.zeros((shape[0], 1))\n",
        "        result.append(layer)\n",
        "        previous_layer = layer\n",
        "    return result"
      ],
      "execution_count": 6,
      "outputs": []
    },
    {
      "cell_type": "markdown",
      "metadata": {
        "id": "tW3IOak9DRiy"
      },
      "source": [
        "### Mini Batch Generator"
      ]
    },
    {
      "cell_type": "code",
      "metadata": {
        "id": "Vku6MRgGDRi0"
      },
      "source": [
        "def mini_batch_generator(x: np.ndarray, y: np.ndarray, batch_size: int):\n",
        "    assert x.shape[1] == y.shape[1]\n",
        "    m = x.shape[1]\n",
        "    random_indice = np.random.permutation(m)\n",
        "    shuffled_x = x[:, random_indice]\n",
        "    shuffled_y = y[:, random_indice]\n",
        "\n",
        "    div = divmod(m, batch_size)\n",
        "    for i in range(div[0]):\n",
        "        x_mini_batch = shuffled_x[:, i*batch_size:(i+1)*batch_size]\n",
        "        x_mini_batch = x_mini_batch.reshape(x.shape[0], batch_size)\n",
        "\n",
        "        y_mini_batch = shuffled_y[:, i*batch_size:(i+1)*batch_size]\n",
        "        y_mini_batch = y_mini_batch.reshape(y.shape[0], batch_size)\n",
        "\n",
        "        yield x_mini_batch, y_mini_batch\n",
        "\n",
        "    if div[1]:\n",
        "        x_mini_batch = shuffled_x[:, div[0]*batch_size:]\n",
        "        x_mini_batch = x_mini_batch.reshape(x.shape[0], div[1])\n",
        "\n",
        "        y_mini_batch = shuffled_y[:, div[0]*batch_size:]\n",
        "        y_mini_batch = y_mini_batch.reshape(y.shape[0], div[1])\n",
        "\n",
        "        yield x_mini_batch, y_mini_batch"
      ],
      "execution_count": 7,
      "outputs": []
    },
    {
      "cell_type": "markdown",
      "metadata": {
        "id": "onpcFF8tDRi7"
      },
      "source": [
        "### Metric Calculators"
      ]
    },
    {
      "cell_type": "code",
      "metadata": {
        "id": "fiQc8dw6DRi8"
      },
      "source": [
        "def predict(model_output):\n",
        "    prediction = np.where(model_output > 0.5, 1, 0)\n",
        "    return prediction\n",
        "\n",
        "\n",
        "# def binary_accuracy(prediction, expected):\n",
        "#     assert prediction.shape == expected.shape\n",
        "# #     assert prediction.shape[0] == 1\n",
        "#     m = expected.shape[1]\n",
        "#     accuracy = np.sum(prediction == expected)/m\n",
        "#     return accuracy\n",
        "\n",
        "def categorical_accuracy(prediction, expected):\n",
        "    assert prediction.shape == expected.shape\n",
        "    assert prediction.shape[0] != 1\n",
        "    m = expected.shape[1]\n",
        "    accuracy = np.sum(np.argmax(prediction, axis=0) == np.argmax(expected, axis=0))/m\n",
        "    return accuracy"
      ],
      "execution_count": 8,
      "outputs": []
    },
    {
      "cell_type": "code",
      "metadata": {
        "id": "XKD5cNnRL9NT",
        "outputId": "55d8f1c3-75ff-4fa2-cf0c-91df74d7c1da",
        "colab": {
          "base_uri": "https://localhost:8080/"
        }
      },
      "source": [
        "y = np.array([[0, 0, 1],\n",
        "              [1, 0, 0],\n",
        "              [0, 1, 0], \n",
        "              [0, 1, 0]]).T\n",
        "print(y.shape)\n",
        "y"
      ],
      "execution_count": 9,
      "outputs": [
        {
          "output_type": "stream",
          "text": [
            "(3, 4)\n"
          ],
          "name": "stdout"
        },
        {
          "output_type": "execute_result",
          "data": {
            "text/plain": [
              "array([[0, 1, 0, 0],\n",
              "       [0, 0, 1, 1],\n",
              "       [1, 0, 0, 0]])"
            ]
          },
          "metadata": {
            "tags": []
          },
          "execution_count": 9
        }
      ]
    },
    {
      "cell_type": "code",
      "metadata": {
        "id": "jJaGG-PKL9Nc"
      },
      "source": [
        "y_hat = np.array([[0, 0, 0, 0],\n",
        "                  [0, 0, 1, 1],\n",
        "                  [1, 1, 0, 0]])"
      ],
      "execution_count": 10,
      "outputs": []
    },
    {
      "cell_type": "code",
      "metadata": {
        "id": "RZ_0X6fLL9Ni",
        "outputId": "84273739-33c7-4c83-d8e0-9779e302c81a",
        "colab": {
          "base_uri": "https://localhost:8080/"
        }
      },
      "source": [
        "np.sum(np.argmax(y, axis=0) == np.argmax(y_hat, axis=0))/4"
      ],
      "execution_count": 11,
      "outputs": [
        {
          "output_type": "execute_result",
          "data": {
            "text/plain": [
              "0.75"
            ]
          },
          "metadata": {
            "tags": []
          },
          "execution_count": 11
        }
      ]
    },
    {
      "cell_type": "markdown",
      "metadata": {
        "id": "gOjg-UbgDRjG"
      },
      "source": [
        "### Metric Visualization"
      ]
    },
    {
      "cell_type": "code",
      "metadata": {
        "id": "ahvT82NiDRjJ"
      },
      "source": [
        "def print_metrics(interval=100):\n",
        "    def result_function(metrics):\n",
        "        epoch = metrics['total_trained_epochs']\n",
        "        if (epoch == 1) or (epoch % interval == 0):\n",
        "            cost = metrics['costs'][-1]\n",
        "            accuracy = metrics['accuracies'][-1]*100\n",
        "            message_parts = [f'Epoch #{epoch:0>4}',\n",
        "                             f'Cost: {cost:.4f}',\n",
        "                             f'Accuracy: {accuracy:.2f}%']\n",
        "\n",
        "            if metrics['validation_costs']:\n",
        "                validation_cost = metrics['validation_costs'][-1]\n",
        "                validation_accuracy = metrics['validation_accuracies'][-1]*100\n",
        "                message_parts.append(\n",
        "                    f'Validation Cost: {validation_cost:.4f}')\n",
        "                message_parts.append(\n",
        "                    f'Validation Accuracy: {validation_accuracy:.2f}%')\n",
        "\n",
        "            print(' | '.join(message_parts))\n",
        "    return result_function"
      ],
      "execution_count": 12,
      "outputs": []
    },
    {
      "cell_type": "code",
      "metadata": {
        "id": "Dr2fr-aXtvYW"
      },
      "source": [
        "def plot_metrics(metrics: dict, interval=100):\n",
        "    cost = metrics['costs']\n",
        "    accuracy = metrics['accuracies']\n",
        "    validation_cost = metrics['validation_costs']\n",
        "    validation_accuracies = metrics['validation_accuracies']\n",
        "    learning_rate = metrics['learning_rate']\n",
        "    g = metrics['g']\n",
        "\n",
        "    fig, axes = plt.subplots(2, 2, constrained_layout=True)\n",
        "\n",
        "    axes[0, 0].plot(cost[::interval], label='Training Cost')\n",
        "    axes[0, 0].plot(validation_cost[::interval], label='Validation Cost')\n",
        "    axes[0, 0].set_ylabel('epoch')\n",
        "    axes[0, 0].set_ylabel('Cost')\n",
        "    axes[0, 0].legend()\n",
        "\n",
        "    axes[1, 0].plot(accuracy[::interval], label='Training Accuracy')\n",
        "    axes[1, 0].plot(validation_accuracies[::interval],\n",
        "                 label='Validation Accuracy')\n",
        "    axes[1, 0].set_ylabel('epoch')\n",
        "    axes[1, 0].set_ylabel(f'Accuracy')\n",
        "    axes[1, 0].legend()\n",
        "\n",
        "    axes[0, 1].plot(learning_rate[::interval], label='Learning Rate')\n",
        "    axes[0, 1].set_ylabel('epoch')\n",
        "    axes[0, 1].set_ylabel('Learning Rate')\n",
        "    axes[1, 1].plot(g[::interval], label='g')\n",
        "    axes[1, 1].set_ylabel('epoch')\n",
        "    axes[1, 1].set_ylabel('g')\n",
        "\n",
        "    \n",
        "\n",
        "    # fig.tight_layout(pad=0, w_pad=0, h_pad=0)\n",
        "    fig.set_size_inches(12, 9)\n",
        "    plt.show()\n",
        "    return fig"
      ],
      "execution_count": 13,
      "outputs": []
    },
    {
      "cell_type": "markdown",
      "metadata": {
        "id": "-oJ69ziwDRjV"
      },
      "source": [
        "## Cost Functions"
      ]
    },
    {
      "cell_type": "code",
      "metadata": {
        "id": "bpgmiiX5DRjW"
      },
      "source": [
        "def binary_cross_entropy(Y, Y_hat, epsilon=1e-4):\n",
        "    assert Y.shape == Y_hat.shape, f'{Y.shape} != {Y_hat.shape}'\n",
        "    m = Y.shape[1]  # number of examples\n",
        "    cost = (-1/m) * (np.dot(Y, np.log(Y_hat+epsilon).T) +\n",
        "                     np.dot((1-Y), np.log(1-Y_hat+epsilon).T))\n",
        "    return cost.item()\n",
        "\n",
        "\n",
        "def binary_cross_entropy_derivative(Y, Y_hat, epsilon=1e-4):\n",
        "    return ((1-Y)/(1-Y_hat+epsilon)) - (Y/(Y_hat+epsilon))\n",
        "\n",
        "def categorical_cross_entropy(Y, Y_hat, epsilon=1e-4):\n",
        "    assert Y.shape == Y_hat.shape, f'{Y.shape} != {Y_hat.shape}'\n",
        "    m = Y.shape[1]\n",
        "    cost = 1/m * np.sum(-np.sum(Y*np.log(Y_hat+epsilon), axis=0))\n",
        "    return cost\n",
        "\n",
        "def categorical_cross_entropy_derivative(Y, Y_hat, epsilon=1e-4):\n",
        "    return Y_hat - Y\n",
        "\n",
        "\n",
        "def get_regularization_cost(layers: list, m: int, lambda_: float) -> float:\n",
        "    cost = 0\n",
        "    for layer in layers:\n",
        "        cost += np.sum(np.square(layer.W))\n",
        "    cost *= (1/m) * (lambda_/2)\n",
        "    return cost"
      ],
      "execution_count": 14,
      "outputs": []
    },
    {
      "cell_type": "markdown",
      "metadata": {
        "id": "GAIMipGtDRje"
      },
      "source": [
        "## Optimizers"
      ]
    },
    {
      "cell_type": "markdown",
      "metadata": {
        "id": "zrlo6Y05DRjg"
      },
      "source": [
        "### Optimizer Superclass"
      ]
    },
    {
      "cell_type": "code",
      "metadata": {
        "id": "IPUFSsZ5DRjh"
      },
      "source": [
        "class Optimizer(object):\n",
        "    def initiate_parameters(self, layers: list):\n",
        "        pass\n",
        "    def update_parameters(self, layers: list):\n",
        "        pass\n",
        "    def update_optimizer(self, metrics: dict):\n",
        "        pass"
      ],
      "execution_count": 15,
      "outputs": []
    },
    {
      "cell_type": "markdown",
      "metadata": {
        "id": "Pv5XsIRnDRjm"
      },
      "source": [
        "### Gradient Descent"
      ]
    },
    {
      "cell_type": "code",
      "metadata": {
        "id": "IK7NcD0EDRjn"
      },
      "source": [
        "class GradientDescent(Optimizer):\n",
        "    def __init__(self, learning_rate):\n",
        "        self.learning_rate = learning_rate\n",
        "        \n",
        "    def update_parameters(self, layers: list):\n",
        "        for layer in layers:\n",
        "            layer.W = layer.W - self.learning_rate*layer.dW\n",
        "            layer.b = layer.b - self.learning_rate*layer.db\n",
        "        return True"
      ],
      "execution_count": 16,
      "outputs": []
    },
    {
      "cell_type": "markdown",
      "metadata": {
        "id": "iGAENBXUDRjv"
      },
      "source": [
        "### Momentum"
      ]
    },
    {
      "cell_type": "code",
      "metadata": {
        "id": "3ogaM6P0DRjw"
      },
      "source": [
        "class Momentum(Optimizer):\n",
        "    def __init__(self, learning_rate, beta):\n",
        "        self.learning_rate = learning_rate\n",
        "        self.beta = beta\n",
        "\n",
        "    def initiate_parameters(self, layers: list):\n",
        "        for layer in layers:\n",
        "            layer.V_dW = np.zeros(layer.W.shape)\n",
        "            layer.V_db = np.zeros(layer.b.shape)\n",
        "        return True\n",
        "            \n",
        "    def update_parameters(self, layers: list):\n",
        "        for layer in layers:            \n",
        "            layer.V_dW = self.beta*layer.V_dW + (1-self.beta)*layer.dW\n",
        "            layer.V_db = self.beta*layer.V_db + (1-self.beta)*layer.db\n",
        "            \n",
        "            layer.W = layer.W - self.learning_rate*layer.V_dW\n",
        "            layer.b = layer.b - self.learning_rate*layer.V_db\n",
        "        return True"
      ],
      "execution_count": 17,
      "outputs": []
    },
    {
      "cell_type": "markdown",
      "metadata": {
        "id": "w3fVRb6RDRj1"
      },
      "source": [
        "### RMSprop"
      ]
    },
    {
      "cell_type": "code",
      "metadata": {
        "id": "O49wN-K5DRj2"
      },
      "source": [
        "class RMSprop(Optimizer):\n",
        "    def __init__(self, learning_rate, beta=0.9):\n",
        "        self.learning_rate = learning_rate\n",
        "        self.beta = beta\n",
        "        self.epsilon = 1e-8\n",
        "\n",
        "    def initiate_parameters(self, layers: list):\n",
        "        for layer in layers:\n",
        "            layer.S_dW = np.zeros(layer.W.shape)\n",
        "            layer.S_db = np.zeros(layer.b.shape)\n",
        "        return True\n",
        "            \n",
        "    def update_parameters(self, layers: list):\n",
        "        for layer in layers:            \n",
        "            layer.S_dW = self.beta*layer.S_dW + (1-self.beta)*np.square(layer.dW)\n",
        "            layer.S_db = self.beta*layer.S_db + (1-self.beta)*np.square(layer.db)\n",
        "            \n",
        "            layer.W = layer.W - self.learning_rate*(layer.dW/(np.sqrt(layer.S_dW)+self.epsilon))\n",
        "            layer.b = layer.b - self.learning_rate*(layer.db/(np.sqrt(layer.S_db)+self.epsilon))\n",
        "        return True"
      ],
      "execution_count": 18,
      "outputs": []
    },
    {
      "cell_type": "markdown",
      "metadata": {
        "id": "B6othBMpDRj8"
      },
      "source": [
        "### Adam"
      ]
    },
    {
      "cell_type": "code",
      "metadata": {
        "id": "rPrPM09fDRj9"
      },
      "source": [
        "class Adam(Optimizer):\n",
        "    def __init__(self, learning_rate=0.001, beta_1=0.9, beta_2=0.999):\n",
        "        self.learning_rate = learning_rate\n",
        "        self.beta_1 = beta_1\n",
        "        self.beta_2 = beta_2\n",
        "        self.epsilon = 1e-7\n",
        "        self.counter = 0\n",
        "\n",
        "    def initiate_parameters(self, layers: list):\n",
        "        self.counter = 0\n",
        "        for layer in layers:\n",
        "            layer.V_dW = np.zeros(layer.W.shape)\n",
        "            layer.V_db = np.zeros(layer.b.shape)\n",
        "            layer.S_dW = np.zeros(layer.W.shape)\n",
        "            layer.S_db = np.zeros(layer.b.shape)\n",
        "            \n",
        "            layer.V_corrected_dW = np.zeros(layer.W.shape)\n",
        "            layer.V_corrected_db = np.zeros(layer.b.shape)\n",
        "            layer.S_corrected_dW = np.zeros(layer.W.shape)\n",
        "            layer.S_corrected_db = np.zeros(layer.b.shape)\n",
        "        return True\n",
        "            \n",
        "    def update_parameters(self, layers: list):\n",
        "        for layer in layers:            \n",
        "            layer.V_dW = self.beta_1*layer.V_dW + (1-self.beta_1)*layer.dW\n",
        "            layer.V_db = self.beta_1*layer.V_db + (1-self.beta_1)*layer.db\n",
        "            layer.S_dW = self.beta_2*layer.S_dW + (1-self.beta_2)*np.square(layer.dW)\n",
        "            layer.S_db = self.beta_2*layer.S_db + (1-self.beta_2)*np.square(layer.db)\n",
        "            \n",
        "            # Apply bias correction\n",
        "            momentum_correction = 1/(1-self.beta_1**(self.counter+1))\n",
        "            rmsprop_correction = 1/(1-self.beta_2**(self.counter+1))\n",
        "\n",
        "            layer.V_corrected_dW = layer.V_dW*momentum_correction\n",
        "            layer.V_corrected_db = layer.V_db*momentum_correction\n",
        "            layer.S_corrected_dW = layer.S_dW*rmsprop_correction\n",
        "            layer.S_corrected_db = layer.S_db*rmsprop_correction\n",
        "        \n",
        "            layer.W = layer.W - self.learning_rate*(layer.V_corrected_dW/(np.sqrt(layer.S_corrected_dW)+self.epsilon))\n",
        "            layer.b = layer.b - self.learning_rate*(layer.V_corrected_db/(np.sqrt(layer.S_corrected_db)+self.epsilon))\n",
        "        self.counter += 1\n",
        "        return True"
      ],
      "execution_count": 19,
      "outputs": []
    },
    {
      "cell_type": "markdown",
      "metadata": {
        "id": "UDF-qxOkDRkC"
      },
      "source": [
        "### Mechanic Rules"
      ]
    },
    {
      "cell_type": "code",
      "metadata": {
        "id": "2AtYLk9GDRkD"
      },
      "source": [
        "class MechanicRules(Optimizer):\n",
        "    def __init__(self, learning_rate, g=9.81):\n",
        "        self.learning_rate = learning_rate\n",
        "        self.g = g\n",
        "        self.epsilon = 1e-8\n",
        "\n",
        "    def initiate_parameters(self, layers: list):\n",
        "        for layer in layers:\n",
        "            layer.v_hat_W = np.zeros(layer.W.shape)\n",
        "            layer.v_hat_b = np.zeros(layer.b.shape)\n",
        "            \n",
        "            layer.a_hat_W = np.zeros(layer.W.shape)\n",
        "            layer.a_hat_b = np.zeros(layer.b.shape)\n",
        "        return True\n",
        "            \n",
        "    def update_parameters(self, layers: list):\n",
        "        for layer in layers:\n",
        "            s_W = 1 / (np.sqrt(1+np.square(layer.dW))+self.epsilon)\n",
        "            s_b = 1 / (np.sqrt(1+np.square(layer.db))+self.epsilon)\n",
        "            \n",
        "            layer.W = (-0.5*(self.g*layer.dW*s_W + layer.a_hat_W)*(self.learning_rate**2) + layer.v_hat_W*self.learning_rate + layer.W)*s_W\n",
        "            layer.b = (-0.5*(self.g*layer.db*s_b + layer.a_hat_b)*(self.learning_rate**2) + layer.v_hat_b*self.learning_rate + layer.b)*s_b\n",
        "            \n",
        "            layer.v_hat_W = -(self.g*layer.dW*s_W+layer.a_hat_W)*self.learning_rate + layer.v_hat_W\n",
        "            layer.v_hat_b = -(self.g*layer.db*s_b+layer.a_hat_b)*self.learning_rate + layer.v_hat_b\n",
        "        return True"
      ],
      "execution_count": 20,
      "outputs": []
    },
    {
      "cell_type": "markdown",
      "metadata": {
        "id": "zyD3j-T1DRkJ"
      },
      "source": [
        "### Gravity"
      ]
    },
    {
      "cell_type": "code",
      "metadata": {
        "id": "_8wmeEOcDRkK"
      },
      "source": [
        "class Gravity(Optimizer):\n",
        "    def __init__(self, learning_rate, g=9.81):\n",
        "        self.learning_rate = learning_rate\n",
        "        self.g = -g\n",
        "        self.epsilon = 1e-8\n",
        "        self.update_counter = 0\n",
        "        self.learning_rate_history = {0: learning_rate}\n",
        "\n",
        "    def initiate_parameters(self, layers: list):\n",
        "        for layer in layers:\n",
        "            layer.v_W = np.zeros(layer.W.shape)\n",
        "            layer.v_b = np.zeros(layer.b.shape)\n",
        "        return True\n",
        "            \n",
        "    def update_parameters(self, layers: list):\n",
        "        for layer in layers:\n",
        "            c_W = layer.dW / (1+np.square(layer.dW)+self.epsilon)            \n",
        "            layer.v_W = self.g*c_W*self.learning_rate + layer.v_W\n",
        "            c_b = layer.db / (1+np.square(layer.db)+self.epsilon)\n",
        "            layer.v_b = self.g*c_b*self.learning_rate + layer.v_b  \n",
        "            \n",
        "            layer.W = self.learning_rate*layer.v_W + layer.W\n",
        "            layer.b = self.learning_rate*layer.v_b + layer.b\n",
        "            self.update_counter += 1\n",
        "        return True\n",
        "    def update_optimizer(self, metrics: dict):\n",
        "        metrics['learning_rate'].append(self.learning_rate)\n",
        "        metrics['g'].append(self.g)\n",
        "        return metrics\n"
      ],
      "execution_count": 21,
      "outputs": []
    },
    {
      "cell_type": "code",
      "metadata": {
        "id": "HtaJWMYCtVkj"
      },
      "source": [
        "class Gravity2(Optimizer):\n",
        "    def __init__(self, learning_rate, g=9.81):\n",
        "        self.learning_rate = learning_rate\n",
        "        self.g = -g\n",
        "        self.epsilon = 1e-8\n",
        "        self.update_counter = 0\n",
        "        self.learning_rate_history = {0: learning_rate}\n",
        "\n",
        "    def initiate_parameters(self, layers: list):\n",
        "        for layer in layers:\n",
        "            layer.v_W = np.zeros(layer.W.shape)\n",
        "            layer.v_b = np.zeros(layer.b.shape)\n",
        "        return True\n",
        "            \n",
        "    def update_parameters(self, layers: list):\n",
        "        for layer in layers:\n",
        "            c_W = layer.dW / (1+np.square(layer.dW)+self.epsilon)\n",
        "            v_W_correct = np.where(layer.dW>0, -1, 1)*np.absolute(layer.v_W)         \n",
        "            layer.v_W = self.g*c_W*self.learning_rate + v_W_correct\n",
        "\n",
        "            c_b = layer.db / (1+np.square(layer.db)+self.epsilon)\n",
        "            v_b_correct = np.where(layer.db>0, -1, 1)*np.absolute(layer.v_b)\n",
        "            layer.v_b = self.g*c_b*self.learning_rate + v_b_correct\n",
        "            \n",
        "            layer.W = self.learning_rate*layer.v_W + layer.W\n",
        "            layer.b = self.learning_rate*layer.v_b + layer.b\n",
        "            self.update_counter += 1\n",
        "        return True\n",
        "    def update_optimizer(self, metrics: dict):\n",
        "        pass\n"
      ],
      "execution_count": 22,
      "outputs": []
    },
    {
      "cell_type": "code",
      "metadata": {
        "id": "bOJfPDKUv58E"
      },
      "source": [
        "class Gravity3(Optimizer):\n",
        "    def __init__(self, learning_rate, beta=0.9, g=10):\n",
        "        self.learning_rate = learning_rate\n",
        "        self.beta = beta\n",
        "        self.epsilon = 1e-8\n",
        "        self.g=g\n",
        "\n",
        "    def initiate_parameters(self, layers: list):\n",
        "        for layer in layers:\n",
        "            layer.v_W = np.zeros(layer.W.shape)\n",
        "            layer.v_b = np.zeros(layer.b.shape)\n",
        "        return True\n",
        "            \n",
        "    def update_parameters(self, layers: list):\n",
        "        for layer in layers:\n",
        "            c_W = layer.dW / (1+np.square(layer.dW)+self.epsilon)\n",
        "            v_W_correct = np.where(layer.dW>0, -1, 1)*np.absolute(layer.v_W)         \n",
        "            layer.v_W = -self.beta*c_W*self.g*self.learning_rate + (1-self.beta)*v_W_correct\n",
        "\n",
        "            c_b = layer.db / (1+np.square(layer.db)+self.epsilon)\n",
        "            v_b_correct = np.where(layer.db>0, -1, 1)*np.absolute(layer.v_b)\n",
        "            layer.v_b = -self.beta*c_b*self.g*self.learning_rate + (1-self.beta)*v_b_correct\n",
        "            \n",
        "            layer.W = self.learning_rate*layer.v_W + layer.W\n",
        "            layer.b = self.learning_rate*layer.v_b + layer.b\n",
        "        return True\n",
        "    def update_optimizer(self, metrics: dict):\n",
        "        pass\n"
      ],
      "execution_count": 23,
      "outputs": []
    },
    {
      "cell_type": "markdown",
      "metadata": {
        "id": "B345P8vMe_yH"
      },
      "source": [
        "### Courant"
      ]
    },
    {
      "cell_type": "code",
      "metadata": {
        "id": "1e61Fr2_e9xZ"
      },
      "source": [
        "class Courant(Optimizer):\n",
        "    def __init__(self, g=9.81, courant_max=0.01, sine_mode=False, mu=0):\n",
        "        self.g = -g\n",
        "        self.epsilon = 1e-8\n",
        "        self.update_counter = 0\n",
        "        self.courant_max = courant_max\n",
        "        self.sine_mode = 1 if sine_mode else 0\n",
        "        self.mu = mu\n",
        "\n",
        "    def initiate_parameters(self, layers: list):\n",
        "        for layer in layers:\n",
        "            layer.v_W = np.zeros(layer.W.shape)\n",
        "            layer.v_b = np.zeros(layer.b.shape)\n",
        "            layer.dt_W = np.random.rand(*layer.W.shape)\n",
        "            layer.dt_b = np.random.rand(*layer.b.shape)\n",
        "        return True\n",
        "            \n",
        "    def update_parameters(self, layers: list):\n",
        "        for layer in layers:\n",
        "            c_W = (layer.dW-self.mu) / (1+np.square(layer.dW)+self.epsilon)            \n",
        "            layer.v_W = self.g*c_W* layer.dt_W + layer.v_W\n",
        "            dx_W_num = np.absolute(layer.dW)**self.sine_mode\n",
        "            dx_W_denom = np.sqrt(1+np.square(layer.dW) + self.epsilon)\n",
        "            dx_W = dx_W_num/dx_W_denom\n",
        "            layer.dt_W = (self.courant_max*dx_W) / (np.absolute(layer.v_W)+self.epsilon)\n",
        "\n",
        "            c_b = (layer.db-self.mu) / (1+np.square(layer.db)+self.epsilon)            \n",
        "            layer.v_b = self.g*c_b* layer.dt_b + layer.v_b\n",
        "            dx_b_num = np.absolute(layer.db)**self.sine_mode\n",
        "            dx_b_denom = np.sqrt(1+np.square(layer.db) + self.epsilon)\n",
        "            dx_b = dx_b_num / dx_b_denom\n",
        "            layer.dt_b = (self.courant_max*dx_b) / (np.absolute(layer.v_b)+self.epsilon) \n",
        "            \n",
        "            layer.W = layer.dt_W*layer.v_W + layer.W\n",
        "            layer.b = layer.dt_b*layer.v_b + layer.b\n",
        "            self.update_counter += 1\n",
        "        return True\n",
        "    def update_optimizer(self, metrics: dict):\n",
        "        pass"
      ],
      "execution_count": 24,
      "outputs": []
    },
    {
      "cell_type": "code",
      "metadata": {
        "id": "gJiUq-HYOX0A"
      },
      "source": [
        "class Courant2(Optimizer):\n",
        "    def __init__(self, beta=0.9, courant_max=0.01, sine_mode=False, mu=0):\n",
        "        self.beta = beta\n",
        "        self.epsilon = 1e-8\n",
        "        self.update_counter = 0\n",
        "        self.courant_max = courant_max\n",
        "        self.sine_mode = 1 if sine_mode else 0\n",
        "        self.mu = mu\n",
        "\n",
        "    def initiate_parameters(self, layers: list):\n",
        "        for layer in layers:\n",
        "            layer.v_W = np.zeros(layer.W.shape)\n",
        "            layer.v_b = np.zeros(layer.b.shape)\n",
        "            layer.dt_W = np.random.rand(*layer.W.shape)\n",
        "            layer.dt_b = np.random.rand(*layer.b.shape)\n",
        "        return True\n",
        "            \n",
        "    def update_parameters(self, layers: list):\n",
        "        for layer in layers:\n",
        "            c_W = (layer.dW-self.mu) / (1+np.square(layer.dW)+self.epsilon)\n",
        "            v_W_correct = np.where(layer.dW>0, -1, 1)*np.absolute(layer.v_W)   \n",
        "            layer.v_W = -self.beta*c_W* layer.dt_W + (1-self.beta)*v_W_correct\n",
        "            dx_W_num = np.absolute(layer.dW)**self.sine_mode\n",
        "            dx_W_denom = np.sqrt(1+np.square(layer.dW) + self.epsilon)\n",
        "            dx_W = dx_W_num/dx_W_denom\n",
        "            layer.dt_W = (self.courant_max*dx_W) / (np.absolute(layer.v_W)+self.epsilon)\n",
        "\n",
        "            c_b = (layer.db-self.mu) / (1+np.square(layer.db)+self.epsilon)\n",
        "            v_b_correct = np.where(layer.db>0, -1, 1)*np.absolute(layer.v_b)          \n",
        "            layer.v_b = -self.beta*c_b* layer.dt_b + (1-self.beta)*v_b_correct\n",
        "            dx_b_num = np.absolute(layer.db)**self.sine_mode\n",
        "            dx_b_denom = np.sqrt(1+np.square(layer.db) + self.epsilon)\n",
        "            dx_b = dx_b_num / dx_b_denom\n",
        "            layer.dt_b = (self.courant_max*dx_b) / (np.absolute(layer.v_b)+self.epsilon) \n",
        "            \n",
        "            layer.W = layer.dt_W*layer.v_W + layer.W\n",
        "            layer.b = layer.dt_b*layer.v_b + layer.b\n",
        "            self.update_counter += 1\n",
        "        return True\n",
        "    def update_optimizer(self, metrics: dict):\n",
        "        pass"
      ],
      "execution_count": 25,
      "outputs": []
    },
    {
      "cell_type": "markdown",
      "metadata": {
        "id": "kArP_ESqtvYG"
      },
      "source": [
        "## Main Model Class"
      ]
    },
    {
      "cell_type": "code",
      "metadata": {
        "id": "UVvWPqcotvYO"
      },
      "source": [
        "class Classifier(object):\n",
        "    def __init__(self, model_structure: ModelStructure):\n",
        "        self.input_features = model_structure.layers[0].units_number\n",
        "        self.layers = initialize(model_structure.layers)\n",
        "        self.layers_backup = copy.deepcopy(self.layers)\n",
        "        self.cost_function = categorical_cross_entropy\n",
        "        self.cost_function_derivative = categorical_cross_entropy_derivative\n",
        "        self.accuracy_func = categorical_accuracy\n",
        "        self.metrics = {\n",
        "                        'costs': [],\n",
        "                        'accuracies': [],\n",
        "                        'validation_costs': [],\n",
        "                        'validation_accuracies': [],\n",
        "                        'total_trained_epochs': 0,\n",
        "                        'current_trained_epochs': 0,\n",
        "                        # 'learning_rate': [],\n",
        "                        # 'g': []\n",
        "                        }\n",
        "\n",
        "    def undo_update(self):\n",
        "        self.layers = copy.deepcopy(self.layers_backup)\n",
        "        self.metrics['costs'].pop()\n",
        "        self.metrics['accuracies'].pop()\n",
        "        self.metrics['validation_costs'].pop()\n",
        "        self.metrics['validation_accuracies'].pop()\n",
        "        # self.metrics['learning_rate'].pop()\n",
        "        # self.metrics['g'].pop()\n",
        "        self.metrics['total_trained_epochs'] -= 1\n",
        "        self.metrics['current_trained_epochs'] -= 1\n",
        "        print('Last Successful Parameters Recovered')\n",
        "\n",
        "    def feed_forward(self, X: np.ndarray):\n",
        "        assert X.shape[0] == self.input_features\n",
        "        A_prev = X\n",
        "        for layer in self.layers:\n",
        "            Z = np.dot(layer.W, A_prev) + layer.b\n",
        "            A = layer.activation_function(Z)\n",
        "            A_prev = A\n",
        "        Y_hat = A_prev\n",
        "        return Y_hat\n",
        "\n",
        "    def feed_forward_train(self, X: np.ndarray):\n",
        "        assert X.shape[0] == self.input_features\n",
        "        A_prev = X\n",
        "        for layer in self.layers:\n",
        "            layer.A_previous = A_prev\n",
        "            layer.Z = np.dot(layer.W, A_prev) + layer.b\n",
        "            A_raw = layer.activation_function(\n",
        "                layer.Z)  # Before applying dropout\n",
        "            layer.D = np.random.rand(\n",
        "                *A_raw.shape) < layer.keep_prob  # Dropout Mask\n",
        "            layer.A = (A_raw * layer.D) / layer.keep_prob\n",
        "            A_prev = layer.A\n",
        "        Y_hat = A_prev\n",
        "        return Y_hat\n",
        "\n",
        "    def back_propagate(self, cost_derivative, lambda_):\n",
        "        dA_prev = cost_derivative\n",
        "        m = self.layers[0].Z.shape[1]  # number of examples\n",
        "        for layer in self.layers[::-1]:\n",
        "            layer.dA = (dA_prev*layer.D) / layer.keep_prob\n",
        "            layer.dZ = layer.dA * layer.activation_function_derivative(layer.Z)\n",
        "            layer.dW = (1/m) * np.dot(layer.dZ,\n",
        "                                      layer.A_previous.T) + (lambda_/m)*layer.W\n",
        "            layer.db = 1/m * np.sum(layer.dZ, axis=1, keepdims=True)\n",
        "            dA_prev = np.dot(layer.W.T, layer.dZ)\n",
        "        return True\n",
        "\n",
        "    def fit_minibatch(self, mini_X, mini_Y, lambda_, optimizer):\n",
        "        mini_Y_hat = self.feed_forward_train(mini_X)\n",
        "        cost_derivative = self.cost_function_derivative(mini_Y, mini_Y_hat)\n",
        "        self.back_propagate(cost_derivative, lambda_)\n",
        "        optimizer.update_parameters(self.layers)\n",
        "        return True\n",
        "\n",
        "    def fit(self, X, Y, epochs, batch_size, optimizer,\n",
        "            lambda_=0,\n",
        "            validation_data=None,\n",
        "            metrics_printer=None):\n",
        "        \n",
        "        # Assert Shapes\n",
        "        assert X.shape[1] == Y.shape[1]        \n",
        "        m = X.shape[1]\n",
        "        if validation_data:\n",
        "            assert type(validation_data) == tuple\n",
        "            assert type(validation_data[0]) == np.ndarray\n",
        "            assert type(validation_data[1]) == np.ndarray\n",
        "            assert validation_data[0].shape[0] == X.shape[0]\n",
        "            assert validation_data[1].shape[0] == Y.shape[0]\n",
        "            assert validation_data[0].shape[1] == validation_data[1].shape[1]\n",
        "\n",
        "        self.metrics['current_trained_epochs'] = 0\n",
        "        optimizer.initiate_parameters(self.layers)\n",
        "        for _ in range(1, epochs+1):\n",
        "            self.layers_backup = copy.deepcopy(self.layers)           \n",
        "            mini_batchs = mini_batch_generator(X, Y, batch_size)\n",
        "            for mini_X, mini_Y in mini_batchs:\n",
        "                self.fit_minibatch(mini_X, mini_Y, lambda_, optimizer)\n",
        "\n",
        "            regularization_cost = get_regularization_cost(self.layers, m,\n",
        "                                                          lambda_)\n",
        "\n",
        "            train_Y_hat = self.feed_forward(X)\n",
        "            train_cost = self.cost_function(Y, train_Y_hat)\n",
        "            train_cost += regularization_cost\n",
        "            train_prediction = predict(train_Y_hat)\n",
        "            train_accuracy = self.accuracy_func(train_prediction, Y)\n",
        "            self.metrics['costs'].append(train_cost)\n",
        "            self.metrics['accuracies'].append(train_accuracy)\n",
        "\n",
        "            if validation_data:\n",
        "                validation_X = validation_data[0]\n",
        "                validation_Y = validation_data[1]\n",
        "                validation_Y_hat = self.feed_forward(validation_X)\n",
        "                validation_cost = self.cost_function(validation_Y,\n",
        "                                                     validation_Y_hat) \n",
        "                validation_cost += regularization_cost\n",
        "                validation_prediction = predict(validation_Y_hat)\n",
        "                validation_accuracy = self.accuracy_func(validation_prediction,\n",
        "                                                         validation_Y)\n",
        "                self.metrics['validation_costs'].append(validation_cost)\n",
        "                self.metrics['validation_accuracies'].append(validation_accuracy)\n",
        "\n",
        "            self.metrics['total_trained_epochs'] += 1\n",
        "            self.metrics['current_trained_epochs'] += 1\n",
        "\n",
        "            if metrics_printer:\n",
        "                metrics_printer(self.metrics)\n",
        "                         \n",
        "            optimizer.update_optimizer(self.metrics)            \n",
        "        return self.metrics"
      ],
      "execution_count": 26,
      "outputs": []
    },
    {
      "cell_type": "markdown",
      "metadata": {
        "id": "BNMSqla9L9PF"
      },
      "source": [
        "# MNIST"
      ]
    },
    {
      "cell_type": "code",
      "metadata": {
        "id": "1BRPI1CUL9PG"
      },
      "source": [
        "def get_dataset(dataset_path):\n",
        "    data = np.load(dataset_path)\n",
        "    X_train = data['X_train']\n",
        "    Y_train = data['Y_train']\n",
        "    X_test = data['X_test']\n",
        "    Y_test = data['Y_test']\n",
        "    return X_train, Y_train, X_test, Y_test"
      ],
      "execution_count": 27,
      "outputs": []
    },
    {
      "cell_type": "code",
      "metadata": {
        "id": "9IbnZyMtL9PM"
      },
      "source": [
        "def one_hot_encode(Y, C):\n",
        "    assert Y.ndim == 1\n",
        "    m = Y.shape[0]\n",
        "    shape = (C, m)\n",
        "    result = np.zeros(shape)\n",
        "    result[Y,np.arange(m)] = 1\n",
        "    return result"
      ],
      "execution_count": 28,
      "outputs": []
    },
    {
      "cell_type": "code",
      "metadata": {
        "id": "ucWtk2EqL9PT"
      },
      "source": [
        "mnist_path = Path.joinpath(Path('datasets'), Path('mnist.npz'))\n",
        "X_train, Y_train, X_test, Y_test = get_dataset(mnist_path)"
      ],
      "execution_count": 29,
      "outputs": []
    },
    {
      "cell_type": "code",
      "metadata": {
        "id": "5Kmvxa0ZL9Pb"
      },
      "source": [
        "X_train = X_train.reshape(X_train.shape[0], -1).T\n",
        "X_test = X_test.reshape(X_test.shape[0], -1).T\n",
        "Y_train = one_hot_encode(Y_train, 10)\n",
        "Y_test = one_hot_encode(Y_test, 10)"
      ],
      "execution_count": 30,
      "outputs": []
    },
    {
      "cell_type": "code",
      "metadata": {
        "id": "slwXNv9bL9Pu",
        "outputId": "093e4279-819a-42e2-e423-78234ea6463f",
        "colab": {
          "base_uri": "https://localhost:8080/",
          "height": 234
        }
      },
      "source": [
        "index = 85\n",
        "print(Y_train[:,index])\n",
        "PIL.Image.fromarray(X_train[:, index].reshape(28, 28)).resize((200, 200))"
      ],
      "execution_count": 31,
      "outputs": [
        {
          "output_type": "stream",
          "text": [
            "[0. 0. 0. 0. 0. 0. 0. 0. 1. 0.]\n"
          ],
          "name": "stdout"
        },
        {
          "output_type": "execute_result",
          "data": {
            "image/png": "[encoded data removed]",
            "text/plain": [
              "<PIL.Image.Image image mode=L size=200x200 at 0x7F3578580588>"
            ]
          },
          "metadata": {
            "tags": []
          },
          "execution_count": 31
        }
      ]
    },
    {
      "cell_type": "code",
      "metadata": {
        "id": "jbM5Vhi8L9P5"
      },
      "source": [
        "X_train = X_train / 255\n",
        "X_test = X_test / 255"
      ],
      "execution_count": 32,
      "outputs": []
    },
    {
      "cell_type": "code",
      "metadata": {
        "id": "qdJ3ca4hL9P-",
        "outputId": "7623a008-3183-4550-f3eb-3c846a082c3d",
        "colab": {
          "base_uri": "https://localhost:8080/"
        }
      },
      "source": [
        "structure = ModelStructure()\n",
        "structure.add_input_layer(X_train.shape[0])\n",
        "structure.add_layer(64, 'relu', keep_prob=1)\n",
        "structure.add_layer(64, 'relu', keep_prob=1)\n",
        "structure.add_layer(64, 'relu', keep_prob=1)\n",
        "# structure.add_layer(1024, 'relu', keep_prob=1)\n",
        "# structure.add_layer(128, 'relu', keep_prob=1)\n",
        "# structure.add_layer(128, 'relu', keep_prob=1)\n",
        "# structure.add_layer(64, 'relu', keep_prob=1)\n",
        "# structure.add_layer(32, 'relu', keep_prob=1)\n",
        "\n",
        "\n",
        "structure.add_layer(10, 'softmax')\n",
        "structure.summary()"
      ],
      "execution_count": 33,
      "outputs": [
        {
          "output_type": "stream",
          "text": [
            "Input Features: 784\n",
            "Layer #1: 64 relu units with 50176 weights and 64 biases\n",
            "Layer #2: 64 relu units with 4096 weights and 64 biases\n",
            "Layer #3: 64 relu units with 4096 weights and 64 biases\n",
            "Layer #4: 10 softmax units with 640 weights and 10 biases\n",
            "Total Parameters: 59210\n"
          ],
          "name": "stdout"
        }
      ]
    },
    {
      "cell_type": "code",
      "metadata": {
        "id": "9Ma_VV8lL9QF"
      },
      "source": [
        "try:\n",
        "    del model\n",
        "except NameError:\n",
        "    pass\n",
        "model = Classifier(structure)\n",
        "\n",
        "gd_optimizer = GradientDescent(learning_rate=0.01)\n",
        "\n",
        "momentum_optimizer = Momentum(learning_rate=0.001, beta=0.9)\n",
        "rmsprop_optimizer = RMSprop(learning_rate=0.0002, beta=0.999)\n",
        "adam_optimizer = Adam(learning_rate=0.0001)"
      ],
      "execution_count": 56,
      "outputs": []
    },
    {
      "cell_type": "code",
      "metadata": {
        "id": "Otx1AgjQwP3W",
        "outputId": "f9235645-1c50-4ee2-c483-98f8d93f888d",
        "colab": {
          "base_uri": "https://localhost:8080/"
        }
      },
      "source": [
        "gravity3 = Gravity3(learning_rate=0.01, beta=0.9, g=1)\n",
        "epochs=1000\n",
        "metrics = model.fit(X_train, Y_train, epochs, optimizer=gravity3,\n",
        "                    batch_size=512, validation_data=(X_test, Y_test),\n",
        "                    lambda_=0, metrics_printer=print_metrics(1))"
      ],
      "execution_count": null,
      "outputs": [
        {
          "output_type": "stream",
          "text": [
            "Epoch #1001 | Cost: 0.2881 | Accuracy: 89.63% | Validation Cost: 0.2606 | Validation Accuracy: 90.52%\n",
            "Epoch #1002 | Cost: 0.2881 | Accuracy: 89.63% | Validation Cost: 0.2606 | Validation Accuracy: 90.50%\n",
            "Epoch #1003 | Cost: 0.2880 | Accuracy: 89.63% | Validation Cost: 0.2605 | Validation Accuracy: 90.50%\n",
            "Epoch #1004 | Cost: 0.2879 | Accuracy: 89.63% | Validation Cost: 0.2604 | Validation Accuracy: 90.51%\n",
            "Epoch #1005 | Cost: 0.2878 | Accuracy: 89.63% | Validation Cost: 0.2603 | Validation Accuracy: 90.52%\n",
            "Epoch #1006 | Cost: 0.2878 | Accuracy: 89.64% | Validation Cost: 0.2603 | Validation Accuracy: 90.53%\n",
            "Epoch #1007 | Cost: 0.2877 | Accuracy: 89.63% | Validation Cost: 0.2602 | Validation Accuracy: 90.52%\n",
            "Epoch #1008 | Cost: 0.2877 | Accuracy: 89.64% | Validation Cost: 0.2601 | Validation Accuracy: 90.52%\n",
            "Epoch #1009 | Cost: 0.2877 | Accuracy: 89.64% | Validation Cost: 0.2600 | Validation Accuracy: 90.52%\n",
            "Epoch #1010 | Cost: 0.2876 | Accuracy: 89.64% | Validation Cost: 0.2600 | Validation Accuracy: 90.53%\n",
            "Epoch #1011 | Cost: 0.2875 | Accuracy: 89.64% | Validation Cost: 0.2599 | Validation Accuracy: 90.54%\n",
            "Epoch #1012 | Cost: 0.2875 | Accuracy: 89.64% | Validation Cost: 0.2598 | Validation Accuracy: 90.56%\n",
            "Epoch #1013 | Cost: 0.2874 | Accuracy: 89.64% | Validation Cost: 0.2597 | Validation Accuracy: 90.54%\n",
            "Epoch #1014 | Cost: 0.2874 | Accuracy: 89.64% | Validation Cost: 0.2597 | Validation Accuracy: 90.57%\n",
            "Epoch #1015 | Cost: 0.2874 | Accuracy: 89.65% | Validation Cost: 0.2596 | Validation Accuracy: 90.58%\n",
            "Epoch #1016 | Cost: 0.2874 | Accuracy: 89.65% | Validation Cost: 0.2595 | Validation Accuracy: 90.58%\n",
            "Epoch #1017 | Cost: 0.2874 | Accuracy: 89.65% | Validation Cost: 0.2595 | Validation Accuracy: 90.59%\n",
            "Epoch #1018 | Cost: 0.2874 | Accuracy: 89.65% | Validation Cost: 0.2594 | Validation Accuracy: 90.59%\n",
            "Epoch #1019 | Cost: 0.2873 | Accuracy: 89.65% | Validation Cost: 0.2593 | Validation Accuracy: 90.59%\n",
            "Epoch #1020 | Cost: 0.2872 | Accuracy: 89.65% | Validation Cost: 0.2592 | Validation Accuracy: 90.58%\n",
            "Epoch #1021 | Cost: 0.2872 | Accuracy: 89.65% | Validation Cost: 0.2592 | Validation Accuracy: 90.58%\n",
            "Epoch #1022 | Cost: 0.2871 | Accuracy: 89.66% | Validation Cost: 0.2591 | Validation Accuracy: 90.61%\n",
            "Epoch #1023 | Cost: 0.2870 | Accuracy: 89.67% | Validation Cost: 0.2590 | Validation Accuracy: 90.58%\n",
            "Epoch #1024 | Cost: 0.2869 | Accuracy: 89.68% | Validation Cost: 0.2589 | Validation Accuracy: 90.57%\n",
            "Epoch #1025 | Cost: 0.2868 | Accuracy: 89.68% | Validation Cost: 0.2589 | Validation Accuracy: 90.60%\n",
            "Epoch #1026 | Cost: 0.2867 | Accuracy: 89.69% | Validation Cost: 0.2588 | Validation Accuracy: 90.58%\n",
            "Epoch #1027 | Cost: 0.2865 | Accuracy: 89.69% | Validation Cost: 0.2586 | Validation Accuracy: 90.61%\n",
            "Epoch #1028 | Cost: 0.2866 | Accuracy: 89.69% | Validation Cost: 0.2586 | Validation Accuracy: 90.60%\n",
            "Epoch #1029 | Cost: 0.2866 | Accuracy: 89.70% | Validation Cost: 0.2585 | Validation Accuracy: 90.60%\n",
            "Epoch #1030 | Cost: 0.2864 | Accuracy: 89.70% | Validation Cost: 0.2584 | Validation Accuracy: 90.60%\n",
            "Epoch #1031 | Cost: 0.2865 | Accuracy: 89.69% | Validation Cost: 0.2584 | Validation Accuracy: 90.62%\n",
            "Epoch #1032 | Cost: 0.2864 | Accuracy: 89.70% | Validation Cost: 0.2583 | Validation Accuracy: 90.63%\n",
            "Epoch #1033 | Cost: 0.2865 | Accuracy: 89.70% | Validation Cost: 0.2583 | Validation Accuracy: 90.63%\n",
            "Epoch #1034 | Cost: 0.2864 | Accuracy: 89.70% | Validation Cost: 0.2582 | Validation Accuracy: 90.63%\n",
            "Epoch #1035 | Cost: 0.2865 | Accuracy: 89.70% | Validation Cost: 0.2581 | Validation Accuracy: 90.63%\n",
            "Epoch #1036 | Cost: 0.2864 | Accuracy: 89.70% | Validation Cost: 0.2581 | Validation Accuracy: 90.65%\n",
            "Epoch #1037 | Cost: 0.2863 | Accuracy: 89.70% | Validation Cost: 0.2580 | Validation Accuracy: 90.64%\n",
            "Epoch #1038 | Cost: 0.2862 | Accuracy: 89.71% | Validation Cost: 0.2579 | Validation Accuracy: 90.64%\n",
            "Epoch #1039 | Cost: 0.2862 | Accuracy: 89.72% | Validation Cost: 0.2578 | Validation Accuracy: 90.64%\n",
            "Epoch #1040 | Cost: 0.2862 | Accuracy: 89.72% | Validation Cost: 0.2578 | Validation Accuracy: 90.64%\n",
            "Epoch #1041 | Cost: 0.2861 | Accuracy: 89.73% | Validation Cost: 0.2577 | Validation Accuracy: 90.64%\n",
            "Epoch #1042 | Cost: 0.2861 | Accuracy: 89.72% | Validation Cost: 0.2577 | Validation Accuracy: 90.65%\n",
            "Epoch #1043 | Cost: 0.2861 | Accuracy: 89.72% | Validation Cost: 0.2576 | Validation Accuracy: 90.65%\n",
            "Epoch #1044 | Cost: 0.2861 | Accuracy: 89.73% | Validation Cost: 0.2575 | Validation Accuracy: 90.65%\n",
            "Epoch #1045 | Cost: 0.2859 | Accuracy: 89.73% | Validation Cost: 0.2574 | Validation Accuracy: 90.65%\n",
            "Epoch #1046 | Cost: 0.2857 | Accuracy: 89.73% | Validation Cost: 0.2573 | Validation Accuracy: 90.65%\n",
            "Epoch #1047 | Cost: 0.2857 | Accuracy: 89.73% | Validation Cost: 0.2573 | Validation Accuracy: 90.66%\n",
            "Epoch #1048 | Cost: 0.2858 | Accuracy: 89.73% | Validation Cost: 0.2572 | Validation Accuracy: 90.64%\n",
            "Epoch #1049 | Cost: 0.2857 | Accuracy: 89.74% | Validation Cost: 0.2571 | Validation Accuracy: 90.67%\n",
            "Epoch #1050 | Cost: 0.2857 | Accuracy: 89.74% | Validation Cost: 0.2571 | Validation Accuracy: 90.65%\n",
            "Epoch #1051 | Cost: 0.2855 | Accuracy: 89.74% | Validation Cost: 0.2570 | Validation Accuracy: 90.66%\n",
            "Epoch #1052 | Cost: 0.2854 | Accuracy: 89.75% | Validation Cost: 0.2569 | Validation Accuracy: 90.67%\n",
            "Epoch #1053 | Cost: 0.2852 | Accuracy: 89.75% | Validation Cost: 0.2568 | Validation Accuracy: 90.67%\n",
            "Epoch #1054 | Cost: 0.2851 | Accuracy: 89.76% | Validation Cost: 0.2567 | Validation Accuracy: 90.67%\n",
            "Epoch #1055 | Cost: 0.2853 | Accuracy: 89.76% | Validation Cost: 0.2567 | Validation Accuracy: 90.67%\n",
            "Epoch #1056 | Cost: 0.2852 | Accuracy: 89.76% | Validation Cost: 0.2566 | Validation Accuracy: 90.68%\n",
            "Epoch #1057 | Cost: 0.2853 | Accuracy: 89.75% | Validation Cost: 0.2566 | Validation Accuracy: 90.69%\n",
            "Epoch #1058 | Cost: 0.2853 | Accuracy: 89.76% | Validation Cost: 0.2565 | Validation Accuracy: 90.70%\n",
            "Epoch #1059 | Cost: 0.2852 | Accuracy: 89.77% | Validation Cost: 0.2565 | Validation Accuracy: 90.68%\n",
            "Epoch #1060 | Cost: 0.2851 | Accuracy: 89.77% | Validation Cost: 0.2564 | Validation Accuracy: 90.68%\n",
            "Epoch #1061 | Cost: 0.2850 | Accuracy: 89.77% | Validation Cost: 0.2563 | Validation Accuracy: 90.71%\n",
            "Epoch #1062 | Cost: 0.2849 | Accuracy: 89.77% | Validation Cost: 0.2562 | Validation Accuracy: 90.74%\n",
            "Epoch #1063 | Cost: 0.2851 | Accuracy: 89.77% | Validation Cost: 0.2562 | Validation Accuracy: 90.72%\n",
            "Epoch #1064 | Cost: 0.2850 | Accuracy: 89.77% | Validation Cost: 0.2561 | Validation Accuracy: 90.74%\n",
            "Epoch #1065 | Cost: 0.2849 | Accuracy: 89.77% | Validation Cost: 0.2561 | Validation Accuracy: 90.72%\n",
            "Epoch #1066 | Cost: 0.2849 | Accuracy: 89.77% | Validation Cost: 0.2560 | Validation Accuracy: 90.73%\n",
            "Epoch #1067 | Cost: 0.2848 | Accuracy: 89.77% | Validation Cost: 0.2559 | Validation Accuracy: 90.75%\n",
            "Epoch #1068 | Cost: 0.2847 | Accuracy: 89.77% | Validation Cost: 0.2558 | Validation Accuracy: 90.75%\n",
            "Epoch #1069 | Cost: 0.2845 | Accuracy: 89.78% | Validation Cost: 0.2558 | Validation Accuracy: 90.75%\n",
            "Epoch #1070 | Cost: 0.2847 | Accuracy: 89.77% | Validation Cost: 0.2557 | Validation Accuracy: 90.75%\n",
            "Epoch #1071 | Cost: 0.2846 | Accuracy: 89.78% | Validation Cost: 0.2557 | Validation Accuracy: 90.75%\n",
            "Epoch #1072 | Cost: 0.2845 | Accuracy: 89.78% | Validation Cost: 0.2556 | Validation Accuracy: 90.78%\n",
            "Epoch #1073 | Cost: 0.2844 | Accuracy: 89.79% | Validation Cost: 0.2555 | Validation Accuracy: 90.76%\n",
            "Epoch #1074 | Cost: 0.2844 | Accuracy: 89.78% | Validation Cost: 0.2554 | Validation Accuracy: 90.78%\n",
            "Epoch #1075 | Cost: 0.2843 | Accuracy: 89.80% | Validation Cost: 0.2554 | Validation Accuracy: 90.79%\n",
            "Epoch #1076 | Cost: 0.2842 | Accuracy: 89.80% | Validation Cost: 0.2553 | Validation Accuracy: 90.79%\n",
            "Epoch #1077 | Cost: 0.2842 | Accuracy: 89.80% | Validation Cost: 0.2552 | Validation Accuracy: 90.79%\n",
            "Epoch #1078 | Cost: 0.2841 | Accuracy: 89.81% | Validation Cost: 0.2551 | Validation Accuracy: 90.80%\n",
            "Epoch #1079 | Cost: 0.2841 | Accuracy: 89.81% | Validation Cost: 0.2551 | Validation Accuracy: 90.80%\n",
            "Epoch #1080 | Cost: 0.2841 | Accuracy: 89.82% | Validation Cost: 0.2550 | Validation Accuracy: 90.80%\n",
            "Epoch #1081 | Cost: 0.2841 | Accuracy: 89.81% | Validation Cost: 0.2550 | Validation Accuracy: 90.80%\n",
            "Epoch #1082 | Cost: 0.2840 | Accuracy: 89.82% | Validation Cost: 0.2549 | Validation Accuracy: 90.81%\n",
            "Epoch #1083 | Cost: 0.2840 | Accuracy: 89.81% | Validation Cost: 0.2549 | Validation Accuracy: 90.81%\n",
            "Epoch #1084 | Cost: 0.2841 | Accuracy: 89.81% | Validation Cost: 0.2548 | Validation Accuracy: 90.82%\n",
            "Epoch #1085 | Cost: 0.2838 | Accuracy: 89.82% | Validation Cost: 0.2547 | Validation Accuracy: 90.82%\n",
            "Epoch #1086 | Cost: 0.2838 | Accuracy: 89.83% | Validation Cost: 0.2547 | Validation Accuracy: 90.83%\n",
            "Epoch #1087 | Cost: 0.2838 | Accuracy: 89.83% | Validation Cost: 0.2546 | Validation Accuracy: 90.84%\n",
            "Epoch #1088 | Cost: 0.2838 | Accuracy: 89.82% | Validation Cost: 0.2545 | Validation Accuracy: 90.84%\n",
            "Epoch #1089 | Cost: 0.2838 | Accuracy: 89.83% | Validation Cost: 0.2545 | Validation Accuracy: 90.84%\n",
            "Epoch #1090 | Cost: 0.2837 | Accuracy: 89.83% | Validation Cost: 0.2544 | Validation Accuracy: 90.83%\n",
            "Epoch #1091 | Cost: 0.2837 | Accuracy: 89.83% | Validation Cost: 0.2543 | Validation Accuracy: 90.85%\n",
            "Epoch #1092 | Cost: 0.2837 | Accuracy: 89.83% | Validation Cost: 0.2543 | Validation Accuracy: 90.83%\n",
            "Epoch #1093 | Cost: 0.2838 | Accuracy: 89.83% | Validation Cost: 0.2542 | Validation Accuracy: 90.84%\n",
            "Epoch #1094 | Cost: 0.2838 | Accuracy: 89.83% | Validation Cost: 0.2542 | Validation Accuracy: 90.84%\n",
            "Epoch #1095 | Cost: 0.2837 | Accuracy: 89.83% | Validation Cost: 0.2541 | Validation Accuracy: 90.85%\n",
            "Epoch #1096 | Cost: 0.2836 | Accuracy: 89.84% | Validation Cost: 0.2540 | Validation Accuracy: 90.85%\n",
            "Epoch #1097 | Cost: 0.2835 | Accuracy: 89.84% | Validation Cost: 0.2539 | Validation Accuracy: 90.85%\n",
            "Epoch #1098 | Cost: 0.2836 | Accuracy: 89.84% | Validation Cost: 0.2539 | Validation Accuracy: 90.86%\n",
            "Epoch #1099 | Cost: 0.2835 | Accuracy: 89.84% | Validation Cost: 0.2538 | Validation Accuracy: 90.85%\n",
            "Epoch #1100 | Cost: 0.2834 | Accuracy: 89.85% | Validation Cost: 0.2537 | Validation Accuracy: 90.86%\n",
            "Epoch #1101 | Cost: 0.2835 | Accuracy: 89.85% | Validation Cost: 0.2537 | Validation Accuracy: 90.85%\n",
            "Epoch #1102 | Cost: 0.2834 | Accuracy: 89.85% | Validation Cost: 0.2536 | Validation Accuracy: 90.87%\n",
            "Epoch #1103 | Cost: 0.2834 | Accuracy: 89.85% | Validation Cost: 0.2536 | Validation Accuracy: 90.88%\n",
            "Epoch #1104 | Cost: 0.2833 | Accuracy: 89.86% | Validation Cost: 0.2535 | Validation Accuracy: 90.88%\n",
            "Epoch #1105 | Cost: 0.2832 | Accuracy: 89.86% | Validation Cost: 0.2534 | Validation Accuracy: 90.89%\n",
            "Epoch #1106 | Cost: 0.2833 | Accuracy: 89.86% | Validation Cost: 0.2534 | Validation Accuracy: 90.88%\n",
            "Epoch #1107 | Cost: 0.2833 | Accuracy: 89.85% | Validation Cost: 0.2533 | Validation Accuracy: 90.88%\n",
            "Epoch #1108 | Cost: 0.2832 | Accuracy: 89.85% | Validation Cost: 0.2532 | Validation Accuracy: 90.89%\n",
            "Epoch #1109 | Cost: 0.2831 | Accuracy: 89.86% | Validation Cost: 0.2532 | Validation Accuracy: 90.89%\n",
            "Epoch #1110 | Cost: 0.2831 | Accuracy: 89.86% | Validation Cost: 0.2531 | Validation Accuracy: 90.88%\n",
            "Epoch #1111 | Cost: 0.2832 | Accuracy: 89.85% | Validation Cost: 0.2531 | Validation Accuracy: 90.89%\n",
            "Epoch #1112 | Cost: 0.2830 | Accuracy: 89.86% | Validation Cost: 0.2530 | Validation Accuracy: 90.89%\n",
            "Epoch #1113 | Cost: 0.2829 | Accuracy: 89.86% | Validation Cost: 0.2529 | Validation Accuracy: 90.90%\n",
            "Epoch #1114 | Cost: 0.2829 | Accuracy: 89.86% | Validation Cost: 0.2529 | Validation Accuracy: 90.91%\n",
            "Epoch #1115 | Cost: 0.2829 | Accuracy: 89.86% | Validation Cost: 0.2528 | Validation Accuracy: 90.90%\n",
            "Epoch #1116 | Cost: 0.2830 | Accuracy: 89.86% | Validation Cost: 0.2528 | Validation Accuracy: 90.91%\n",
            "Epoch #1117 | Cost: 0.2829 | Accuracy: 89.86% | Validation Cost: 0.2527 | Validation Accuracy: 90.92%\n",
            "Epoch #1118 | Cost: 0.2829 | Accuracy: 89.86% | Validation Cost: 0.2527 | Validation Accuracy: 90.92%\n",
            "Epoch #1119 | Cost: 0.2828 | Accuracy: 89.86% | Validation Cost: 0.2526 | Validation Accuracy: 90.92%\n",
            "Epoch #1120 | Cost: 0.2827 | Accuracy: 89.86% | Validation Cost: 0.2525 | Validation Accuracy: 90.91%\n",
            "Epoch #1121 | Cost: 0.2827 | Accuracy: 89.86% | Validation Cost: 0.2525 | Validation Accuracy: 90.93%\n",
            "Epoch #1122 | Cost: 0.2825 | Accuracy: 89.86% | Validation Cost: 0.2524 | Validation Accuracy: 90.94%\n",
            "Epoch #1123 | Cost: 0.2825 | Accuracy: 89.87% | Validation Cost: 0.2523 | Validation Accuracy: 90.93%\n",
            "Epoch #1124 | Cost: 0.2825 | Accuracy: 89.87% | Validation Cost: 0.2522 | Validation Accuracy: 90.94%\n",
            "Epoch #1125 | Cost: 0.2824 | Accuracy: 89.88% | Validation Cost: 0.2522 | Validation Accuracy: 90.94%\n",
            "Epoch #1126 | Cost: 0.2824 | Accuracy: 89.87% | Validation Cost: 0.2521 | Validation Accuracy: 90.93%\n",
            "Epoch #1127 | Cost: 0.2825 | Accuracy: 89.87% | Validation Cost: 0.2521 | Validation Accuracy: 90.93%\n",
            "Epoch #1128 | Cost: 0.2825 | Accuracy: 89.87% | Validation Cost: 0.2521 | Validation Accuracy: 90.95%\n",
            "Epoch #1129 | Cost: 0.2824 | Accuracy: 89.87% | Validation Cost: 0.2520 | Validation Accuracy: 90.94%\n",
            "Epoch #1130 | Cost: 0.2821 | Accuracy: 89.88% | Validation Cost: 0.2519 | Validation Accuracy: 90.96%\n",
            "Epoch #1131 | Cost: 0.2821 | Accuracy: 89.88% | Validation Cost: 0.2518 | Validation Accuracy: 90.96%\n",
            "Epoch #1132 | Cost: 0.2821 | Accuracy: 89.88% | Validation Cost: 0.2517 | Validation Accuracy: 90.97%\n",
            "Epoch #1133 | Cost: 0.2819 | Accuracy: 89.89% | Validation Cost: 0.2517 | Validation Accuracy: 90.95%\n",
            "Epoch #1134 | Cost: 0.2819 | Accuracy: 89.88% | Validation Cost: 0.2516 | Validation Accuracy: 90.96%\n",
            "Epoch #1135 | Cost: 0.2819 | Accuracy: 89.88% | Validation Cost: 0.2516 | Validation Accuracy: 90.97%\n",
            "Epoch #1136 | Cost: 0.2820 | Accuracy: 89.88% | Validation Cost: 0.2515 | Validation Accuracy: 90.97%\n",
            "Epoch #1137 | Cost: 0.2821 | Accuracy: 89.88% | Validation Cost: 0.2515 | Validation Accuracy: 90.97%\n",
            "Epoch #1138 | Cost: 0.2822 | Accuracy: 89.87% | Validation Cost: 0.2515 | Validation Accuracy: 90.97%\n",
            "Epoch #1139 | Cost: 0.2820 | Accuracy: 89.88% | Validation Cost: 0.2514 | Validation Accuracy: 90.98%\n",
            "Epoch #1140 | Cost: 0.2820 | Accuracy: 89.88% | Validation Cost: 0.2513 | Validation Accuracy: 90.98%\n",
            "Epoch #1141 | Cost: 0.2821 | Accuracy: 89.87% | Validation Cost: 0.2513 | Validation Accuracy: 90.98%\n",
            "Epoch #1142 | Cost: 0.2820 | Accuracy: 89.87% | Validation Cost: 0.2512 | Validation Accuracy: 90.98%\n",
            "Epoch #1143 | Cost: 0.2819 | Accuracy: 89.88% | Validation Cost: 0.2511 | Validation Accuracy: 90.98%\n",
            "Epoch #1144 | Cost: 0.2819 | Accuracy: 89.88% | Validation Cost: 0.2511 | Validation Accuracy: 90.98%\n",
            "Epoch #1145 | Cost: 0.2819 | Accuracy: 89.88% | Validation Cost: 0.2510 | Validation Accuracy: 90.97%\n",
            "Epoch #1146 | Cost: 0.2818 | Accuracy: 89.88% | Validation Cost: 0.2509 | Validation Accuracy: 90.97%\n",
            "Epoch #1147 | Cost: 0.2816 | Accuracy: 89.89% | Validation Cost: 0.2509 | Validation Accuracy: 90.99%\n",
            "Epoch #1148 | Cost: 0.2816 | Accuracy: 89.89% | Validation Cost: 0.2508 | Validation Accuracy: 91.00%\n",
            "Epoch #1149 | Cost: 0.2815 | Accuracy: 89.89% | Validation Cost: 0.2507 | Validation Accuracy: 90.99%\n",
            "Epoch #1150 | Cost: 0.2815 | Accuracy: 89.89% | Validation Cost: 0.2507 | Validation Accuracy: 90.99%\n",
            "Epoch #1151 | Cost: 0.2817 | Accuracy: 89.88% | Validation Cost: 0.2507 | Validation Accuracy: 91.00%\n",
            "Epoch #1152 | Cost: 0.2818 | Accuracy: 89.88% | Validation Cost: 0.2507 | Validation Accuracy: 90.99%\n",
            "Epoch #1153 | Cost: 0.2818 | Accuracy: 89.88% | Validation Cost: 0.2506 | Validation Accuracy: 90.99%\n",
            "Epoch #1154 | Cost: 0.2818 | Accuracy: 89.88% | Validation Cost: 0.2506 | Validation Accuracy: 91.01%\n",
            "Epoch #1155 | Cost: 0.2818 | Accuracy: 89.89% | Validation Cost: 0.2505 | Validation Accuracy: 91.01%\n",
            "Epoch #1156 | Cost: 0.2817 | Accuracy: 89.89% | Validation Cost: 0.2504 | Validation Accuracy: 91.00%\n",
            "Epoch #1157 | Cost: 0.2816 | Accuracy: 89.89% | Validation Cost: 0.2504 | Validation Accuracy: 91.02%\n",
            "Epoch #1158 | Cost: 0.2815 | Accuracy: 89.90% | Validation Cost: 0.2503 | Validation Accuracy: 91.01%\n",
            "Epoch #1159 | Cost: 0.2815 | Accuracy: 89.89% | Validation Cost: 0.2502 | Validation Accuracy: 91.01%\n",
            "Epoch #1160 | Cost: 0.2813 | Accuracy: 89.91% | Validation Cost: 0.2502 | Validation Accuracy: 91.03%\n",
            "Epoch #1161 | Cost: 0.2814 | Accuracy: 89.90% | Validation Cost: 0.2501 | Validation Accuracy: 91.04%\n",
            "Epoch #1162 | Cost: 0.2813 | Accuracy: 89.91% | Validation Cost: 0.2501 | Validation Accuracy: 91.05%\n",
            "Epoch #1163 | Cost: 0.2813 | Accuracy: 89.90% | Validation Cost: 0.2500 | Validation Accuracy: 91.05%\n",
            "Epoch #1164 | Cost: 0.2812 | Accuracy: 89.91% | Validation Cost: 0.2500 | Validation Accuracy: 91.05%\n",
            "Epoch #1165 | Cost: 0.2812 | Accuracy: 89.91% | Validation Cost: 0.2499 | Validation Accuracy: 91.07%\n",
            "Epoch #1166 | Cost: 0.2811 | Accuracy: 89.92% | Validation Cost: 0.2498 | Validation Accuracy: 91.06%\n",
            "Epoch #1167 | Cost: 0.2813 | Accuracy: 89.91% | Validation Cost: 0.2498 | Validation Accuracy: 91.06%\n",
            "Epoch #1168 | Cost: 0.2811 | Accuracy: 89.92% | Validation Cost: 0.2497 | Validation Accuracy: 91.05%\n",
            "Epoch #1169 | Cost: 0.2810 | Accuracy: 89.92% | Validation Cost: 0.2496 | Validation Accuracy: 91.07%\n",
            "Epoch #1170 | Cost: 0.2813 | Accuracy: 89.91% | Validation Cost: 0.2497 | Validation Accuracy: 91.08%\n",
            "Epoch #1171 | Cost: 0.2811 | Accuracy: 89.92% | Validation Cost: 0.2496 | Validation Accuracy: 91.08%\n",
            "Epoch #1172 | Cost: 0.2808 | Accuracy: 89.93% | Validation Cost: 0.2495 | Validation Accuracy: 91.09%\n",
            "Epoch #1173 | Cost: 0.2809 | Accuracy: 89.92% | Validation Cost: 0.2494 | Validation Accuracy: 91.09%\n",
            "Epoch #1174 | Cost: 0.2808 | Accuracy: 89.93% | Validation Cost: 0.2494 | Validation Accuracy: 91.10%\n",
            "Epoch #1175 | Cost: 0.2810 | Accuracy: 89.93% | Validation Cost: 0.2493 | Validation Accuracy: 91.10%\n",
            "Epoch #1176 | Cost: 0.2809 | Accuracy: 89.93% | Validation Cost: 0.2493 | Validation Accuracy: 91.13%\n",
            "Epoch #1177 | Cost: 0.2809 | Accuracy: 89.93% | Validation Cost: 0.2492 | Validation Accuracy: 91.10%\n",
            "Epoch #1178 | Cost: 0.2807 | Accuracy: 89.94% | Validation Cost: 0.2491 | Validation Accuracy: 91.14%\n",
            "Epoch #1179 | Cost: 0.2806 | Accuracy: 89.94% | Validation Cost: 0.2491 | Validation Accuracy: 91.14%\n",
            "Epoch #1180 | Cost: 0.2807 | Accuracy: 89.94% | Validation Cost: 0.2490 | Validation Accuracy: 91.16%\n",
            "Epoch #1181 | Cost: 0.2805 | Accuracy: 89.95% | Validation Cost: 0.2490 | Validation Accuracy: 91.16%\n",
            "Epoch #1182 | Cost: 0.2804 | Accuracy: 89.95% | Validation Cost: 0.2489 | Validation Accuracy: 91.16%\n",
            "Epoch #1183 | Cost: 0.2803 | Accuracy: 89.95% | Validation Cost: 0.2488 | Validation Accuracy: 91.16%\n",
            "Epoch #1184 | Cost: 0.2802 | Accuracy: 89.96% | Validation Cost: 0.2488 | Validation Accuracy: 91.18%\n",
            "Epoch #1185 | Cost: 0.2802 | Accuracy: 89.96% | Validation Cost: 0.2487 | Validation Accuracy: 91.17%\n",
            "Epoch #1186 | Cost: 0.2803 | Accuracy: 89.97% | Validation Cost: 0.2487 | Validation Accuracy: 91.18%\n",
            "Epoch #1187 | Cost: 0.2802 | Accuracy: 89.96% | Validation Cost: 0.2486 | Validation Accuracy: 91.18%\n",
            "Epoch #1188 | Cost: 0.2803 | Accuracy: 89.98% | Validation Cost: 0.2486 | Validation Accuracy: 91.17%\n",
            "Epoch #1189 | Cost: 0.2802 | Accuracy: 89.97% | Validation Cost: 0.2485 | Validation Accuracy: 91.19%\n",
            "Epoch #1190 | Cost: 0.2801 | Accuracy: 89.98% | Validation Cost: 0.2484 | Validation Accuracy: 91.20%\n",
            "Epoch #1191 | Cost: 0.2801 | Accuracy: 89.98% | Validation Cost: 0.2484 | Validation Accuracy: 91.19%\n",
            "Epoch #1192 | Cost: 0.2801 | Accuracy: 89.98% | Validation Cost: 0.2483 | Validation Accuracy: 91.19%\n",
            "Epoch #1193 | Cost: 0.2800 | Accuracy: 89.98% | Validation Cost: 0.2483 | Validation Accuracy: 91.19%\n",
            "Epoch #1194 | Cost: 0.2802 | Accuracy: 89.98% | Validation Cost: 0.2482 | Validation Accuracy: 91.19%\n",
            "Epoch #1195 | Cost: 0.2803 | Accuracy: 89.98% | Validation Cost: 0.2482 | Validation Accuracy: 91.19%\n",
            "Epoch #1196 | Cost: 0.2802 | Accuracy: 89.98% | Validation Cost: 0.2482 | Validation Accuracy: 91.19%\n",
            "Epoch #1197 | Cost: 0.2801 | Accuracy: 89.98% | Validation Cost: 0.2481 | Validation Accuracy: 91.19%\n",
            "Epoch #1198 | Cost: 0.2801 | Accuracy: 89.98% | Validation Cost: 0.2480 | Validation Accuracy: 91.20%\n",
            "Epoch #1199 | Cost: 0.2800 | Accuracy: 89.99% | Validation Cost: 0.2480 | Validation Accuracy: 91.20%\n",
            "Epoch #1200 | Cost: 0.2800 | Accuracy: 89.98% | Validation Cost: 0.2479 | Validation Accuracy: 91.20%\n",
            "Epoch #1201 | Cost: 0.2799 | Accuracy: 89.98% | Validation Cost: 0.2479 | Validation Accuracy: 91.20%\n",
            "Epoch #1202 | Cost: 0.2797 | Accuracy: 89.99% | Validation Cost: 0.2478 | Validation Accuracy: 91.22%\n",
            "Epoch #1203 | Cost: 0.2796 | Accuracy: 90.00% | Validation Cost: 0.2477 | Validation Accuracy: 91.23%\n",
            "Epoch #1204 | Cost: 0.2796 | Accuracy: 90.00% | Validation Cost: 0.2477 | Validation Accuracy: 91.23%\n",
            "Epoch #1205 | Cost: 0.2795 | Accuracy: 90.00% | Validation Cost: 0.2476 | Validation Accuracy: 91.24%\n",
            "Epoch #1206 | Cost: 0.2795 | Accuracy: 90.00% | Validation Cost: 0.2475 | Validation Accuracy: 91.24%\n",
            "Epoch #1207 | Cost: 0.2794 | Accuracy: 90.00% | Validation Cost: 0.2475 | Validation Accuracy: 91.23%\n",
            "Epoch #1208 | Cost: 0.2794 | Accuracy: 90.00% | Validation Cost: 0.2474 | Validation Accuracy: 91.24%\n",
            "Epoch #1209 | Cost: 0.2794 | Accuracy: 90.00% | Validation Cost: 0.2474 | Validation Accuracy: 91.24%\n",
            "Epoch #1210 | Cost: 0.2794 | Accuracy: 90.01% | Validation Cost: 0.2473 | Validation Accuracy: 91.24%\n",
            "Epoch #1211 | Cost: 0.2794 | Accuracy: 90.01% | Validation Cost: 0.2473 | Validation Accuracy: 91.24%\n",
            "Epoch #1212 | Cost: 0.2794 | Accuracy: 90.01% | Validation Cost: 0.2473 | Validation Accuracy: 91.24%\n",
            "Epoch #1213 | Cost: 0.2793 | Accuracy: 90.01% | Validation Cost: 0.2472 | Validation Accuracy: 91.25%\n",
            "Epoch #1214 | Cost: 0.2795 | Accuracy: 90.00% | Validation Cost: 0.2472 | Validation Accuracy: 91.25%\n",
            "Epoch #1215 | Cost: 0.2793 | Accuracy: 90.01% | Validation Cost: 0.2471 | Validation Accuracy: 91.25%\n",
            "Epoch #1216 | Cost: 0.2794 | Accuracy: 90.00% | Validation Cost: 0.2471 | Validation Accuracy: 91.25%\n",
            "Epoch #1217 | Cost: 0.2794 | Accuracy: 90.00% | Validation Cost: 0.2470 | Validation Accuracy: 91.25%\n",
            "Epoch #1218 | Cost: 0.2795 | Accuracy: 90.00% | Validation Cost: 0.2470 | Validation Accuracy: 91.27%\n",
            "Epoch #1219 | Cost: 0.2795 | Accuracy: 89.99% | Validation Cost: 0.2470 | Validation Accuracy: 91.27%\n",
            "Epoch #1220 | Cost: 0.2793 | Accuracy: 90.00% | Validation Cost: 0.2469 | Validation Accuracy: 91.27%\n",
            "Epoch #1221 | Cost: 0.2792 | Accuracy: 90.00% | Validation Cost: 0.2468 | Validation Accuracy: 91.26%\n",
            "Epoch #1222 | Cost: 0.2793 | Accuracy: 90.00% | Validation Cost: 0.2468 | Validation Accuracy: 91.27%\n",
            "Epoch #1223 | Cost: 0.2792 | Accuracy: 90.00% | Validation Cost: 0.2467 | Validation Accuracy: 91.27%\n",
            "Epoch #1224 | Cost: 0.2791 | Accuracy: 90.02% | Validation Cost: 0.2466 | Validation Accuracy: 91.27%\n",
            "Epoch #1225 | Cost: 0.2790 | Accuracy: 90.02% | Validation Cost: 0.2466 | Validation Accuracy: 91.28%\n",
            "Epoch #1226 | Cost: 0.2789 | Accuracy: 90.02% | Validation Cost: 0.2465 | Validation Accuracy: 91.27%\n",
            "Epoch #1227 | Cost: 0.2790 | Accuracy: 90.02% | Validation Cost: 0.2465 | Validation Accuracy: 91.27%\n",
            "Epoch #1228 | Cost: 0.2791 | Accuracy: 90.01% | Validation Cost: 0.2465 | Validation Accuracy: 91.27%\n",
            "Epoch #1229 | Cost: 0.2791 | Accuracy: 90.02% | Validation Cost: 0.2464 | Validation Accuracy: 91.27%\n",
            "Epoch #1230 | Cost: 0.2790 | Accuracy: 90.02% | Validation Cost: 0.2464 | Validation Accuracy: 91.26%\n",
            "Epoch #1231 | Cost: 0.2789 | Accuracy: 90.02% | Validation Cost: 0.2463 | Validation Accuracy: 91.26%\n",
            "Epoch #1232 | Cost: 0.2788 | Accuracy: 90.03% | Validation Cost: 0.2463 | Validation Accuracy: 91.27%\n",
            "Epoch #1233 | Cost: 0.2789 | Accuracy: 90.02% | Validation Cost: 0.2462 | Validation Accuracy: 91.26%\n",
            "Epoch #1234 | Cost: 0.2788 | Accuracy: 90.03% | Validation Cost: 0.2462 | Validation Accuracy: 91.27%\n",
            "Epoch #1235 | Cost: 0.2788 | Accuracy: 90.03% | Validation Cost: 0.2461 | Validation Accuracy: 91.27%\n",
            "Epoch #1236 | Cost: 0.2788 | Accuracy: 90.03% | Validation Cost: 0.2461 | Validation Accuracy: 91.27%\n",
            "Epoch #1237 | Cost: 0.2787 | Accuracy: 90.03% | Validation Cost: 0.2460 | Validation Accuracy: 91.29%\n",
            "Epoch #1238 | Cost: 0.2787 | Accuracy: 90.03% | Validation Cost: 0.2459 | Validation Accuracy: 91.30%\n",
            "Epoch #1239 | Cost: 0.2787 | Accuracy: 90.03% | Validation Cost: 0.2459 | Validation Accuracy: 91.31%\n",
            "Epoch #1240 | Cost: 0.2786 | Accuracy: 90.04% | Validation Cost: 0.2458 | Validation Accuracy: 91.30%\n",
            "Epoch #1241 | Cost: 0.2786 | Accuracy: 90.04% | Validation Cost: 0.2458 | Validation Accuracy: 91.29%\n",
            "Epoch #1242 | Cost: 0.2786 | Accuracy: 90.04% | Validation Cost: 0.2457 | Validation Accuracy: 91.29%\n",
            "Epoch #1243 | Cost: 0.2787 | Accuracy: 90.03% | Validation Cost: 0.2457 | Validation Accuracy: 91.31%\n",
            "Epoch #1244 | Cost: 0.2786 | Accuracy: 90.03% | Validation Cost: 0.2457 | Validation Accuracy: 91.30%\n",
            "Epoch #1245 | Cost: 0.2786 | Accuracy: 90.03% | Validation Cost: 0.2456 | Validation Accuracy: 91.30%\n",
            "Epoch #1246 | Cost: 0.2785 | Accuracy: 90.04% | Validation Cost: 0.2456 | Validation Accuracy: 91.30%\n",
            "Epoch #1247 | Cost: 0.2785 | Accuracy: 90.04% | Validation Cost: 0.2455 | Validation Accuracy: 91.30%\n",
            "Epoch #1248 | Cost: 0.2783 | Accuracy: 90.05% | Validation Cost: 0.2454 | Validation Accuracy: 91.29%\n",
            "Epoch #1249 | Cost: 0.2783 | Accuracy: 90.05% | Validation Cost: 0.2454 | Validation Accuracy: 91.29%\n",
            "Epoch #1250 | Cost: 0.2782 | Accuracy: 90.05% | Validation Cost: 0.2453 | Validation Accuracy: 91.29%\n",
            "Epoch #1251 | Cost: 0.2783 | Accuracy: 90.04% | Validation Cost: 0.2453 | Validation Accuracy: 91.29%\n",
            "Epoch #1252 | Cost: 0.2784 | Accuracy: 90.04% | Validation Cost: 0.2453 | Validation Accuracy: 91.30%\n",
            "Epoch #1253 | Cost: 0.2783 | Accuracy: 90.04% | Validation Cost: 0.2452 | Validation Accuracy: 91.29%\n",
            "Epoch #1254 | Cost: 0.2784 | Accuracy: 90.03% | Validation Cost: 0.2452 | Validation Accuracy: 91.30%\n",
            "Epoch #1255 | Cost: 0.2784 | Accuracy: 90.03% | Validation Cost: 0.2451 | Validation Accuracy: 91.29%\n",
            "Epoch #1256 | Cost: 0.2782 | Accuracy: 90.04% | Validation Cost: 0.2450 | Validation Accuracy: 91.29%\n",
            "Epoch #1257 | Cost: 0.2783 | Accuracy: 90.04% | Validation Cost: 0.2450 | Validation Accuracy: 91.29%\n",
            "Epoch #1258 | Cost: 0.2785 | Accuracy: 90.03% | Validation Cost: 0.2450 | Validation Accuracy: 91.29%\n",
            "Epoch #1259 | Cost: 0.2785 | Accuracy: 90.03% | Validation Cost: 0.2450 | Validation Accuracy: 91.29%\n",
            "Epoch #1260 | Cost: 0.2783 | Accuracy: 90.04% | Validation Cost: 0.2449 | Validation Accuracy: 91.31%\n",
            "Epoch #1261 | Cost: 0.2780 | Accuracy: 90.05% | Validation Cost: 0.2448 | Validation Accuracy: 91.31%\n",
            "Epoch #1262 | Cost: 0.2781 | Accuracy: 90.05% | Validation Cost: 0.2448 | Validation Accuracy: 91.29%\n",
            "Epoch #1263 | Cost: 0.2779 | Accuracy: 90.06% | Validation Cost: 0.2447 | Validation Accuracy: 91.31%\n",
            "Epoch #1264 | Cost: 0.2780 | Accuracy: 90.06% | Validation Cost: 0.2447 | Validation Accuracy: 91.30%\n",
            "Epoch #1265 | Cost: 0.2781 | Accuracy: 90.05% | Validation Cost: 0.2447 | Validation Accuracy: 91.29%\n",
            "Epoch #1266 | Cost: 0.2781 | Accuracy: 90.05% | Validation Cost: 0.2446 | Validation Accuracy: 91.29%\n",
            "Epoch #1267 | Cost: 0.2783 | Accuracy: 90.04% | Validation Cost: 0.2446 | Validation Accuracy: 91.31%\n",
            "Epoch #1268 | Cost: 0.2781 | Accuracy: 90.04% | Validation Cost: 0.2445 | Validation Accuracy: 91.30%\n",
            "Epoch #1269 | Cost: 0.2780 | Accuracy: 90.05% | Validation Cost: 0.2445 | Validation Accuracy: 91.30%\n",
            "Epoch #1270 | Cost: 0.2779 | Accuracy: 90.05% | Validation Cost: 0.2444 | Validation Accuracy: 91.29%\n",
            "Epoch #1271 | Cost: 0.2777 | Accuracy: 90.07% | Validation Cost: 0.2443 | Validation Accuracy: 91.29%\n",
            "Epoch #1272 | Cost: 0.2779 | Accuracy: 90.06% | Validation Cost: 0.2443 | Validation Accuracy: 91.30%\n",
            "Epoch #1273 | Cost: 0.2779 | Accuracy: 90.06% | Validation Cost: 0.2443 | Validation Accuracy: 91.30%\n",
            "Epoch #1274 | Cost: 0.2779 | Accuracy: 90.06% | Validation Cost: 0.2442 | Validation Accuracy: 91.33%\n",
            "Epoch #1275 | Cost: 0.2778 | Accuracy: 90.07% | Validation Cost: 0.2442 | Validation Accuracy: 91.32%\n",
            "Epoch #1276 | Cost: 0.2779 | Accuracy: 90.06% | Validation Cost: 0.2442 | Validation Accuracy: 91.32%\n",
            "Epoch #1277 | Cost: 0.2778 | Accuracy: 90.06% | Validation Cost: 0.2441 | Validation Accuracy: 91.31%\n",
            "Epoch #1278 | Cost: 0.2777 | Accuracy: 90.07% | Validation Cost: 0.2440 | Validation Accuracy: 91.32%\n",
            "Epoch #1279 | Cost: 0.2779 | Accuracy: 90.06% | Validation Cost: 0.2440 | Validation Accuracy: 91.31%\n",
            "Epoch #1280 | Cost: 0.2779 | Accuracy: 90.06% | Validation Cost: 0.2440 | Validation Accuracy: 91.32%\n",
            "Epoch #1281 | Cost: 0.2779 | Accuracy: 90.05% | Validation Cost: 0.2439 | Validation Accuracy: 91.31%\n",
            "Epoch #1282 | Cost: 0.2778 | Accuracy: 90.06% | Validation Cost: 0.2439 | Validation Accuracy: 91.31%\n",
            "Epoch #1283 | Cost: 0.2777 | Accuracy: 90.06% | Validation Cost: 0.2438 | Validation Accuracy: 91.33%\n",
            "Epoch #1284 | Cost: 0.2777 | Accuracy: 90.06% | Validation Cost: 0.2438 | Validation Accuracy: 91.33%\n",
            "Epoch #1285 | Cost: 0.2776 | Accuracy: 90.07% | Validation Cost: 0.2437 | Validation Accuracy: 91.34%\n",
            "Epoch #1286 | Cost: 0.2777 | Accuracy: 90.07% | Validation Cost: 0.2437 | Validation Accuracy: 91.34%\n",
            "Epoch #1287 | Cost: 0.2776 | Accuracy: 90.07% | Validation Cost: 0.2436 | Validation Accuracy: 91.33%\n",
            "Epoch #1288 | Cost: 0.2775 | Accuracy: 90.07% | Validation Cost: 0.2436 | Validation Accuracy: 91.35%\n",
            "Epoch #1289 | Cost: 0.2775 | Accuracy: 90.06% | Validation Cost: 0.2435 | Validation Accuracy: 91.35%\n",
            "Epoch #1290 | Cost: 0.2776 | Accuracy: 90.06% | Validation Cost: 0.2435 | Validation Accuracy: 91.33%\n",
            "Epoch #1291 | Cost: 0.2776 | Accuracy: 90.05% | Validation Cost: 0.2435 | Validation Accuracy: 91.34%\n",
            "Epoch #1292 | Cost: 0.2778 | Accuracy: 90.05% | Validation Cost: 0.2434 | Validation Accuracy: 91.35%\n",
            "Epoch #1293 | Cost: 0.2777 | Accuracy: 90.05% | Validation Cost: 0.2434 | Validation Accuracy: 91.35%\n",
            "Epoch #1294 | Cost: 0.2777 | Accuracy: 90.05% | Validation Cost: 0.2434 | Validation Accuracy: 91.35%\n",
            "Epoch #1295 | Cost: 0.2776 | Accuracy: 90.05% | Validation Cost: 0.2433 | Validation Accuracy: 91.36%\n",
            "Epoch #1296 | Cost: 0.2775 | Accuracy: 90.06% | Validation Cost: 0.2432 | Validation Accuracy: 91.37%\n",
            "Epoch #1297 | Cost: 0.2776 | Accuracy: 90.06% | Validation Cost: 0.2432 | Validation Accuracy: 91.37%\n",
            "Epoch #1298 | Cost: 0.2772 | Accuracy: 90.07% | Validation Cost: 0.2431 | Validation Accuracy: 91.37%\n",
            "Epoch #1299 | Cost: 0.2771 | Accuracy: 90.08% | Validation Cost: 0.2430 | Validation Accuracy: 91.38%\n",
            "Epoch #1300 | Cost: 0.2774 | Accuracy: 90.06% | Validation Cost: 0.2430 | Validation Accuracy: 91.37%\n",
            "Epoch #1301 | Cost: 0.2774 | Accuracy: 90.06% | Validation Cost: 0.2430 | Validation Accuracy: 91.37%\n",
            "Epoch #1302 | Cost: 0.2774 | Accuracy: 90.06% | Validation Cost: 0.2429 | Validation Accuracy: 91.36%\n",
            "Epoch #1303 | Cost: 0.2776 | Accuracy: 90.06% | Validation Cost: 0.2429 | Validation Accuracy: 91.36%\n",
            "Epoch #1304 | Cost: 0.2775 | Accuracy: 90.05% | Validation Cost: 0.2429 | Validation Accuracy: 91.36%\n",
            "Epoch #1305 | Cost: 0.2774 | Accuracy: 90.06% | Validation Cost: 0.2428 | Validation Accuracy: 91.36%\n",
            "Epoch #1306 | Cost: 0.2775 | Accuracy: 90.05% | Validation Cost: 0.2428 | Validation Accuracy: 91.37%\n",
            "Epoch #1307 | Cost: 0.2775 | Accuracy: 90.05% | Validation Cost: 0.2428 | Validation Accuracy: 91.37%\n",
            "Epoch #1308 | Cost: 0.2775 | Accuracy: 90.06% | Validation Cost: 0.2427 | Validation Accuracy: 91.37%\n",
            "Epoch #1309 | Cost: 0.2773 | Accuracy: 90.07% | Validation Cost: 0.2426 | Validation Accuracy: 91.38%\n",
            "Epoch #1310 | Cost: 0.2772 | Accuracy: 90.07% | Validation Cost: 0.2426 | Validation Accuracy: 91.37%\n",
            "Epoch #1311 | Cost: 0.2773 | Accuracy: 90.06% | Validation Cost: 0.2426 | Validation Accuracy: 91.37%\n",
            "Epoch #1312 | Cost: 0.2770 | Accuracy: 90.08% | Validation Cost: 0.2425 | Validation Accuracy: 91.38%\n",
            "Epoch #1313 | Cost: 0.2770 | Accuracy: 90.07% | Validation Cost: 0.2424 | Validation Accuracy: 91.38%\n",
            "Epoch #1314 | Cost: 0.2768 | Accuracy: 90.08% | Validation Cost: 0.2423 | Validation Accuracy: 91.39%\n",
            "Epoch #1315 | Cost: 0.2768 | Accuracy: 90.08% | Validation Cost: 0.2423 | Validation Accuracy: 91.39%\n",
            "Epoch #1316 | Cost: 0.2769 | Accuracy: 90.08% | Validation Cost: 0.2423 | Validation Accuracy: 91.38%\n",
            "Epoch #1317 | Cost: 0.2769 | Accuracy: 90.08% | Validation Cost: 0.2422 | Validation Accuracy: 91.39%\n",
            "Epoch #1318 | Cost: 0.2770 | Accuracy: 90.07% | Validation Cost: 0.2422 | Validation Accuracy: 91.39%\n",
            "Epoch #1319 | Cost: 0.2769 | Accuracy: 90.08% | Validation Cost: 0.2421 | Validation Accuracy: 91.40%\n",
            "Epoch #1320 | Cost: 0.2767 | Accuracy: 90.09% | Validation Cost: 0.2421 | Validation Accuracy: 91.41%\n",
            "Epoch #1321 | Cost: 0.2766 | Accuracy: 90.09% | Validation Cost: 0.2420 | Validation Accuracy: 91.40%\n",
            "Epoch #1322 | Cost: 0.2767 | Accuracy: 90.08% | Validation Cost: 0.2420 | Validation Accuracy: 91.41%\n",
            "Epoch #1323 | Cost: 0.2767 | Accuracy: 90.09% | Validation Cost: 0.2419 | Validation Accuracy: 91.40%\n",
            "Epoch #1324 | Cost: 0.2768 | Accuracy: 90.08% | Validation Cost: 0.2419 | Validation Accuracy: 91.39%\n",
            "Epoch #1325 | Cost: 0.2768 | Accuracy: 90.08% | Validation Cost: 0.2419 | Validation Accuracy: 91.40%\n",
            "Epoch #1326 | Cost: 0.2767 | Accuracy: 90.08% | Validation Cost: 0.2419 | Validation Accuracy: 91.40%\n",
            "Epoch #1327 | Cost: 0.2767 | Accuracy: 90.07% | Validation Cost: 0.2418 | Validation Accuracy: 91.40%\n",
            "Epoch #1328 | Cost: 0.2768 | Accuracy: 90.07% | Validation Cost: 0.2418 | Validation Accuracy: 91.40%\n",
            "Epoch #1329 | Cost: 0.2769 | Accuracy: 90.07% | Validation Cost: 0.2417 | Validation Accuracy: 91.41%\n",
            "Epoch #1330 | Cost: 0.2768 | Accuracy: 90.08% | Validation Cost: 0.2417 | Validation Accuracy: 91.41%\n",
            "Epoch #1331 | Cost: 0.2769 | Accuracy: 90.07% | Validation Cost: 0.2417 | Validation Accuracy: 91.40%\n",
            "Epoch #1332 | Cost: 0.2770 | Accuracy: 90.06% | Validation Cost: 0.2417 | Validation Accuracy: 91.40%\n",
            "Epoch #1333 | Cost: 0.2770 | Accuracy: 90.06% | Validation Cost: 0.2416 | Validation Accuracy: 91.40%\n",
            "Epoch #1334 | Cost: 0.2770 | Accuracy: 90.06% | Validation Cost: 0.2416 | Validation Accuracy: 91.41%\n",
            "Epoch #1335 | Cost: 0.2770 | Accuracy: 90.07% | Validation Cost: 0.2416 | Validation Accuracy: 91.42%\n",
            "Epoch #1336 | Cost: 0.2771 | Accuracy: 90.06% | Validation Cost: 0.2415 | Validation Accuracy: 91.41%\n",
            "Epoch #1337 | Cost: 0.2770 | Accuracy: 90.06% | Validation Cost: 0.2415 | Validation Accuracy: 91.42%\n",
            "Epoch #1338 | Cost: 0.2767 | Accuracy: 90.08% | Validation Cost: 0.2414 | Validation Accuracy: 91.43%\n",
            "Epoch #1339 | Cost: 0.2768 | Accuracy: 90.08% | Validation Cost: 0.2413 | Validation Accuracy: 91.42%\n",
            "Epoch #1340 | Cost: 0.2767 | Accuracy: 90.08% | Validation Cost: 0.2413 | Validation Accuracy: 91.42%\n",
            "Epoch #1341 | Cost: 0.2768 | Accuracy: 90.08% | Validation Cost: 0.2413 | Validation Accuracy: 91.43%\n",
            "Epoch #1342 | Cost: 0.2768 | Accuracy: 90.08% | Validation Cost: 0.2412 | Validation Accuracy: 91.42%\n",
            "Epoch #1343 | Cost: 0.2769 | Accuracy: 90.06% | Validation Cost: 0.2412 | Validation Accuracy: 91.41%\n",
            "Epoch #1344 | Cost: 0.2768 | Accuracy: 90.07% | Validation Cost: 0.2411 | Validation Accuracy: 91.43%\n",
            "Epoch #1345 | Cost: 0.2769 | Accuracy: 90.07% | Validation Cost: 0.2411 | Validation Accuracy: 91.43%\n",
            "Epoch #1346 | Cost: 0.2767 | Accuracy: 90.07% | Validation Cost: 0.2410 | Validation Accuracy: 91.41%\n",
            "Epoch #1347 | Cost: 0.2765 | Accuracy: 90.08% | Validation Cost: 0.2410 | Validation Accuracy: 91.43%\n",
            "Epoch #1348 | Cost: 0.2766 | Accuracy: 90.07% | Validation Cost: 0.2409 | Validation Accuracy: 91.44%\n",
            "Epoch #1349 | Cost: 0.2766 | Accuracy: 90.07% | Validation Cost: 0.2409 | Validation Accuracy: 91.43%\n",
            "Epoch #1350 | Cost: 0.2766 | Accuracy: 90.07% | Validation Cost: 0.2408 | Validation Accuracy: 91.45%\n",
            "Epoch #1351 | Cost: 0.2766 | Accuracy: 90.07% | Validation Cost: 0.2408 | Validation Accuracy: 91.44%\n",
            "Epoch #1352 | Cost: 0.2764 | Accuracy: 90.08% | Validation Cost: 0.2407 | Validation Accuracy: 91.43%\n",
            "Epoch #1353 | Cost: 0.2765 | Accuracy: 90.08% | Validation Cost: 0.2407 | Validation Accuracy: 91.44%\n",
            "Epoch #1354 | Cost: 0.2765 | Accuracy: 90.08% | Validation Cost: 0.2407 | Validation Accuracy: 91.44%\n",
            "Epoch #1355 | Cost: 0.2765 | Accuracy: 90.08% | Validation Cost: 0.2406 | Validation Accuracy: 91.44%\n",
            "Epoch #1356 | Cost: 0.2765 | Accuracy: 90.07% | Validation Cost: 0.2406 | Validation Accuracy: 91.45%\n",
            "Epoch #1357 | Cost: 0.2768 | Accuracy: 90.06% | Validation Cost: 0.2406 | Validation Accuracy: 91.46%\n",
            "Epoch #1358 | Cost: 0.2768 | Accuracy: 90.06% | Validation Cost: 0.2406 | Validation Accuracy: 91.45%\n",
            "Epoch #1359 | Cost: 0.2768 | Accuracy: 90.06% | Validation Cost: 0.2405 | Validation Accuracy: 91.46%\n",
            "Epoch #1360 | Cost: 0.2768 | Accuracy: 90.06% | Validation Cost: 0.2405 | Validation Accuracy: 91.46%\n",
            "Epoch #1361 | Cost: 0.2767 | Accuracy: 90.06% | Validation Cost: 0.2405 | Validation Accuracy: 91.46%\n",
            "Epoch #1362 | Cost: 0.2767 | Accuracy: 90.06% | Validation Cost: 0.2404 | Validation Accuracy: 91.45%\n",
            "Epoch #1363 | Cost: 0.2770 | Accuracy: 90.06% | Validation Cost: 0.2404 | Validation Accuracy: 91.45%\n",
            "Epoch #1364 | Cost: 0.2768 | Accuracy: 90.06% | Validation Cost: 0.2403 | Validation Accuracy: 91.47%\n",
            "Epoch #1365 | Cost: 0.2768 | Accuracy: 90.06% | Validation Cost: 0.2403 | Validation Accuracy: 91.45%\n",
            "Epoch #1366 | Cost: 0.2767 | Accuracy: 90.06% | Validation Cost: 0.2402 | Validation Accuracy: 91.47%\n",
            "Epoch #1367 | Cost: 0.2766 | Accuracy: 90.06% | Validation Cost: 0.2402 | Validation Accuracy: 91.46%\n",
            "Epoch #1368 | Cost: 0.2767 | Accuracy: 90.06% | Validation Cost: 0.2401 | Validation Accuracy: 91.46%\n",
            "Epoch #1369 | Cost: 0.2765 | Accuracy: 90.07% | Validation Cost: 0.2401 | Validation Accuracy: 91.47%\n",
            "Epoch #1370 | Cost: 0.2764 | Accuracy: 90.07% | Validation Cost: 0.2400 | Validation Accuracy: 91.47%\n",
            "Epoch #1371 | Cost: 0.2764 | Accuracy: 90.08% | Validation Cost: 0.2399 | Validation Accuracy: 91.47%\n",
            "Epoch #1372 | Cost: 0.2764 | Accuracy: 90.08% | Validation Cost: 0.2399 | Validation Accuracy: 91.47%\n",
            "Epoch #1373 | Cost: 0.2766 | Accuracy: 90.07% | Validation Cost: 0.2399 | Validation Accuracy: 91.46%\n",
            "Epoch #1374 | Cost: 0.2766 | Accuracy: 90.07% | Validation Cost: 0.2399 | Validation Accuracy: 91.46%\n",
            "Epoch #1375 | Cost: 0.2765 | Accuracy: 90.07% | Validation Cost: 0.2399 | Validation Accuracy: 91.47%\n",
            "Epoch #1376 | Cost: 0.2764 | Accuracy: 90.07% | Validation Cost: 0.2398 | Validation Accuracy: 91.47%\n",
            "Epoch #1377 | Cost: 0.2764 | Accuracy: 90.07% | Validation Cost: 0.2398 | Validation Accuracy: 91.47%\n",
            "Epoch #1378 | Cost: 0.2764 | Accuracy: 90.07% | Validation Cost: 0.2397 | Validation Accuracy: 91.48%\n",
            "Epoch #1379 | Cost: 0.2763 | Accuracy: 90.08% | Validation Cost: 0.2397 | Validation Accuracy: 91.47%\n",
            "Epoch #1380 | Cost: 0.2763 | Accuracy: 90.07% | Validation Cost: 0.2396 | Validation Accuracy: 91.48%\n",
            "Epoch #1381 | Cost: 0.2762 | Accuracy: 90.07% | Validation Cost: 0.2396 | Validation Accuracy: 91.48%\n",
            "Epoch #1382 | Cost: 0.2762 | Accuracy: 90.08% | Validation Cost: 0.2395 | Validation Accuracy: 91.49%\n",
            "Epoch #1383 | Cost: 0.2762 | Accuracy: 90.07% | Validation Cost: 0.2395 | Validation Accuracy: 91.50%\n",
            "Epoch #1384 | Cost: 0.2763 | Accuracy: 90.07% | Validation Cost: 0.2395 | Validation Accuracy: 91.50%\n",
            "Epoch #1385 | Cost: 0.2763 | Accuracy: 90.07% | Validation Cost: 0.2395 | Validation Accuracy: 91.50%\n",
            "Epoch #1386 | Cost: 0.2768 | Accuracy: 90.06% | Validation Cost: 0.2395 | Validation Accuracy: 91.48%\n",
            "Epoch #1387 | Cost: 0.2765 | Accuracy: 90.07% | Validation Cost: 0.2394 | Validation Accuracy: 91.49%\n",
            "Epoch #1388 | Cost: 0.2764 | Accuracy: 90.07% | Validation Cost: 0.2393 | Validation Accuracy: 91.49%\n",
            "Epoch #1389 | Cost: 0.2765 | Accuracy: 90.06% | Validation Cost: 0.2393 | Validation Accuracy: 91.48%\n",
            "Epoch #1390 | Cost: 0.2766 | Accuracy: 90.06% | Validation Cost: 0.2393 | Validation Accuracy: 91.48%\n",
            "Epoch #1391 | Cost: 0.2765 | Accuracy: 90.07% | Validation Cost: 0.2393 | Validation Accuracy: 91.49%\n",
            "Epoch #1392 | Cost: 0.2766 | Accuracy: 90.07% | Validation Cost: 0.2392 | Validation Accuracy: 91.47%\n",
            "Epoch #1393 | Cost: 0.2761 | Accuracy: 90.08% | Validation Cost: 0.2391 | Validation Accuracy: 91.49%\n",
            "Epoch #1394 | Cost: 0.2759 | Accuracy: 90.08% | Validation Cost: 0.2390 | Validation Accuracy: 91.50%\n",
            "Epoch #1395 | Cost: 0.2759 | Accuracy: 90.09% | Validation Cost: 0.2390 | Validation Accuracy: 91.50%\n",
            "Epoch #1396 | Cost: 0.2759 | Accuracy: 90.09% | Validation Cost: 0.2390 | Validation Accuracy: 91.50%\n",
            "Epoch #1397 | Cost: 0.2759 | Accuracy: 90.09% | Validation Cost: 0.2390 | Validation Accuracy: 91.50%\n",
            "Epoch #1398 | Cost: 0.2761 | Accuracy: 90.08% | Validation Cost: 0.2390 | Validation Accuracy: 91.49%\n",
            "Epoch #1399 | Cost: 0.2764 | Accuracy: 90.07% | Validation Cost: 0.2390 | Validation Accuracy: 91.50%\n",
            "Epoch #1400 | Cost: 0.2761 | Accuracy: 90.08% | Validation Cost: 0.2389 | Validation Accuracy: 91.50%\n",
            "Epoch #1401 | Cost: 0.2760 | Accuracy: 90.09% | Validation Cost: 0.2389 | Validation Accuracy: 91.50%\n",
            "Epoch #1402 | Cost: 0.2759 | Accuracy: 90.09% | Validation Cost: 0.2388 | Validation Accuracy: 91.51%\n",
            "Epoch #1403 | Cost: 0.2757 | Accuracy: 90.10% | Validation Cost: 0.2388 | Validation Accuracy: 91.51%\n",
            "Epoch #1404 | Cost: 0.2758 | Accuracy: 90.10% | Validation Cost: 0.2387 | Validation Accuracy: 91.51%\n",
            "Epoch #1405 | Cost: 0.2758 | Accuracy: 90.09% | Validation Cost: 0.2387 | Validation Accuracy: 91.51%\n",
            "Epoch #1406 | Cost: 0.2759 | Accuracy: 90.09% | Validation Cost: 0.2387 | Validation Accuracy: 91.50%\n",
            "Epoch #1407 | Cost: 0.2756 | Accuracy: 90.11% | Validation Cost: 0.2386 | Validation Accuracy: 91.51%\n",
            "Epoch #1408 | Cost: 0.2756 | Accuracy: 90.11% | Validation Cost: 0.2386 | Validation Accuracy: 91.50%\n",
            "Epoch #1409 | Cost: 0.2756 | Accuracy: 90.11% | Validation Cost: 0.2386 | Validation Accuracy: 91.51%\n",
            "Epoch #1410 | Cost: 0.2757 | Accuracy: 90.10% | Validation Cost: 0.2386 | Validation Accuracy: 91.50%\n",
            "Epoch #1411 | Cost: 0.2759 | Accuracy: 90.09% | Validation Cost: 0.2386 | Validation Accuracy: 91.50%\n",
            "Epoch #1412 | Cost: 0.2755 | Accuracy: 90.11% | Validation Cost: 0.2385 | Validation Accuracy: 91.51%\n",
            "Epoch #1413 | Cost: 0.2753 | Accuracy: 90.12% | Validation Cost: 0.2384 | Validation Accuracy: 91.51%\n",
            "Epoch #1414 | Cost: 0.2753 | Accuracy: 90.12% | Validation Cost: 0.2383 | Validation Accuracy: 91.51%\n",
            "Epoch #1415 | Cost: 0.2753 | Accuracy: 90.12% | Validation Cost: 0.2383 | Validation Accuracy: 91.51%\n",
            "Epoch #1416 | Cost: 0.2754 | Accuracy: 90.12% | Validation Cost: 0.2383 | Validation Accuracy: 91.51%\n",
            "Epoch #1417 | Cost: 0.2754 | Accuracy: 90.12% | Validation Cost: 0.2382 | Validation Accuracy: 91.52%\n",
            "Epoch #1418 | Cost: 0.2755 | Accuracy: 90.11% | Validation Cost: 0.2383 | Validation Accuracy: 91.51%\n",
            "Epoch #1419 | Cost: 0.2752 | Accuracy: 90.13% | Validation Cost: 0.2381 | Validation Accuracy: 91.52%\n",
            "Epoch #1420 | Cost: 0.2754 | Accuracy: 90.12% | Validation Cost: 0.2382 | Validation Accuracy: 91.51%\n",
            "Epoch #1421 | Cost: 0.2752 | Accuracy: 90.13% | Validation Cost: 0.2381 | Validation Accuracy: 91.53%\n",
            "Epoch #1422 | Cost: 0.2750 | Accuracy: 90.13% | Validation Cost: 0.2380 | Validation Accuracy: 91.52%\n",
            "Epoch #1423 | Cost: 0.2751 | Accuracy: 90.13% | Validation Cost: 0.2380 | Validation Accuracy: 91.53%\n",
            "Epoch #1424 | Cost: 0.2753 | Accuracy: 90.12% | Validation Cost: 0.2380 | Validation Accuracy: 91.52%\n",
            "Epoch #1425 | Cost: 0.2753 | Accuracy: 90.12% | Validation Cost: 0.2380 | Validation Accuracy: 91.53%\n",
            "Epoch #1426 | Cost: 0.2752 | Accuracy: 90.12% | Validation Cost: 0.2380 | Validation Accuracy: 91.54%\n",
            "Epoch #1427 | Cost: 0.2753 | Accuracy: 90.12% | Validation Cost: 0.2379 | Validation Accuracy: 91.55%\n",
            "Epoch #1428 | Cost: 0.2752 | Accuracy: 90.12% | Validation Cost: 0.2379 | Validation Accuracy: 91.54%\n",
            "Epoch #1429 | Cost: 0.2752 | Accuracy: 90.12% | Validation Cost: 0.2379 | Validation Accuracy: 91.55%\n",
            "Epoch #1430 | Cost: 0.2752 | Accuracy: 90.13% | Validation Cost: 0.2378 | Validation Accuracy: 91.57%\n",
            "Epoch #1431 | Cost: 0.2751 | Accuracy: 90.13% | Validation Cost: 0.2378 | Validation Accuracy: 91.55%\n",
            "Epoch #1432 | Cost: 0.2754 | Accuracy: 90.12% | Validation Cost: 0.2378 | Validation Accuracy: 91.55%\n",
            "Epoch #1433 | Cost: 0.2753 | Accuracy: 90.11% | Validation Cost: 0.2378 | Validation Accuracy: 91.55%\n",
            "Epoch #1434 | Cost: 0.2753 | Accuracy: 90.12% | Validation Cost: 0.2377 | Validation Accuracy: 91.55%\n",
            "Epoch #1435 | Cost: 0.2752 | Accuracy: 90.13% | Validation Cost: 0.2377 | Validation Accuracy: 91.56%\n",
            "Epoch #1436 | Cost: 0.2752 | Accuracy: 90.13% | Validation Cost: 0.2377 | Validation Accuracy: 91.56%\n",
            "Epoch #1437 | Cost: 0.2755 | Accuracy: 90.11% | Validation Cost: 0.2377 | Validation Accuracy: 91.57%\n",
            "Epoch #1438 | Cost: 0.2755 | Accuracy: 90.11% | Validation Cost: 0.2377 | Validation Accuracy: 91.57%\n",
            "Epoch #1439 | Cost: 0.2754 | Accuracy: 90.12% | Validation Cost: 0.2376 | Validation Accuracy: 91.56%\n",
            "Epoch #1440 | Cost: 0.2752 | Accuracy: 90.12% | Validation Cost: 0.2375 | Validation Accuracy: 91.56%\n",
            "Epoch #1441 | Cost: 0.2750 | Accuracy: 90.12% | Validation Cost: 0.2375 | Validation Accuracy: 91.58%\n",
            "Epoch #1442 | Cost: 0.2749 | Accuracy: 90.13% | Validation Cost: 0.2374 | Validation Accuracy: 91.57%\n",
            "Epoch #1443 | Cost: 0.2748 | Accuracy: 90.14% | Validation Cost: 0.2373 | Validation Accuracy: 91.58%\n",
            "Epoch #1444 | Cost: 0.2748 | Accuracy: 90.14% | Validation Cost: 0.2373 | Validation Accuracy: 91.58%\n",
            "Epoch #1445 | Cost: 0.2748 | Accuracy: 90.14% | Validation Cost: 0.2373 | Validation Accuracy: 91.57%\n",
            "Epoch #1446 | Cost: 0.2748 | Accuracy: 90.14% | Validation Cost: 0.2373 | Validation Accuracy: 91.58%\n",
            "Epoch #1447 | Cost: 0.2748 | Accuracy: 90.14% | Validation Cost: 0.2372 | Validation Accuracy: 91.59%\n",
            "Epoch #1448 | Cost: 0.2749 | Accuracy: 90.14% | Validation Cost: 0.2372 | Validation Accuracy: 91.57%\n",
            "Epoch #1449 | Cost: 0.2750 | Accuracy: 90.13% | Validation Cost: 0.2372 | Validation Accuracy: 91.57%\n",
            "Epoch #1450 | Cost: 0.2749 | Accuracy: 90.13% | Validation Cost: 0.2371 | Validation Accuracy: 91.58%\n",
            "Epoch #1451 | Cost: 0.2748 | Accuracy: 90.15% | Validation Cost: 0.2371 | Validation Accuracy: 91.58%\n",
            "Epoch #1452 | Cost: 0.2746 | Accuracy: 90.15% | Validation Cost: 0.2370 | Validation Accuracy: 91.59%\n",
            "Epoch #1453 | Cost: 0.2746 | Accuracy: 90.15% | Validation Cost: 0.2370 | Validation Accuracy: 91.60%\n",
            "Epoch #1454 | Cost: 0.2745 | Accuracy: 90.16% | Validation Cost: 0.2369 | Validation Accuracy: 91.59%\n",
            "Epoch #1455 | Cost: 0.2746 | Accuracy: 90.15% | Validation Cost: 0.2369 | Validation Accuracy: 91.59%\n",
            "Epoch #1456 | Cost: 0.2747 | Accuracy: 90.15% | Validation Cost: 0.2369 | Validation Accuracy: 91.60%\n",
            "Epoch #1457 | Cost: 0.2747 | Accuracy: 90.14% | Validation Cost: 0.2369 | Validation Accuracy: 91.61%\n",
            "Epoch #1458 | Cost: 0.2744 | Accuracy: 90.16% | Validation Cost: 0.2368 | Validation Accuracy: 91.61%\n",
            "Epoch #1459 | Cost: 0.2744 | Accuracy: 90.16% | Validation Cost: 0.2368 | Validation Accuracy: 91.62%\n",
            "Epoch #1460 | Cost: 0.2746 | Accuracy: 90.16% | Validation Cost: 0.2368 | Validation Accuracy: 91.62%\n",
            "Epoch #1461 | Cost: 0.2746 | Accuracy: 90.16% | Validation Cost: 0.2368 | Validation Accuracy: 91.62%\n",
            "Epoch #1462 | Cost: 0.2744 | Accuracy: 90.16% | Validation Cost: 0.2367 | Validation Accuracy: 91.63%\n",
            "Epoch #1463 | Cost: 0.2742 | Accuracy: 90.18% | Validation Cost: 0.2366 | Validation Accuracy: 91.63%\n",
            "Epoch #1464 | Cost: 0.2742 | Accuracy: 90.17% | Validation Cost: 0.2366 | Validation Accuracy: 91.62%\n",
            "Epoch #1465 | Cost: 0.2741 | Accuracy: 90.18% | Validation Cost: 0.2365 | Validation Accuracy: 91.63%\n",
            "Epoch #1466 | Cost: 0.2739 | Accuracy: 90.19% | Validation Cost: 0.2365 | Validation Accuracy: 91.63%\n",
            "Epoch #1467 | Cost: 0.2737 | Accuracy: 90.20% | Validation Cost: 0.2364 | Validation Accuracy: 91.64%\n",
            "Epoch #1468 | Cost: 0.2735 | Accuracy: 90.20% | Validation Cost: 0.2363 | Validation Accuracy: 91.63%\n",
            "Epoch #1469 | Cost: 0.2736 | Accuracy: 90.20% | Validation Cost: 0.2363 | Validation Accuracy: 91.64%\n",
            "Epoch #1470 | Cost: 0.2738 | Accuracy: 90.19% | Validation Cost: 0.2363 | Validation Accuracy: 91.65%\n",
            "Epoch #1471 | Cost: 0.2740 | Accuracy: 90.18% | Validation Cost: 0.2363 | Validation Accuracy: 91.66%\n",
            "Epoch #1472 | Cost: 0.2739 | Accuracy: 90.19% | Validation Cost: 0.2362 | Validation Accuracy: 91.66%\n",
            "Epoch #1473 | Cost: 0.2740 | Accuracy: 90.18% | Validation Cost: 0.2362 | Validation Accuracy: 91.65%\n",
            "Epoch #1474 | Cost: 0.2739 | Accuracy: 90.19% | Validation Cost: 0.2362 | Validation Accuracy: 91.65%\n",
            "Epoch #1475 | Cost: 0.2740 | Accuracy: 90.18% | Validation Cost: 0.2362 | Validation Accuracy: 91.65%\n",
            "Epoch #1476 | Cost: 0.2738 | Accuracy: 90.18% | Validation Cost: 0.2361 | Validation Accuracy: 91.66%\n",
            "Epoch #1477 | Cost: 0.2739 | Accuracy: 90.18% | Validation Cost: 0.2361 | Validation Accuracy: 91.66%\n",
            "Epoch #1478 | Cost: 0.2740 | Accuracy: 90.18% | Validation Cost: 0.2361 | Validation Accuracy: 91.66%\n",
            "Epoch #1479 | Cost: 0.2740 | Accuracy: 90.18% | Validation Cost: 0.2361 | Validation Accuracy: 91.66%\n",
            "Epoch #1480 | Cost: 0.2742 | Accuracy: 90.18% | Validation Cost: 0.2361 | Validation Accuracy: 91.66%\n",
            "Epoch #1481 | Cost: 0.2742 | Accuracy: 90.17% | Validation Cost: 0.2361 | Validation Accuracy: 91.67%\n",
            "Epoch #1482 | Cost: 0.2744 | Accuracy: 90.16% | Validation Cost: 0.2361 | Validation Accuracy: 91.67%\n",
            "Epoch #1483 | Cost: 0.2744 | Accuracy: 90.16% | Validation Cost: 0.2361 | Validation Accuracy: 91.67%\n",
            "Epoch #1484 | Cost: 0.2742 | Accuracy: 90.17% | Validation Cost: 0.2360 | Validation Accuracy: 91.67%\n",
            "Epoch #1485 | Cost: 0.2741 | Accuracy: 90.18% | Validation Cost: 0.2360 | Validation Accuracy: 91.66%\n",
            "Epoch #1486 | Cost: 0.2740 | Accuracy: 90.19% | Validation Cost: 0.2359 | Validation Accuracy: 91.67%\n",
            "Epoch #1487 | Cost: 0.2739 | Accuracy: 90.18% | Validation Cost: 0.2359 | Validation Accuracy: 91.66%\n",
            "Epoch #1488 | Cost: 0.2739 | Accuracy: 90.19% | Validation Cost: 0.2358 | Validation Accuracy: 91.67%\n",
            "Epoch #1489 | Cost: 0.2741 | Accuracy: 90.18% | Validation Cost: 0.2359 | Validation Accuracy: 91.69%\n",
            "Epoch #1490 | Cost: 0.2739 | Accuracy: 90.19% | Validation Cost: 0.2358 | Validation Accuracy: 91.67%\n",
            "Epoch #1491 | Cost: 0.2738 | Accuracy: 90.19% | Validation Cost: 0.2358 | Validation Accuracy: 91.67%\n",
            "Epoch #1492 | Cost: 0.2738 | Accuracy: 90.19% | Validation Cost: 0.2357 | Validation Accuracy: 91.67%\n",
            "Epoch #1493 | Cost: 0.2736 | Accuracy: 90.20% | Validation Cost: 0.2356 | Validation Accuracy: 91.68%\n",
            "Epoch #1494 | Cost: 0.2738 | Accuracy: 90.19% | Validation Cost: 0.2357 | Validation Accuracy: 91.66%\n",
            "Epoch #1495 | Cost: 0.2738 | Accuracy: 90.19% | Validation Cost: 0.2356 | Validation Accuracy: 91.68%\n",
            "Epoch #1496 | Cost: 0.2737 | Accuracy: 90.19% | Validation Cost: 0.2356 | Validation Accuracy: 91.68%\n",
            "Epoch #1497 | Cost: 0.2738 | Accuracy: 90.19% | Validation Cost: 0.2356 | Validation Accuracy: 91.67%\n",
            "Epoch #1498 | Cost: 0.2736 | Accuracy: 90.20% | Validation Cost: 0.2355 | Validation Accuracy: 91.68%\n",
            "Epoch #1499 | Cost: 0.2734 | Accuracy: 90.20% | Validation Cost: 0.2354 | Validation Accuracy: 91.68%\n",
            "Epoch #1500 | Cost: 0.2736 | Accuracy: 90.20% | Validation Cost: 0.2354 | Validation Accuracy: 91.67%\n",
            "Epoch #1501 | Cost: 0.2735 | Accuracy: 90.20% | Validation Cost: 0.2354 | Validation Accuracy: 91.68%\n",
            "Epoch #1502 | Cost: 0.2737 | Accuracy: 90.19% | Validation Cost: 0.2354 | Validation Accuracy: 91.67%\n",
            "Epoch #1503 | Cost: 0.2736 | Accuracy: 90.20% | Validation Cost: 0.2354 | Validation Accuracy: 91.68%\n",
            "Epoch #1504 | Cost: 0.2736 | Accuracy: 90.19% | Validation Cost: 0.2354 | Validation Accuracy: 91.67%\n",
            "Epoch #1505 | Cost: 0.2735 | Accuracy: 90.19% | Validation Cost: 0.2353 | Validation Accuracy: 91.68%\n",
            "Epoch #1506 | Cost: 0.2737 | Accuracy: 90.19% | Validation Cost: 0.2353 | Validation Accuracy: 91.67%\n",
            "Epoch #1507 | Cost: 0.2737 | Accuracy: 90.19% | Validation Cost: 0.2353 | Validation Accuracy: 91.67%\n",
            "Epoch #1508 | Cost: 0.2735 | Accuracy: 90.19% | Validation Cost: 0.2353 | Validation Accuracy: 91.68%\n",
            "Epoch #1509 | Cost: 0.2735 | Accuracy: 90.20% | Validation Cost: 0.2352 | Validation Accuracy: 91.67%\n",
            "Epoch #1510 | Cost: 0.2736 | Accuracy: 90.19% | Validation Cost: 0.2352 | Validation Accuracy: 91.66%\n",
            "Epoch #1511 | Cost: 0.2737 | Accuracy: 90.19% | Validation Cost: 0.2352 | Validation Accuracy: 91.66%\n",
            "Epoch #1512 | Cost: 0.2735 | Accuracy: 90.20% | Validation Cost: 0.2351 | Validation Accuracy: 91.66%\n",
            "Epoch #1513 | Cost: 0.2735 | Accuracy: 90.20% | Validation Cost: 0.2351 | Validation Accuracy: 91.66%\n",
            "Epoch #1514 | Cost: 0.2736 | Accuracy: 90.19% | Validation Cost: 0.2351 | Validation Accuracy: 91.66%\n",
            "Epoch #1515 | Cost: 0.2736 | Accuracy: 90.20% | Validation Cost: 0.2351 | Validation Accuracy: 91.66%\n",
            "Epoch #1516 | Cost: 0.2732 | Accuracy: 90.21% | Validation Cost: 0.2350 | Validation Accuracy: 91.66%\n",
            "Epoch #1517 | Cost: 0.2732 | Accuracy: 90.21% | Validation Cost: 0.2350 | Validation Accuracy: 91.66%\n",
            "Epoch #1518 | Cost: 0.2730 | Accuracy: 90.21% | Validation Cost: 0.2349 | Validation Accuracy: 91.67%\n",
            "Epoch #1519 | Cost: 0.2733 | Accuracy: 90.21% | Validation Cost: 0.2350 | Validation Accuracy: 91.68%\n",
            "Epoch #1520 | Cost: 0.2733 | Accuracy: 90.21% | Validation Cost: 0.2349 | Validation Accuracy: 91.68%\n",
            "Epoch #1521 | Cost: 0.2732 | Accuracy: 90.22% | Validation Cost: 0.2349 | Validation Accuracy: 91.68%\n",
            "Epoch #1522 | Cost: 0.2732 | Accuracy: 90.21% | Validation Cost: 0.2348 | Validation Accuracy: 91.68%\n",
            "Epoch #1523 | Cost: 0.2731 | Accuracy: 90.22% | Validation Cost: 0.2348 | Validation Accuracy: 91.68%\n",
            "Epoch #1524 | Cost: 0.2730 | Accuracy: 90.21% | Validation Cost: 0.2347 | Validation Accuracy: 91.68%\n",
            "Epoch #1525 | Cost: 0.2729 | Accuracy: 90.22% | Validation Cost: 0.2347 | Validation Accuracy: 91.69%\n",
            "Epoch #1526 | Cost: 0.2732 | Accuracy: 90.21% | Validation Cost: 0.2347 | Validation Accuracy: 91.68%\n",
            "Epoch #1527 | Cost: 0.2730 | Accuracy: 90.22% | Validation Cost: 0.2347 | Validation Accuracy: 91.68%\n",
            "Epoch #1528 | Cost: 0.2731 | Accuracy: 90.21% | Validation Cost: 0.2347 | Validation Accuracy: 91.69%\n",
            "Epoch #1529 | Cost: 0.2731 | Accuracy: 90.21% | Validation Cost: 0.2347 | Validation Accuracy: 91.70%\n",
            "Epoch #1530 | Cost: 0.2731 | Accuracy: 90.21% | Validation Cost: 0.2346 | Validation Accuracy: 91.70%\n",
            "Epoch #1531 | Cost: 0.2728 | Accuracy: 90.23% | Validation Cost: 0.2345 | Validation Accuracy: 91.70%\n",
            "Epoch #1532 | Cost: 0.2728 | Accuracy: 90.22% | Validation Cost: 0.2345 | Validation Accuracy: 91.71%\n",
            "Epoch #1533 | Cost: 0.2727 | Accuracy: 90.23% | Validation Cost: 0.2344 | Validation Accuracy: 91.71%\n",
            "Epoch #1534 | Cost: 0.2728 | Accuracy: 90.23% | Validation Cost: 0.2344 | Validation Accuracy: 91.71%\n",
            "Epoch #1535 | Cost: 0.2727 | Accuracy: 90.24% | Validation Cost: 0.2344 | Validation Accuracy: 91.71%\n",
            "Epoch #1536 | Cost: 0.2726 | Accuracy: 90.23% | Validation Cost: 0.2343 | Validation Accuracy: 91.71%\n",
            "Epoch #1537 | Cost: 0.2727 | Accuracy: 90.23% | Validation Cost: 0.2343 | Validation Accuracy: 91.71%\n",
            "Epoch #1538 | Cost: 0.2726 | Accuracy: 90.24% | Validation Cost: 0.2343 | Validation Accuracy: 91.71%\n",
            "Epoch #1539 | Cost: 0.2725 | Accuracy: 90.24% | Validation Cost: 0.2342 | Validation Accuracy: 91.71%\n",
            "Epoch #1540 | Cost: 0.2724 | Accuracy: 90.25% | Validation Cost: 0.2342 | Validation Accuracy: 91.71%\n",
            "Epoch #1541 | Cost: 0.2723 | Accuracy: 90.25% | Validation Cost: 0.2341 | Validation Accuracy: 91.71%\n",
            "Epoch #1542 | Cost: 0.2726 | Accuracy: 90.23% | Validation Cost: 0.2342 | Validation Accuracy: 91.70%\n",
            "Epoch #1543 | Cost: 0.2720 | Accuracy: 90.26% | Validation Cost: 0.2340 | Validation Accuracy: 91.70%\n",
            "Epoch #1544 | Cost: 0.2719 | Accuracy: 90.25% | Validation Cost: 0.2340 | Validation Accuracy: 91.70%\n",
            "Epoch #1545 | Cost: 0.2721 | Accuracy: 90.25% | Validation Cost: 0.2340 | Validation Accuracy: 91.70%\n",
            "Epoch #1546 | Cost: 0.2720 | Accuracy: 90.26% | Validation Cost: 0.2340 | Validation Accuracy: 91.70%\n",
            "Epoch #1547 | Cost: 0.2721 | Accuracy: 90.25% | Validation Cost: 0.2340 | Validation Accuracy: 91.70%\n",
            "Epoch #1548 | Cost: 0.2721 | Accuracy: 90.25% | Validation Cost: 0.2339 | Validation Accuracy: 91.70%\n",
            "Epoch #1549 | Cost: 0.2721 | Accuracy: 90.25% | Validation Cost: 0.2339 | Validation Accuracy: 91.71%\n",
            "Epoch #1550 | Cost: 0.2721 | Accuracy: 90.24% | Validation Cost: 0.2339 | Validation Accuracy: 91.71%\n",
            "Epoch #1551 | Cost: 0.2723 | Accuracy: 90.25% | Validation Cost: 0.2339 | Validation Accuracy: 91.70%\n",
            "Epoch #1552 | Cost: 0.2721 | Accuracy: 90.25% | Validation Cost: 0.2338 | Validation Accuracy: 91.70%\n",
            "Epoch #1553 | Cost: 0.2721 | Accuracy: 90.25% | Validation Cost: 0.2338 | Validation Accuracy: 91.70%\n",
            "Epoch #1554 | Cost: 0.2722 | Accuracy: 90.25% | Validation Cost: 0.2338 | Validation Accuracy: 91.70%\n",
            "Epoch #1555 | Cost: 0.2721 | Accuracy: 90.25% | Validation Cost: 0.2337 | Validation Accuracy: 91.69%\n",
            "Epoch #1556 | Cost: 0.2723 | Accuracy: 90.25% | Validation Cost: 0.2338 | Validation Accuracy: 91.69%\n",
            "Epoch #1557 | Cost: 0.2723 | Accuracy: 90.25% | Validation Cost: 0.2338 | Validation Accuracy: 91.69%\n",
            "Epoch #1558 | Cost: 0.2724 | Accuracy: 90.24% | Validation Cost: 0.2337 | Validation Accuracy: 91.69%\n",
            "Epoch #1559 | Cost: 0.2722 | Accuracy: 90.25% | Validation Cost: 0.2336 | Validation Accuracy: 91.70%\n",
            "Epoch #1560 | Cost: 0.2722 | Accuracy: 90.25% | Validation Cost: 0.2336 | Validation Accuracy: 91.69%\n",
            "Epoch #1561 | Cost: 0.2720 | Accuracy: 90.26% | Validation Cost: 0.2336 | Validation Accuracy: 91.71%\n",
            "Epoch #1562 | Cost: 0.2719 | Accuracy: 90.26% | Validation Cost: 0.2335 | Validation Accuracy: 91.71%\n",
            "Epoch #1563 | Cost: 0.2720 | Accuracy: 90.26% | Validation Cost: 0.2335 | Validation Accuracy: 91.69%\n",
            "Epoch #1564 | Cost: 0.2721 | Accuracy: 90.26% | Validation Cost: 0.2335 | Validation Accuracy: 91.69%\n",
            "Epoch #1565 | Cost: 0.2721 | Accuracy: 90.26% | Validation Cost: 0.2335 | Validation Accuracy: 91.69%\n",
            "Epoch #1566 | Cost: 0.2722 | Accuracy: 90.25% | Validation Cost: 0.2335 | Validation Accuracy: 91.69%\n",
            "Epoch #1567 | Cost: 0.2719 | Accuracy: 90.26% | Validation Cost: 0.2334 | Validation Accuracy: 91.69%\n",
            "Epoch #1568 | Cost: 0.2720 | Accuracy: 90.27% | Validation Cost: 0.2334 | Validation Accuracy: 91.69%\n",
            "Epoch #1569 | Cost: 0.2721 | Accuracy: 90.26% | Validation Cost: 0.2334 | Validation Accuracy: 91.71%\n",
            "Epoch #1570 | Cost: 0.2719 | Accuracy: 90.27% | Validation Cost: 0.2334 | Validation Accuracy: 91.70%\n",
            "Epoch #1571 | Cost: 0.2718 | Accuracy: 90.27% | Validation Cost: 0.2333 | Validation Accuracy: 91.70%\n",
            "Epoch #1572 | Cost: 0.2719 | Accuracy: 90.27% | Validation Cost: 0.2333 | Validation Accuracy: 91.70%\n",
            "Epoch #1573 | Cost: 0.2719 | Accuracy: 90.27% | Validation Cost: 0.2333 | Validation Accuracy: 91.72%\n",
            "Epoch #1574 | Cost: 0.2720 | Accuracy: 90.26% | Validation Cost: 0.2333 | Validation Accuracy: 91.73%\n",
            "Epoch #1575 | Cost: 0.2723 | Accuracy: 90.24% | Validation Cost: 0.2334 | Validation Accuracy: 91.71%\n",
            "Epoch #1576 | Cost: 0.2722 | Accuracy: 90.25% | Validation Cost: 0.2333 | Validation Accuracy: 91.71%\n",
            "Epoch #1577 | Cost: 0.2722 | Accuracy: 90.25% | Validation Cost: 0.2333 | Validation Accuracy: 91.71%\n",
            "Epoch #1578 | Cost: 0.2722 | Accuracy: 90.26% | Validation Cost: 0.2333 | Validation Accuracy: 91.73%\n",
            "Epoch #1579 | Cost: 0.2721 | Accuracy: 90.26% | Validation Cost: 0.2332 | Validation Accuracy: 91.73%\n",
            "Epoch #1580 | Cost: 0.2719 | Accuracy: 90.27% | Validation Cost: 0.2331 | Validation Accuracy: 91.73%\n",
            "Epoch #1581 | Cost: 0.2719 | Accuracy: 90.27% | Validation Cost: 0.2331 | Validation Accuracy: 91.74%\n",
            "Epoch #1582 | Cost: 0.2719 | Accuracy: 90.27% | Validation Cost: 0.2331 | Validation Accuracy: 91.74%\n",
            "Epoch #1583 | Cost: 0.2718 | Accuracy: 90.27% | Validation Cost: 0.2330 | Validation Accuracy: 91.74%\n",
            "Epoch #1584 | Cost: 0.2717 | Accuracy: 90.27% | Validation Cost: 0.2330 | Validation Accuracy: 91.73%\n",
            "Epoch #1585 | Cost: 0.2717 | Accuracy: 90.27% | Validation Cost: 0.2330 | Validation Accuracy: 91.74%\n",
            "Epoch #1586 | Cost: 0.2717 | Accuracy: 90.27% | Validation Cost: 0.2329 | Validation Accuracy: 91.75%\n",
            "Epoch #1587 | Cost: 0.2716 | Accuracy: 90.28% | Validation Cost: 0.2329 | Validation Accuracy: 91.75%\n",
            "Epoch #1588 | Cost: 0.2716 | Accuracy: 90.28% | Validation Cost: 0.2328 | Validation Accuracy: 91.75%\n",
            "Epoch #1589 | Cost: 0.2716 | Accuracy: 90.27% | Validation Cost: 0.2328 | Validation Accuracy: 91.75%\n",
            "Epoch #1590 | Cost: 0.2718 | Accuracy: 90.27% | Validation Cost: 0.2329 | Validation Accuracy: 91.77%\n",
            "Epoch #1591 | Cost: 0.2721 | Accuracy: 90.26% | Validation Cost: 0.2329 | Validation Accuracy: 91.77%\n",
            "Epoch #1592 | Cost: 0.2720 | Accuracy: 90.26% | Validation Cost: 0.2329 | Validation Accuracy: 91.77%\n",
            "Epoch #1593 | Cost: 0.2718 | Accuracy: 90.26% | Validation Cost: 0.2328 | Validation Accuracy: 91.78%\n",
            "Epoch #1594 | Cost: 0.2718 | Accuracy: 90.26% | Validation Cost: 0.2328 | Validation Accuracy: 91.76%\n",
            "Epoch #1595 | Cost: 0.2720 | Accuracy: 90.25% | Validation Cost: 0.2328 | Validation Accuracy: 91.77%\n",
            "Epoch #1596 | Cost: 0.2720 | Accuracy: 90.25% | Validation Cost: 0.2328 | Validation Accuracy: 91.77%\n",
            "Epoch #1597 | Cost: 0.2719 | Accuracy: 90.26% | Validation Cost: 0.2327 | Validation Accuracy: 91.77%\n",
            "Epoch #1598 | Cost: 0.2717 | Accuracy: 90.27% | Validation Cost: 0.2327 | Validation Accuracy: 91.78%\n",
            "Epoch #1599 | Cost: 0.2718 | Accuracy: 90.26% | Validation Cost: 0.2327 | Validation Accuracy: 91.78%\n",
            "Epoch #1600 | Cost: 0.2717 | Accuracy: 90.27% | Validation Cost: 0.2326 | Validation Accuracy: 91.78%\n",
            "Epoch #1601 | Cost: 0.2716 | Accuracy: 90.27% | Validation Cost: 0.2326 | Validation Accuracy: 91.76%\n",
            "Epoch #1602 | Cost: 0.2717 | Accuracy: 90.26% | Validation Cost: 0.2326 | Validation Accuracy: 91.78%\n",
            "Epoch #1603 | Cost: 0.2717 | Accuracy: 90.27% | Validation Cost: 0.2326 | Validation Accuracy: 91.78%\n",
            "Epoch #1604 | Cost: 0.2717 | Accuracy: 90.26% | Validation Cost: 0.2326 | Validation Accuracy: 91.78%\n",
            "Epoch #1605 | Cost: 0.2719 | Accuracy: 90.25% | Validation Cost: 0.2326 | Validation Accuracy: 91.77%\n",
            "Epoch #1606 | Cost: 0.2717 | Accuracy: 90.26% | Validation Cost: 0.2325 | Validation Accuracy: 91.78%\n",
            "Epoch #1607 | Cost: 0.2715 | Accuracy: 90.27% | Validation Cost: 0.2324 | Validation Accuracy: 91.79%\n",
            "Epoch #1608 | Cost: 0.2715 | Accuracy: 90.28% | Validation Cost: 0.2324 | Validation Accuracy: 91.78%\n",
            "Epoch #1609 | Cost: 0.2715 | Accuracy: 90.28% | Validation Cost: 0.2324 | Validation Accuracy: 91.77%\n",
            "Epoch #1610 | Cost: 0.2715 | Accuracy: 90.28% | Validation Cost: 0.2324 | Validation Accuracy: 91.77%\n",
            "Epoch #1611 | Cost: 0.2715 | Accuracy: 90.29% | Validation Cost: 0.2324 | Validation Accuracy: 91.77%\n",
            "Epoch #1612 | Cost: 0.2716 | Accuracy: 90.28% | Validation Cost: 0.2324 | Validation Accuracy: 91.77%\n",
            "Epoch #1613 | Cost: 0.2716 | Accuracy: 90.28% | Validation Cost: 0.2323 | Validation Accuracy: 91.77%\n",
            "Epoch #1614 | Cost: 0.2715 | Accuracy: 90.30% | Validation Cost: 0.2323 | Validation Accuracy: 91.77%\n",
            "Epoch #1615 | Cost: 0.2714 | Accuracy: 90.30% | Validation Cost: 0.2322 | Validation Accuracy: 91.78%\n",
            "Epoch #1616 | Cost: 0.2713 | Accuracy: 90.30% | Validation Cost: 0.2322 | Validation Accuracy: 91.78%\n",
            "Epoch #1617 | Cost: 0.2712 | Accuracy: 90.30% | Validation Cost: 0.2322 | Validation Accuracy: 91.78%\n",
            "Epoch #1618 | Cost: 0.2713 | Accuracy: 90.30% | Validation Cost: 0.2322 | Validation Accuracy: 91.78%\n",
            "Epoch #1619 | Cost: 0.2712 | Accuracy: 90.30% | Validation Cost: 0.2321 | Validation Accuracy: 91.79%\n",
            "Epoch #1620 | Cost: 0.2712 | Accuracy: 90.29% | Validation Cost: 0.2321 | Validation Accuracy: 91.79%\n",
            "Epoch #1621 | Cost: 0.2708 | Accuracy: 90.31% | Validation Cost: 0.2319 | Validation Accuracy: 91.80%\n",
            "Epoch #1622 | Cost: 0.2709 | Accuracy: 90.31% | Validation Cost: 0.2320 | Validation Accuracy: 91.80%\n",
            "Epoch #1623 | Cost: 0.2712 | Accuracy: 90.30% | Validation Cost: 0.2320 | Validation Accuracy: 91.80%\n",
            "Epoch #1624 | Cost: 0.2712 | Accuracy: 90.30% | Validation Cost: 0.2320 | Validation Accuracy: 91.80%\n",
            "Epoch #1625 | Cost: 0.2712 | Accuracy: 90.30% | Validation Cost: 0.2320 | Validation Accuracy: 91.80%\n",
            "Epoch #1626 | Cost: 0.2712 | Accuracy: 90.30% | Validation Cost: 0.2320 | Validation Accuracy: 91.79%\n",
            "Epoch #1627 | Cost: 0.2713 | Accuracy: 90.29% | Validation Cost: 0.2320 | Validation Accuracy: 91.80%\n",
            "Epoch #1628 | Cost: 0.2715 | Accuracy: 90.28% | Validation Cost: 0.2320 | Validation Accuracy: 91.79%\n",
            "Epoch #1629 | Cost: 0.2713 | Accuracy: 90.29% | Validation Cost: 0.2319 | Validation Accuracy: 91.79%\n",
            "Epoch #1630 | Cost: 0.2716 | Accuracy: 90.27% | Validation Cost: 0.2320 | Validation Accuracy: 91.79%\n",
            "Epoch #1631 | Cost: 0.2714 | Accuracy: 90.28% | Validation Cost: 0.2319 | Validation Accuracy: 91.81%\n",
            "Epoch #1632 | Cost: 0.2711 | Accuracy: 90.29% | Validation Cost: 0.2318 | Validation Accuracy: 91.81%\n",
            "Epoch #1633 | Cost: 0.2710 | Accuracy: 90.29% | Validation Cost: 0.2318 | Validation Accuracy: 91.80%\n",
            "Epoch #1634 | Cost: 0.2710 | Accuracy: 90.30% | Validation Cost: 0.2318 | Validation Accuracy: 91.80%\n",
            "Epoch #1635 | Cost: 0.2710 | Accuracy: 90.30% | Validation Cost: 0.2317 | Validation Accuracy: 91.80%\n",
            "Epoch #1636 | Cost: 0.2712 | Accuracy: 90.29% | Validation Cost: 0.2318 | Validation Accuracy: 91.80%\n",
            "Epoch #1637 | Cost: 0.2711 | Accuracy: 90.29% | Validation Cost: 0.2317 | Validation Accuracy: 91.80%\n",
            "Epoch #1638 | Cost: 0.2714 | Accuracy: 90.29% | Validation Cost: 0.2318 | Validation Accuracy: 91.80%\n",
            "Epoch #1639 | Cost: 0.2713 | Accuracy: 90.29% | Validation Cost: 0.2317 | Validation Accuracy: 91.80%\n",
            "Epoch #1640 | Cost: 0.2713 | Accuracy: 90.28% | Validation Cost: 0.2317 | Validation Accuracy: 91.80%\n",
            "Epoch #1641 | Cost: 0.2715 | Accuracy: 90.28% | Validation Cost: 0.2317 | Validation Accuracy: 91.80%\n",
            "Epoch #1642 | Cost: 0.2713 | Accuracy: 90.28% | Validation Cost: 0.2317 | Validation Accuracy: 91.79%\n",
            "Epoch #1643 | Cost: 0.2712 | Accuracy: 90.29% | Validation Cost: 0.2316 | Validation Accuracy: 91.79%\n",
            "Epoch #1644 | Cost: 0.2713 | Accuracy: 90.29% | Validation Cost: 0.2316 | Validation Accuracy: 91.79%\n",
            "Epoch #1645 | Cost: 0.2715 | Accuracy: 90.28% | Validation Cost: 0.2317 | Validation Accuracy: 91.79%\n",
            "Epoch #1646 | Cost: 0.2716 | Accuracy: 90.27% | Validation Cost: 0.2317 | Validation Accuracy: 91.81%\n",
            "Epoch #1647 | Cost: 0.2714 | Accuracy: 90.28% | Validation Cost: 0.2316 | Validation Accuracy: 91.82%\n",
            "Epoch #1648 | Cost: 0.2715 | Accuracy: 90.28% | Validation Cost: 0.2316 | Validation Accuracy: 91.81%\n",
            "Epoch #1649 | Cost: 0.2717 | Accuracy: 90.26% | Validation Cost: 0.2317 | Validation Accuracy: 91.79%\n",
            "Epoch #1650 | Cost: 0.2715 | Accuracy: 90.27% | Validation Cost: 0.2316 | Validation Accuracy: 91.83%\n",
            "Epoch #1651 | Cost: 0.2713 | Accuracy: 90.28% | Validation Cost: 0.2315 | Validation Accuracy: 91.82%\n",
            "Epoch #1652 | Cost: 0.2713 | Accuracy: 90.28% | Validation Cost: 0.2315 | Validation Accuracy: 91.83%\n",
            "Epoch #1653 | Cost: 0.2714 | Accuracy: 90.28% | Validation Cost: 0.2315 | Validation Accuracy: 91.83%\n",
            "Epoch #1654 | Cost: 0.2713 | Accuracy: 90.28% | Validation Cost: 0.2314 | Validation Accuracy: 91.83%\n",
            "Epoch #1655 | Cost: 0.2711 | Accuracy: 90.29% | Validation Cost: 0.2314 | Validation Accuracy: 91.83%\n",
            "Epoch #1656 | Cost: 0.2709 | Accuracy: 90.30% | Validation Cost: 0.2313 | Validation Accuracy: 91.82%\n",
            "Epoch #1657 | Cost: 0.2709 | Accuracy: 90.30% | Validation Cost: 0.2313 | Validation Accuracy: 91.82%\n",
            "Epoch #1658 | Cost: 0.2711 | Accuracy: 90.29% | Validation Cost: 0.2313 | Validation Accuracy: 91.83%\n",
            "Epoch #1659 | Cost: 0.2712 | Accuracy: 90.29% | Validation Cost: 0.2313 | Validation Accuracy: 91.83%\n",
            "Epoch #1660 | Cost: 0.2713 | Accuracy: 90.28% | Validation Cost: 0.2313 | Validation Accuracy: 91.82%\n",
            "Epoch #1661 | Cost: 0.2709 | Accuracy: 90.30% | Validation Cost: 0.2312 | Validation Accuracy: 91.82%\n",
            "Epoch #1662 | Cost: 0.2709 | Accuracy: 90.30% | Validation Cost: 0.2312 | Validation Accuracy: 91.82%\n",
            "Epoch #1663 | Cost: 0.2710 | Accuracy: 90.29% | Validation Cost: 0.2312 | Validation Accuracy: 91.83%\n",
            "Epoch #1664 | Cost: 0.2709 | Accuracy: 90.30% | Validation Cost: 0.2312 | Validation Accuracy: 91.83%\n",
            "Epoch #1665 | Cost: 0.2711 | Accuracy: 90.29% | Validation Cost: 0.2312 | Validation Accuracy: 91.82%\n",
            "Epoch #1666 | Cost: 0.2710 | Accuracy: 90.29% | Validation Cost: 0.2311 | Validation Accuracy: 91.83%\n",
            "Epoch #1667 | Cost: 0.2709 | Accuracy: 90.29% | Validation Cost: 0.2311 | Validation Accuracy: 91.85%\n",
            "Epoch #1668 | Cost: 0.2708 | Accuracy: 90.30% | Validation Cost: 0.2311 | Validation Accuracy: 91.84%\n",
            "Epoch #1669 | Cost: 0.2710 | Accuracy: 90.29% | Validation Cost: 0.2311 | Validation Accuracy: 91.85%\n",
            "Epoch #1670 | Cost: 0.2708 | Accuracy: 90.30% | Validation Cost: 0.2310 | Validation Accuracy: 91.84%\n",
            "Epoch #1671 | Cost: 0.2707 | Accuracy: 90.30% | Validation Cost: 0.2310 | Validation Accuracy: 91.85%\n",
            "Epoch #1672 | Cost: 0.2710 | Accuracy: 90.29% | Validation Cost: 0.2311 | Validation Accuracy: 91.85%\n",
            "Epoch #1673 | Cost: 0.2711 | Accuracy: 90.29% | Validation Cost: 0.2311 | Validation Accuracy: 91.86%\n",
            "Epoch #1674 | Cost: 0.2711 | Accuracy: 90.28% | Validation Cost: 0.2311 | Validation Accuracy: 91.86%\n",
            "Epoch #1675 | Cost: 0.2712 | Accuracy: 90.28% | Validation Cost: 0.2311 | Validation Accuracy: 91.86%\n",
            "Epoch #1676 | Cost: 0.2712 | Accuracy: 90.27% | Validation Cost: 0.2311 | Validation Accuracy: 91.87%\n",
            "Epoch #1677 | Cost: 0.2710 | Accuracy: 90.28% | Validation Cost: 0.2310 | Validation Accuracy: 91.87%\n",
            "Epoch #1678 | Cost: 0.2709 | Accuracy: 90.29% | Validation Cost: 0.2310 | Validation Accuracy: 91.87%\n",
            "Epoch #1679 | Cost: 0.2710 | Accuracy: 90.28% | Validation Cost: 0.2310 | Validation Accuracy: 91.87%\n",
            "Epoch #1680 | Cost: 0.2710 | Accuracy: 90.28% | Validation Cost: 0.2309 | Validation Accuracy: 91.86%\n",
            "Epoch #1681 | Cost: 0.2708 | Accuracy: 90.29% | Validation Cost: 0.2309 | Validation Accuracy: 91.88%\n",
            "Epoch #1682 | Cost: 0.2711 | Accuracy: 90.28% | Validation Cost: 0.2309 | Validation Accuracy: 91.87%\n",
            "Epoch #1683 | Cost: 0.2710 | Accuracy: 90.29% | Validation Cost: 0.2309 | Validation Accuracy: 91.88%\n",
            "Epoch #1684 | Cost: 0.2710 | Accuracy: 90.29% | Validation Cost: 0.2309 | Validation Accuracy: 91.88%\n",
            "Epoch #1685 | Cost: 0.2709 | Accuracy: 90.29% | Validation Cost: 0.2308 | Validation Accuracy: 91.87%\n",
            "Epoch #1686 | Cost: 0.2707 | Accuracy: 90.30% | Validation Cost: 0.2308 | Validation Accuracy: 91.89%\n",
            "Epoch #1687 | Cost: 0.2706 | Accuracy: 90.31% | Validation Cost: 0.2307 | Validation Accuracy: 91.89%\n",
            "Epoch #1688 | Cost: 0.2707 | Accuracy: 90.31% | Validation Cost: 0.2307 | Validation Accuracy: 91.88%\n",
            "Epoch #1689 | Cost: 0.2708 | Accuracy: 90.30% | Validation Cost: 0.2307 | Validation Accuracy: 91.89%\n",
            "Epoch #1690 | Cost: 0.2707 | Accuracy: 90.30% | Validation Cost: 0.2307 | Validation Accuracy: 91.89%\n",
            "Epoch #1691 | Cost: 0.2706 | Accuracy: 90.31% | Validation Cost: 0.2306 | Validation Accuracy: 91.89%\n",
            "Epoch #1692 | Cost: 0.2708 | Accuracy: 90.30% | Validation Cost: 0.2307 | Validation Accuracy: 91.89%\n",
            "Epoch #1693 | Cost: 0.2708 | Accuracy: 90.30% | Validation Cost: 0.2307 | Validation Accuracy: 91.89%\n",
            "Epoch #1694 | Cost: 0.2706 | Accuracy: 90.30% | Validation Cost: 0.2306 | Validation Accuracy: 91.89%\n",
            "Epoch #1695 | Cost: 0.2707 | Accuracy: 90.30% | Validation Cost: 0.2306 | Validation Accuracy: 91.91%\n",
            "Epoch #1696 | Cost: 0.2708 | Accuracy: 90.30% | Validation Cost: 0.2306 | Validation Accuracy: 91.90%\n",
            "Epoch #1697 | Cost: 0.2706 | Accuracy: 90.31% | Validation Cost: 0.2305 | Validation Accuracy: 91.91%\n",
            "Epoch #1698 | Cost: 0.2706 | Accuracy: 90.30% | Validation Cost: 0.2305 | Validation Accuracy: 91.91%\n",
            "Epoch #1699 | Cost: 0.2707 | Accuracy: 90.31% | Validation Cost: 0.2305 | Validation Accuracy: 91.90%\n",
            "Epoch #1700 | Cost: 0.2706 | Accuracy: 90.31% | Validation Cost: 0.2305 | Validation Accuracy: 91.91%\n",
            "Epoch #1701 | Cost: 0.2707 | Accuracy: 90.30% | Validation Cost: 0.2305 | Validation Accuracy: 91.90%\n",
            "Epoch #1702 | Cost: 0.2705 | Accuracy: 90.31% | Validation Cost: 0.2304 | Validation Accuracy: 91.92%\n",
            "Epoch #1703 | Cost: 0.2705 | Accuracy: 90.31% | Validation Cost: 0.2304 | Validation Accuracy: 91.92%\n",
            "Epoch #1704 | Cost: 0.2704 | Accuracy: 90.32% | Validation Cost: 0.2304 | Validation Accuracy: 91.93%\n",
            "Epoch #1705 | Cost: 0.2706 | Accuracy: 90.31% | Validation Cost: 0.2304 | Validation Accuracy: 91.91%\n",
            "Epoch #1706 | Cost: 0.2705 | Accuracy: 90.31% | Validation Cost: 0.2304 | Validation Accuracy: 91.92%\n",
            "Epoch #1707 | Cost: 0.2704 | Accuracy: 90.31% | Validation Cost: 0.2303 | Validation Accuracy: 91.92%\n",
            "Epoch #1708 | Cost: 0.2705 | Accuracy: 90.31% | Validation Cost: 0.2303 | Validation Accuracy: 91.93%\n",
            "Epoch #1709 | Cost: 0.2705 | Accuracy: 90.31% | Validation Cost: 0.2303 | Validation Accuracy: 91.93%\n",
            "Epoch #1710 | Cost: 0.2705 | Accuracy: 90.31% | Validation Cost: 0.2303 | Validation Accuracy: 91.92%\n",
            "Epoch #1711 | Cost: 0.2704 | Accuracy: 90.32% | Validation Cost: 0.2302 | Validation Accuracy: 91.93%\n",
            "Epoch #1712 | Cost: 0.2704 | Accuracy: 90.32% | Validation Cost: 0.2302 | Validation Accuracy: 91.92%\n",
            "Epoch #1713 | Cost: 0.2704 | Accuracy: 90.32% | Validation Cost: 0.2302 | Validation Accuracy: 91.93%\n",
            "Epoch #1714 | Cost: 0.2705 | Accuracy: 90.32% | Validation Cost: 0.2302 | Validation Accuracy: 91.94%\n",
            "Epoch #1715 | Cost: 0.2707 | Accuracy: 90.30% | Validation Cost: 0.2303 | Validation Accuracy: 91.92%\n",
            "Epoch #1716 | Cost: 0.2708 | Accuracy: 90.30% | Validation Cost: 0.2303 | Validation Accuracy: 91.91%\n",
            "Epoch #1717 | Cost: 0.2707 | Accuracy: 90.30% | Validation Cost: 0.2302 | Validation Accuracy: 91.92%\n",
            "Epoch #1718 | Cost: 0.2703 | Accuracy: 90.32% | Validation Cost: 0.2301 | Validation Accuracy: 91.95%\n",
            "Epoch #1719 | Cost: 0.2704 | Accuracy: 90.32% | Validation Cost: 0.2301 | Validation Accuracy: 91.95%\n",
            "Epoch #1720 | Cost: 0.2705 | Accuracy: 90.30% | Validation Cost: 0.2301 | Validation Accuracy: 91.92%\n",
            "Epoch #1721 | Cost: 0.2703 | Accuracy: 90.31% | Validation Cost: 0.2301 | Validation Accuracy: 91.94%\n",
            "Epoch #1722 | Cost: 0.2705 | Accuracy: 90.31% | Validation Cost: 0.2301 | Validation Accuracy: 91.94%\n",
            "Epoch #1723 | Cost: 0.2705 | Accuracy: 90.31% | Validation Cost: 0.2301 | Validation Accuracy: 91.95%\n",
            "Epoch #1724 | Cost: 0.2708 | Accuracy: 90.29% | Validation Cost: 0.2301 | Validation Accuracy: 91.93%\n",
            "Epoch #1725 | Cost: 0.2708 | Accuracy: 90.30% | Validation Cost: 0.2301 | Validation Accuracy: 91.95%\n",
            "Epoch #1726 | Cost: 0.2707 | Accuracy: 90.30% | Validation Cost: 0.2301 | Validation Accuracy: 91.96%\n",
            "Epoch #1727 | Cost: 0.2706 | Accuracy: 90.30% | Validation Cost: 0.2300 | Validation Accuracy: 91.95%\n",
            "Epoch #1728 | Cost: 0.2708 | Accuracy: 90.29% | Validation Cost: 0.2301 | Validation Accuracy: 91.95%\n",
            "Epoch #1729 | Cost: 0.2706 | Accuracy: 90.29% | Validation Cost: 0.2300 | Validation Accuracy: 91.96%\n",
            "Epoch #1730 | Cost: 0.2704 | Accuracy: 90.31% | Validation Cost: 0.2299 | Validation Accuracy: 91.97%\n",
            "Epoch #1731 | Cost: 0.2703 | Accuracy: 90.31% | Validation Cost: 0.2299 | Validation Accuracy: 91.98%\n",
            "Epoch #1732 | Cost: 0.2703 | Accuracy: 90.31% | Validation Cost: 0.2298 | Validation Accuracy: 91.97%\n",
            "Epoch #1733 | Cost: 0.2704 | Accuracy: 90.30% | Validation Cost: 0.2298 | Validation Accuracy: 91.98%\n",
            "Epoch #1734 | Cost: 0.2706 | Accuracy: 90.30% | Validation Cost: 0.2299 | Validation Accuracy: 91.98%\n",
            "Epoch #1735 | Cost: 0.2705 | Accuracy: 90.31% | Validation Cost: 0.2299 | Validation Accuracy: 91.98%\n",
            "Epoch #1736 | Cost: 0.2706 | Accuracy: 90.30% | Validation Cost: 0.2299 | Validation Accuracy: 91.98%\n",
            "Epoch #1737 | Cost: 0.2706 | Accuracy: 90.30% | Validation Cost: 0.2299 | Validation Accuracy: 91.98%\n",
            "Epoch #1738 | Cost: 0.2706 | Accuracy: 90.30% | Validation Cost: 0.2299 | Validation Accuracy: 91.97%\n",
            "Epoch #1739 | Cost: 0.2706 | Accuracy: 90.30% | Validation Cost: 0.2298 | Validation Accuracy: 91.98%\n",
            "Epoch #1740 | Cost: 0.2709 | Accuracy: 90.29% | Validation Cost: 0.2299 | Validation Accuracy: 91.98%\n",
            "Epoch #1741 | Cost: 0.2706 | Accuracy: 90.30% | Validation Cost: 0.2298 | Validation Accuracy: 91.98%\n",
            "Epoch #1742 | Cost: 0.2705 | Accuracy: 90.30% | Validation Cost: 0.2298 | Validation Accuracy: 91.99%\n",
            "Epoch #1743 | Cost: 0.2705 | Accuracy: 90.31% | Validation Cost: 0.2297 | Validation Accuracy: 91.98%\n",
            "Epoch #1744 | Cost: 0.2707 | Accuracy: 90.30% | Validation Cost: 0.2298 | Validation Accuracy: 91.99%\n",
            "Epoch #1745 | Cost: 0.2707 | Accuracy: 90.30% | Validation Cost: 0.2298 | Validation Accuracy: 91.99%\n",
            "Epoch #1746 | Cost: 0.2707 | Accuracy: 90.30% | Validation Cost: 0.2297 | Validation Accuracy: 91.99%\n",
            "Epoch #1747 | Cost: 0.2705 | Accuracy: 90.30% | Validation Cost: 0.2297 | Validation Accuracy: 91.99%\n",
            "Epoch #1748 | Cost: 0.2705 | Accuracy: 90.30% | Validation Cost: 0.2296 | Validation Accuracy: 92.00%\n",
            "Epoch #1749 | Cost: 0.2705 | Accuracy: 90.30% | Validation Cost: 0.2296 | Validation Accuracy: 92.00%\n",
            "Epoch #1750 | Cost: 0.2706 | Accuracy: 90.30% | Validation Cost: 0.2297 | Validation Accuracy: 92.00%\n",
            "Epoch #1751 | Cost: 0.2707 | Accuracy: 90.29% | Validation Cost: 0.2297 | Validation Accuracy: 91.99%\n",
            "Epoch #1752 | Cost: 0.2707 | Accuracy: 90.29% | Validation Cost: 0.2297 | Validation Accuracy: 91.98%\n",
            "Epoch #1753 | Cost: 0.2708 | Accuracy: 90.29% | Validation Cost: 0.2297 | Validation Accuracy: 91.99%\n",
            "Epoch #1754 | Cost: 0.2709 | Accuracy: 90.29% | Validation Cost: 0.2297 | Validation Accuracy: 91.99%\n",
            "Epoch #1755 | Cost: 0.2710 | Accuracy: 90.29% | Validation Cost: 0.2297 | Validation Accuracy: 91.99%\n",
            "Epoch #1756 | Cost: 0.2710 | Accuracy: 90.29% | Validation Cost: 0.2297 | Validation Accuracy: 91.99%\n",
            "Epoch #1757 | Cost: 0.2710 | Accuracy: 90.28% | Validation Cost: 0.2297 | Validation Accuracy: 91.98%\n",
            "Epoch #1758 | Cost: 0.2711 | Accuracy: 90.28% | Validation Cost: 0.2297 | Validation Accuracy: 91.98%\n",
            "Epoch #1759 | Cost: 0.2710 | Accuracy: 90.28% | Validation Cost: 0.2296 | Validation Accuracy: 91.99%\n",
            "Epoch #1760 | Cost: 0.2713 | Accuracy: 90.28% | Validation Cost: 0.2297 | Validation Accuracy: 91.98%\n",
            "Epoch #1761 | Cost: 0.2713 | Accuracy: 90.28% | Validation Cost: 0.2297 | Validation Accuracy: 91.99%\n",
            "Epoch #1762 | Cost: 0.2712 | Accuracy: 90.28% | Validation Cost: 0.2297 | Validation Accuracy: 91.98%\n",
            "Epoch #1763 | Cost: 0.2712 | Accuracy: 90.28% | Validation Cost: 0.2296 | Validation Accuracy: 91.99%\n",
            "Epoch #1764 | Cost: 0.2713 | Accuracy: 90.28% | Validation Cost: 0.2297 | Validation Accuracy: 91.99%\n",
            "Epoch #1765 | Cost: 0.2712 | Accuracy: 90.28% | Validation Cost: 0.2296 | Validation Accuracy: 91.99%\n",
            "Epoch #1766 | Cost: 0.2715 | Accuracy: 90.28% | Validation Cost: 0.2297 | Validation Accuracy: 91.99%\n",
            "Epoch #1767 | Cost: 0.2713 | Accuracy: 90.27% | Validation Cost: 0.2296 | Validation Accuracy: 91.99%\n",
            "Epoch #1768 | Cost: 0.2715 | Accuracy: 90.27% | Validation Cost: 0.2297 | Validation Accuracy: 91.99%\n",
            "Epoch #1769 | Cost: 0.2714 | Accuracy: 90.28% | Validation Cost: 0.2296 | Validation Accuracy: 91.99%\n",
            "Epoch #1770 | Cost: 0.2715 | Accuracy: 90.27% | Validation Cost: 0.2296 | Validation Accuracy: 91.99%\n",
            "Epoch #1771 | Cost: 0.2716 | Accuracy: 90.27% | Validation Cost: 0.2297 | Validation Accuracy: 91.99%\n",
            "Epoch #1772 | Cost: 0.2716 | Accuracy: 90.27% | Validation Cost: 0.2296 | Validation Accuracy: 91.99%\n",
            "Epoch #1773 | Cost: 0.2716 | Accuracy: 90.28% | Validation Cost: 0.2296 | Validation Accuracy: 91.99%\n",
            "Epoch #1774 | Cost: 0.2713 | Accuracy: 90.29% | Validation Cost: 0.2295 | Validation Accuracy: 92.00%\n",
            "Epoch #1775 | Cost: 0.2711 | Accuracy: 90.29% | Validation Cost: 0.2295 | Validation Accuracy: 91.99%\n",
            "Epoch #1776 | Cost: 0.2713 | Accuracy: 90.29% | Validation Cost: 0.2295 | Validation Accuracy: 92.00%\n",
            "Epoch #1777 | Cost: 0.2718 | Accuracy: 90.27% | Validation Cost: 0.2296 | Validation Accuracy: 92.01%\n",
            "Epoch #1778 | Cost: 0.2718 | Accuracy: 90.27% | Validation Cost: 0.2296 | Validation Accuracy: 92.01%\n",
            "Epoch #1779 | Cost: 0.2720 | Accuracy: 90.27% | Validation Cost: 0.2297 | Validation Accuracy: 92.01%\n",
            "Epoch #1780 | Cost: 0.2722 | Accuracy: 90.25% | Validation Cost: 0.2297 | Validation Accuracy: 92.01%\n",
            "Epoch #1781 | Cost: 0.2721 | Accuracy: 90.25% | Validation Cost: 0.2297 | Validation Accuracy: 92.01%\n",
            "Epoch #1782 | Cost: 0.2719 | Accuracy: 90.27% | Validation Cost: 0.2296 | Validation Accuracy: 92.01%\n",
            "Epoch #1783 | Cost: 0.2718 | Accuracy: 90.26% | Validation Cost: 0.2296 | Validation Accuracy: 92.01%\n",
            "Epoch #1784 | Cost: 0.2717 | Accuracy: 90.27% | Validation Cost: 0.2295 | Validation Accuracy: 92.02%\n",
            "Epoch #1785 | Cost: 0.2715 | Accuracy: 90.28% | Validation Cost: 0.2295 | Validation Accuracy: 92.01%\n",
            "Epoch #1786 | Cost: 0.2719 | Accuracy: 90.26% | Validation Cost: 0.2296 | Validation Accuracy: 92.02%\n",
            "Epoch #1787 | Cost: 0.2718 | Accuracy: 90.27% | Validation Cost: 0.2295 | Validation Accuracy: 92.04%\n",
            "Epoch #1788 | Cost: 0.2718 | Accuracy: 90.27% | Validation Cost: 0.2295 | Validation Accuracy: 92.03%\n",
            "Epoch #1789 | Cost: 0.2717 | Accuracy: 90.27% | Validation Cost: 0.2294 | Validation Accuracy: 92.02%\n",
            "Epoch #1790 | Cost: 0.2718 | Accuracy: 90.26% | Validation Cost: 0.2295 | Validation Accuracy: 92.03%\n",
            "Epoch #1791 | Cost: 0.2717 | Accuracy: 90.27% | Validation Cost: 0.2294 | Validation Accuracy: 92.05%\n",
            "Epoch #1792 | Cost: 0.2717 | Accuracy: 90.26% | Validation Cost: 0.2294 | Validation Accuracy: 92.05%\n",
            "Epoch #1793 | Cost: 0.2716 | Accuracy: 90.27% | Validation Cost: 0.2294 | Validation Accuracy: 92.05%\n",
            "Epoch #1794 | Cost: 0.2717 | Accuracy: 90.26% | Validation Cost: 0.2294 | Validation Accuracy: 92.05%\n",
            "Epoch #1795 | Cost: 0.2717 | Accuracy: 90.27% | Validation Cost: 0.2293 | Validation Accuracy: 92.05%\n",
            "Epoch #1796 | Cost: 0.2718 | Accuracy: 90.26% | Validation Cost: 0.2294 | Validation Accuracy: 92.05%\n",
            "Epoch #1797 | Cost: 0.2718 | Accuracy: 90.28% | Validation Cost: 0.2294 | Validation Accuracy: 92.05%\n",
            "Epoch #1798 | Cost: 0.2717 | Accuracy: 90.27% | Validation Cost: 0.2294 | Validation Accuracy: 92.05%\n",
            "Epoch #1799 | Cost: 0.2719 | Accuracy: 90.26% | Validation Cost: 0.2294 | Validation Accuracy: 92.05%\n",
            "Epoch #1800 | Cost: 0.2720 | Accuracy: 90.26% | Validation Cost: 0.2294 | Validation Accuracy: 92.04%\n",
            "Epoch #1801 | Cost: 0.2718 | Accuracy: 90.26% | Validation Cost: 0.2293 | Validation Accuracy: 92.04%\n",
            "Epoch #1802 | Cost: 0.2720 | Accuracy: 90.25% | Validation Cost: 0.2294 | Validation Accuracy: 92.02%\n",
            "Epoch #1803 | Cost: 0.2722 | Accuracy: 90.23% | Validation Cost: 0.2294 | Validation Accuracy: 92.01%\n",
            "Epoch #1804 | Cost: 0.2728 | Accuracy: 90.20% | Validation Cost: 0.2296 | Validation Accuracy: 92.01%\n",
            "Epoch #1805 | Cost: 0.2728 | Accuracy: 90.20% | Validation Cost: 0.2296 | Validation Accuracy: 92.02%\n",
            "Epoch #1806 | Cost: 0.2725 | Accuracy: 90.22% | Validation Cost: 0.2295 | Validation Accuracy: 92.02%\n",
            "Epoch #1807 | Cost: 0.2729 | Accuracy: 90.20% | Validation Cost: 0.2296 | Validation Accuracy: 91.99%\n",
            "Epoch #1808 | Cost: 0.2726 | Accuracy: 90.22% | Validation Cost: 0.2295 | Validation Accuracy: 91.99%\n",
            "Epoch #1809 | Cost: 0.2726 | Accuracy: 90.22% | Validation Cost: 0.2295 | Validation Accuracy: 92.01%\n",
            "Epoch #1810 | Cost: 0.2729 | Accuracy: 90.20% | Validation Cost: 0.2295 | Validation Accuracy: 91.99%\n",
            "Epoch #1811 | Cost: 0.2730 | Accuracy: 90.20% | Validation Cost: 0.2296 | Validation Accuracy: 91.99%\n",
            "Epoch #1812 | Cost: 0.2730 | Accuracy: 90.21% | Validation Cost: 0.2296 | Validation Accuracy: 92.00%\n",
            "Epoch #1813 | Cost: 0.2728 | Accuracy: 90.21% | Validation Cost: 0.2295 | Validation Accuracy: 92.00%\n",
            "Epoch #1814 | Cost: 0.2728 | Accuracy: 90.21% | Validation Cost: 0.2295 | Validation Accuracy: 92.00%\n",
            "Epoch #1815 | Cost: 0.2728 | Accuracy: 90.21% | Validation Cost: 0.2295 | Validation Accuracy: 92.00%\n",
            "Epoch #1816 | Cost: 0.2728 | Accuracy: 90.22% | Validation Cost: 0.2295 | Validation Accuracy: 92.00%\n",
            "Epoch #1817 | Cost: 0.2731 | Accuracy: 90.20% | Validation Cost: 0.2296 | Validation Accuracy: 92.01%\n",
            "Epoch #1818 | Cost: 0.2729 | Accuracy: 90.21% | Validation Cost: 0.2295 | Validation Accuracy: 92.01%\n",
            "Epoch #1819 | Cost: 0.2728 | Accuracy: 90.21% | Validation Cost: 0.2294 | Validation Accuracy: 92.00%\n",
            "Epoch #1820 | Cost: 0.2730 | Accuracy: 90.20% | Validation Cost: 0.2295 | Validation Accuracy: 92.01%\n",
            "Epoch #1821 | Cost: 0.2728 | Accuracy: 90.21% | Validation Cost: 0.2294 | Validation Accuracy: 92.00%\n",
            "Epoch #1822 | Cost: 0.2728 | Accuracy: 90.21% | Validation Cost: 0.2294 | Validation Accuracy: 92.01%\n",
            "Epoch #1823 | Cost: 0.2728 | Accuracy: 90.21% | Validation Cost: 0.2294 | Validation Accuracy: 91.99%\n",
            "Epoch #1824 | Cost: 0.2727 | Accuracy: 90.22% | Validation Cost: 0.2293 | Validation Accuracy: 92.01%\n",
            "Epoch #1825 | Cost: 0.2730 | Accuracy: 90.20% | Validation Cost: 0.2294 | Validation Accuracy: 92.01%\n",
            "Epoch #1826 | Cost: 0.2730 | Accuracy: 90.21% | Validation Cost: 0.2294 | Validation Accuracy: 92.01%\n",
            "Epoch #1827 | Cost: 0.2730 | Accuracy: 90.21% | Validation Cost: 0.2294 | Validation Accuracy: 92.02%\n",
            "Epoch #1828 | Cost: 0.2731 | Accuracy: 90.20% | Validation Cost: 0.2294 | Validation Accuracy: 92.02%\n",
            "Epoch #1829 | Cost: 0.2731 | Accuracy: 90.20% | Validation Cost: 0.2294 | Validation Accuracy: 92.02%\n",
            "Epoch #1830 | Cost: 0.2729 | Accuracy: 90.21% | Validation Cost: 0.2293 | Validation Accuracy: 92.02%\n",
            "Epoch #1831 | Cost: 0.2730 | Accuracy: 90.21% | Validation Cost: 0.2293 | Validation Accuracy: 92.02%\n",
            "Epoch #1832 | Cost: 0.2731 | Accuracy: 90.20% | Validation Cost: 0.2294 | Validation Accuracy: 92.02%\n",
            "Epoch #1833 | Cost: 0.2732 | Accuracy: 90.20% | Validation Cost: 0.2294 | Validation Accuracy: 92.02%\n",
            "Epoch #1834 | Cost: 0.2735 | Accuracy: 90.18% | Validation Cost: 0.2295 | Validation Accuracy: 92.02%\n",
            "Epoch #1835 | Cost: 0.2734 | Accuracy: 90.18% | Validation Cost: 0.2295 | Validation Accuracy: 92.02%\n",
            "Epoch #1836 | Cost: 0.2736 | Accuracy: 90.17% | Validation Cost: 0.2295 | Validation Accuracy: 92.03%\n",
            "Epoch #1837 | Cost: 0.2737 | Accuracy: 90.17% | Validation Cost: 0.2295 | Validation Accuracy: 92.04%\n",
            "Epoch #1838 | Cost: 0.2737 | Accuracy: 90.17% | Validation Cost: 0.2295 | Validation Accuracy: 92.04%\n",
            "Epoch #1839 | Cost: 0.2737 | Accuracy: 90.18% | Validation Cost: 0.2295 | Validation Accuracy: 92.00%\n",
            "Epoch #1840 | Cost: 0.2735 | Accuracy: 90.18% | Validation Cost: 0.2294 | Validation Accuracy: 92.03%\n",
            "Epoch #1841 | Cost: 0.2736 | Accuracy: 90.17% | Validation Cost: 0.2294 | Validation Accuracy: 92.01%\n",
            "Epoch #1842 | Cost: 0.2737 | Accuracy: 90.17% | Validation Cost: 0.2294 | Validation Accuracy: 92.02%\n",
            "Epoch #1843 | Cost: 0.2738 | Accuracy: 90.17% | Validation Cost: 0.2295 | Validation Accuracy: 92.03%\n",
            "Epoch #1844 | Cost: 0.2738 | Accuracy: 90.17% | Validation Cost: 0.2295 | Validation Accuracy: 92.04%\n",
            "Epoch #1845 | Cost: 0.2737 | Accuracy: 90.17% | Validation Cost: 0.2294 | Validation Accuracy: 92.01%\n",
            "Epoch #1846 | Cost: 0.2739 | Accuracy: 90.16% | Validation Cost: 0.2295 | Validation Accuracy: 92.03%\n",
            "Epoch #1847 | Cost: 0.2740 | Accuracy: 90.15% | Validation Cost: 0.2295 | Validation Accuracy: 92.02%\n",
            "Epoch #1848 | Cost: 0.2740 | Accuracy: 90.15% | Validation Cost: 0.2295 | Validation Accuracy: 92.02%\n",
            "Epoch #1849 | Cost: 0.2741 | Accuracy: 90.15% | Validation Cost: 0.2295 | Validation Accuracy: 92.01%\n",
            "Epoch #1850 | Cost: 0.2742 | Accuracy: 90.14% | Validation Cost: 0.2295 | Validation Accuracy: 92.02%\n",
            "Epoch #1851 | Cost: 0.2740 | Accuracy: 90.15% | Validation Cost: 0.2295 | Validation Accuracy: 92.01%\n",
            "Epoch #1852 | Cost: 0.2741 | Accuracy: 90.15% | Validation Cost: 0.2295 | Validation Accuracy: 92.00%\n",
            "Epoch #1853 | Cost: 0.2742 | Accuracy: 90.14% | Validation Cost: 0.2295 | Validation Accuracy: 92.00%\n",
            "Epoch #1854 | Cost: 0.2744 | Accuracy: 90.14% | Validation Cost: 0.2296 | Validation Accuracy: 92.00%\n",
            "Epoch #1855 | Cost: 0.2743 | Accuracy: 90.14% | Validation Cost: 0.2296 | Validation Accuracy: 92.00%\n",
            "Epoch #1856 | Cost: 0.2747 | Accuracy: 90.13% | Validation Cost: 0.2297 | Validation Accuracy: 92.00%\n",
            "Epoch #1857 | Cost: 0.2749 | Accuracy: 90.11% | Validation Cost: 0.2298 | Validation Accuracy: 92.00%\n",
            "Epoch #1858 | Cost: 0.2748 | Accuracy: 90.12% | Validation Cost: 0.2297 | Validation Accuracy: 92.01%\n",
            "Epoch #1859 | Cost: 0.2746 | Accuracy: 90.13% | Validation Cost: 0.2296 | Validation Accuracy: 92.02%\n",
            "Epoch #1860 | Cost: 0.2750 | Accuracy: 90.11% | Validation Cost: 0.2297 | Validation Accuracy: 92.00%\n",
            "Epoch #1861 | Cost: 0.2750 | Accuracy: 90.11% | Validation Cost: 0.2297 | Validation Accuracy: 92.01%\n",
            "Epoch #1862 | Cost: 0.2749 | Accuracy: 90.11% | Validation Cost: 0.2296 | Validation Accuracy: 92.02%\n",
            "Epoch #1863 | Cost: 0.2752 | Accuracy: 90.10% | Validation Cost: 0.2297 | Validation Accuracy: 92.00%\n",
            "Epoch #1864 | Cost: 0.2751 | Accuracy: 90.10% | Validation Cost: 0.2297 | Validation Accuracy: 92.02%\n",
            "Epoch #1865 | Cost: 0.2749 | Accuracy: 90.11% | Validation Cost: 0.2296 | Validation Accuracy: 92.01%\n",
            "Epoch #1866 | Cost: 0.2751 | Accuracy: 90.10% | Validation Cost: 0.2297 | Validation Accuracy: 92.02%\n",
            "Epoch #1867 | Cost: 0.2752 | Accuracy: 90.11% | Validation Cost: 0.2297 | Validation Accuracy: 92.02%\n",
            "Epoch #1868 | Cost: 0.2752 | Accuracy: 90.10% | Validation Cost: 0.2297 | Validation Accuracy: 92.02%\n",
            "Epoch #1869 | Cost: 0.2752 | Accuracy: 90.11% | Validation Cost: 0.2297 | Validation Accuracy: 92.02%\n",
            "Epoch #1870 | Cost: 0.2756 | Accuracy: 90.07% | Validation Cost: 0.2298 | Validation Accuracy: 91.99%\n",
            "Epoch #1871 | Cost: 0.2755 | Accuracy: 90.09% | Validation Cost: 0.2297 | Validation Accuracy: 92.00%\n",
            "Epoch #1872 | Cost: 0.2756 | Accuracy: 90.08% | Validation Cost: 0.2298 | Validation Accuracy: 91.99%\n",
            "Epoch #1873 | Cost: 0.2756 | Accuracy: 90.08% | Validation Cost: 0.2297 | Validation Accuracy: 91.99%\n",
            "Epoch #1874 | Cost: 0.2756 | Accuracy: 90.08% | Validation Cost: 0.2298 | Validation Accuracy: 91.98%\n",
            "Epoch #1875 | Cost: 0.2757 | Accuracy: 90.07% | Validation Cost: 0.2297 | Validation Accuracy: 91.98%\n",
            "Epoch #1876 | Cost: 0.2756 | Accuracy: 90.08% | Validation Cost: 0.2297 | Validation Accuracy: 91.98%\n",
            "Epoch #1877 | Cost: 0.2758 | Accuracy: 90.06% | Validation Cost: 0.2298 | Validation Accuracy: 91.98%\n",
            "Epoch #1878 | Cost: 0.2763 | Accuracy: 90.04% | Validation Cost: 0.2299 | Validation Accuracy: 91.95%\n",
            "Epoch #1879 | Cost: 0.2766 | Accuracy: 90.03% | Validation Cost: 0.2300 | Validation Accuracy: 91.94%\n",
            "Epoch #1880 | Cost: 0.2766 | Accuracy: 90.03% | Validation Cost: 0.2300 | Validation Accuracy: 91.94%\n",
            "Epoch #1881 | Cost: 0.2765 | Accuracy: 90.05% | Validation Cost: 0.2300 | Validation Accuracy: 91.94%\n",
            "Epoch #1882 | Cost: 0.2764 | Accuracy: 90.05% | Validation Cost: 0.2300 | Validation Accuracy: 91.95%\n",
            "Epoch #1883 | Cost: 0.2764 | Accuracy: 90.04% | Validation Cost: 0.2299 | Validation Accuracy: 91.94%\n",
            "Epoch #1884 | Cost: 0.2768 | Accuracy: 90.03% | Validation Cost: 0.2300 | Validation Accuracy: 91.94%\n",
            "Epoch #1885 | Cost: 0.2768 | Accuracy: 90.04% | Validation Cost: 0.2300 | Validation Accuracy: 91.94%\n",
            "Epoch #1886 | Cost: 0.2768 | Accuracy: 90.03% | Validation Cost: 0.2300 | Validation Accuracy: 91.94%\n",
            "Epoch #1887 | Cost: 0.2765 | Accuracy: 90.04% | Validation Cost: 0.2299 | Validation Accuracy: 91.96%\n",
            "Epoch #1888 | Cost: 0.2768 | Accuracy: 90.03% | Validation Cost: 0.2300 | Validation Accuracy: 91.94%\n",
            "Epoch #1889 | Cost: 0.2768 | Accuracy: 90.03% | Validation Cost: 0.2300 | Validation Accuracy: 91.94%\n",
            "Epoch #1890 | Cost: 0.2770 | Accuracy: 90.03% | Validation Cost: 0.2301 | Validation Accuracy: 91.94%\n",
            "Epoch #1891 | Cost: 0.2767 | Accuracy: 90.04% | Validation Cost: 0.2299 | Validation Accuracy: 91.97%\n",
            "Epoch #1892 | Cost: 0.2767 | Accuracy: 90.04% | Validation Cost: 0.2299 | Validation Accuracy: 91.96%\n",
            "Epoch #1893 | Cost: 0.2768 | Accuracy: 90.03% | Validation Cost: 0.2300 | Validation Accuracy: 91.96%\n",
            "Epoch #1894 | Cost: 0.2769 | Accuracy: 90.03% | Validation Cost: 0.2300 | Validation Accuracy: 91.96%\n",
            "Epoch #1895 | Cost: 0.2770 | Accuracy: 90.02% | Validation Cost: 0.2300 | Validation Accuracy: 91.95%\n",
            "Epoch #1896 | Cost: 0.2772 | Accuracy: 90.00% | Validation Cost: 0.2301 | Validation Accuracy: 91.94%\n",
            "Epoch #1897 | Cost: 0.2769 | Accuracy: 90.03% | Validation Cost: 0.2300 | Validation Accuracy: 91.95%\n",
            "Epoch #1898 | Cost: 0.2771 | Accuracy: 90.02% | Validation Cost: 0.2300 | Validation Accuracy: 91.94%\n",
            "Epoch #1899 | Cost: 0.2771 | Accuracy: 90.01% | Validation Cost: 0.2300 | Validation Accuracy: 91.94%\n",
            "Epoch #1900 | Cost: 0.2776 | Accuracy: 90.00% | Validation Cost: 0.2301 | Validation Accuracy: 91.93%\n",
            "Epoch #1901 | Cost: 0.2776 | Accuracy: 89.98% | Validation Cost: 0.2302 | Validation Accuracy: 91.93%\n",
            "Epoch #1902 | Cost: 0.2779 | Accuracy: 89.98% | Validation Cost: 0.2303 | Validation Accuracy: 91.93%\n",
            "Epoch #1903 | Cost: 0.2778 | Accuracy: 89.97% | Validation Cost: 0.2303 | Validation Accuracy: 91.93%\n",
            "Epoch #1904 | Cost: 0.2778 | Accuracy: 89.98% | Validation Cost: 0.2302 | Validation Accuracy: 91.93%\n",
            "Epoch #1905 | Cost: 0.2780 | Accuracy: 89.98% | Validation Cost: 0.2303 | Validation Accuracy: 91.92%\n",
            "Epoch #1906 | Cost: 0.2778 | Accuracy: 89.99% | Validation Cost: 0.2302 | Validation Accuracy: 91.93%\n",
            "Epoch #1907 | Cost: 0.2779 | Accuracy: 89.98% | Validation Cost: 0.2302 | Validation Accuracy: 91.91%\n",
            "Epoch #1908 | Cost: 0.2783 | Accuracy: 89.96% | Validation Cost: 0.2304 | Validation Accuracy: 91.90%\n",
            "Epoch #1909 | Cost: 0.2782 | Accuracy: 89.97% | Validation Cost: 0.2304 | Validation Accuracy: 91.90%\n",
            "Epoch #1910 | Cost: 0.2784 | Accuracy: 89.97% | Validation Cost: 0.2304 | Validation Accuracy: 91.91%\n",
            "Epoch #1911 | Cost: 0.2785 | Accuracy: 89.96% | Validation Cost: 0.2304 | Validation Accuracy: 91.91%\n",
            "Epoch #1912 | Cost: 0.2786 | Accuracy: 89.95% | Validation Cost: 0.2304 | Validation Accuracy: 91.91%\n",
            "Epoch #1913 | Cost: 0.2787 | Accuracy: 89.95% | Validation Cost: 0.2305 | Validation Accuracy: 91.91%\n",
            "Epoch #1914 | Cost: 0.2788 | Accuracy: 89.95% | Validation Cost: 0.2305 | Validation Accuracy: 91.91%\n",
            "Epoch #1915 | Cost: 0.2790 | Accuracy: 89.94% | Validation Cost: 0.2305 | Validation Accuracy: 91.92%\n",
            "Epoch #1916 | Cost: 0.2791 | Accuracy: 89.94% | Validation Cost: 0.2305 | Validation Accuracy: 91.92%\n",
            "Epoch #1917 | Cost: 0.2790 | Accuracy: 89.94% | Validation Cost: 0.2305 | Validation Accuracy: 91.92%\n"
          ],
          "name": "stdout"
        }
      ]
    },
    {
      "cell_type": "code",
      "metadata": {
        "id": "aVqHpiKXt-Um"
      },
      "source": [
        "gravity2 = Gravity2(learning_rate=0.025, g=10)\n",
        "epochs=1\n",
        "metrics = model.fit(X_train, Y_train, epochs, optimizer=gravity2,\n",
        "                    batch_size=1024, validation_data=(X_test, Y_test),\n",
        "                    lambda_=0, metrics_printer=print_metrics(1))"
      ],
      "execution_count": null,
      "outputs": []
    },
    {
      "cell_type": "code",
      "metadata": {
        "id": "h17rKyKBPM5m"
      },
      "source": [
        "courant_opt2 = Courant2(beta=0.9, courant_max=0.0001, sine_mode=True, mu=0)\n",
        "epochs=10\n",
        "metrics = model.fit(X_train, Y_train, epochs, optimizer=courant_opt2,\n",
        "                    batch_size=1024, validation_data=(X_test, Y_test), lambda_=0, metrics_printer=print_metrics(1))"
      ],
      "execution_count": null,
      "outputs": []
    },
    {
      "cell_type": "code",
      "metadata": {
        "id": "GEpB3EHBJP8M"
      },
      "source": [
        "model.undo_update()"
      ],
      "execution_count": null,
      "outputs": []
    },
    {
      "cell_type": "code",
      "metadata": {
        "id": "W6qtaqfO7CKe"
      },
      "source": [
        "adam_optimizer = Adam(learning_rate=0.00001)\n",
        "epochs=1000\n",
        "metrics = model.fit(X_train, Y_train, epochs, optimizer=adam_optimizer,\n",
        "                    batch_size=128, validation_data=(X_test, Y_test),\n",
        "                    lambda_=0, metrics_printer=print_metrics(1))"
      ],
      "execution_count": null,
      "outputs": []
    },
    {
      "cell_type": "code",
      "metadata": {
        "id": "c6kM2mBvhYbs"
      },
      "source": [
        "courant_opt = Courant(g=1, courant_max=0.01, sine_mode=True, mu=0)\n",
        "epochs=1\n",
        "metrics = model.fit(X_train, Y_train, epochs, optimizer=courant_opt,\n",
        "                    batch_size=512, validation_data=(X_test, Y_test), lambda_=0, metrics_printer=print_metrics(1))"
      ],
      "execution_count": null,
      "outputs": []
    },
    {
      "cell_type": "code",
      "metadata": {
        "id": "4A4LnpR-QMBA"
      },
      "source": [
        "gravity = Gravity(learning_rate=0.00001, g=10)\n",
        "epochs=100\n",
        "metrics = model.fit(X_train, Y_train, epochs, optimizer=gravity,\n",
        "                    batch_size=128, validation_data=(X_test, Y_test),\n",
        "                    lambda_=0, metrics_printer=print_metrics(1))"
      ],
      "execution_count": null,
      "outputs": []
    },
    {
      "cell_type": "code",
      "metadata": {
        "id": "o1fB0yPfL9QM",
        "outputId": "af124f15-5625-4a9e-ba95-7bed8815d8db",
        "colab": {
          "base_uri": "https://localhost:8080/",
          "height": 299
        }
      },
      "source": [
        "plt.style.use('fivethirtyeight')\n",
        "fig = plot_metrics(metrics, interval=1)"
      ],
      "execution_count": null,
      "outputs": [
        {
          "output_type": "error",
          "ename": "KeyError",
          "evalue": "ignored",
          "traceback": [
            "\u001b[0;31m---------------------------------------------------------------------------\u001b[0m",
            "\u001b[0;31mKeyError\u001b[0m                                  Traceback (most recent call last)",
            "\u001b[0;32m<ipython-input-88-2b6fc553749f>\u001b[0m in \u001b[0;36m<module>\u001b[0;34m()\u001b[0m\n\u001b[1;32m      1\u001b[0m \u001b[0mplt\u001b[0m\u001b[0;34m.\u001b[0m\u001b[0mstyle\u001b[0m\u001b[0;34m.\u001b[0m\u001b[0muse\u001b[0m\u001b[0;34m(\u001b[0m\u001b[0;34m'fivethirtyeight'\u001b[0m\u001b[0;34m)\u001b[0m\u001b[0;34m\u001b[0m\u001b[0;34m\u001b[0m\u001b[0m\n\u001b[0;32m----> 2\u001b[0;31m \u001b[0mfig\u001b[0m \u001b[0;34m=\u001b[0m \u001b[0mplot_metrics\u001b[0m\u001b[0;34m(\u001b[0m\u001b[0mmetrics\u001b[0m\u001b[0;34m,\u001b[0m \u001b[0minterval\u001b[0m\u001b[0;34m=\u001b[0m\u001b[0;36m1\u001b[0m\u001b[0;34m)\u001b[0m\u001b[0;34m\u001b[0m\u001b[0;34m\u001b[0m\u001b[0m\n\u001b[0m",
            "\u001b[0;32m<ipython-input-13-6dbd9056134f>\u001b[0m in \u001b[0;36mplot_metrics\u001b[0;34m(metrics, interval)\u001b[0m\n\u001b[1;32m      4\u001b[0m     \u001b[0mvalidation_cost\u001b[0m \u001b[0;34m=\u001b[0m \u001b[0mmetrics\u001b[0m\u001b[0;34m[\u001b[0m\u001b[0;34m'validation_costs'\u001b[0m\u001b[0;34m]\u001b[0m\u001b[0;34m\u001b[0m\u001b[0;34m\u001b[0m\u001b[0m\n\u001b[1;32m      5\u001b[0m     \u001b[0mvalidation_accuracies\u001b[0m \u001b[0;34m=\u001b[0m \u001b[0mmetrics\u001b[0m\u001b[0;34m[\u001b[0m\u001b[0;34m'validation_accuracies'\u001b[0m\u001b[0;34m]\u001b[0m\u001b[0;34m\u001b[0m\u001b[0;34m\u001b[0m\u001b[0m\n\u001b[0;32m----> 6\u001b[0;31m     \u001b[0mlearning_rate\u001b[0m \u001b[0;34m=\u001b[0m \u001b[0mmetrics\u001b[0m\u001b[0;34m[\u001b[0m\u001b[0;34m'learning_rate'\u001b[0m\u001b[0;34m]\u001b[0m\u001b[0;34m\u001b[0m\u001b[0;34m\u001b[0m\u001b[0m\n\u001b[0m\u001b[1;32m      7\u001b[0m     \u001b[0mg\u001b[0m \u001b[0;34m=\u001b[0m \u001b[0mmetrics\u001b[0m\u001b[0;34m[\u001b[0m\u001b[0;34m'g'\u001b[0m\u001b[0;34m]\u001b[0m\u001b[0;34m\u001b[0m\u001b[0;34m\u001b[0m\u001b[0m\n\u001b[1;32m      8\u001b[0m \u001b[0;34m\u001b[0m\u001b[0m\n",
            "\u001b[0;31mKeyError\u001b[0m: 'learning_rate'"
          ]
        }
      ]
    },
    {
      "cell_type": "code",
      "metadata": {
        "id": "8M6dW93ZL9QR"
      },
      "source": [
        "fig.savefig('mnist_32relu_100_gravity.png', dpi=300, transparent=True)"
      ],
      "execution_count": null,
      "outputs": []
    },
    {
      "cell_type": "code",
      "metadata": {
        "id": "fC2ZJ1QhL9Qb"
      },
      "source": [
        "import pickle"
      ],
      "execution_count": null,
      "outputs": []
    },
    {
      "cell_type": "code",
      "metadata": {
        "id": "_CRZT2TeL9Qg"
      },
      "source": [
        "\n",
        "with open('mnist_32relu_50_gravity_00005_10.model', 'wb') as fh:\n",
        "    pickle.dump(model, fh)"
      ],
      "execution_count": null,
      "outputs": []
    },
    {
      "cell_type": "code",
      "metadata": {
        "id": "OtvNlYahL9Qm"
      },
      "source": [
        "with open('mnist_32relu_50_gravity_00005_10.model', 'rb') as fh:\n",
        "    model_test = pickle.load(fh)\n",
        "\n"
      ],
      "execution_count": null,
      "outputs": []
    },
    {
      "cell_type": "code",
      "metadata": {
        "id": "7jABmmKLL9Qr",
        "outputId": "e2bc8ae0-47c4-4b2b-9055-c8a19bb5ac33"
      },
      "source": [
        "categorical_accuracy(predict(model_test.feed_forward(X_test)), Y_test)"
      ],
      "execution_count": null,
      "outputs": [
        {
          "output_type": "execute_result",
          "data": {
            "text/plain": [
              "0.8437"
            ]
          },
          "metadata": {
            "tags": []
          },
          "execution_count": 34
        }
      ]
    },
    {
      "cell_type": "code",
      "metadata": {
        "id": "k-yiEWwkL9Qw"
      },
      "source": [
        ""
      ],
      "execution_count": null,
      "outputs": []
    }
  ]
}