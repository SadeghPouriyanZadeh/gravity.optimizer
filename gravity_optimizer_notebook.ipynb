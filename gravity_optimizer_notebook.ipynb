{
  "nbformat": 4,
  "nbformat_minor": 0,
  "metadata": {
    "accelerator": "GPU",
    "colab": {
      "name": "gravity_optimizer_notebook.ipynb",
      "provenance": [],
      "collapsed_sections": [],
      "toc_visible": true
    },
    "kernelspec": {
      "display_name": "Python 3",
      "language": "python",
      "name": "python3"
    },
    "language_info": {
      "codemirror_mode": {
        "name": "ipython",
        "version": 3
      },
      "file_extension": ".py",
      "mimetype": "text/x-python",
      "name": "python",
      "nbconvert_exporter": "python",
      "pygments_lexer": "ipython3",
      "version": "3.8.3"
    }
  },
  "cells": [
    {
      "cell_type": "markdown",
      "metadata": {
        "id": "ROo3YHH_377X"
      },
      "source": [
        "# Import Modules"
      ]
    },
    {
      "cell_type": "code",
      "metadata": {
        "id": "_zhlTXlWnMkU",
        "colab": {
          "base_uri": "https://localhost:8080/"
        },
        "outputId": "46e45520-297b-4dd4-8bd6-5cd191ab68f6"
      },
      "source": [
        "!git clone https://github.com/dariush-bahrami/gravity.optimizer.git"
      ],
      "execution_count": 1,
      "outputs": [
        {
          "output_type": "stream",
          "text": [
            "Cloning into 'gravity.optimizer'...\n",
            "remote: Enumerating objects: 233, done.\u001b[K\n",
            "remote: Counting objects: 100% (233/233), done.\u001b[K\n",
            "remote: Compressing objects: 100% (158/158), done.\u001b[K\n",
            "remote: Total 233 (delta 124), reused 181 (delta 72), pack-reused 0\u001b[K\n",
            "Receiving objects: 100% (233/233), 3.34 MiB | 17.12 MiB/s, done.\n",
            "Resolving deltas: 100% (124/124), done.\n"
          ],
          "name": "stdout"
        }
      ]
    },
    {
      "cell_type": "code",
      "metadata": {
        "id": "g3KZoyjcs0fg"
      },
      "source": [
        "# !rm -R /content/gravity.optimizer"
      ],
      "execution_count": null,
      "outputs": []
    },
    {
      "cell_type": "code",
      "metadata": {
        "colab": {
          "base_uri": "https://localhost:8080/"
        },
        "id": "0siAij-6WGyE",
        "outputId": "f0398a7b-312b-4def-853a-fec101f37ce9"
      },
      "source": [
        "import sys\n",
        "sys.path.append('/content/gravity.optimizer')\n",
        "%tensorflow_version 2.x\n",
        "import tensorflow as tf\n",
        "import numpy as np\n",
        "import pandas as pd\n",
        "from matplotlib import pyplot as plt\n",
        "device_name = tf.test.gpu_device_name()\n",
        "if device_name != '/device:GPU:0':\n",
        "  raise SystemError('GPU device not found')\n",
        "print('Found GPU at: {}'.format(device_name))\n",
        "plt.style.use('dark_background')\n",
        "import gravity"
      ],
      "execution_count": 2,
      "outputs": [
        {
          "output_type": "stream",
          "text": [
            "Found GPU at: /device:GPU:0\n"
          ],
          "name": "stdout"
        }
      ]
    },
    {
      "cell_type": "markdown",
      "metadata": {
        "id": "pRm4P1XNXzA_"
      },
      "source": [
        "# Optimizer Definition"
      ]
    },
    {
      "cell_type": "code",
      "metadata": {
        "id": "kbP6IdVzieJj"
      },
      "source": [
        "class Gravity(tf.keras.optimizers.Optimizer):\n",
        "    def __init__(self, learning_rate=0.1, alpha=0.01, beta=0.9, name=\"Gravity\", **kwargs):\n",
        "        super(Gravity, self).__init__(name, **kwargs)\n",
        "        self._set_hyper('learning_rate', kwargs.get('lr', learning_rate))\n",
        "        self._set_hyper('decay', self._initial_decay)\n",
        "        self._set_hyper('alpha', alpha)\n",
        "        self._set_hyper('beta', beta)\n",
        "        self.epsilon = 1e-7\n",
        "    def _create_slots(self, var_list):\n",
        "        alpha = self._get_hyper(\"alpha\")\n",
        "        stddev = alpha/self.learning_rate\n",
        "        initializer = tf.keras.initializers.RandomNormal(mean=0.0, stddev=stddev, seed=None)\n",
        "        # initializer = 'zeros'\n",
        "        for var in var_list:\n",
        "            self.add_slot(var, \"velocity\", initializer=initializer)\n",
        "\n",
        "    @tf.function\n",
        "    def _resource_apply_dense(self, grad, var):\n",
        "        # Get Data\n",
        "        var_dtype = var.dtype.base_dtype\n",
        "        lr_t = self._decayed_lr(var_dtype) # handle learning rate decay\n",
        "        beta_hat = self._get_hyper(\"beta\", var_dtype)\n",
        "        t = tf.cast(self.iterations, float)\n",
        "        beta = (beta_hat*t + 1 )/(t + 2)\n",
        "        velocity = self.get_slot(var, \"velocity\")\n",
        "\n",
        "        # Calculations\n",
        "        max_step_grad = 1/tf.math.reduce_max(tf.math.abs(grad))\n",
        "        gradient_term = grad / (1 + (grad/max_step_grad)**2)\n",
        "\n",
        "        # update variables\n",
        "        updated_velocity = velocity.assign(beta*velocity + (1-beta)*gradient_term) \n",
        "        updated_var = var.assign(var - lr_t*updated_velocity)       \n",
        "        \n",
        "        # updates = [updated_var, updated_velocity]\n",
        "        # return tf.group(*updates)\n",
        "    def _resource_apply_sparse(self, grad, var):\n",
        "        raise NotImplementedError\n",
        "    def get_config(self):\n",
        "        config = super(Gravity, self).get_config()\n",
        "        config.update({\n",
        "            'learning_rate': self._serialize_hyperparameter('learning_rate'),\n",
        "            'decay': self._serialize_hyperparameter('decay'),\n",
        "            'alpha': self._serialize_hyperparameter('alpha'),\n",
        "            'beta': self._serialize_hyperparameter('beta'),\n",
        "            'epsilon': self.epsilon,\n",
        "        })\n",
        "        return config"
      ],
      "execution_count": 7,
      "outputs": []
    },
    {
      "cell_type": "markdown",
      "metadata": {
        "id": "mj1fRGlb6V3K"
      },
      "source": [
        "# Benchmarks"
      ]
    },
    {
      "cell_type": "markdown",
      "metadata": {
        "id": "1fzsIQBedqPG"
      },
      "source": [
        "## MNIST"
      ]
    },
    {
      "cell_type": "code",
      "metadata": {
        "id": "XurAPLKoyz87"
      },
      "source": [
        "mnist_dict = gravity.get_dataset_mnist(verbose=False, show_images=True)\n",
        "x_train_mnist, y_train_mnist = mnist_dict['train_data']\n",
        "x_test_mnist, y_test_mnist = mnist_dict['test_data']\n",
        "mnist_classes = mnist_dict['classes']\n",
        "mnist_input_shape = mnist_dict['input_shape']"
      ],
      "execution_count": null,
      "outputs": []
    },
    {
      "cell_type": "code",
      "metadata": {
        "id": "R1sHZNhkbMhS"
      },
      "source": [
        "# # Inception v3, resnet50, effinet B0\r\n",
        "# classes = 20\r\n",
        "# input_shape = (32, 32, 3)\r\n",
        "# input_shape_str = 'input_shape_'+'_'.join(map(lambda x: str(x), input_shape))\r\n",
        "\r\n",
        "# model = tf.keras.applications.EfficientNetB0(\r\n",
        "#     include_top=True,\r\n",
        "#     weights=None,\r\n",
        "#     input_tensor=None,\r\n",
        "#     input_shape=input_shape,\r\n",
        "#     pooling=None,\r\n",
        "#     classes=classes,\r\n",
        "#     classifier_activation=None,\r\n",
        "# )\r\n",
        "# name = '_'.join((model.name, f'{classes}classes', input_shape_str))\r\n",
        "# with open(name+'.txt', mode='w') as file:\r\n",
        "#     content = []\r\n",
        "#     model.summary(print_fn=lambda x: content.append(x))\r\n",
        "#     file.write('\\n'.join(content))"
      ],
      "execution_count": 4,
      "outputs": []
    },
    {
      "cell_type": "markdown",
      "metadata": {
        "id": "g5RN-k1AycU5"
      },
      "source": [
        "### VGG16"
      ]
    },
    {
      "cell_type": "code",
      "metadata": {
        "id": "L3Cf85GPdqPH"
      },
      "source": [
        "batch_size = 128\n",
        "epochs = 100\n",
        "gravity_opt = Gravity(learning_rate=0.1, alpha=0.01, beta=0.9)\n",
        "adam_opt = tf.keras.optimizers.Adam(learning_rate=0.001)\n",
        "cost_func = tf.keras.losses.SparseCategoricalCrossentropy(from_logits=True)\n",
        "\n",
        "base_model = gravity.get_vgg16(classes=mnist_classes,\n",
        "                               input_shape=(32, 32, 1),\n",
        "                               drop_out_rate=0,\n",
        "                               print_summary=False)\n",
        "model = gravity.resize_model_input_size(base_model,\n",
        "                                        target_size=(32, 32),\n",
        "                                        data_shape=(28, 28, 1),\n",
        "                                        print_summary=False)\n",
        "\n",
        "model.compile(optimizer=gravity_opt,\n",
        "            loss=cost_func,\n",
        "            metrics=['accuracy'])\n",
        "history = model.fit(x_train_mnist, y_train_mnist,\n",
        "                    batch_size=batch_size,\n",
        "                    epochs=epochs,\n",
        "                    validation_data=(x_test_mnist, y_test_mnist))\n",
        "gravity.plot_history(history)"
      ],
      "execution_count": null,
      "outputs": []
    },
    {
      "cell_type": "code",
      "metadata": {
        "id": "1xUt9xvndqPI",
        "colab": {
          "base_uri": "https://localhost:8080/"
        },
        "outputId": "a1f7c608-8389-46f6-b807-817d0379743a"
      },
      "source": [
        "comment = f\"\"\"Batch Size: {batch_size}\n",
        "max_step_grad = 1/tf.math.reduce_max(tf.math.abs(grad))\n",
        "velocity initializer: RandomNormal\n",
        "beta = (beta_hat*t+1)/(t+2)'\"\"\"\n",
        "gravity.save_run_info(model,\n",
        "                     history,\n",
        "                     gravity_opt,\n",
        "                     'MNIST',\n",
        "                     comment=comment)"
      ],
      "execution_count": null,
      "outputs": [
        {
          "output_type": "stream",
          "text": [
            "save_run_info completed\n"
          ],
          "name": "stdout"
        }
      ]
    },
    {
      "cell_type": "markdown",
      "metadata": {
        "id": "lGuLy-eFlK2R"
      },
      "source": [
        "### VGG19"
      ]
    },
    {
      "cell_type": "code",
      "metadata": {
        "id": "_utgLHPJlK2R",
        "colab": {
          "base_uri": "https://localhost:8080/",
          "height": 1000
        },
        "outputId": "407bdf5d-3491-48eb-fcad-7dab857b5f1e"
      },
      "source": [
        "batch_size = 128\n",
        "epochs = 100\n",
        "gravity_opt = Gravity(learning_rate=0.1, alpha=0.01, beta=0.9)\n",
        "adam_opt = tf.keras.optimizers.Adam(learning_rate=0.001)\n",
        "cost_func = tf.keras.losses.SparseCategoricalCrossentropy(from_logits=True)\n",
        "\n",
        "base_model = gravity.get_vgg19(classes=mnist_classes,\n",
        "                               input_shape=(32, 32, 1),\n",
        "                               drop_out_rate=0,\n",
        "                               print_summary=False)\n",
        "model = gravity.resize_model_input_size(base_model,\n",
        "                                        target_size=(32, 32),\n",
        "                                        data_shape=(28, 28, 1),\n",
        "                                        print_summary=False)\n",
        "\n",
        "model.compile(optimizer=gravity_opt,\n",
        "            loss=cost_func,\n",
        "            metrics=['accuracy'])\n",
        "history = model.fit(x_train_mnist, y_train_mnist,\n",
        "                    batch_size=batch_size,\n",
        "                    epochs=epochs,\n",
        "                    validation_data=(x_test_mnist, y_test_mnist))\n",
        "gravity.plot_history(history)"
      ],
      "execution_count": null,
      "outputs": [
        {
          "output_type": "stream",
          "text": [
            "Epoch 1/100\n",
            "  2/469 [..............................] - ETA: 18s - loss: 2.3023 - accuracy: 0.1055"
          ],
          "name": "stdout"
        },
        {
          "output_type": "stream",
          "text": [
            "WARNING:tensorflow:Callbacks method `on_train_batch_end` is slow compared to the batch time (batch time: 0.0264s vs `on_train_batch_end` time: 0.0499s). Check your callbacks.\n"
          ],
          "name": "stderr"
        },
        {
          "output_type": "stream",
          "text": [
            "469/469 [==============================] - 40s 86ms/step - loss: 1.0091 - accuracy: 0.6579 - val_loss: 0.0925 - val_accuracy: 0.9694\n",
            "Epoch 2/100\n",
            "469/469 [==============================] - 41s 87ms/step - loss: 0.0767 - accuracy: 0.9776 - val_loss: 0.0478 - val_accuracy: 0.9857\n",
            "Epoch 3/100\n",
            "469/469 [==============================] - 42s 89ms/step - loss: 0.0455 - accuracy: 0.9864 - val_loss: 0.0337 - val_accuracy: 0.9892\n",
            "Epoch 4/100\n",
            "469/469 [==============================] - 41s 88ms/step - loss: 0.0305 - accuracy: 0.9910 - val_loss: 0.0336 - val_accuracy: 0.9899\n",
            "Epoch 5/100\n",
            "469/469 [==============================] - 42s 89ms/step - loss: 0.0217 - accuracy: 0.9932 - val_loss: 0.0312 - val_accuracy: 0.9905\n",
            "Epoch 6/100\n",
            "469/469 [==============================] - 42s 89ms/step - loss: 0.0176 - accuracy: 0.9948 - val_loss: 0.0322 - val_accuracy: 0.9899\n",
            "Epoch 7/100\n",
            "469/469 [==============================] - 42s 89ms/step - loss: 0.0139 - accuracy: 0.9962 - val_loss: 0.0294 - val_accuracy: 0.9910\n",
            "Epoch 8/100\n",
            "469/469 [==============================] - 42s 89ms/step - loss: 0.0111 - accuracy: 0.9963 - val_loss: 0.0260 - val_accuracy: 0.9922\n",
            "Epoch 9/100\n",
            "469/469 [==============================] - 42s 89ms/step - loss: 0.0075 - accuracy: 0.9980 - val_loss: 0.0319 - val_accuracy: 0.9923\n",
            "Epoch 10/100\n",
            "469/469 [==============================] - 41s 88ms/step - loss: 0.0113 - accuracy: 0.9964 - val_loss: 0.0261 - val_accuracy: 0.9924\n",
            "Epoch 11/100\n",
            "469/469 [==============================] - 41s 88ms/step - loss: 0.0083 - accuracy: 0.9977 - val_loss: 0.0233 - val_accuracy: 0.9940\n",
            "Epoch 12/100\n",
            "469/469 [==============================] - 41s 88ms/step - loss: 0.0051 - accuracy: 0.9987 - val_loss: 0.0286 - val_accuracy: 0.9922\n",
            "Epoch 13/100\n",
            "469/469 [==============================] - 41s 88ms/step - loss: 0.0039 - accuracy: 0.9987 - val_loss: 0.0245 - val_accuracy: 0.9934\n",
            "Epoch 14/100\n",
            "469/469 [==============================] - 41s 88ms/step - loss: 0.0037 - accuracy: 0.9988 - val_loss: 0.0251 - val_accuracy: 0.9930\n",
            "Epoch 15/100\n",
            "469/469 [==============================] - 42s 89ms/step - loss: 0.0024 - accuracy: 0.9993 - val_loss: 0.0263 - val_accuracy: 0.9932\n",
            "Epoch 16/100\n",
            "469/469 [==============================] - 41s 88ms/step - loss: 0.0041 - accuracy: 0.9987 - val_loss: 0.0218 - val_accuracy: 0.9942\n",
            "Epoch 17/100\n",
            "469/469 [==============================] - 41s 88ms/step - loss: 0.0024 - accuracy: 0.9994 - val_loss: 0.0250 - val_accuracy: 0.9935\n",
            "Epoch 18/100\n",
            "469/469 [==============================] - 41s 88ms/step - loss: 0.0011 - accuracy: 0.9997 - val_loss: 0.0215 - val_accuracy: 0.9948\n",
            "Epoch 19/100\n",
            "469/469 [==============================] - 41s 88ms/step - loss: 2.5215e-04 - accuracy: 0.9999 - val_loss: 0.0260 - val_accuracy: 0.9937\n",
            "Epoch 20/100\n",
            "469/469 [==============================] - 42s 89ms/step - loss: 6.7640e-05 - accuracy: 1.0000 - val_loss: 0.0239 - val_accuracy: 0.9949\n",
            "Epoch 21/100\n",
            "469/469 [==============================] - 41s 88ms/step - loss: 1.8399e-05 - accuracy: 1.0000 - val_loss: 0.0250 - val_accuracy: 0.9949\n",
            "Epoch 22/100\n",
            "469/469 [==============================] - 42s 89ms/step - loss: 1.2632e-05 - accuracy: 1.0000 - val_loss: 0.0255 - val_accuracy: 0.9948\n",
            "Epoch 23/100\n",
            "469/469 [==============================] - 42s 89ms/step - loss: 9.8112e-06 - accuracy: 1.0000 - val_loss: 0.0260 - val_accuracy: 0.9948\n",
            "Epoch 24/100\n",
            "469/469 [==============================] - 41s 88ms/step - loss: 8.0486e-06 - accuracy: 1.0000 - val_loss: 0.0264 - val_accuracy: 0.9948\n",
            "Epoch 25/100\n",
            "469/469 [==============================] - 41s 88ms/step - loss: 6.7953e-06 - accuracy: 1.0000 - val_loss: 0.0268 - val_accuracy: 0.9948\n",
            "Epoch 26/100\n",
            "469/469 [==============================] - 41s 88ms/step - loss: 5.8906e-06 - accuracy: 1.0000 - val_loss: 0.0272 - val_accuracy: 0.9947\n",
            "Epoch 27/100\n",
            "469/469 [==============================] - 41s 88ms/step - loss: 5.1867e-06 - accuracy: 1.0000 - val_loss: 0.0275 - val_accuracy: 0.9947\n",
            "Epoch 28/100\n",
            "469/469 [==============================] - 41s 88ms/step - loss: 4.6316e-06 - accuracy: 1.0000 - val_loss: 0.0278 - val_accuracy: 0.9947\n",
            "Epoch 29/100\n",
            "469/469 [==============================] - 41s 88ms/step - loss: 4.1816e-06 - accuracy: 1.0000 - val_loss: 0.0280 - val_accuracy: 0.9947\n",
            "Epoch 30/100\n",
            "469/469 [==============================] - 41s 88ms/step - loss: 3.8064e-06 - accuracy: 1.0000 - val_loss: 0.0283 - val_accuracy: 0.9947\n",
            "Epoch 31/100\n",
            "469/469 [==============================] - 41s 88ms/step - loss: 3.4885e-06 - accuracy: 1.0000 - val_loss: 0.0285 - val_accuracy: 0.9947\n",
            "Epoch 32/100\n",
            "469/469 [==============================] - 41s 88ms/step - loss: 3.2210e-06 - accuracy: 1.0000 - val_loss: 0.0287 - val_accuracy: 0.9947\n",
            "Epoch 33/100\n",
            "469/469 [==============================] - 41s 88ms/step - loss: 2.9896e-06 - accuracy: 1.0000 - val_loss: 0.0289 - val_accuracy: 0.9947\n",
            "Epoch 34/100\n",
            "469/469 [==============================] - 41s 88ms/step - loss: 2.7873e-06 - accuracy: 1.0000 - val_loss: 0.0291 - val_accuracy: 0.9947\n",
            "Epoch 35/100\n",
            "469/469 [==============================] - 41s 88ms/step - loss: 2.6089e-06 - accuracy: 1.0000 - val_loss: 0.0292 - val_accuracy: 0.9947\n",
            "Epoch 36/100\n",
            "469/469 [==============================] - 41s 88ms/step - loss: 2.4513e-06 - accuracy: 1.0000 - val_loss: 0.0294 - val_accuracy: 0.9947\n",
            "Epoch 37/100\n",
            "469/469 [==============================] - 41s 88ms/step - loss: 2.3104e-06 - accuracy: 1.0000 - val_loss: 0.0295 - val_accuracy: 0.9947\n",
            "Epoch 38/100\n",
            "469/469 [==============================] - 41s 88ms/step - loss: 2.1850e-06 - accuracy: 1.0000 - val_loss: 0.0297 - val_accuracy: 0.9947\n",
            "Epoch 39/100\n",
            "469/469 [==============================] - 41s 88ms/step - loss: 2.0715e-06 - accuracy: 1.0000 - val_loss: 0.0298 - val_accuracy: 0.9947\n",
            "Epoch 40/100\n",
            "469/469 [==============================] - 41s 88ms/step - loss: 1.9698e-06 - accuracy: 1.0000 - val_loss: 0.0300 - val_accuracy: 0.9947\n",
            "Epoch 41/100\n",
            "469/469 [==============================] - 41s 88ms/step - loss: 1.8762e-06 - accuracy: 1.0000 - val_loss: 0.0301 - val_accuracy: 0.9947\n",
            "Epoch 42/100\n",
            "469/469 [==============================] - 41s 88ms/step - loss: 1.7910e-06 - accuracy: 1.0000 - val_loss: 0.0302 - val_accuracy: 0.9947\n",
            "Epoch 43/100\n",
            "469/469 [==============================] - 41s 88ms/step - loss: 1.7116e-06 - accuracy: 1.0000 - val_loss: 0.0304 - val_accuracy: 0.9947\n",
            "Epoch 44/100\n",
            "469/469 [==============================] - 41s 88ms/step - loss: 1.6390e-06 - accuracy: 1.0000 - val_loss: 0.0305 - val_accuracy: 0.9947\n",
            "Epoch 45/100\n",
            "469/469 [==============================] - 41s 88ms/step - loss: 1.5726e-06 - accuracy: 1.0000 - val_loss: 0.0306 - val_accuracy: 0.9947\n",
            "Epoch 46/100\n",
            "469/469 [==============================] - 41s 88ms/step - loss: 1.5106e-06 - accuracy: 1.0000 - val_loss: 0.0307 - val_accuracy: 0.9947\n",
            "Epoch 47/100\n",
            "469/469 [==============================] - 41s 88ms/step - loss: 1.4541e-06 - accuracy: 1.0000 - val_loss: 0.0308 - val_accuracy: 0.9947\n",
            "Epoch 48/100\n",
            "469/469 [==============================] - 41s 88ms/step - loss: 1.4008e-06 - accuracy: 1.0000 - val_loss: 0.0309 - val_accuracy: 0.9947\n",
            "Epoch 49/100\n",
            "469/469 [==============================] - 41s 88ms/step - loss: 1.3509e-06 - accuracy: 1.0000 - val_loss: 0.0310 - val_accuracy: 0.9947\n",
            "Epoch 50/100\n",
            "469/469 [==============================] - 41s 88ms/step - loss: 1.3045e-06 - accuracy: 1.0000 - val_loss: 0.0311 - val_accuracy: 0.9947\n",
            "Epoch 51/100\n",
            "469/469 [==============================] - 41s 88ms/step - loss: 1.2613e-06 - accuracy: 1.0000 - val_loss: 0.0312 - val_accuracy: 0.9947\n",
            "Epoch 52/100\n",
            "469/469 [==============================] - 41s 88ms/step - loss: 1.2202e-06 - accuracy: 1.0000 - val_loss: 0.0313 - val_accuracy: 0.9947\n",
            "Epoch 53/100\n",
            "469/469 [==============================] - 41s 88ms/step - loss: 1.1819e-06 - accuracy: 1.0000 - val_loss: 0.0314 - val_accuracy: 0.9947\n",
            "Epoch 54/100\n",
            "469/469 [==============================] - 41s 88ms/step - loss: 1.1457e-06 - accuracy: 1.0000 - val_loss: 0.0315 - val_accuracy: 0.9947\n",
            "Epoch 55/100\n",
            "469/469 [==============================] - 41s 88ms/step - loss: 1.1117e-06 - accuracy: 1.0000 - val_loss: 0.0316 - val_accuracy: 0.9947\n",
            "Epoch 56/100\n",
            "469/469 [==============================] - 41s 88ms/step - loss: 1.0794e-06 - accuracy: 1.0000 - val_loss: 0.0316 - val_accuracy: 0.9947\n",
            "Epoch 57/100\n",
            "469/469 [==============================] - 41s 88ms/step - loss: 1.0491e-06 - accuracy: 1.0000 - val_loss: 0.0317 - val_accuracy: 0.9947\n",
            "Epoch 58/100\n",
            "469/469 [==============================] - 41s 88ms/step - loss: 1.0203e-06 - accuracy: 1.0000 - val_loss: 0.0318 - val_accuracy: 0.9947\n",
            "Epoch 59/100\n",
            "469/469 [==============================] - 41s 88ms/step - loss: 9.9319e-07 - accuracy: 1.0000 - val_loss: 0.0319 - val_accuracy: 0.9947\n",
            "Epoch 60/100\n",
            "469/469 [==============================] - 41s 88ms/step - loss: 9.6705e-07 - accuracy: 1.0000 - val_loss: 0.0319 - val_accuracy: 0.9947\n",
            "Epoch 61/100\n",
            "469/469 [==============================] - 41s 88ms/step - loss: 9.4256e-07 - accuracy: 1.0000 - val_loss: 0.0320 - val_accuracy: 0.9947\n",
            "Epoch 62/100\n",
            "469/469 [==============================] - 41s 88ms/step - loss: 9.1825e-07 - accuracy: 1.0000 - val_loss: 0.0321 - val_accuracy: 0.9947\n",
            "Epoch 63/100\n",
            "469/469 [==============================] - 41s 88ms/step - loss: 8.9607e-07 - accuracy: 1.0000 - val_loss: 0.0321 - val_accuracy: 0.9947\n",
            "Epoch 64/100\n",
            "469/469 [==============================] - 41s 88ms/step - loss: 8.7493e-07 - accuracy: 1.0000 - val_loss: 0.0322 - val_accuracy: 0.9947\n",
            "Epoch 65/100\n",
            "469/469 [==============================] - 41s 88ms/step - loss: 8.5468e-07 - accuracy: 1.0000 - val_loss: 0.0323 - val_accuracy: 0.9947\n",
            "Epoch 66/100\n",
            "469/469 [==============================] - 41s 88ms/step - loss: 8.3528e-07 - accuracy: 1.0000 - val_loss: 0.0323 - val_accuracy: 0.9947\n",
            "Epoch 67/100\n",
            "469/469 [==============================] - 41s 88ms/step - loss: 8.1682e-07 - accuracy: 1.0000 - val_loss: 0.0324 - val_accuracy: 0.9947\n",
            "Epoch 68/100\n",
            "469/469 [==============================] - 41s 88ms/step - loss: 7.9902e-07 - accuracy: 1.0000 - val_loss: 0.0325 - val_accuracy: 0.9947\n",
            "Epoch 69/100\n",
            "469/469 [==============================] - 41s 88ms/step - loss: 7.8201e-07 - accuracy: 1.0000 - val_loss: 0.0325 - val_accuracy: 0.9947\n",
            "Epoch 70/100\n",
            "469/469 [==============================] - 41s 88ms/step - loss: 7.6562e-07 - accuracy: 1.0000 - val_loss: 0.0326 - val_accuracy: 0.9947\n",
            "Epoch 71/100\n",
            "469/469 [==============================] - 41s 88ms/step - loss: 7.4998e-07 - accuracy: 1.0000 - val_loss: 0.0327 - val_accuracy: 0.9947\n",
            "Epoch 72/100\n",
            "469/469 [==============================] - 41s 88ms/step - loss: 7.3487e-07 - accuracy: 1.0000 - val_loss: 0.0327 - val_accuracy: 0.9947\n",
            "Epoch 73/100\n",
            "469/469 [==============================] - 41s 88ms/step - loss: 7.2054e-07 - accuracy: 1.0000 - val_loss: 0.0328 - val_accuracy: 0.9947\n",
            "Epoch 74/100\n",
            "469/469 [==============================] - 41s 88ms/step - loss: 7.0672e-07 - accuracy: 1.0000 - val_loss: 0.0328 - val_accuracy: 0.9947\n",
            "Epoch 75/100\n",
            "469/469 [==============================] - 41s 88ms/step - loss: 6.9335e-07 - accuracy: 1.0000 - val_loss: 0.0329 - val_accuracy: 0.9947\n",
            "Epoch 76/100\n",
            "469/469 [==============================] - 41s 88ms/step - loss: 6.8036e-07 - accuracy: 1.0000 - val_loss: 0.0329 - val_accuracy: 0.9947\n",
            "Epoch 77/100\n",
            "469/469 [==============================] - 41s 88ms/step - loss: 6.6766e-07 - accuracy: 1.0000 - val_loss: 0.0330 - val_accuracy: 0.9947\n",
            "Epoch 78/100\n",
            "469/469 [==============================] - 41s 88ms/step - loss: 6.5599e-07 - accuracy: 1.0000 - val_loss: 0.0330 - val_accuracy: 0.9947\n",
            "Epoch 79/100\n",
            "469/469 [==============================] - 41s 88ms/step - loss: 6.4450e-07 - accuracy: 1.0000 - val_loss: 0.0331 - val_accuracy: 0.9947\n",
            "Epoch 80/100\n",
            "469/469 [==============================] - 42s 89ms/step - loss: 6.3313e-07 - accuracy: 1.0000 - val_loss: 0.0331 - val_accuracy: 0.9947\n",
            "Epoch 81/100\n",
            "469/469 [==============================] - 41s 88ms/step - loss: 6.2255e-07 - accuracy: 1.0000 - val_loss: 0.0332 - val_accuracy: 0.9947\n",
            "Epoch 82/100\n",
            "469/469 [==============================] - 41s 88ms/step - loss: 6.1214e-07 - accuracy: 1.0000 - val_loss: 0.0332 - val_accuracy: 0.9947\n",
            "Epoch 83/100\n",
            "469/469 [==============================] - 42s 89ms/step - loss: 6.0203e-07 - accuracy: 1.0000 - val_loss: 0.0333 - val_accuracy: 0.9947\n",
            "Epoch 84/100\n",
            "469/469 [==============================] - 41s 88ms/step - loss: 5.9231e-07 - accuracy: 1.0000 - val_loss: 0.0333 - val_accuracy: 0.9947\n",
            "Epoch 85/100\n",
            "469/469 [==============================] - 41s 88ms/step - loss: 5.8270e-07 - accuracy: 1.0000 - val_loss: 0.0334 - val_accuracy: 0.9947\n",
            "Epoch 86/100\n",
            "469/469 [==============================] - 41s 88ms/step - loss: 5.7365e-07 - accuracy: 1.0000 - val_loss: 0.0334 - val_accuracy: 0.9947\n",
            "Epoch 87/100\n",
            "469/469 [==============================] - 41s 88ms/step - loss: 5.6484e-07 - accuracy: 1.0000 - val_loss: 0.0335 - val_accuracy: 0.9947\n",
            "Epoch 88/100\n",
            "469/469 [==============================] - 41s 88ms/step - loss: 5.5620e-07 - accuracy: 1.0000 - val_loss: 0.0335 - val_accuracy: 0.9947\n",
            "Epoch 89/100\n",
            "469/469 [==============================] - 41s 88ms/step - loss: 5.4791e-07 - accuracy: 1.0000 - val_loss: 0.0336 - val_accuracy: 0.9947\n",
            "Epoch 90/100\n",
            "469/469 [==============================] - 42s 89ms/step - loss: 5.3983e-07 - accuracy: 1.0000 - val_loss: 0.0336 - val_accuracy: 0.9947\n",
            "Epoch 91/100\n",
            "469/469 [==============================] - 41s 88ms/step - loss: 5.3196e-07 - accuracy: 1.0000 - val_loss: 0.0336 - val_accuracy: 0.9947\n",
            "Epoch 92/100\n",
            "469/469 [==============================] - 41s 88ms/step - loss: 5.2430e-07 - accuracy: 1.0000 - val_loss: 0.0337 - val_accuracy: 0.9947\n",
            "Epoch 93/100\n",
            "469/469 [==============================] - 41s 88ms/step - loss: 5.1692e-07 - accuracy: 1.0000 - val_loss: 0.0337 - val_accuracy: 0.9947\n",
            "Epoch 94/100\n",
            "469/469 [==============================] - 41s 88ms/step - loss: 5.0978e-07 - accuracy: 1.0000 - val_loss: 0.0338 - val_accuracy: 0.9947\n",
            "Epoch 95/100\n",
            "469/469 [==============================] - 41s 88ms/step - loss: 5.0280e-07 - accuracy: 1.0000 - val_loss: 0.0338 - val_accuracy: 0.9947\n",
            "Epoch 96/100\n",
            "469/469 [==============================] - 41s 88ms/step - loss: 4.9604e-07 - accuracy: 1.0000 - val_loss: 0.0338 - val_accuracy: 0.9947\n",
            "Epoch 97/100\n",
            "469/469 [==============================] - 42s 89ms/step - loss: 4.8936e-07 - accuracy: 1.0000 - val_loss: 0.0339 - val_accuracy: 0.9947\n",
            "Epoch 98/100\n",
            "469/469 [==============================] - 42s 89ms/step - loss: 4.8297e-07 - accuracy: 1.0000 - val_loss: 0.0339 - val_accuracy: 0.9947\n",
            "Epoch 99/100\n",
            "469/469 [==============================] - 41s 88ms/step - loss: 4.7661e-07 - accuracy: 1.0000 - val_loss: 0.0340 - val_accuracy: 0.9947\n",
            "Epoch 100/100\n",
            "469/469 [==============================] - 41s 88ms/step - loss: 4.7062e-07 - accuracy: 1.0000 - val_loss: 0.0340 - val_accuracy: 0.9947\n"
          ],
          "name": "stdout"
        },
        {
          "output_type": "display_data",
          "data": {
            "image/png": "[encoded data removed]",
            "text/plain": [
              "<Figure size 432x288 with 1 Axes>"
            ]
          },
          "metadata": {
            "tags": []
          }
        },
        {
          "output_type": "display_data",
          "data": {
            "image/png": "[encoded data removed]",
            "text/plain": [
              "<Figure size 432x288 with 1 Axes>"
            ]
          },
          "metadata": {
            "tags": []
          }
        }
      ]
    },
    {
      "cell_type": "code",
      "metadata": {
        "colab": {
          "base_uri": "https://localhost:8080/"
        },
        "id": "Et8UxnE_lK2S",
        "outputId": "f6a42837-aaf7-4fbd-ff13-7bb2f3a1495c"
      },
      "source": [
        "comment = f\"\"\"Batch Size: {batch_size}\n",
        "max_step_grad = 1/tf.math.reduce_max(tf.math.abs(grad))\n",
        "velocity initializer: RandomNormal\n",
        "beta = (beta_hat*t+1)/(t+2)'\"\"\"\n",
        "gravity.save_run_info(model,\n",
        "                     history,\n",
        "                     gravity_opt,\n",
        "                     'MNIST',\n",
        "                     comment=comment)"
      ],
      "execution_count": null,
      "outputs": [
        {
          "output_type": "stream",
          "text": [
            "save_run_info completed\n"
          ],
          "name": "stdout"
        }
      ]
    },
    {
      "cell_type": "markdown",
      "metadata": {
        "id": "ma2-qYW1sdpn"
      },
      "source": [
        "## Fashion MNIST"
      ]
    },
    {
      "cell_type": "code",
      "metadata": {
        "id": "pSCVLXVzsdpo"
      },
      "source": [
        "fashion_mnist_dict = gravity.get_dataset_fashion_mnist(verbose=False, show_images=False)\n",
        "x_train_fashion_mnist, y_train_fashion_mnist = fashion_mnist_dict['train_data']\n",
        "x_test_fashion_mnist, y_test_fashion_mnist = fashion_mnist_dict['test_data']\n",
        "fashion_mnist_classes = fashion_mnist_dict['classes']\n",
        "fashion_mnist_input_shape = fashion_mnist_dict['input_shape']"
      ],
      "execution_count": null,
      "outputs": []
    },
    {
      "cell_type": "markdown",
      "metadata": {
        "id": "WUXoqDldsdpp"
      },
      "source": [
        "### VGG16"
      ]
    },
    {
      "cell_type": "code",
      "metadata": {
        "id": "1OrCBYxhsdpp"
      },
      "source": [
        "batch_size = 128\n",
        "epochs = 100\n",
        "gravity_opt = Gravity(learning_rate=0.1, alpha=0.01, beta=0.9)\n",
        "adam_opt = tf.keras.optimizers.Adam(learning_rate=0.001)\n",
        "cost_func = tf.keras.losses.SparseCategoricalCrossentropy(from_logits=True)\n",
        "\n",
        "base_model = gravity.get_vgg16(classes=fashion_mnist_classes,\n",
        "                               input_shape=(32, 32, 1),\n",
        "                               drop_out_rate=0,\n",
        "                               print_summary=False)\n",
        "model = gravity.resize_model_input_size(base_model,\n",
        "                                        target_size=(32, 32),\n",
        "                                        data_shape=fashion_mnist_input_shape,\n",
        "                                        print_summary=False)\n",
        "\n",
        "model.compile(optimizer=gravity_opt,\n",
        "            loss=cost_func,\n",
        "            metrics=['accuracy'])\n",
        "history = model.fit(x_train_fashion_mnist, y_train_fashion_mnist,\n",
        "                    batch_size=batch_size,\n",
        "                    epochs=epochs,\n",
        "                    validation_data=(x_test_fashion_mnist, y_test_fashion_mnist))\n",
        "gravity.plot_history(history)"
      ],
      "execution_count": null,
      "outputs": []
    },
    {
      "cell_type": "code",
      "metadata": {
        "colab": {
          "base_uri": "https://localhost:8080/"
        },
        "id": "J9r6WTBXsdpp",
        "outputId": "9470ff8e-25be-411a-ca55-98e52c081e24"
      },
      "source": [
        "comment = f\"\"\"Batch Size: {batch_size}\n",
        "max_step_grad = 1/tf.math.reduce_max(tf.math.abs(grad))\n",
        "velocity initializer: RandomNormal\n",
        "beta = (beta_hat*t+1)/(t+2)'\"\"\"\n",
        "gravity.save_run_info(model,\n",
        "                     history,\n",
        "                     gravity_opt,\n",
        "                     'Fashion MNIST',\n",
        "                     comment=comment)"
      ],
      "execution_count": null,
      "outputs": [
        {
          "output_type": "stream",
          "text": [
            "save_run_info completed\n"
          ],
          "name": "stdout"
        }
      ]
    },
    {
      "cell_type": "markdown",
      "metadata": {
        "id": "9ByXsh_Asdpq"
      },
      "source": [
        "### VGG19"
      ]
    },
    {
      "cell_type": "code",
      "metadata": {
        "id": "qdgPW3Zcsdpq",
        "colab": {
          "base_uri": "https://localhost:8080/",
          "height": 1000
        },
        "outputId": "91a4230b-c033-451a-9ff0-b625f68ace3b"
      },
      "source": [
        "batch_size = 128\n",
        "epochs = 100\n",
        "gravity_opt = Gravity(learning_rate=0.1, alpha=0.01, beta=0.9)\n",
        "adam_opt = tf.keras.optimizers.Adam(learning_rate=0.001)\n",
        "cost_func = tf.keras.losses.SparseCategoricalCrossentropy(from_logits=True)\n",
        "\n",
        "base_model = gravity.get_vgg19(classes=fashion_mnist_classes,\n",
        "                               input_shape=(32, 32, 1),\n",
        "                               drop_out_rate=0,\n",
        "                               print_summary=False)\n",
        "model = gravity.resize_model_input_size(base_model,\n",
        "                                        target_size=(32, 32),\n",
        "                                        data_shape=fashion_mnist_input_shape,\n",
        "                                        print_summary=False)\n",
        "\n",
        "model.compile(optimizer=gravity_opt,\n",
        "            loss=cost_func,\n",
        "            metrics=['accuracy'])\n",
        "history = model.fit(x_train_fashion_mnist, y_train_fashion_mnist,\n",
        "                    batch_size=batch_size,\n",
        "                    epochs=epochs,\n",
        "                    validation_data=(x_test_fashion_mnist, y_test_fashion_mnist))\n",
        "gravity.plot_history(history)"
      ],
      "execution_count": null,
      "outputs": [
        {
          "output_type": "stream",
          "text": [
            "Epoch 1/100\n",
            "  2/469 [..............................] - ETA: 40s - loss: 2.3029 - accuracy: 0.0820"
          ],
          "name": "stdout"
        },
        {
          "output_type": "stream",
          "text": [
            "WARNING:tensorflow:Callbacks method `on_train_batch_end` is slow compared to the batch time (batch time: 0.0336s vs `on_train_batch_end` time: 0.0614s). Check your callbacks.\n"
          ],
          "name": "stderr"
        },
        {
          "output_type": "stream",
          "text": [
            "469/469 [==============================] - 42s 89ms/step - loss: 1.3161 - accuracy: 0.5050 - val_loss: 0.5353 - val_accuracy: 0.8003\n",
            "Epoch 2/100\n",
            "469/469 [==============================] - 41s 87ms/step - loss: 0.4345 - accuracy: 0.8379 - val_loss: 0.4126 - val_accuracy: 0.8439\n",
            "Epoch 3/100\n",
            "469/469 [==============================] - 41s 88ms/step - loss: 0.3374 - accuracy: 0.8747 - val_loss: 0.3453 - val_accuracy: 0.8722\n",
            "Epoch 4/100\n",
            "469/469 [==============================] - 41s 87ms/step - loss: 0.2929 - accuracy: 0.8893 - val_loss: 0.3348 - val_accuracy: 0.8737\n",
            "Epoch 5/100\n",
            "469/469 [==============================] - 41s 87ms/step - loss: 0.2662 - accuracy: 0.9007 - val_loss: 0.2800 - val_accuracy: 0.8994\n",
            "Epoch 6/100\n",
            "469/469 [==============================] - 41s 88ms/step - loss: 0.2367 - accuracy: 0.9122 - val_loss: 0.2750 - val_accuracy: 0.9016\n",
            "Epoch 7/100\n",
            "469/469 [==============================] - 41s 88ms/step - loss: 0.2169 - accuracy: 0.9199 - val_loss: 0.2868 - val_accuracy: 0.8977\n",
            "Epoch 8/100\n",
            "469/469 [==============================] - 41s 88ms/step - loss: 0.1977 - accuracy: 0.9271 - val_loss: 0.2531 - val_accuracy: 0.9097\n",
            "Epoch 9/100\n",
            "469/469 [==============================] - 41s 88ms/step - loss: 0.1792 - accuracy: 0.9330 - val_loss: 0.2715 - val_accuracy: 0.9064\n",
            "Epoch 10/100\n",
            "469/469 [==============================] - 41s 88ms/step - loss: 0.1646 - accuracy: 0.9388 - val_loss: 0.2476 - val_accuracy: 0.9136\n",
            "Epoch 11/100\n",
            "469/469 [==============================] - 41s 88ms/step - loss: 0.1488 - accuracy: 0.9447 - val_loss: 0.2505 - val_accuracy: 0.9159\n",
            "Epoch 12/100\n",
            "469/469 [==============================] - 41s 88ms/step - loss: 0.1329 - accuracy: 0.9508 - val_loss: 0.2427 - val_accuracy: 0.9153\n",
            "Epoch 13/100\n",
            "469/469 [==============================] - 41s 88ms/step - loss: 0.1230 - accuracy: 0.9542 - val_loss: 0.2673 - val_accuracy: 0.9151\n",
            "Epoch 14/100\n",
            "469/469 [==============================] - 41s 88ms/step - loss: 0.1126 - accuracy: 0.9571 - val_loss: 0.2734 - val_accuracy: 0.9162\n",
            "Epoch 15/100\n",
            "469/469 [==============================] - 41s 88ms/step - loss: 0.1025 - accuracy: 0.9623 - val_loss: 0.2655 - val_accuracy: 0.9141\n",
            "Epoch 16/100\n",
            "469/469 [==============================] - 41s 88ms/step - loss: 0.0888 - accuracy: 0.9663 - val_loss: 0.2805 - val_accuracy: 0.9169\n",
            "Epoch 17/100\n",
            "469/469 [==============================] - 41s 88ms/step - loss: 0.0866 - accuracy: 0.9676 - val_loss: 0.3248 - val_accuracy: 0.9037\n",
            "Epoch 18/100\n",
            "469/469 [==============================] - 41s 88ms/step - loss: 0.0702 - accuracy: 0.9739 - val_loss: 0.2857 - val_accuracy: 0.9172\n",
            "Epoch 19/100\n",
            "469/469 [==============================] - 41s 88ms/step - loss: 0.0687 - accuracy: 0.9747 - val_loss: 0.2935 - val_accuracy: 0.9214\n",
            "Epoch 20/100\n",
            "469/469 [==============================] - 41s 88ms/step - loss: 0.0592 - accuracy: 0.9777 - val_loss: 0.3035 - val_accuracy: 0.9173\n",
            "Epoch 21/100\n",
            "469/469 [==============================] - 41s 88ms/step - loss: 0.0540 - accuracy: 0.9795 - val_loss: 0.3366 - val_accuracy: 0.9152\n",
            "Epoch 22/100\n",
            "469/469 [==============================] - 41s 88ms/step - loss: 0.0494 - accuracy: 0.9818 - val_loss: 0.4141 - val_accuracy: 0.9158\n",
            "Epoch 23/100\n",
            "469/469 [==============================] - 41s 88ms/step - loss: 0.0479 - accuracy: 0.9821 - val_loss: 0.3250 - val_accuracy: 0.9236\n",
            "Epoch 24/100\n",
            "469/469 [==============================] - 41s 88ms/step - loss: 0.0384 - accuracy: 0.9860 - val_loss: 0.3602 - val_accuracy: 0.9207\n",
            "Epoch 25/100\n",
            "469/469 [==============================] - 41s 88ms/step - loss: 0.0370 - accuracy: 0.9862 - val_loss: 0.3484 - val_accuracy: 0.9179\n",
            "Epoch 26/100\n",
            "469/469 [==============================] - 41s 88ms/step - loss: 0.0346 - accuracy: 0.9878 - val_loss: 0.3542 - val_accuracy: 0.9208\n",
            "Epoch 27/100\n",
            "469/469 [==============================] - 41s 88ms/step - loss: 0.0356 - accuracy: 0.9870 - val_loss: 0.3690 - val_accuracy: 0.9193\n",
            "Epoch 28/100\n",
            "469/469 [==============================] - 41s 88ms/step - loss: 0.0339 - accuracy: 0.9877 - val_loss: 0.3946 - val_accuracy: 0.9205\n",
            "Epoch 29/100\n",
            "469/469 [==============================] - 41s 87ms/step - loss: 0.0296 - accuracy: 0.9893 - val_loss: 0.3951 - val_accuracy: 0.9187\n",
            "Epoch 30/100\n",
            "469/469 [==============================] - 41s 87ms/step - loss: 0.0239 - accuracy: 0.9911 - val_loss: 0.4165 - val_accuracy: 0.9180\n",
            "Epoch 31/100\n",
            "469/469 [==============================] - 41s 88ms/step - loss: 0.0227 - accuracy: 0.9914 - val_loss: 0.4342 - val_accuracy: 0.9160\n",
            "Epoch 32/100\n",
            "469/469 [==============================] - 41s 88ms/step - loss: 0.0210 - accuracy: 0.9927 - val_loss: 0.4436 - val_accuracy: 0.9197\n",
            "Epoch 33/100\n",
            "469/469 [==============================] - 41s 88ms/step - loss: 0.0189 - accuracy: 0.9933 - val_loss: 0.4562 - val_accuracy: 0.9211\n",
            "Epoch 34/100\n",
            "469/469 [==============================] - 41s 88ms/step - loss: 0.0159 - accuracy: 0.9949 - val_loss: 0.3918 - val_accuracy: 0.9219\n",
            "Epoch 35/100\n",
            "469/469 [==============================] - 41s 88ms/step - loss: 0.0143 - accuracy: 0.9950 - val_loss: 0.4229 - val_accuracy: 0.9210\n",
            "Epoch 36/100\n",
            "469/469 [==============================] - 41s 88ms/step - loss: 0.0145 - accuracy: 0.9952 - val_loss: 0.4417 - val_accuracy: 0.9178\n",
            "Epoch 37/100\n",
            "469/469 [==============================] - 41s 88ms/step - loss: 0.0149 - accuracy: 0.9950 - val_loss: 0.4889 - val_accuracy: 0.9205\n",
            "Epoch 38/100\n",
            "469/469 [==============================] - 41s 88ms/step - loss: 0.0175 - accuracy: 0.9942 - val_loss: 0.4275 - val_accuracy: 0.9149\n",
            "Epoch 39/100\n",
            "469/469 [==============================] - 41s 88ms/step - loss: 0.0135 - accuracy: 0.9953 - val_loss: 0.4184 - val_accuracy: 0.9189\n",
            "Epoch 40/100\n",
            "469/469 [==============================] - 41s 88ms/step - loss: 0.0110 - accuracy: 0.9963 - val_loss: 0.5110 - val_accuracy: 0.9145\n",
            "Epoch 41/100\n",
            "469/469 [==============================] - 41s 88ms/step - loss: 0.0099 - accuracy: 0.9969 - val_loss: 0.5114 - val_accuracy: 0.9190\n",
            "Epoch 42/100\n",
            "469/469 [==============================] - 41s 88ms/step - loss: 0.0113 - accuracy: 0.9962 - val_loss: 0.4208 - val_accuracy: 0.9220\n",
            "Epoch 43/100\n",
            "469/469 [==============================] - 41s 88ms/step - loss: 0.0101 - accuracy: 0.9966 - val_loss: 0.4641 - val_accuracy: 0.9232\n",
            "Epoch 44/100\n",
            "469/469 [==============================] - 41s 88ms/step - loss: 0.0063 - accuracy: 0.9979 - val_loss: 0.5360 - val_accuracy: 0.9198\n",
            "Epoch 45/100\n",
            "469/469 [==============================] - 41s 88ms/step - loss: 0.0082 - accuracy: 0.9973 - val_loss: 0.4944 - val_accuracy: 0.9230\n",
            "Epoch 46/100\n",
            "469/469 [==============================] - 41s 88ms/step - loss: 0.0063 - accuracy: 0.9979 - val_loss: 0.4915 - val_accuracy: 0.9230\n",
            "Epoch 47/100\n",
            "469/469 [==============================] - 41s 88ms/step - loss: 0.0104 - accuracy: 0.9966 - val_loss: 0.4244 - val_accuracy: 0.9233\n",
            "Epoch 48/100\n",
            "469/469 [==============================] - 41s 88ms/step - loss: 0.0100 - accuracy: 0.9967 - val_loss: 0.4296 - val_accuracy: 0.9251\n",
            "Epoch 49/100\n",
            "469/469 [==============================] - 41s 88ms/step - loss: 0.0056 - accuracy: 0.9981 - val_loss: 0.5275 - val_accuracy: 0.9193\n",
            "Epoch 50/100\n",
            "469/469 [==============================] - 41s 88ms/step - loss: 0.0059 - accuracy: 0.9981 - val_loss: 0.5300 - val_accuracy: 0.9224\n",
            "Epoch 51/100\n",
            "469/469 [==============================] - 41s 88ms/step - loss: 0.0044 - accuracy: 0.9987 - val_loss: 0.5132 - val_accuracy: 0.9230\n",
            "Epoch 52/100\n",
            "469/469 [==============================] - 41s 88ms/step - loss: 0.0074 - accuracy: 0.9979 - val_loss: 0.5067 - val_accuracy: 0.9215\n",
            "Epoch 53/100\n",
            "469/469 [==============================] - 41s 88ms/step - loss: 0.0021 - accuracy: 0.9995 - val_loss: 0.5252 - val_accuracy: 0.9198\n",
            "Epoch 54/100\n",
            "469/469 [==============================] - 41s 88ms/step - loss: 0.0089 - accuracy: 0.9970 - val_loss: 0.4380 - val_accuracy: 0.9219\n",
            "Epoch 55/100\n",
            "469/469 [==============================] - 41s 88ms/step - loss: 0.0053 - accuracy: 0.9983 - val_loss: 0.5175 - val_accuracy: 0.9210\n",
            "Epoch 56/100\n",
            "469/469 [==============================] - 41s 88ms/step - loss: 0.0042 - accuracy: 0.9986 - val_loss: 0.5223 - val_accuracy: 0.9201\n",
            "Epoch 57/100\n",
            "469/469 [==============================] - 41s 88ms/step - loss: 0.0014 - accuracy: 0.9995 - val_loss: 0.5683 - val_accuracy: 0.9234\n",
            "Epoch 58/100\n",
            "469/469 [==============================] - 42s 89ms/step - loss: 0.0042 - accuracy: 0.9986 - val_loss: 0.5108 - val_accuracy: 0.9160\n",
            "Epoch 59/100\n",
            "469/469 [==============================] - 42s 89ms/step - loss: 0.0043 - accuracy: 0.9986 - val_loss: 0.5132 - val_accuracy: 0.9206\n",
            "Epoch 60/100\n",
            "469/469 [==============================] - 41s 88ms/step - loss: 0.0076 - accuracy: 0.9975 - val_loss: 0.4711 - val_accuracy: 0.9216\n",
            "Epoch 61/100\n",
            "469/469 [==============================] - 42s 89ms/step - loss: 0.0039 - accuracy: 0.9989 - val_loss: 0.4842 - val_accuracy: 0.9205\n",
            "Epoch 62/100\n",
            "469/469 [==============================] - 41s 88ms/step - loss: 0.0078 - accuracy: 0.9974 - val_loss: 0.4782 - val_accuracy: 0.9171\n",
            "Epoch 63/100\n",
            "469/469 [==============================] - 41s 88ms/step - loss: 0.0040 - accuracy: 0.9988 - val_loss: 0.5311 - val_accuracy: 0.9226\n",
            "Epoch 64/100\n",
            "469/469 [==============================] - 41s 88ms/step - loss: 0.0035 - accuracy: 0.9988 - val_loss: 0.5332 - val_accuracy: 0.9233\n",
            "Epoch 65/100\n",
            "469/469 [==============================] - 41s 88ms/step - loss: 0.0042 - accuracy: 0.9986 - val_loss: 0.5248 - val_accuracy: 0.9222\n",
            "Epoch 66/100\n",
            "469/469 [==============================] - 41s 88ms/step - loss: 0.0027 - accuracy: 0.9991 - val_loss: 0.5272 - val_accuracy: 0.9194\n",
            "Epoch 67/100\n",
            "469/469 [==============================] - 41s 88ms/step - loss: 0.0031 - accuracy: 0.9990 - val_loss: 0.5026 - val_accuracy: 0.9209\n",
            "Epoch 68/100\n",
            "469/469 [==============================] - 41s 88ms/step - loss: 0.0055 - accuracy: 0.9982 - val_loss: 0.5341 - val_accuracy: 0.9247\n",
            "Epoch 69/100\n",
            "469/469 [==============================] - 41s 88ms/step - loss: 0.0066 - accuracy: 0.9981 - val_loss: 0.4925 - val_accuracy: 0.9168\n",
            "Epoch 70/100\n",
            "469/469 [==============================] - 41s 88ms/step - loss: 0.0043 - accuracy: 0.9986 - val_loss: 0.5108 - val_accuracy: 0.9231\n",
            "Epoch 71/100\n",
            "469/469 [==============================] - 41s 88ms/step - loss: 0.0028 - accuracy: 0.9991 - val_loss: 0.5325 - val_accuracy: 0.9233\n",
            "Epoch 72/100\n",
            "469/469 [==============================] - 41s 88ms/step - loss: 0.0031 - accuracy: 0.9990 - val_loss: 0.5523 - val_accuracy: 0.9212\n",
            "Epoch 73/100\n",
            "469/469 [==============================] - 41s 88ms/step - loss: 0.0056 - accuracy: 0.9982 - val_loss: 0.5079 - val_accuracy: 0.9251\n",
            "Epoch 74/100\n",
            "469/469 [==============================] - 41s 88ms/step - loss: 0.0014 - accuracy: 0.9997 - val_loss: 0.5312 - val_accuracy: 0.9235\n",
            "Epoch 75/100\n",
            "469/469 [==============================] - 41s 88ms/step - loss: 9.9299e-04 - accuracy: 0.9997 - val_loss: 0.5573 - val_accuracy: 0.9224\n",
            "Epoch 76/100\n",
            "469/469 [==============================] - 41s 88ms/step - loss: 8.2480e-04 - accuracy: 0.9997 - val_loss: 0.6203 - val_accuracy: 0.9226\n",
            "Epoch 77/100\n",
            "469/469 [==============================] - 41s 88ms/step - loss: 0.0026 - accuracy: 0.9992 - val_loss: 0.5695 - val_accuracy: 0.9250\n",
            "Epoch 78/100\n",
            "469/469 [==============================] - 41s 88ms/step - loss: 0.0013 - accuracy: 0.9997 - val_loss: 0.5148 - val_accuracy: 0.9187\n",
            "Epoch 79/100\n",
            "469/469 [==============================] - 41s 88ms/step - loss: 0.0032 - accuracy: 0.9990 - val_loss: 0.5076 - val_accuracy: 0.9202\n",
            "Epoch 80/100\n",
            "469/469 [==============================] - 41s 88ms/step - loss: 0.0025 - accuracy: 0.9993 - val_loss: 0.5546 - val_accuracy: 0.9217\n",
            "Epoch 81/100\n",
            "469/469 [==============================] - 41s 88ms/step - loss: 2.9017e-04 - accuracy: 0.9999 - val_loss: 0.6406 - val_accuracy: 0.9232\n",
            "Epoch 82/100\n",
            "469/469 [==============================] - 41s 88ms/step - loss: 4.0394e-04 - accuracy: 0.9999 - val_loss: 0.6177 - val_accuracy: 0.9248\n",
            "Epoch 83/100\n",
            "469/469 [==============================] - 41s 88ms/step - loss: 3.0601e-05 - accuracy: 1.0000 - val_loss: 0.6420 - val_accuracy: 0.9244\n",
            "Epoch 84/100\n",
            "469/469 [==============================] - 41s 88ms/step - loss: 9.5762e-06 - accuracy: 1.0000 - val_loss: 0.6535 - val_accuracy: 0.9240\n",
            "Epoch 85/100\n",
            "469/469 [==============================] - 41s 88ms/step - loss: 7.4112e-06 - accuracy: 1.0000 - val_loss: 0.6628 - val_accuracy: 0.9242\n",
            "Epoch 86/100\n",
            "469/469 [==============================] - 41s 88ms/step - loss: 6.0771e-06 - accuracy: 1.0000 - val_loss: 0.6708 - val_accuracy: 0.9240\n",
            "Epoch 87/100\n",
            "469/469 [==============================] - 41s 88ms/step - loss: 5.1584e-06 - accuracy: 1.0000 - val_loss: 0.6778 - val_accuracy: 0.9241\n",
            "Epoch 88/100\n",
            "469/469 [==============================] - 41s 88ms/step - loss: 4.4829e-06 - accuracy: 1.0000 - val_loss: 0.6842 - val_accuracy: 0.9243\n",
            "Epoch 89/100\n",
            "469/469 [==============================] - 41s 88ms/step - loss: 3.9632e-06 - accuracy: 1.0000 - val_loss: 0.6899 - val_accuracy: 0.9245\n",
            "Epoch 90/100\n",
            "469/469 [==============================] - 41s 88ms/step - loss: 3.5507e-06 - accuracy: 1.0000 - val_loss: 0.6950 - val_accuracy: 0.9246\n",
            "Epoch 91/100\n",
            "469/469 [==============================] - 41s 88ms/step - loss: 3.2154e-06 - accuracy: 1.0000 - val_loss: 0.6997 - val_accuracy: 0.9245\n",
            "Epoch 92/100\n",
            "469/469 [==============================] - 41s 88ms/step - loss: 2.9374e-06 - accuracy: 1.0000 - val_loss: 0.7042 - val_accuracy: 0.9246\n",
            "Epoch 93/100\n",
            "469/469 [==============================] - 41s 88ms/step - loss: 2.7031e-06 - accuracy: 1.0000 - val_loss: 0.7082 - val_accuracy: 0.9248\n",
            "Epoch 94/100\n",
            "469/469 [==============================] - 41s 88ms/step - loss: 2.5024e-06 - accuracy: 1.0000 - val_loss: 0.7120 - val_accuracy: 0.9248\n",
            "Epoch 95/100\n",
            "469/469 [==============================] - 41s 88ms/step - loss: 2.3290e-06 - accuracy: 1.0000 - val_loss: 0.7157 - val_accuracy: 0.9247\n",
            "Epoch 96/100\n",
            "469/469 [==============================] - 41s 88ms/step - loss: 2.1775e-06 - accuracy: 1.0000 - val_loss: 0.7191 - val_accuracy: 0.9245\n",
            "Epoch 97/100\n",
            "469/469 [==============================] - 41s 88ms/step - loss: 2.0441e-06 - accuracy: 1.0000 - val_loss: 0.7223 - val_accuracy: 0.9246\n",
            "Epoch 98/100\n",
            "469/469 [==============================] - 41s 88ms/step - loss: 1.9266e-06 - accuracy: 1.0000 - val_loss: 0.7253 - val_accuracy: 0.9247\n",
            "Epoch 99/100\n",
            "469/469 [==============================] - 41s 88ms/step - loss: 1.8211e-06 - accuracy: 1.0000 - val_loss: 0.7282 - val_accuracy: 0.9247\n",
            "Epoch 100/100\n",
            "469/469 [==============================] - 41s 88ms/step - loss: 1.7268e-06 - accuracy: 1.0000 - val_loss: 0.7310 - val_accuracy: 0.9248\n"
          ],
          "name": "stdout"
        },
        {
          "output_type": "display_data",
          "data": {
            "image/png": "[encoded data removed]",
            "text/plain": [
              "<Figure size 432x288 with 1 Axes>"
            ]
          },
          "metadata": {
            "tags": []
          }
        },
        {
          "output_type": "display_data",
          "data": {
            "image/png": "[encoded data removed]",
            "text/plain": [
              "<Figure size 432x288 with 1 Axes>"
            ]
          },
          "metadata": {
            "tags": []
          }
        }
      ]
    },
    {
      "cell_type": "code",
      "metadata": {
        "colab": {
          "base_uri": "https://localhost:8080/"
        },
        "id": "6c_wHIWwsdpq",
        "outputId": "b20a9c22-24f9-4f04-943d-13b1adeaa34c"
      },
      "source": [
        "comment = f\"\"\"Batch Size: {batch_size}\n",
        "max_step_grad = 1/tf.math.reduce_max(tf.math.abs(grad))\n",
        "velocity initializer: RandomNormal\n",
        "beta = (beta_hat*t+1)/(t+2)'\"\"\"\n",
        "gravity.save_run_info(model,\n",
        "                     history,\n",
        "                     gravity_opt,\n",
        "                     'Fashion MNIST',\n",
        "                     comment=comment)"
      ],
      "execution_count": null,
      "outputs": [
        {
          "output_type": "stream",
          "text": [
            "save_run_info completed\n"
          ],
          "name": "stdout"
        }
      ]
    },
    {
      "cell_type": "markdown",
      "metadata": {
        "id": "empswep92qZf"
      },
      "source": [
        "## CIFAR10"
      ]
    },
    {
      "cell_type": "code",
      "metadata": {
        "id": "m-gbUv7Y2qZf"
      },
      "source": [
        "cifar10_dict = gravity.get_dataset_cifar10(verbose=False, show_images=False)\n",
        "x_train_cifar10, y_train_cifar10 = cifar10_dict['train_data']\n",
        "x_test_cifar10, y_test_cifar10 = cifar10_dict['test_data']\n",
        "cifar10_classes = cifar10_dict['classes']\n",
        "cifar10_input_shape = cifar10_dict['input_shape']"
      ],
      "execution_count": null,
      "outputs": []
    },
    {
      "cell_type": "markdown",
      "metadata": {
        "id": "URz5gjH72qZg"
      },
      "source": [
        "### VGG16"
      ]
    },
    {
      "cell_type": "code",
      "metadata": {
        "id": "tFseoFTb2qZg",
        "colab": {
          "base_uri": "https://localhost:8080/",
          "height": 1000
        },
        "outputId": "aa35b7aa-507f-4737-aaba-c24bc4a90453"
      },
      "source": [
        "batch_size = 128\n",
        "epochs = 100\n",
        "gravity_opt = Gravity(learning_rate=0.1, alpha=0.01, beta=0.9)\n",
        "adam_opt = tf.keras.optimizers.Adam(learning_rate=0.001)\n",
        "cost_func = tf.keras.losses.SparseCategoricalCrossentropy(from_logits=True)\n",
        "\n",
        "model = gravity.get_vgg16(classes=cifar10_classes,\n",
        "                          input_shape=(32, 32, 3),\n",
        "                          drop_out_rate=0,\n",
        "                          print_summary=False)\n",
        "\n",
        "model.compile(optimizer=gravity_opt,\n",
        "              loss=cost_func,\n",
        "              metrics=['accuracy'])\n",
        "history = model.fit(x_train_cifar10, y_train_cifar10,\n",
        "                    batch_size=batch_size,\n",
        "                    epochs=epochs,\n",
        "                    validation_data=(x_test_cifar10, y_test_cifar10))\n",
        "gravity.plot_history(history)"
      ],
      "execution_count": null,
      "outputs": [
        {
          "output_type": "stream",
          "text": [
            "Epoch 1/100\n",
            "  2/391 [..............................] - ETA: 32s - loss: 2.3025 - accuracy: 0.0977WARNING:tensorflow:Callbacks method `on_train_batch_end` is slow compared to the batch time (batch time: 0.0306s vs `on_train_batch_end` time: 0.0685s). Check your callbacks.\n",
            "391/391 [==============================] - 29s 74ms/step - loss: 2.1656 - accuracy: 0.1837 - val_loss: 1.9305 - val_accuracy: 0.2886\n",
            "Epoch 2/100\n",
            "391/391 [==============================] - 29s 75ms/step - loss: 1.6716 - accuracy: 0.3798 - val_loss: 1.5063 - val_accuracy: 0.4485\n",
            "Epoch 3/100\n",
            "391/391 [==============================] - 29s 74ms/step - loss: 1.3654 - accuracy: 0.5006 - val_loss: 1.2478 - val_accuracy: 0.5429\n",
            "Epoch 4/100\n",
            "391/391 [==============================] - 29s 74ms/step - loss: 1.1582 - accuracy: 0.5806 - val_loss: 1.1082 - val_accuracy: 0.6030\n",
            "Epoch 5/100\n",
            "391/391 [==============================] - 29s 74ms/step - loss: 0.9788 - accuracy: 0.6527 - val_loss: 1.0105 - val_accuracy: 0.6396\n",
            "Epoch 6/100\n",
            "391/391 [==============================] - 29s 74ms/step - loss: 0.8258 - accuracy: 0.7083 - val_loss: 0.9779 - val_accuracy: 0.6567\n",
            "Epoch 7/100\n",
            "391/391 [==============================] - 29s 74ms/step - loss: 0.6967 - accuracy: 0.7562 - val_loss: 0.8080 - val_accuracy: 0.7199\n",
            "Epoch 8/100\n",
            "391/391 [==============================] - 29s 74ms/step - loss: 0.5755 - accuracy: 0.7987 - val_loss: 0.8307 - val_accuracy: 0.7187\n",
            "Epoch 9/100\n",
            "391/391 [==============================] - 29s 74ms/step - loss: 0.4721 - accuracy: 0.8347 - val_loss: 0.8195 - val_accuracy: 0.7322\n",
            "Epoch 10/100\n",
            "391/391 [==============================] - 29s 74ms/step - loss: 0.3764 - accuracy: 0.8691 - val_loss: 0.8135 - val_accuracy: 0.7434\n",
            "Epoch 11/100\n",
            "391/391 [==============================] - 29s 74ms/step - loss: 0.3157 - accuracy: 0.8906 - val_loss: 0.7842 - val_accuracy: 0.7600\n",
            "Epoch 12/100\n",
            "391/391 [==============================] - 29s 74ms/step - loss: 0.2467 - accuracy: 0.9143 - val_loss: 0.9509 - val_accuracy: 0.7350\n",
            "Epoch 13/100\n",
            "391/391 [==============================] - 29s 74ms/step - loss: 0.2116 - accuracy: 0.9277 - val_loss: 0.9424 - val_accuracy: 0.7498\n",
            "Epoch 14/100\n",
            "391/391 [==============================] - 29s 74ms/step - loss: 0.1623 - accuracy: 0.9427 - val_loss: 1.0589 - val_accuracy: 0.7483\n",
            "Epoch 15/100\n",
            "391/391 [==============================] - 29s 74ms/step - loss: 0.1422 - accuracy: 0.9500 - val_loss: 1.0223 - val_accuracy: 0.7545\n",
            "Epoch 16/100\n",
            "391/391 [==============================] - 29s 74ms/step - loss: 0.1171 - accuracy: 0.9594 - val_loss: 1.0206 - val_accuracy: 0.7611\n",
            "Epoch 17/100\n",
            "391/391 [==============================] - 29s 74ms/step - loss: 0.1022 - accuracy: 0.9645 - val_loss: 1.1590 - val_accuracy: 0.7523\n",
            "Epoch 18/100\n",
            "391/391 [==============================] - 29s 74ms/step - loss: 0.0820 - accuracy: 0.9712 - val_loss: 1.0963 - val_accuracy: 0.7534\n",
            "Epoch 19/100\n",
            "391/391 [==============================] - 29s 74ms/step - loss: 0.0759 - accuracy: 0.9732 - val_loss: 1.0699 - val_accuracy: 0.7708\n",
            "Epoch 20/100\n",
            "391/391 [==============================] - 29s 74ms/step - loss: 0.0627 - accuracy: 0.9789 - val_loss: 1.0730 - val_accuracy: 0.7597\n",
            "Epoch 21/100\n",
            "391/391 [==============================] - 29s 74ms/step - loss: 0.0498 - accuracy: 0.9831 - val_loss: 1.2454 - val_accuracy: 0.7544\n",
            "Epoch 22/100\n",
            "391/391 [==============================] - 29s 74ms/step - loss: 0.0523 - accuracy: 0.9820 - val_loss: 1.2036 - val_accuracy: 0.7666\n",
            "Epoch 23/100\n",
            "391/391 [==============================] - 29s 74ms/step - loss: 0.0493 - accuracy: 0.9829 - val_loss: 1.1455 - val_accuracy: 0.7607\n",
            "Epoch 24/100\n",
            "391/391 [==============================] - 29s 74ms/step - loss: 0.0387 - accuracy: 0.9866 - val_loss: 1.2386 - val_accuracy: 0.7635\n",
            "Epoch 25/100\n",
            "391/391 [==============================] - 29s 74ms/step - loss: 0.0392 - accuracy: 0.9870 - val_loss: 1.3441 - val_accuracy: 0.7587\n",
            "Epoch 26/100\n",
            "391/391 [==============================] - 29s 74ms/step - loss: 0.0287 - accuracy: 0.9907 - val_loss: 1.2417 - val_accuracy: 0.7786\n",
            "Epoch 27/100\n",
            "391/391 [==============================] - 29s 74ms/step - loss: 0.0282 - accuracy: 0.9909 - val_loss: 1.2081 - val_accuracy: 0.7718\n",
            "Epoch 28/100\n",
            "391/391 [==============================] - 29s 74ms/step - loss: 0.0291 - accuracy: 0.9903 - val_loss: 1.2968 - val_accuracy: 0.7722\n",
            "Epoch 29/100\n",
            "391/391 [==============================] - 29s 74ms/step - loss: 0.0270 - accuracy: 0.9907 - val_loss: 1.2596 - val_accuracy: 0.7822\n",
            "Epoch 30/100\n",
            "391/391 [==============================] - 29s 74ms/step - loss: 0.0215 - accuracy: 0.9927 - val_loss: 1.2585 - val_accuracy: 0.7718\n",
            "Epoch 31/100\n",
            "391/391 [==============================] - 29s 74ms/step - loss: 0.0254 - accuracy: 0.9916 - val_loss: 1.2914 - val_accuracy: 0.7814\n",
            "Epoch 32/100\n",
            "391/391 [==============================] - 29s 74ms/step - loss: 0.0228 - accuracy: 0.9926 - val_loss: 1.3299 - val_accuracy: 0.7747\n",
            "Epoch 33/100\n",
            "391/391 [==============================] - 29s 73ms/step - loss: 0.0227 - accuracy: 0.9924 - val_loss: 1.2706 - val_accuracy: 0.7798\n",
            "Epoch 34/100\n",
            "391/391 [==============================] - 29s 73ms/step - loss: 0.0195 - accuracy: 0.9936 - val_loss: 1.3314 - val_accuracy: 0.7823\n",
            "Epoch 35/100\n",
            "391/391 [==============================] - 29s 74ms/step - loss: 0.0154 - accuracy: 0.9950 - val_loss: 1.4620 - val_accuracy: 0.7776\n",
            "Epoch 36/100\n",
            "391/391 [==============================] - 29s 74ms/step - loss: 0.0173 - accuracy: 0.9946 - val_loss: 1.3763 - val_accuracy: 0.7758\n",
            "Epoch 37/100\n",
            "391/391 [==============================] - 29s 73ms/step - loss: 0.0160 - accuracy: 0.9949 - val_loss: 1.3490 - val_accuracy: 0.7817\n",
            "Epoch 38/100\n",
            "391/391 [==============================] - 29s 74ms/step - loss: 0.0176 - accuracy: 0.9945 - val_loss: 1.3799 - val_accuracy: 0.7740\n",
            "Epoch 39/100\n",
            "391/391 [==============================] - 29s 74ms/step - loss: 0.0123 - accuracy: 0.9958 - val_loss: 1.3967 - val_accuracy: 0.7796\n",
            "Epoch 40/100\n",
            "391/391 [==============================] - 29s 74ms/step - loss: 0.0135 - accuracy: 0.9957 - val_loss: 1.3266 - val_accuracy: 0.7830\n",
            "Epoch 41/100\n",
            "391/391 [==============================] - 29s 74ms/step - loss: 0.0159 - accuracy: 0.9948 - val_loss: 1.4510 - val_accuracy: 0.7822\n",
            "Epoch 42/100\n",
            "391/391 [==============================] - 29s 74ms/step - loss: 0.0137 - accuracy: 0.9953 - val_loss: 1.3979 - val_accuracy: 0.7832\n",
            "Epoch 43/100\n",
            "391/391 [==============================] - 29s 74ms/step - loss: 0.0117 - accuracy: 0.9963 - val_loss: 1.5063 - val_accuracy: 0.7845\n",
            "Epoch 44/100\n",
            "391/391 [==============================] - 29s 73ms/step - loss: 0.0171 - accuracy: 0.9944 - val_loss: 1.4359 - val_accuracy: 0.7748\n",
            "Epoch 45/100\n",
            "391/391 [==============================] - 29s 74ms/step - loss: 0.0151 - accuracy: 0.9947 - val_loss: 1.4516 - val_accuracy: 0.7800\n",
            "Epoch 46/100\n",
            "391/391 [==============================] - 29s 74ms/step - loss: 0.0135 - accuracy: 0.9957 - val_loss: 1.3432 - val_accuracy: 0.7829\n",
            "Epoch 47/100\n",
            "391/391 [==============================] - 29s 74ms/step - loss: 0.0072 - accuracy: 0.9976 - val_loss: 1.5208 - val_accuracy: 0.7789\n",
            "Epoch 48/100\n",
            "391/391 [==============================] - 29s 74ms/step - loss: 0.0123 - accuracy: 0.9955 - val_loss: 1.4891 - val_accuracy: 0.7720\n",
            "Epoch 49/100\n",
            "391/391 [==============================] - 29s 74ms/step - loss: 0.0073 - accuracy: 0.9975 - val_loss: 1.6104 - val_accuracy: 0.7808\n",
            "Epoch 50/100\n",
            "391/391 [==============================] - 29s 73ms/step - loss: 0.0124 - accuracy: 0.9959 - val_loss: 1.4433 - val_accuracy: 0.7811\n",
            "Epoch 51/100\n",
            "391/391 [==============================] - 29s 73ms/step - loss: 0.0093 - accuracy: 0.9967 - val_loss: 1.5186 - val_accuracy: 0.7757\n",
            "Epoch 52/100\n",
            "391/391 [==============================] - 29s 73ms/step - loss: 0.0135 - accuracy: 0.9958 - val_loss: 1.5540 - val_accuracy: 0.7780\n",
            "Epoch 53/100\n",
            "391/391 [==============================] - 29s 73ms/step - loss: 0.0135 - accuracy: 0.9957 - val_loss: 1.4288 - val_accuracy: 0.7767\n",
            "Epoch 54/100\n",
            "391/391 [==============================] - 29s 73ms/step - loss: 0.0092 - accuracy: 0.9969 - val_loss: 1.6269 - val_accuracy: 0.7790\n",
            "Epoch 55/100\n",
            "391/391 [==============================] - 29s 73ms/step - loss: 0.0131 - accuracy: 0.9955 - val_loss: 1.4233 - val_accuracy: 0.7811\n",
            "Epoch 56/100\n",
            "391/391 [==============================] - 29s 73ms/step - loss: 0.0073 - accuracy: 0.9976 - val_loss: 1.5693 - val_accuracy: 0.7756\n",
            "Epoch 57/100\n",
            "391/391 [==============================] - 29s 73ms/step - loss: 0.0101 - accuracy: 0.9970 - val_loss: 1.5572 - val_accuracy: 0.7813\n",
            "Epoch 58/100\n",
            "391/391 [==============================] - 29s 73ms/step - loss: 0.0084 - accuracy: 0.9970 - val_loss: 1.6047 - val_accuracy: 0.7793\n",
            "Epoch 59/100\n",
            "391/391 [==============================] - 29s 73ms/step - loss: 0.0092 - accuracy: 0.9972 - val_loss: 1.4636 - val_accuracy: 0.7779\n",
            "Epoch 60/100\n",
            "391/391 [==============================] - 29s 73ms/step - loss: 0.0040 - accuracy: 0.9986 - val_loss: 1.6444 - val_accuracy: 0.7824\n",
            "Epoch 61/100\n",
            "391/391 [==============================] - 29s 73ms/step - loss: 0.0059 - accuracy: 0.9983 - val_loss: 1.5940 - val_accuracy: 0.7802\n",
            "Epoch 62/100\n",
            "391/391 [==============================] - 29s 73ms/step - loss: 0.0064 - accuracy: 0.9980 - val_loss: 1.5888 - val_accuracy: 0.7766\n",
            "Epoch 63/100\n",
            "391/391 [==============================] - 29s 74ms/step - loss: 0.0086 - accuracy: 0.9972 - val_loss: 1.4718 - val_accuracy: 0.7832\n",
            "Epoch 64/100\n",
            "391/391 [==============================] - 29s 74ms/step - loss: 0.0051 - accuracy: 0.9985 - val_loss: 1.6982 - val_accuracy: 0.7846\n",
            "Epoch 65/100\n",
            "391/391 [==============================] - 29s 74ms/step - loss: 0.0091 - accuracy: 0.9972 - val_loss: 1.6059 - val_accuracy: 0.7753\n",
            "Epoch 66/100\n",
            "391/391 [==============================] - 29s 74ms/step - loss: 0.0067 - accuracy: 0.9978 - val_loss: 1.5472 - val_accuracy: 0.7812\n",
            "Epoch 67/100\n",
            "391/391 [==============================] - 29s 74ms/step - loss: 0.0067 - accuracy: 0.9979 - val_loss: 1.6637 - val_accuracy: 0.7764\n",
            "Epoch 68/100\n",
            "391/391 [==============================] - 29s 74ms/step - loss: 0.0053 - accuracy: 0.9984 - val_loss: 1.7114 - val_accuracy: 0.7727\n",
            "Epoch 69/100\n",
            "391/391 [==============================] - 29s 74ms/step - loss: 0.0093 - accuracy: 0.9970 - val_loss: 1.6273 - val_accuracy: 0.7826\n",
            "Epoch 70/100\n",
            "391/391 [==============================] - 29s 74ms/step - loss: 0.0049 - accuracy: 0.9985 - val_loss: 1.6745 - val_accuracy: 0.7837\n",
            "Epoch 71/100\n",
            "391/391 [==============================] - 29s 74ms/step - loss: 0.0085 - accuracy: 0.9975 - val_loss: 1.5620 - val_accuracy: 0.7791\n",
            "Epoch 72/100\n",
            "391/391 [==============================] - 29s 74ms/step - loss: 0.0056 - accuracy: 0.9982 - val_loss: 1.5127 - val_accuracy: 0.7863\n",
            "Epoch 73/100\n",
            "391/391 [==============================] - 29s 74ms/step - loss: 0.0068 - accuracy: 0.9977 - val_loss: 1.5475 - val_accuracy: 0.7802\n",
            "Epoch 74/100\n",
            "391/391 [==============================] - 29s 74ms/step - loss: 0.0050 - accuracy: 0.9983 - val_loss: 1.6960 - val_accuracy: 0.7780\n",
            "Epoch 75/100\n",
            "391/391 [==============================] - 29s 74ms/step - loss: 0.0084 - accuracy: 0.9974 - val_loss: 1.4511 - val_accuracy: 0.7853\n",
            "Epoch 76/100\n",
            "391/391 [==============================] - 29s 74ms/step - loss: 0.0039 - accuracy: 0.9987 - val_loss: 1.5041 - val_accuracy: 0.7884\n",
            "Epoch 77/100\n",
            "391/391 [==============================] - 29s 74ms/step - loss: 8.3770e-04 - accuracy: 0.9997 - val_loss: 1.6197 - val_accuracy: 0.7948\n",
            "Epoch 78/100\n",
            "391/391 [==============================] - 29s 74ms/step - loss: 3.7922e-04 - accuracy: 0.9999 - val_loss: 1.6779 - val_accuracy: 0.7949\n",
            "Epoch 79/100\n",
            "391/391 [==============================] - 29s 74ms/step - loss: 2.7803e-05 - accuracy: 1.0000 - val_loss: 1.7107 - val_accuracy: 0.7949\n",
            "Epoch 80/100\n",
            "391/391 [==============================] - 29s 74ms/step - loss: 1.1693e-05 - accuracy: 1.0000 - val_loss: 1.7295 - val_accuracy: 0.7949\n",
            "Epoch 81/100\n",
            "391/391 [==============================] - 29s 74ms/step - loss: 9.2740e-06 - accuracy: 1.0000 - val_loss: 1.7455 - val_accuracy: 0.7956\n",
            "Epoch 82/100\n",
            "391/391 [==============================] - 29s 74ms/step - loss: 7.7886e-06 - accuracy: 1.0000 - val_loss: 1.7594 - val_accuracy: 0.7960\n",
            "Epoch 83/100\n",
            "391/391 [==============================] - 29s 74ms/step - loss: 6.7435e-06 - accuracy: 1.0000 - val_loss: 1.7718 - val_accuracy: 0.7958\n",
            "Epoch 84/100\n",
            "391/391 [==============================] - 29s 74ms/step - loss: 5.9588e-06 - accuracy: 1.0000 - val_loss: 1.7830 - val_accuracy: 0.7958\n",
            "Epoch 85/100\n",
            "391/391 [==============================] - 29s 74ms/step - loss: 5.3441e-06 - accuracy: 1.0000 - val_loss: 1.7932 - val_accuracy: 0.7960\n",
            "Epoch 86/100\n",
            "391/391 [==============================] - 29s 74ms/step - loss: 4.8476e-06 - accuracy: 1.0000 - val_loss: 1.8027 - val_accuracy: 0.7962\n",
            "Epoch 87/100\n",
            "391/391 [==============================] - 29s 74ms/step - loss: 4.4360e-06 - accuracy: 1.0000 - val_loss: 1.8115 - val_accuracy: 0.7960\n",
            "Epoch 88/100\n",
            "391/391 [==============================] - 29s 74ms/step - loss: 4.0885e-06 - accuracy: 1.0000 - val_loss: 1.8198 - val_accuracy: 0.7958\n",
            "Epoch 89/100\n",
            "391/391 [==============================] - 29s 74ms/step - loss: 3.7926e-06 - accuracy: 1.0000 - val_loss: 1.8275 - val_accuracy: 0.7956\n",
            "Epoch 90/100\n",
            "391/391 [==============================] - 29s 74ms/step - loss: 3.5370e-06 - accuracy: 1.0000 - val_loss: 1.8348 - val_accuracy: 0.7954\n",
            "Epoch 91/100\n",
            "391/391 [==============================] - 29s 73ms/step - loss: 3.3136e-06 - accuracy: 1.0000 - val_loss: 1.8416 - val_accuracy: 0.7953\n",
            "Epoch 92/100\n",
            "391/391 [==============================] - 29s 73ms/step - loss: 3.1162e-06 - accuracy: 1.0000 - val_loss: 1.8482 - val_accuracy: 0.7953\n",
            "Epoch 93/100\n",
            "391/391 [==============================] - 29s 74ms/step - loss: 2.9416e-06 - accuracy: 1.0000 - val_loss: 1.8544 - val_accuracy: 0.7956\n",
            "Epoch 94/100\n",
            "391/391 [==============================] - 29s 74ms/step - loss: 2.7855e-06 - accuracy: 1.0000 - val_loss: 1.8603 - val_accuracy: 0.7957\n",
            "Epoch 95/100\n",
            "391/391 [==============================] - 29s 74ms/step - loss: 2.6451e-06 - accuracy: 1.0000 - val_loss: 1.8660 - val_accuracy: 0.7957\n",
            "Epoch 96/100\n",
            "391/391 [==============================] - 29s 73ms/step - loss: 2.5183e-06 - accuracy: 1.0000 - val_loss: 1.8714 - val_accuracy: 0.7957\n",
            "Epoch 97/100\n",
            "391/391 [==============================] - 29s 73ms/step - loss: 2.4026e-06 - accuracy: 1.0000 - val_loss: 1.8766 - val_accuracy: 0.7959\n",
            "Epoch 98/100\n",
            "391/391 [==============================] - 29s 74ms/step - loss: 2.2974e-06 - accuracy: 1.0000 - val_loss: 1.8816 - val_accuracy: 0.7959\n",
            "Epoch 99/100\n",
            "391/391 [==============================] - 29s 74ms/step - loss: 2.2007e-06 - accuracy: 1.0000 - val_loss: 1.8864 - val_accuracy: 0.7958\n",
            "Epoch 100/100\n",
            "391/391 [==============================] - 29s 74ms/step - loss: 2.1120e-06 - accuracy: 1.0000 - val_loss: 1.8911 - val_accuracy: 0.7957\n"
          ],
          "name": "stdout"
        },
        {
          "output_type": "display_data",
          "data": {
            "image/png": "[encoded data removed]",
            "text/plain": [
              "<Figure size 432x288 with 1 Axes>"
            ]
          },
          "metadata": {
            "tags": []
          }
        },
        {
          "output_type": "display_data",
          "data": {
            "image/png": "[encoded data removed]",
            "text/plain": [
              "<Figure size 432x288 with 1 Axes>"
            ]
          },
          "metadata": {
            "tags": []
          }
        }
      ]
    },
    {
      "cell_type": "code",
      "metadata": {
        "colab": {
          "base_uri": "https://localhost:8080/"
        },
        "id": "dwP5qMza2qZg",
        "outputId": "1da49305-407b-430b-f5b3-4b5b5a000bd7"
      },
      "source": [
        "comment = f\"\"\"Batch Size: {batch_size}\n",
        "max_step_grad = 1/tf.math.reduce_max(tf.math.abs(grad))\n",
        "velocity initializer: RandomNormal\n",
        "beta = (beta_hat*t+1)/(t+2)'\"\"\"\n",
        "gravity.save_run_info(model,\n",
        "                     history,\n",
        "                     gravity_opt,\n",
        "                     'CIFAR10',\n",
        "                     comment=comment)"
      ],
      "execution_count": null,
      "outputs": [
        {
          "output_type": "stream",
          "text": [
            "save_run_info completed\n"
          ],
          "name": "stdout"
        }
      ]
    },
    {
      "cell_type": "markdown",
      "metadata": {
        "id": "ooM3AFJq8PlF"
      },
      "source": [
        "### VGG19\n"
      ]
    },
    {
      "cell_type": "code",
      "metadata": {
        "id": "_9GM1MEL8PlG",
        "colab": {
          "base_uri": "https://localhost:8080/",
          "height": 1000
        },
        "outputId": "e035006b-2493-4bc3-9a5d-558cb547c475"
      },
      "source": [
        "batch_size = 128\n",
        "epochs = 100\n",
        "gravity_opt = Gravity(learning_rate=0.1, alpha=0.01, beta=0.9)\n",
        "adam_opt = tf.keras.optimizers.Adam(learning_rate=0.001)\n",
        "cost_func = tf.keras.losses.SparseCategoricalCrossentropy(from_logits=True)\n",
        "\n",
        "model = gravity.get_vgg19(classes=cifar10_classes,\n",
        "                          input_shape=(32, 32, 3),\n",
        "                          drop_out_rate=0,\n",
        "                          print_summary=False)\n",
        "\n",
        "model.compile(optimizer=gravity_opt,\n",
        "              loss=cost_func,\n",
        "              metrics=['accuracy'])\n",
        "history = model.fit(x_train_cifar10, y_train_cifar10,\n",
        "                    batch_size=batch_size,\n",
        "                    epochs=epochs,\n",
        "                    validation_data=(x_test_cifar10, y_test_cifar10))\n",
        "gravity.plot_history(history)"
      ],
      "execution_count": 8,
      "outputs": [
        {
          "output_type": "stream",
          "text": [
            "Epoch 1/100\n",
            "  2/391 [..............................] - ETA: 15s - loss: 2.3027 - accuracy: 0.1133WARNING:tensorflow:Callbacks method `on_train_batch_end` is slow compared to the batch time (batch time: 0.0262s vs `on_train_batch_end` time: 0.0511s). Check your callbacks.\n",
            "391/391 [==============================] - 34s 88ms/step - loss: 2.0639 - accuracy: 0.2200 - val_loss: 1.7175 - val_accuracy: 0.3376\n",
            "Epoch 2/100\n",
            "391/391 [==============================] - 34s 86ms/step - loss: 1.5889 - accuracy: 0.4060 - val_loss: 1.4721 - val_accuracy: 0.4545\n",
            "Epoch 3/100\n",
            "391/391 [==============================] - 35s 89ms/step - loss: 1.3148 - accuracy: 0.5196 - val_loss: 1.2504 - val_accuracy: 0.5411\n",
            "Epoch 4/100\n",
            "391/391 [==============================] - 35s 90ms/step - loss: 1.1343 - accuracy: 0.5925 - val_loss: 1.1232 - val_accuracy: 0.6016\n",
            "Epoch 5/100\n",
            "391/391 [==============================] - 35s 90ms/step - loss: 0.9629 - accuracy: 0.6575 - val_loss: 0.9946 - val_accuracy: 0.6482\n",
            "Epoch 6/100\n",
            "391/391 [==============================] - 35s 90ms/step - loss: 0.8177 - accuracy: 0.7107 - val_loss: 0.8766 - val_accuracy: 0.6939\n",
            "Epoch 7/100\n",
            "391/391 [==============================] - 35s 90ms/step - loss: 0.7036 - accuracy: 0.7531 - val_loss: 0.8642 - val_accuracy: 0.7088\n",
            "Epoch 8/100\n",
            "391/391 [==============================] - 35s 91ms/step - loss: 0.6005 - accuracy: 0.7916 - val_loss: 0.8054 - val_accuracy: 0.7222\n",
            "Epoch 9/100\n",
            "391/391 [==============================] - 35s 91ms/step - loss: 0.5080 - accuracy: 0.8231 - val_loss: 0.7600 - val_accuracy: 0.7493\n",
            "Epoch 10/100\n",
            "391/391 [==============================] - 35s 90ms/step - loss: 0.4243 - accuracy: 0.8523 - val_loss: 0.7903 - val_accuracy: 0.7542\n",
            "Epoch 11/100\n",
            "391/391 [==============================] - 35s 90ms/step - loss: 0.3616 - accuracy: 0.8740 - val_loss: 0.7947 - val_accuracy: 0.7503\n",
            "Epoch 12/100\n",
            "391/391 [==============================] - 35s 90ms/step - loss: 0.2967 - accuracy: 0.8955 - val_loss: 0.8118 - val_accuracy: 0.7606\n",
            "Epoch 13/100\n",
            "391/391 [==============================] - 35s 90ms/step - loss: 0.2556 - accuracy: 0.9114 - val_loss: 0.8559 - val_accuracy: 0.7567\n",
            "Epoch 14/100\n",
            "391/391 [==============================] - 35s 90ms/step - loss: 0.2099 - accuracy: 0.9268 - val_loss: 0.8769 - val_accuracy: 0.7645\n",
            "Epoch 15/100\n",
            "391/391 [==============================] - 35s 90ms/step - loss: 0.1812 - accuracy: 0.9369 - val_loss: 0.8668 - val_accuracy: 0.7619\n",
            "Epoch 16/100\n",
            "391/391 [==============================] - 35s 90ms/step - loss: 0.1450 - accuracy: 0.9503 - val_loss: 0.9280 - val_accuracy: 0.7682\n",
            "Epoch 17/100\n",
            "391/391 [==============================] - 35s 90ms/step - loss: 0.1242 - accuracy: 0.9581 - val_loss: 0.9514 - val_accuracy: 0.7780\n",
            "Epoch 18/100\n",
            "391/391 [==============================] - 35s 90ms/step - loss: 0.1030 - accuracy: 0.9638 - val_loss: 1.0032 - val_accuracy: 0.7699\n",
            "Epoch 19/100\n",
            "391/391 [==============================] - 35s 90ms/step - loss: 0.0894 - accuracy: 0.9695 - val_loss: 1.0742 - val_accuracy: 0.7607\n",
            "Epoch 20/100\n",
            "391/391 [==============================] - 35s 90ms/step - loss: 0.0871 - accuracy: 0.9696 - val_loss: 1.0328 - val_accuracy: 0.7740\n",
            "Epoch 21/100\n",
            "391/391 [==============================] - 35s 90ms/step - loss: 0.0683 - accuracy: 0.9759 - val_loss: 1.1331 - val_accuracy: 0.7658\n",
            "Epoch 22/100\n",
            "391/391 [==============================] - 35s 90ms/step - loss: 0.0656 - accuracy: 0.9774 - val_loss: 1.1160 - val_accuracy: 0.7741\n",
            "Epoch 23/100\n",
            "391/391 [==============================] - 35s 90ms/step - loss: 0.0600 - accuracy: 0.9799 - val_loss: 1.0781 - val_accuracy: 0.7697\n",
            "Epoch 24/100\n",
            "391/391 [==============================] - 35s 90ms/step - loss: 0.0510 - accuracy: 0.9827 - val_loss: 1.1826 - val_accuracy: 0.7743\n",
            "Epoch 25/100\n",
            "391/391 [==============================] - 35s 90ms/step - loss: 0.0414 - accuracy: 0.9862 - val_loss: 1.2219 - val_accuracy: 0.7851\n",
            "Epoch 26/100\n",
            "391/391 [==============================] - 35s 90ms/step - loss: 0.0452 - accuracy: 0.9847 - val_loss: 1.0422 - val_accuracy: 0.7803\n",
            "Epoch 27/100\n",
            "391/391 [==============================] - 35s 90ms/step - loss: 0.0363 - accuracy: 0.9881 - val_loss: 1.2234 - val_accuracy: 0.7658\n",
            "Epoch 28/100\n",
            "391/391 [==============================] - 35s 90ms/step - loss: 0.0382 - accuracy: 0.9871 - val_loss: 1.1113 - val_accuracy: 0.7728\n",
            "Epoch 29/100\n",
            "391/391 [==============================] - 35s 90ms/step - loss: 0.0300 - accuracy: 0.9895 - val_loss: 1.2275 - val_accuracy: 0.7671\n",
            "Epoch 30/100\n",
            "391/391 [==============================] - 35s 90ms/step - loss: 0.0279 - accuracy: 0.9908 - val_loss: 1.1730 - val_accuracy: 0.7861\n",
            "Epoch 31/100\n",
            "391/391 [==============================] - 35s 90ms/step - loss: 0.0267 - accuracy: 0.9910 - val_loss: 1.2735 - val_accuracy: 0.7720\n",
            "Epoch 32/100\n",
            "391/391 [==============================] - 35s 90ms/step - loss: 0.0243 - accuracy: 0.9923 - val_loss: 1.2281 - val_accuracy: 0.7846\n",
            "Epoch 33/100\n",
            "391/391 [==============================] - 35s 90ms/step - loss: 0.0241 - accuracy: 0.9922 - val_loss: 1.2268 - val_accuracy: 0.7796\n",
            "Epoch 34/100\n",
            "391/391 [==============================] - 35s 90ms/step - loss: 0.0194 - accuracy: 0.9933 - val_loss: 1.2568 - val_accuracy: 0.7854\n",
            "Epoch 35/100\n",
            "391/391 [==============================] - 35s 90ms/step - loss: 0.0261 - accuracy: 0.9908 - val_loss: 1.2460 - val_accuracy: 0.7800\n",
            "Epoch 36/100\n",
            "391/391 [==============================] - 35s 90ms/step - loss: 0.0228 - accuracy: 0.9922 - val_loss: 1.2409 - val_accuracy: 0.7861\n",
            "Epoch 37/100\n",
            "391/391 [==============================] - 35s 90ms/step - loss: 0.0151 - accuracy: 0.9949 - val_loss: 1.3237 - val_accuracy: 0.7901\n",
            "Epoch 38/100\n",
            "391/391 [==============================] - 35s 90ms/step - loss: 0.0170 - accuracy: 0.9943 - val_loss: 1.2176 - val_accuracy: 0.7835\n",
            "Epoch 39/100\n",
            "391/391 [==============================] - 35s 90ms/step - loss: 0.0199 - accuracy: 0.9936 - val_loss: 1.3295 - val_accuracy: 0.7920\n",
            "Epoch 40/100\n",
            "391/391 [==============================] - 35s 90ms/step - loss: 0.0176 - accuracy: 0.9942 - val_loss: 1.3774 - val_accuracy: 0.7826\n",
            "Epoch 41/100\n",
            "391/391 [==============================] - 35s 90ms/step - loss: 0.0152 - accuracy: 0.9953 - val_loss: 1.2921 - val_accuracy: 0.7848\n",
            "Epoch 42/100\n",
            "391/391 [==============================] - 35s 90ms/step - loss: 0.0168 - accuracy: 0.9945 - val_loss: 1.2099 - val_accuracy: 0.7773\n",
            "Epoch 43/100\n",
            "391/391 [==============================] - 35s 90ms/step - loss: 0.0106 - accuracy: 0.9968 - val_loss: 1.3121 - val_accuracy: 0.7865\n",
            "Epoch 44/100\n",
            "391/391 [==============================] - 35s 90ms/step - loss: 0.0122 - accuracy: 0.9962 - val_loss: 1.2682 - val_accuracy: 0.7866\n",
            "Epoch 45/100\n",
            "391/391 [==============================] - 35s 90ms/step - loss: 0.0132 - accuracy: 0.9956 - val_loss: 1.3051 - val_accuracy: 0.7787\n",
            "Epoch 46/100\n",
            "391/391 [==============================] - 35s 90ms/step - loss: 0.0154 - accuracy: 0.9947 - val_loss: 1.2739 - val_accuracy: 0.7902\n",
            "Epoch 47/100\n",
            "391/391 [==============================] - 35s 90ms/step - loss: 0.0106 - accuracy: 0.9965 - val_loss: 1.4317 - val_accuracy: 0.7827\n",
            "Epoch 48/100\n",
            "391/391 [==============================] - 35s 90ms/step - loss: 0.0112 - accuracy: 0.9964 - val_loss: 1.3953 - val_accuracy: 0.7837\n",
            "Epoch 49/100\n",
            "391/391 [==============================] - 35s 90ms/step - loss: 0.0142 - accuracy: 0.9953 - val_loss: 1.2273 - val_accuracy: 0.7951\n",
            "Epoch 50/100\n",
            "391/391 [==============================] - 35s 89ms/step - loss: 0.0129 - accuracy: 0.9960 - val_loss: 1.3392 - val_accuracy: 0.7904\n",
            "Epoch 51/100\n",
            "391/391 [==============================] - 35s 90ms/step - loss: 0.0135 - accuracy: 0.9955 - val_loss: 1.3485 - val_accuracy: 0.7804\n",
            "Epoch 52/100\n",
            "391/391 [==============================] - 35s 89ms/step - loss: 0.0107 - accuracy: 0.9967 - val_loss: 1.2954 - val_accuracy: 0.7869\n",
            "Epoch 53/100\n",
            "391/391 [==============================] - 35s 90ms/step - loss: 0.0090 - accuracy: 0.9969 - val_loss: 1.4508 - val_accuracy: 0.7871\n",
            "Epoch 54/100\n",
            "391/391 [==============================] - 35s 90ms/step - loss: 0.0148 - accuracy: 0.9952 - val_loss: 1.2593 - val_accuracy: 0.7846\n",
            "Epoch 55/100\n",
            "391/391 [==============================] - 35s 90ms/step - loss: 0.0082 - accuracy: 0.9976 - val_loss: 1.2851 - val_accuracy: 0.7923\n",
            "Epoch 56/100\n",
            "391/391 [==============================] - 35s 90ms/step - loss: 0.0097 - accuracy: 0.9970 - val_loss: 1.4323 - val_accuracy: 0.7924\n",
            "Epoch 57/100\n",
            "391/391 [==============================] - 35s 90ms/step - loss: 0.0118 - accuracy: 0.9963 - val_loss: 1.3435 - val_accuracy: 0.7810\n",
            "Epoch 58/100\n",
            "391/391 [==============================] - 35s 90ms/step - loss: 0.0057 - accuracy: 0.9979 - val_loss: 1.4091 - val_accuracy: 0.7941\n",
            "Epoch 59/100\n",
            "391/391 [==============================] - 35s 90ms/step - loss: 0.0073 - accuracy: 0.9974 - val_loss: 1.4489 - val_accuracy: 0.7850\n",
            "Epoch 60/100\n",
            "391/391 [==============================] - 35s 90ms/step - loss: 0.0103 - accuracy: 0.9967 - val_loss: 1.3807 - val_accuracy: 0.7878\n",
            "Epoch 61/100\n",
            "391/391 [==============================] - 35s 90ms/step - loss: 0.0063 - accuracy: 0.9980 - val_loss: 1.5654 - val_accuracy: 0.7936\n",
            "Epoch 62/100\n",
            "391/391 [==============================] - 35s 90ms/step - loss: 0.0066 - accuracy: 0.9978 - val_loss: 1.4855 - val_accuracy: 0.7873\n",
            "Epoch 63/100\n",
            "391/391 [==============================] - 35s 90ms/step - loss: 0.0106 - accuracy: 0.9967 - val_loss: 1.2856 - val_accuracy: 0.7898\n",
            "Epoch 64/100\n",
            "391/391 [==============================] - 35s 90ms/step - loss: 0.0060 - accuracy: 0.9982 - val_loss: 1.3750 - val_accuracy: 0.7956\n",
            "Epoch 65/100\n",
            "391/391 [==============================] - 35s 89ms/step - loss: 0.0042 - accuracy: 0.9988 - val_loss: 1.4886 - val_accuracy: 0.7921\n",
            "Epoch 66/100\n",
            "391/391 [==============================] - 35s 89ms/step - loss: 0.0070 - accuracy: 0.9979 - val_loss: 1.3615 - val_accuracy: 0.7808\n",
            "Epoch 67/100\n",
            "391/391 [==============================] - 35s 89ms/step - loss: 0.0052 - accuracy: 0.9984 - val_loss: 1.5410 - val_accuracy: 0.7964\n",
            "Epoch 68/100\n",
            "391/391 [==============================] - 35s 89ms/step - loss: 0.0063 - accuracy: 0.9979 - val_loss: 1.4861 - val_accuracy: 0.7885\n",
            "Epoch 69/100\n",
            "391/391 [==============================] - 35s 89ms/step - loss: 0.0065 - accuracy: 0.9983 - val_loss: 1.5194 - val_accuracy: 0.7823\n",
            "Epoch 70/100\n",
            "391/391 [==============================] - 35s 90ms/step - loss: 0.0084 - accuracy: 0.9974 - val_loss: 1.3067 - val_accuracy: 0.7881\n",
            "Epoch 71/100\n",
            "391/391 [==============================] - 35s 89ms/step - loss: 0.0032 - accuracy: 0.9990 - val_loss: 1.4831 - val_accuracy: 0.7910\n",
            "Epoch 72/100\n",
            "391/391 [==============================] - 35s 89ms/step - loss: 0.0042 - accuracy: 0.9985 - val_loss: 1.6035 - val_accuracy: 0.7860\n",
            "Epoch 73/100\n",
            "391/391 [==============================] - 35s 89ms/step - loss: 0.0067 - accuracy: 0.9980 - val_loss: 1.3623 - val_accuracy: 0.7876\n",
            "Epoch 74/100\n",
            "391/391 [==============================] - 35s 89ms/step - loss: 0.0033 - accuracy: 0.9990 - val_loss: 1.5325 - val_accuracy: 0.7916\n",
            "Epoch 75/100\n",
            "391/391 [==============================] - 35s 89ms/step - loss: 0.0042 - accuracy: 0.9988 - val_loss: 1.5066 - val_accuracy: 0.7930\n",
            "Epoch 76/100\n",
            "391/391 [==============================] - 35s 89ms/step - loss: 0.0084 - accuracy: 0.9970 - val_loss: 1.4029 - val_accuracy: 0.7863\n",
            "Epoch 77/100\n",
            "391/391 [==============================] - 35s 89ms/step - loss: 0.0102 - accuracy: 0.9967 - val_loss: 1.3112 - val_accuracy: 0.7925\n",
            "Epoch 78/100\n",
            "391/391 [==============================] - 35s 89ms/step - loss: 0.0059 - accuracy: 0.9980 - val_loss: 1.3814 - val_accuracy: 0.7891\n",
            "Epoch 79/100\n",
            "391/391 [==============================] - 35s 90ms/step - loss: 0.0059 - accuracy: 0.9980 - val_loss: 1.4100 - val_accuracy: 0.7926\n",
            "Epoch 80/100\n",
            "391/391 [==============================] - 35s 90ms/step - loss: 0.0080 - accuracy: 0.9973 - val_loss: 1.3883 - val_accuracy: 0.7898\n",
            "Epoch 81/100\n",
            "391/391 [==============================] - 35s 89ms/step - loss: 0.0031 - accuracy: 0.9991 - val_loss: 1.5460 - val_accuracy: 0.7936\n",
            "Epoch 82/100\n",
            "391/391 [==============================] - 35s 89ms/step - loss: 0.0064 - accuracy: 0.9979 - val_loss: 1.3506 - val_accuracy: 0.7915\n",
            "Epoch 83/100\n",
            "391/391 [==============================] - 35s 89ms/step - loss: 0.0050 - accuracy: 0.9984 - val_loss: 1.4333 - val_accuracy: 0.7987\n",
            "Epoch 84/100\n",
            "391/391 [==============================] - 35s 90ms/step - loss: 0.0027 - accuracy: 0.9992 - val_loss: 1.4006 - val_accuracy: 0.7915\n",
            "Epoch 85/100\n",
            "391/391 [==============================] - 35s 90ms/step - loss: 0.0038 - accuracy: 0.9989 - val_loss: 1.4321 - val_accuracy: 0.7917\n",
            "Epoch 86/100\n",
            "391/391 [==============================] - 35s 90ms/step - loss: 0.0023 - accuracy: 0.9992 - val_loss: 1.4790 - val_accuracy: 0.7963\n",
            "Epoch 87/100\n",
            "391/391 [==============================] - 35s 89ms/step - loss: 0.0041 - accuracy: 0.9986 - val_loss: 1.5367 - val_accuracy: 0.7971\n",
            "Epoch 88/100\n",
            "391/391 [==============================] - 35s 90ms/step - loss: 0.0046 - accuracy: 0.9985 - val_loss: 1.5390 - val_accuracy: 0.7950\n",
            "Epoch 89/100\n",
            "391/391 [==============================] - 35s 89ms/step - loss: 0.0093 - accuracy: 0.9972 - val_loss: 1.3514 - val_accuracy: 0.7989\n",
            "Epoch 90/100\n",
            "391/391 [==============================] - 35s 89ms/step - loss: 0.0038 - accuracy: 0.9987 - val_loss: 1.4257 - val_accuracy: 0.7945\n",
            "Epoch 91/100\n",
            "391/391 [==============================] - 35s 90ms/step - loss: 0.0051 - accuracy: 0.9984 - val_loss: 1.4100 - val_accuracy: 0.7876\n",
            "Epoch 92/100\n",
            "391/391 [==============================] - 35s 90ms/step - loss: 0.0058 - accuracy: 0.9983 - val_loss: 1.4389 - val_accuracy: 0.7954\n",
            "Epoch 93/100\n",
            "391/391 [==============================] - 35s 89ms/step - loss: 0.0050 - accuracy: 0.9985 - val_loss: 1.6367 - val_accuracy: 0.7732\n",
            "Epoch 94/100\n",
            "391/391 [==============================] - 35s 90ms/step - loss: 0.0067 - accuracy: 0.9980 - val_loss: 1.4138 - val_accuracy: 0.7983\n",
            "Epoch 95/100\n",
            "391/391 [==============================] - 35s 89ms/step - loss: 0.0038 - accuracy: 0.9989 - val_loss: 1.5491 - val_accuracy: 0.7881\n",
            "Epoch 96/100\n",
            "391/391 [==============================] - 35s 89ms/step - loss: 0.0056 - accuracy: 0.9983 - val_loss: 1.5003 - val_accuracy: 0.7979\n",
            "Epoch 97/100\n",
            "391/391 [==============================] - 35s 90ms/step - loss: 0.0046 - accuracy: 0.9984 - val_loss: 1.5964 - val_accuracy: 0.7918\n",
            "Epoch 98/100\n",
            "391/391 [==============================] - 35s 89ms/step - loss: 0.0051 - accuracy: 0.9985 - val_loss: 1.4564 - val_accuracy: 0.7903\n",
            "Epoch 99/100\n",
            "391/391 [==============================] - 35s 89ms/step - loss: 0.0014 - accuracy: 0.9996 - val_loss: 1.5294 - val_accuracy: 0.8034\n",
            "Epoch 100/100\n",
            "391/391 [==============================] - 35s 89ms/step - loss: 0.0034 - accuracy: 0.9990 - val_loss: 1.4916 - val_accuracy: 0.7973\n"
          ],
          "name": "stdout"
        },
        {
          "output_type": "display_data",
          "data": {
            "image/png": "[encoded data removed]",
            "text/plain": [
              "<Figure size 432x288 with 1 Axes>"
            ]
          },
          "metadata": {
            "tags": []
          }
        },
        {
          "output_type": "display_data",
          "data": {
            "image/png": "[encoded data removed]",
            "text/plain": [
              "<Figure size 432x288 with 1 Axes>"
            ]
          },
          "metadata": {
            "tags": []
          }
        }
      ]
    },
    {
      "cell_type": "code",
      "metadata": {
        "id": "yfuz9QUy8PlG",
        "colab": {
          "base_uri": "https://localhost:8080/"
        },
        "outputId": "1d146cc1-647c-4c0e-b51d-f5fb2b11f2f8"
      },
      "source": [
        "comment = f\"\"\"Batch Size: {batch_size}\n",
        "max_step_grad = 1/tf.math.reduce_max(tf.math.abs(grad))\n",
        "velocity initializer: RandomNormal\n",
        "beta = (beta_hat*t+1)/(t+2)'\"\"\"\n",
        "gravity.save_run_info(model,\n",
        "                     history,\n",
        "                     gravity_opt,\n",
        "                     'CIFAR10',\n",
        "                     comment=comment)"
      ],
      "execution_count": 9,
      "outputs": [
        {
          "output_type": "stream",
          "text": [
            "save_run_info completed\n"
          ],
          "name": "stdout"
        }
      ]
    },
    {
      "cell_type": "markdown",
      "metadata": {
        "id": "AUCxa8zG0JTU"
      },
      "source": [
        "## CIFAR100 (Coarse)"
      ]
    },
    {
      "cell_type": "code",
      "metadata": {
        "id": "wb_rXfpa0JTV",
        "colab": {
          "base_uri": "https://localhost:8080/",
          "height": 787
        },
        "outputId": "c7374cb5-9410-4599-d7eb-46fbf42fad9f"
      },
      "source": [
        "cifar100_dict = gravity.get_dataset_cifar100(label_mode='coarse', verbose=True, show_images=True)\n",
        "x_train_cifar100, y_train_cifar100 = cifar100_dict['train_data']\n",
        "x_test_cifar100, y_test_cifar100 = cifar100_dict['test_data']\n",
        "cifar100_classes = cifar100_dict['classes']\n",
        "cifar100_input_shape = cifar100_dict['input_shape']"
      ],
      "execution_count": 10,
      "outputs": [
        {
          "output_type": "stream",
          "text": [
            "Downloading data from https://www.cs.toronto.edu/~kriz/cifar-100-python.tar.gz\n",
            "169009152/169001437 [==============================] - 4s 0us/step\n",
            "CIFAR100 dataset information:\n",
            "  * Total Train Samples: 50000\n",
            "  * Total Test Samples:  10000\n",
            "  * Input Shape:  (32, 32, 3)\n",
            "  * Output Shape: (1,)\n",
            "Shapes Detail:\n",
            "  * x_train:  (50000, 32, 32, 3)\n",
            "  * y_train:  (50000, 1)\n",
            "  * x_test:   (10000, 32, 32, 3)\n",
            "  * y_test:   (10000, 1)\n",
            "Random Train Example: \n"
          ],
          "name": "stdout"
        },
        {
          "output_type": "display_data",
          "data": {
            "image/png": "[encoded data removed]",
            "text/plain": [
              "<Figure size 432x288 with 1 Axes>"
            ]
          },
          "metadata": {
            "tags": []
          }
        },
        {
          "output_type": "stream",
          "text": [
            "Label: [6]\n",
            "Random Test Example: \n"
          ],
          "name": "stdout"
        },
        {
          "output_type": "display_data",
          "data": {
            "image/png": "[encoded data removed]",
            "text/plain": [
              "<Figure size 432x288 with 1 Axes>"
            ]
          },
          "metadata": {
            "tags": []
          }
        },
        {
          "output_type": "stream",
          "text": [
            "Label: [19]\n"
          ],
          "name": "stdout"
        }
      ]
    },
    {
      "cell_type": "markdown",
      "metadata": {
        "id": "r0YX6t4g0JTV"
      },
      "source": [
        "### VGG16"
      ]
    },
    {
      "cell_type": "code",
      "metadata": {
        "id": "DEFSQP0B0JTV"
      },
      "source": [
        "batch_size = 128\n",
        "epochs = 100\n",
        "gravity_opt = Gravity(learning_rate=0.1, alpha=0.01, beta=0.9)\n",
        "adam_opt = tf.keras.optimizers.Adam(learning_rate=0.001)\n",
        "cost_func = tf.keras.losses.SparseCategoricalCrossentropy(from_logits=True)\n",
        "\n",
        "model = gravity.get_vgg16(classes=cifar100_classes,\n",
        "                          input_shape=(32, 32, 3),\n",
        "                          drop_out_rate=0,\n",
        "                          print_summary=False)\n",
        "\n",
        "model.compile(optimizer=gravity_opt,\n",
        "              loss=cost_func,\n",
        "              metrics=['accuracy'])\n",
        "history = model.fit(x_train_cifar100, y_train_cifar100,\n",
        "                    batch_size=batch_size,\n",
        "                    epochs=epochs,\n",
        "                    validation_data=(x_test_cifar100, y_test_cifar100))\n",
        "gravity.plot_history(history)"
      ],
      "execution_count": null,
      "outputs": []
    },
    {
      "cell_type": "code",
      "metadata": {
        "colab": {
          "base_uri": "https://localhost:8080/"
        },
        "id": "YFPgUWT80JTV",
        "outputId": "2d1129de-d8d8-45c0-f87d-3e18f03a1719"
      },
      "source": [
        "comment = f\"\"\"Batch Size: {batch_size}\n",
        "max_step_grad = 1/tf.math.reduce_max(tf.math.abs(grad))\n",
        "velocity initializer: RandomNormal\n",
        "beta = (beta_hat*t+1)/(t+2)'\"\"\"\n",
        "gravity.save_run_info(model,\n",
        "                     history,\n",
        "                     gravity_opt,\n",
        "                     'CIFAR100 (Coarse)',\n",
        "                     comment=comment)"
      ],
      "execution_count": null,
      "outputs": [
        {
          "output_type": "stream",
          "text": [
            "save_run_info completed\n"
          ],
          "name": "stdout"
        }
      ]
    },
    {
      "cell_type": "markdown",
      "metadata": {
        "id": "JbqmgPLT0JTX"
      },
      "source": [
        "### VGG19\n"
      ]
    },
    {
      "cell_type": "code",
      "metadata": {
        "id": "MjrVpTPI0JTX",
        "colab": {
          "base_uri": "https://localhost:8080/",
          "height": 1000
        },
        "outputId": "babd97a2-9b05-4256-bd60-e903a3463475"
      },
      "source": [
        "batch_size = 128\n",
        "epochs = 100\n",
        "gravity_opt = Gravity(learning_rate=0.1, alpha=0.01, beta=0.9)\n",
        "adam_opt = tf.keras.optimizers.Adam(learning_rate=0.001)\n",
        "cost_func = tf.keras.losses.SparseCategoricalCrossentropy(from_logits=True)\n",
        "\n",
        "model = gravity.get_vgg19(classes=cifar100_classes,\n",
        "                          input_shape=(32, 32, 3),\n",
        "                          drop_out_rate=0,\n",
        "                          print_summary=False)\n",
        "\n",
        "model.compile(optimizer=gravity_opt,\n",
        "              loss=cost_func,\n",
        "              metrics=['accuracy'])\n",
        "history = model.fit(x_train_cifar100, y_train_cifar100,\n",
        "                    batch_size=batch_size,\n",
        "                    epochs=epochs,\n",
        "                    validation_data=(x_test_cifar100, y_test_cifar100))\n",
        "gravity.plot_history(history)"
      ],
      "execution_count": 11,
      "outputs": [
        {
          "output_type": "stream",
          "text": [
            "Epoch 1/100\n",
            "  2/391 [..............................] - ETA: 38s - loss: 2.9957 - accuracy: 0.0430WARNING:tensorflow:Callbacks method `on_train_batch_end` is slow compared to the batch time (batch time: 0.0365s vs `on_train_batch_end` time: 0.0801s). Check your callbacks.\n",
            "391/391 [==============================] - 36s 92ms/step - loss: 2.7714 - accuracy: 0.1280 - val_loss: 2.7207 - val_accuracy: 0.1616\n",
            "Epoch 2/100\n",
            "391/391 [==============================] - 35s 89ms/step - loss: 2.4542 - accuracy: 0.2332 - val_loss: 2.3271 - val_accuracy: 0.2710\n",
            "Epoch 3/100\n",
            "391/391 [==============================] - 35s 90ms/step - loss: 2.2404 - accuracy: 0.2979 - val_loss: 2.2312 - val_accuracy: 0.2983\n",
            "Epoch 4/100\n",
            "391/391 [==============================] - 35s 90ms/step - loss: 2.0895 - accuracy: 0.3471 - val_loss: 2.0461 - val_accuracy: 0.3571\n",
            "Epoch 5/100\n",
            "391/391 [==============================] - 35s 90ms/step - loss: 1.9471 - accuracy: 0.3885 - val_loss: 1.8955 - val_accuracy: 0.4097\n",
            "Epoch 6/100\n",
            "391/391 [==============================] - 35s 90ms/step - loss: 1.8133 - accuracy: 0.4275 - val_loss: 1.9255 - val_accuracy: 0.3988\n",
            "Epoch 7/100\n",
            "391/391 [==============================] - 35s 90ms/step - loss: 1.6782 - accuracy: 0.4681 - val_loss: 1.7582 - val_accuracy: 0.4537\n",
            "Epoch 8/100\n",
            "391/391 [==============================] - 35s 90ms/step - loss: 1.5521 - accuracy: 0.5078 - val_loss: 1.7088 - val_accuracy: 0.4724\n",
            "Epoch 9/100\n",
            "391/391 [==============================] - 35s 90ms/step - loss: 1.4318 - accuracy: 0.5424 - val_loss: 1.7008 - val_accuracy: 0.4806\n",
            "Epoch 10/100\n",
            "391/391 [==============================] - 35s 90ms/step - loss: 1.3100 - accuracy: 0.5812 - val_loss: 1.6339 - val_accuracy: 0.5007\n",
            "Epoch 11/100\n",
            "391/391 [==============================] - 35s 90ms/step - loss: 1.1877 - accuracy: 0.6191 - val_loss: 1.6141 - val_accuracy: 0.5051\n",
            "Epoch 12/100\n",
            "391/391 [==============================] - 35s 90ms/step - loss: 1.0638 - accuracy: 0.6570 - val_loss: 1.6732 - val_accuracy: 0.5077\n",
            "Epoch 13/100\n",
            "391/391 [==============================] - 35s 90ms/step - loss: 0.9527 - accuracy: 0.6905 - val_loss: 1.6589 - val_accuracy: 0.5115\n",
            "Epoch 14/100\n",
            "391/391 [==============================] - 35s 90ms/step - loss: 0.8483 - accuracy: 0.7230 - val_loss: 1.6739 - val_accuracy: 0.5327\n",
            "Epoch 15/100\n",
            "391/391 [==============================] - 35s 90ms/step - loss: 0.7579 - accuracy: 0.7521 - val_loss: 1.7791 - val_accuracy: 0.5159\n",
            "Epoch 16/100\n",
            "391/391 [==============================] - 35s 90ms/step - loss: 0.6501 - accuracy: 0.7884 - val_loss: 1.7941 - val_accuracy: 0.5249\n",
            "Epoch 17/100\n",
            "391/391 [==============================] - 35s 90ms/step - loss: 0.5705 - accuracy: 0.8127 - val_loss: 1.8529 - val_accuracy: 0.5264\n",
            "Epoch 18/100\n",
            "391/391 [==============================] - 35s 89ms/step - loss: 0.5032 - accuracy: 0.8317 - val_loss: 2.0491 - val_accuracy: 0.5280\n",
            "Epoch 19/100\n",
            "391/391 [==============================] - 35s 89ms/step - loss: 0.4225 - accuracy: 0.8607 - val_loss: 1.9491 - val_accuracy: 0.5302\n",
            "Epoch 20/100\n",
            "391/391 [==============================] - 35s 90ms/step - loss: 0.3603 - accuracy: 0.8828 - val_loss: 2.2261 - val_accuracy: 0.5299\n",
            "Epoch 21/100\n",
            "391/391 [==============================] - 35s 90ms/step - loss: 0.3304 - accuracy: 0.8915 - val_loss: 2.1468 - val_accuracy: 0.5374\n",
            "Epoch 22/100\n",
            "391/391 [==============================] - 35s 89ms/step - loss: 0.2838 - accuracy: 0.9070 - val_loss: 2.2479 - val_accuracy: 0.5299\n",
            "Epoch 23/100\n",
            "391/391 [==============================] - 35s 89ms/step - loss: 0.2352 - accuracy: 0.9227 - val_loss: 2.2637 - val_accuracy: 0.5362\n",
            "Epoch 24/100\n",
            "391/391 [==============================] - 35s 89ms/step - loss: 0.2150 - accuracy: 0.9280 - val_loss: 2.3996 - val_accuracy: 0.5372\n",
            "Epoch 25/100\n",
            "391/391 [==============================] - 35s 89ms/step - loss: 0.1954 - accuracy: 0.9356 - val_loss: 2.5746 - val_accuracy: 0.5272\n",
            "Epoch 26/100\n",
            "391/391 [==============================] - 35s 89ms/step - loss: 0.1742 - accuracy: 0.9433 - val_loss: 2.4217 - val_accuracy: 0.5220\n",
            "Epoch 27/100\n",
            "391/391 [==============================] - 35s 89ms/step - loss: 0.1480 - accuracy: 0.9530 - val_loss: 2.6424 - val_accuracy: 0.5285\n",
            "Epoch 28/100\n",
            "391/391 [==============================] - 35s 89ms/step - loss: 0.1401 - accuracy: 0.9549 - val_loss: 2.6050 - val_accuracy: 0.5327\n",
            "Epoch 29/100\n",
            "391/391 [==============================] - 35s 89ms/step - loss: 0.1280 - accuracy: 0.9577 - val_loss: 2.4999 - val_accuracy: 0.5357\n",
            "Epoch 30/100\n",
            "391/391 [==============================] - 35s 89ms/step - loss: 0.1080 - accuracy: 0.9650 - val_loss: 2.4751 - val_accuracy: 0.5337\n",
            "Epoch 31/100\n",
            "391/391 [==============================] - 35s 89ms/step - loss: 0.0985 - accuracy: 0.9677 - val_loss: 2.7237 - val_accuracy: 0.5369\n",
            "Epoch 32/100\n",
            "391/391 [==============================] - 35s 89ms/step - loss: 0.1011 - accuracy: 0.9668 - val_loss: 2.5039 - val_accuracy: 0.5375\n",
            "Epoch 33/100\n",
            "391/391 [==============================] - 35s 89ms/step - loss: 0.0844 - accuracy: 0.9719 - val_loss: 2.7809 - val_accuracy: 0.5391\n",
            "Epoch 34/100\n",
            "391/391 [==============================] - 35s 89ms/step - loss: 0.0805 - accuracy: 0.9745 - val_loss: 2.6482 - val_accuracy: 0.5375\n",
            "Epoch 35/100\n",
            "391/391 [==============================] - 35s 89ms/step - loss: 0.0738 - accuracy: 0.9769 - val_loss: 2.8086 - val_accuracy: 0.5445\n",
            "Epoch 36/100\n",
            "391/391 [==============================] - 35s 89ms/step - loss: 0.0703 - accuracy: 0.9774 - val_loss: 2.7525 - val_accuracy: 0.5415\n",
            "Epoch 37/100\n",
            "391/391 [==============================] - 35s 89ms/step - loss: 0.0695 - accuracy: 0.9777 - val_loss: 2.7143 - val_accuracy: 0.5395\n",
            "Epoch 38/100\n",
            "391/391 [==============================] - 35s 89ms/step - loss: 0.0602 - accuracy: 0.9804 - val_loss: 3.1401 - val_accuracy: 0.5402\n",
            "Epoch 39/100\n",
            "391/391 [==============================] - 35s 89ms/step - loss: 0.0658 - accuracy: 0.9795 - val_loss: 2.6521 - val_accuracy: 0.5371\n",
            "Epoch 40/100\n",
            "391/391 [==============================] - 35s 90ms/step - loss: 0.0662 - accuracy: 0.9787 - val_loss: 2.8427 - val_accuracy: 0.5362\n",
            "Epoch 41/100\n",
            "391/391 [==============================] - 35s 89ms/step - loss: 0.0569 - accuracy: 0.9824 - val_loss: 2.7977 - val_accuracy: 0.5377\n",
            "Epoch 42/100\n",
            "391/391 [==============================] - 35s 90ms/step - loss: 0.0637 - accuracy: 0.9798 - val_loss: 2.6691 - val_accuracy: 0.5406\n",
            "Epoch 43/100\n",
            "391/391 [==============================] - 35s 89ms/step - loss: 0.0480 - accuracy: 0.9850 - val_loss: 2.9468 - val_accuracy: 0.5442\n",
            "Epoch 44/100\n",
            "391/391 [==============================] - 35s 90ms/step - loss: 0.0502 - accuracy: 0.9838 - val_loss: 2.9915 - val_accuracy: 0.5344\n",
            "Epoch 45/100\n",
            "391/391 [==============================] - 35s 89ms/step - loss: 0.0530 - accuracy: 0.9823 - val_loss: 2.7059 - val_accuracy: 0.5435\n",
            "Epoch 46/100\n",
            "391/391 [==============================] - 35s 89ms/step - loss: 0.0456 - accuracy: 0.9850 - val_loss: 2.7988 - val_accuracy: 0.5402\n",
            "Epoch 47/100\n",
            "391/391 [==============================] - 35s 90ms/step - loss: 0.0400 - accuracy: 0.9874 - val_loss: 2.9948 - val_accuracy: 0.5443\n",
            "Epoch 48/100\n",
            "391/391 [==============================] - 35s 89ms/step - loss: 0.0518 - accuracy: 0.9839 - val_loss: 2.8925 - val_accuracy: 0.5381\n",
            "Epoch 49/100\n",
            "391/391 [==============================] - 35s 89ms/step - loss: 0.0423 - accuracy: 0.9866 - val_loss: 2.9816 - val_accuracy: 0.5426\n",
            "Epoch 50/100\n",
            "391/391 [==============================] - 35s 89ms/step - loss: 0.0377 - accuracy: 0.9880 - val_loss: 2.9770 - val_accuracy: 0.5433\n",
            "Epoch 51/100\n",
            "391/391 [==============================] - 35s 90ms/step - loss: 0.0363 - accuracy: 0.9884 - val_loss: 3.0118 - val_accuracy: 0.5456\n",
            "Epoch 52/100\n",
            "391/391 [==============================] - 35s 89ms/step - loss: 0.0281 - accuracy: 0.9908 - val_loss: 2.9010 - val_accuracy: 0.5499\n",
            "Epoch 53/100\n",
            "391/391 [==============================] - 35s 89ms/step - loss: 0.0287 - accuracy: 0.9912 - val_loss: 3.1305 - val_accuracy: 0.5475\n",
            "Epoch 54/100\n",
            "391/391 [==============================] - 35s 89ms/step - loss: 0.0337 - accuracy: 0.9888 - val_loss: 2.8866 - val_accuracy: 0.5484\n",
            "Epoch 55/100\n",
            "391/391 [==============================] - 35s 89ms/step - loss: 0.0323 - accuracy: 0.9899 - val_loss: 2.8948 - val_accuracy: 0.5517\n",
            "Epoch 56/100\n",
            "391/391 [==============================] - 35s 89ms/step - loss: 0.0296 - accuracy: 0.9908 - val_loss: 3.0016 - val_accuracy: 0.5501\n",
            "Epoch 57/100\n",
            "391/391 [==============================] - 35s 89ms/step - loss: 0.0352 - accuracy: 0.9893 - val_loss: 2.8682 - val_accuracy: 0.5401\n",
            "Epoch 58/100\n",
            "391/391 [==============================] - 35s 90ms/step - loss: 0.0238 - accuracy: 0.9927 - val_loss: 3.1583 - val_accuracy: 0.5417\n",
            "Epoch 59/100\n",
            "391/391 [==============================] - 35s 90ms/step - loss: 0.0273 - accuracy: 0.9914 - val_loss: 3.0177 - val_accuracy: 0.5478\n",
            "Epoch 60/100\n",
            "391/391 [==============================] - 35s 89ms/step - loss: 0.0284 - accuracy: 0.9909 - val_loss: 3.0506 - val_accuracy: 0.5349\n",
            "Epoch 61/100\n",
            "391/391 [==============================] - 35s 90ms/step - loss: 0.0298 - accuracy: 0.9909 - val_loss: 2.9732 - val_accuracy: 0.5461\n",
            "Epoch 62/100\n",
            "391/391 [==============================] - 35s 90ms/step - loss: 0.0237 - accuracy: 0.9928 - val_loss: 3.0265 - val_accuracy: 0.5380\n",
            "Epoch 63/100\n",
            "391/391 [==============================] - 35s 90ms/step - loss: 0.0245 - accuracy: 0.9923 - val_loss: 3.0107 - val_accuracy: 0.5405\n",
            "Epoch 64/100\n",
            "391/391 [==============================] - 35s 90ms/step - loss: 0.0217 - accuracy: 0.9928 - val_loss: 3.1462 - val_accuracy: 0.5442\n",
            "Epoch 65/100\n",
            "391/391 [==============================] - 35s 90ms/step - loss: 0.0279 - accuracy: 0.9911 - val_loss: 3.0653 - val_accuracy: 0.5485\n",
            "Epoch 66/100\n",
            "391/391 [==============================] - 35s 90ms/step - loss: 0.0181 - accuracy: 0.9944 - val_loss: 3.2284 - val_accuracy: 0.5510\n",
            "Epoch 67/100\n",
            "391/391 [==============================] - 35s 90ms/step - loss: 0.0180 - accuracy: 0.9943 - val_loss: 3.2650 - val_accuracy: 0.5469\n",
            "Epoch 68/100\n",
            "391/391 [==============================] - 35s 90ms/step - loss: 0.0244 - accuracy: 0.9923 - val_loss: 3.3210 - val_accuracy: 0.5462\n",
            "Epoch 69/100\n",
            "391/391 [==============================] - 35s 90ms/step - loss: 0.0242 - accuracy: 0.9925 - val_loss: 3.4070 - val_accuracy: 0.5398\n",
            "Epoch 70/100\n",
            "391/391 [==============================] - 35s 90ms/step - loss: 0.0270 - accuracy: 0.9915 - val_loss: 3.0085 - val_accuracy: 0.5478\n",
            "Epoch 71/100\n",
            "391/391 [==============================] - 35s 90ms/step - loss: 0.0232 - accuracy: 0.9931 - val_loss: 3.1447 - val_accuracy: 0.5537\n",
            "Epoch 72/100\n",
            "391/391 [==============================] - 35s 90ms/step - loss: 0.0237 - accuracy: 0.9929 - val_loss: 3.2528 - val_accuracy: 0.5584\n",
            "Epoch 73/100\n",
            "391/391 [==============================] - 35s 90ms/step - loss: 0.0232 - accuracy: 0.9926 - val_loss: 3.4622 - val_accuracy: 0.5417\n",
            "Epoch 74/100\n",
            "391/391 [==============================] - 35s 90ms/step - loss: 0.0237 - accuracy: 0.9925 - val_loss: 2.9577 - val_accuracy: 0.5486\n",
            "Epoch 75/100\n",
            "391/391 [==============================] - 35s 90ms/step - loss: 0.0226 - accuracy: 0.9933 - val_loss: 2.9769 - val_accuracy: 0.5516\n",
            "Epoch 76/100\n",
            "391/391 [==============================] - 35s 90ms/step - loss: 0.0211 - accuracy: 0.9934 - val_loss: 3.2579 - val_accuracy: 0.5471\n",
            "Epoch 77/100\n",
            "391/391 [==============================] - 35s 90ms/step - loss: 0.0188 - accuracy: 0.9942 - val_loss: 3.2764 - val_accuracy: 0.5481\n",
            "Epoch 78/100\n",
            "391/391 [==============================] - 35s 90ms/step - loss: 0.0248 - accuracy: 0.9924 - val_loss: 3.1429 - val_accuracy: 0.5525\n",
            "Epoch 79/100\n",
            "391/391 [==============================] - 35s 90ms/step - loss: 0.0159 - accuracy: 0.9950 - val_loss: 3.1290 - val_accuracy: 0.5546\n",
            "Epoch 80/100\n",
            "391/391 [==============================] - 35s 90ms/step - loss: 0.0204 - accuracy: 0.9935 - val_loss: 3.1574 - val_accuracy: 0.5482\n",
            "Epoch 81/100\n",
            "391/391 [==============================] - 36s 91ms/step - loss: 0.0214 - accuracy: 0.9938 - val_loss: 3.0329 - val_accuracy: 0.5526\n",
            "Epoch 82/100\n",
            "391/391 [==============================] - 35s 90ms/step - loss: 0.0154 - accuracy: 0.9953 - val_loss: 3.0474 - val_accuracy: 0.5501\n",
            "Epoch 83/100\n",
            "391/391 [==============================] - 35s 90ms/step - loss: 0.0205 - accuracy: 0.9938 - val_loss: 2.9149 - val_accuracy: 0.5475\n",
            "Epoch 84/100\n",
            "391/391 [==============================] - 35s 90ms/step - loss: 0.0169 - accuracy: 0.9950 - val_loss: 2.9800 - val_accuracy: 0.5442\n",
            "Epoch 85/100\n",
            "391/391 [==============================] - 35s 90ms/step - loss: 0.0184 - accuracy: 0.9940 - val_loss: 3.1254 - val_accuracy: 0.5454\n",
            "Epoch 86/100\n",
            "391/391 [==============================] - 35s 90ms/step - loss: 0.0174 - accuracy: 0.9947 - val_loss: 3.3217 - val_accuracy: 0.5586\n",
            "Epoch 87/100\n",
            "391/391 [==============================] - 35s 90ms/step - loss: 0.0114 - accuracy: 0.9962 - val_loss: 3.5284 - val_accuracy: 0.5489\n",
            "Epoch 88/100\n",
            "391/391 [==============================] - 35s 90ms/step - loss: 0.0177 - accuracy: 0.9944 - val_loss: 3.0394 - val_accuracy: 0.5539\n",
            "Epoch 89/100\n",
            "391/391 [==============================] - 35s 90ms/step - loss: 0.0133 - accuracy: 0.9959 - val_loss: 3.4509 - val_accuracy: 0.5442\n",
            "Epoch 90/100\n",
            "391/391 [==============================] - 35s 90ms/step - loss: 0.0166 - accuracy: 0.9946 - val_loss: 3.4290 - val_accuracy: 0.5527\n",
            "Epoch 91/100\n",
            "391/391 [==============================] - 35s 90ms/step - loss: 0.0144 - accuracy: 0.9956 - val_loss: 3.0053 - val_accuracy: 0.5541\n",
            "Epoch 92/100\n",
            "391/391 [==============================] - 35s 90ms/step - loss: 0.0091 - accuracy: 0.9970 - val_loss: 3.2226 - val_accuracy: 0.5539\n",
            "Epoch 93/100\n",
            "391/391 [==============================] - 35s 90ms/step - loss: 0.0178 - accuracy: 0.9946 - val_loss: 3.0271 - val_accuracy: 0.5529\n",
            "Epoch 94/100\n",
            "391/391 [==============================] - 35s 90ms/step - loss: 0.0111 - accuracy: 0.9962 - val_loss: 3.3654 - val_accuracy: 0.5536\n",
            "Epoch 95/100\n",
            "391/391 [==============================] - 35s 90ms/step - loss: 0.0154 - accuracy: 0.9953 - val_loss: 3.4421 - val_accuracy: 0.5538\n",
            "Epoch 96/100\n",
            "391/391 [==============================] - 35s 90ms/step - loss: 0.0201 - accuracy: 0.9938 - val_loss: 3.2654 - val_accuracy: 0.5512\n",
            "Epoch 97/100\n",
            "391/391 [==============================] - 35s 90ms/step - loss: 0.0180 - accuracy: 0.9943 - val_loss: 3.1206 - val_accuracy: 0.5567\n",
            "Epoch 98/100\n",
            "391/391 [==============================] - 35s 90ms/step - loss: 0.0141 - accuracy: 0.9956 - val_loss: 3.5496 - val_accuracy: 0.5546\n",
            "Epoch 99/100\n",
            "391/391 [==============================] - 35s 90ms/step - loss: 0.0152 - accuracy: 0.9951 - val_loss: 3.2577 - val_accuracy: 0.5612\n",
            "Epoch 100/100\n",
            "391/391 [==============================] - 35s 90ms/step - loss: 0.0126 - accuracy: 0.9960 - val_loss: 3.2798 - val_accuracy: 0.5493\n"
          ],
          "name": "stdout"
        },
        {
          "output_type": "display_data",
          "data": {
            "image/png": "[encoded data removed]",
            "text/plain": [
              "<Figure size 432x288 with 1 Axes>"
            ]
          },
          "metadata": {
            "tags": []
          }
        },
        {
          "output_type": "display_data",
          "data": {
            "image/png": "[encoded data removed]",
            "text/plain": [
              "<Figure size 432x288 with 1 Axes>"
            ]
          },
          "metadata": {
            "tags": []
          }
        }
      ]
    },
    {
      "cell_type": "code",
      "metadata": {
        "id": "kqUpUjnI0JTX",
        "colab": {
          "base_uri": "https://localhost:8080/"
        },
        "outputId": "5e50794b-73f4-4e61-f8b4-a8d039899855"
      },
      "source": [
        "comment = f\"\"\"Batch Size: {batch_size}\n",
        "max_step_grad = 1/tf.math.reduce_max(tf.math.abs(grad))\n",
        "velocity initializer: RandomNormal\n",
        "beta = (beta_hat*t+1)/(t+2)'\"\"\"\n",
        "gravity.save_run_info(model,\n",
        "                     history,\n",
        "                     gravity_opt,\n",
        "                     'CIFAR100 (Coarse)',\n",
        "                     comment=comment)"
      ],
      "execution_count": 12,
      "outputs": [
        {
          "output_type": "stream",
          "text": [
            "save_run_info completed\n"
          ],
          "name": "stdout"
        }
      ]
    },
    {
      "cell_type": "markdown",
      "metadata": {
        "id": "jE3CtpQT1XzB"
      },
      "source": [
        "## CIFAR100 (Fine)"
      ]
    },
    {
      "cell_type": "code",
      "metadata": {
        "colab": {
          "base_uri": "https://localhost:8080/",
          "height": 753
        },
        "id": "4TCya3tN1XzB",
        "outputId": "b4d108f7-e92f-4250-d4e3-4657de9e822d"
      },
      "source": [
        "cifar100_dict = gravity.get_dataset_cifar100(label_mode='fine', verbose=True, show_images=True)\n",
        "x_train_cifar100, y_train_cifar100 = cifar100_dict['train_data']\n",
        "x_test_cifar100, y_test_cifar100 = cifar100_dict['test_data']\n",
        "cifar100_classes = cifar100_dict['classes']\n",
        "cifar100_input_shape = cifar100_dict['input_shape']"
      ],
      "execution_count": null,
      "outputs": [
        {
          "output_type": "stream",
          "text": [
            "CIFAR100 dataset information:\n",
            "  * Total Train Samples: 50000\n",
            "  * Total Test Samples:  10000\n",
            "  * Input Shape:  (32, 32, 3)\n",
            "  * Output Shape: (1,)\n",
            "Shapes Detail:\n",
            "  * x_train:  (50000, 32, 32, 3)\n",
            "  * y_train:  (50000, 1)\n",
            "  * x_test:   (10000, 32, 32, 3)\n",
            "  * y_test:   (10000, 1)\n",
            "Random Train Example: \n"
          ],
          "name": "stdout"
        },
        {
          "output_type": "display_data",
          "data": {
            "image/png": "[encoded data removed]",
            "text/plain": [
              "<Figure size 432x288 with 1 Axes>"
            ]
          },
          "metadata": {
            "tags": []
          }
        },
        {
          "output_type": "stream",
          "text": [
            "Label: [51]\n",
            "Random Test Example: \n"
          ],
          "name": "stdout"
        },
        {
          "output_type": "display_data",
          "data": {
            "image/png": "[encoded data removed]",
            "text/plain": [
              "<Figure size 432x288 with 1 Axes>"
            ]
          },
          "metadata": {
            "tags": []
          }
        },
        {
          "output_type": "stream",
          "text": [
            "Label: [10]\n"
          ],
          "name": "stdout"
        }
      ]
    },
    {
      "cell_type": "markdown",
      "metadata": {
        "id": "cbPYUYlK1XzC"
      },
      "source": [
        "### VGG16"
      ]
    },
    {
      "cell_type": "code",
      "metadata": {
        "colab": {
          "base_uri": "https://localhost:8080/",
          "height": 1000
        },
        "id": "2wfn3zZb1XzC",
        "outputId": "b1ddabff-7029-4f36-f257-b1b0003aa490"
      },
      "source": [
        "batch_size = 128\n",
        "epochs = 100\n",
        "gravity_opt = Gravity(learning_rate=0.1, alpha=0.01, beta=0.9)\n",
        "adam_opt = tf.keras.optimizers.Adam(learning_rate=0.001)\n",
        "cost_func = tf.keras.losses.SparseCategoricalCrossentropy(from_logits=True)\n",
        "\n",
        "model = gravity.get_vgg16(classes=cifar100_classes,\n",
        "                          input_shape=(32, 32, 3),\n",
        "                          drop_out_rate=0,\n",
        "                          print_summary=False)\n",
        "\n",
        "model.compile(optimizer=gravity_opt,\n",
        "              loss=cost_func,\n",
        "              metrics=['accuracy'])\n",
        "history = model.fit(x_train_cifar100, y_train_cifar100,\n",
        "                    batch_size=batch_size,\n",
        "                    epochs=epochs,\n",
        "                    validation_data=(x_test_cifar100, y_test_cifar100))\n",
        "gravity.plot_history(history)"
      ],
      "execution_count": null,
      "outputs": [
        {
          "output_type": "stream",
          "text": [
            "Epoch 1/100\n",
            "  2/391 [..............................] - ETA: 29s - loss: 4.6056 - accuracy: 0.0039WARNING:tensorflow:Callbacks method `on_train_batch_end` is slow compared to the batch time (batch time: 0.0320s vs `on_train_batch_end` time: 0.0540s). Check your callbacks.\n",
            "391/391 [==============================] - 30s 76ms/step - loss: 4.3493 - accuracy: 0.0362 - val_loss: 3.9703 - val_accuracy: 0.0847\n",
            "Epoch 2/100\n",
            "391/391 [==============================] - 29s 74ms/step - loss: 3.7991 - accuracy: 0.1072 - val_loss: 3.8313 - val_accuracy: 0.1109\n",
            "Epoch 3/100\n",
            "391/391 [==============================] - 29s 74ms/step - loss: 3.5234 - accuracy: 0.1533 - val_loss: 3.3790 - val_accuracy: 0.1878\n",
            "Epoch 4/100\n",
            "391/391 [==============================] - 29s 75ms/step - loss: 3.2462 - accuracy: 0.2050 - val_loss: 3.1340 - val_accuracy: 0.2312\n",
            "Epoch 5/100\n",
            "391/391 [==============================] - 29s 74ms/step - loss: 2.9889 - accuracy: 0.2534 - val_loss: 3.0208 - val_accuracy: 0.2534\n",
            "Epoch 6/100\n",
            "391/391 [==============================] - 29s 74ms/step - loss: 2.7518 - accuracy: 0.2983 - val_loss: 2.8211 - val_accuracy: 0.2980\n",
            "Epoch 7/100\n",
            "391/391 [==============================] - 29s 74ms/step - loss: 2.5075 - accuracy: 0.3475 - val_loss: 2.6955 - val_accuracy: 0.3250\n",
            "Epoch 8/100\n",
            "391/391 [==============================] - 29s 74ms/step - loss: 2.2715 - accuracy: 0.3986 - val_loss: 2.6086 - val_accuracy: 0.3523\n",
            "Epoch 9/100\n",
            "391/391 [==============================] - 29s 74ms/step - loss: 2.0462 - accuracy: 0.4435 - val_loss: 2.5166 - val_accuracy: 0.3679\n",
            "Epoch 10/100\n",
            "391/391 [==============================] - 29s 74ms/step - loss: 1.8322 - accuracy: 0.4927 - val_loss: 2.5279 - val_accuracy: 0.3825\n",
            "Epoch 11/100\n",
            "391/391 [==============================] - 29s 74ms/step - loss: 1.6154 - accuracy: 0.5435 - val_loss: 2.5125 - val_accuracy: 0.3798\n",
            "Epoch 12/100\n",
            "391/391 [==============================] - 29s 74ms/step - loss: 1.4107 - accuracy: 0.5936 - val_loss: 2.5463 - val_accuracy: 0.3879\n",
            "Epoch 13/100\n",
            "391/391 [==============================] - 29s 74ms/step - loss: 1.2207 - accuracy: 0.6402 - val_loss: 2.7856 - val_accuracy: 0.3875\n",
            "Epoch 14/100\n",
            "391/391 [==============================] - 29s 74ms/step - loss: 1.0615 - accuracy: 0.6791 - val_loss: 2.8308 - val_accuracy: 0.3946\n",
            "Epoch 15/100\n",
            "391/391 [==============================] - 29s 74ms/step - loss: 0.9331 - accuracy: 0.7160 - val_loss: 2.9618 - val_accuracy: 0.3751\n",
            "Epoch 16/100\n",
            "391/391 [==============================] - 29s 74ms/step - loss: 0.8119 - accuracy: 0.7510 - val_loss: 3.0221 - val_accuracy: 0.3793\n",
            "Epoch 17/100\n",
            "391/391 [==============================] - 29s 74ms/step - loss: 0.7088 - accuracy: 0.7806 - val_loss: 3.0208 - val_accuracy: 0.3821\n",
            "Epoch 18/100\n",
            "391/391 [==============================] - 29s 74ms/step - loss: 0.6095 - accuracy: 0.8106 - val_loss: 3.3943 - val_accuracy: 0.3856\n",
            "Epoch 19/100\n",
            "391/391 [==============================] - 29s 74ms/step - loss: 0.5470 - accuracy: 0.8285 - val_loss: 3.2264 - val_accuracy: 0.3823\n",
            "Epoch 20/100\n",
            "391/391 [==============================] - 29s 74ms/step - loss: 0.5028 - accuracy: 0.8401 - val_loss: 3.3365 - val_accuracy: 0.3905\n",
            "Epoch 21/100\n",
            "391/391 [==============================] - 29s 74ms/step - loss: 0.4343 - accuracy: 0.8645 - val_loss: 3.8398 - val_accuracy: 0.3843\n",
            "Epoch 22/100\n",
            "391/391 [==============================] - 29s 74ms/step - loss: 0.3859 - accuracy: 0.8795 - val_loss: 3.5418 - val_accuracy: 0.3830\n",
            "Epoch 23/100\n",
            "391/391 [==============================] - 29s 74ms/step - loss: 0.3652 - accuracy: 0.8852 - val_loss: 3.7289 - val_accuracy: 0.3793\n",
            "Epoch 24/100\n",
            "391/391 [==============================] - 29s 74ms/step - loss: 0.3275 - accuracy: 0.8968 - val_loss: 3.8450 - val_accuracy: 0.3959\n",
            "Epoch 25/100\n",
            "391/391 [==============================] - 29s 74ms/step - loss: 0.3035 - accuracy: 0.9051 - val_loss: 3.9664 - val_accuracy: 0.3833\n",
            "Epoch 26/100\n",
            "391/391 [==============================] - 29s 74ms/step - loss: 0.2717 - accuracy: 0.9154 - val_loss: 3.9709 - val_accuracy: 0.3944\n",
            "Epoch 27/100\n",
            "391/391 [==============================] - 29s 74ms/step - loss: 0.2432 - accuracy: 0.9246 - val_loss: 3.7280 - val_accuracy: 0.3901\n",
            "Epoch 28/100\n",
            "391/391 [==============================] - 29s 74ms/step - loss: 0.2176 - accuracy: 0.9327 - val_loss: 3.9460 - val_accuracy: 0.3932\n",
            "Epoch 29/100\n",
            "391/391 [==============================] - 29s 74ms/step - loss: 0.2365 - accuracy: 0.9261 - val_loss: 4.0269 - val_accuracy: 0.3864\n",
            "Epoch 30/100\n",
            "391/391 [==============================] - 29s 74ms/step - loss: 0.1968 - accuracy: 0.9386 - val_loss: 4.1474 - val_accuracy: 0.3905\n",
            "Epoch 31/100\n",
            "391/391 [==============================] - 29s 74ms/step - loss: 0.1844 - accuracy: 0.9438 - val_loss: 4.0697 - val_accuracy: 0.3868\n",
            "Epoch 32/100\n",
            "391/391 [==============================] - 29s 74ms/step - loss: 0.1720 - accuracy: 0.9465 - val_loss: 4.0549 - val_accuracy: 0.3860\n",
            "Epoch 33/100\n",
            "391/391 [==============================] - 29s 74ms/step - loss: 0.1600 - accuracy: 0.9524 - val_loss: 4.1878 - val_accuracy: 0.3891\n",
            "Epoch 34/100\n",
            "391/391 [==============================] - 29s 74ms/step - loss: 0.1511 - accuracy: 0.9538 - val_loss: 4.0840 - val_accuracy: 0.3937\n",
            "Epoch 35/100\n",
            "391/391 [==============================] - 29s 74ms/step - loss: 0.1548 - accuracy: 0.9532 - val_loss: 4.6189 - val_accuracy: 0.3947\n",
            "Epoch 36/100\n",
            "391/391 [==============================] - 29s 74ms/step - loss: 0.1379 - accuracy: 0.9585 - val_loss: 4.4276 - val_accuracy: 0.3980\n",
            "Epoch 37/100\n",
            "391/391 [==============================] - 29s 74ms/step - loss: 0.1380 - accuracy: 0.9582 - val_loss: 4.2699 - val_accuracy: 0.3995\n",
            "Epoch 38/100\n",
            "391/391 [==============================] - 29s 74ms/step - loss: 0.1192 - accuracy: 0.9649 - val_loss: 4.1892 - val_accuracy: 0.4128\n",
            "Epoch 39/100\n",
            "391/391 [==============================] - 29s 74ms/step - loss: 0.1140 - accuracy: 0.9654 - val_loss: 4.4641 - val_accuracy: 0.3971\n",
            "Epoch 40/100\n",
            "391/391 [==============================] - 29s 74ms/step - loss: 0.1134 - accuracy: 0.9653 - val_loss: 4.6293 - val_accuracy: 0.3964\n",
            "Epoch 41/100\n",
            "391/391 [==============================] - 29s 74ms/step - loss: 0.1114 - accuracy: 0.9658 - val_loss: 4.6857 - val_accuracy: 0.4037\n",
            "Epoch 42/100\n",
            "391/391 [==============================] - 29s 74ms/step - loss: 0.1150 - accuracy: 0.9652 - val_loss: 4.5897 - val_accuracy: 0.3989\n",
            "Epoch 43/100\n",
            "391/391 [==============================] - 29s 74ms/step - loss: 0.1102 - accuracy: 0.9658 - val_loss: 4.6978 - val_accuracy: 0.3923\n",
            "Epoch 44/100\n",
            "391/391 [==============================] - 29s 74ms/step - loss: 0.1076 - accuracy: 0.9689 - val_loss: 4.6175 - val_accuracy: 0.3912\n",
            "Epoch 45/100\n",
            "391/391 [==============================] - 29s 74ms/step - loss: 0.1029 - accuracy: 0.9688 - val_loss: 4.4066 - val_accuracy: 0.4036\n",
            "Epoch 46/100\n",
            "391/391 [==============================] - 29s 74ms/step - loss: 0.0967 - accuracy: 0.9709 - val_loss: 4.5672 - val_accuracy: 0.4024\n",
            "Epoch 47/100\n",
            "391/391 [==============================] - 29s 74ms/step - loss: 0.0989 - accuracy: 0.9703 - val_loss: 4.5250 - val_accuracy: 0.3934\n",
            "Epoch 48/100\n",
            "391/391 [==============================] - 29s 74ms/step - loss: 0.1030 - accuracy: 0.9684 - val_loss: 4.6985 - val_accuracy: 0.4029\n",
            "Epoch 49/100\n",
            "391/391 [==============================] - 29s 74ms/step - loss: 0.0900 - accuracy: 0.9729 - val_loss: 4.4986 - val_accuracy: 0.4031\n",
            "Epoch 50/100\n",
            "391/391 [==============================] - 29s 74ms/step - loss: 0.0917 - accuracy: 0.9728 - val_loss: 5.0431 - val_accuracy: 0.3965\n",
            "Epoch 51/100\n",
            "391/391 [==============================] - 29s 74ms/step - loss: 0.0867 - accuracy: 0.9734 - val_loss: 4.6153 - val_accuracy: 0.3967\n",
            "Epoch 52/100\n",
            "391/391 [==============================] - 29s 74ms/step - loss: 0.0832 - accuracy: 0.9744 - val_loss: 4.6491 - val_accuracy: 0.3951\n",
            "Epoch 53/100\n",
            "391/391 [==============================] - 29s 74ms/step - loss: 0.0917 - accuracy: 0.9724 - val_loss: 4.3206 - val_accuracy: 0.4046\n",
            "Epoch 54/100\n",
            "391/391 [==============================] - 29s 74ms/step - loss: 0.0742 - accuracy: 0.9776 - val_loss: 4.3438 - val_accuracy: 0.4027\n",
            "Epoch 55/100\n",
            "391/391 [==============================] - 29s 74ms/step - loss: 0.0859 - accuracy: 0.9752 - val_loss: 4.2374 - val_accuracy: 0.3982\n",
            "Epoch 56/100\n",
            "391/391 [==============================] - 29s 74ms/step - loss: 0.0729 - accuracy: 0.9785 - val_loss: 4.4661 - val_accuracy: 0.4025\n",
            "Epoch 57/100\n",
            "391/391 [==============================] - 29s 74ms/step - loss: 0.0775 - accuracy: 0.9780 - val_loss: 4.6280 - val_accuracy: 0.3934\n",
            "Epoch 58/100\n",
            "391/391 [==============================] - 29s 74ms/step - loss: 0.0723 - accuracy: 0.9782 - val_loss: 4.4520 - val_accuracy: 0.3973\n",
            "Epoch 59/100\n",
            "391/391 [==============================] - 29s 75ms/step - loss: 0.0734 - accuracy: 0.9789 - val_loss: 4.9799 - val_accuracy: 0.3974\n",
            "Epoch 60/100\n",
            "391/391 [==============================] - 29s 74ms/step - loss: 0.0649 - accuracy: 0.9808 - val_loss: 4.6817 - val_accuracy: 0.4005\n",
            "Epoch 61/100\n",
            "391/391 [==============================] - 29s 74ms/step - loss: 0.0696 - accuracy: 0.9791 - val_loss: 4.8043 - val_accuracy: 0.4018\n",
            "Epoch 62/100\n",
            "391/391 [==============================] - 29s 74ms/step - loss: 0.0770 - accuracy: 0.9774 - val_loss: 4.8557 - val_accuracy: 0.4044\n",
            "Epoch 63/100\n",
            "391/391 [==============================] - 29s 75ms/step - loss: 0.0700 - accuracy: 0.9788 - val_loss: 5.1106 - val_accuracy: 0.3979\n",
            "Epoch 64/100\n",
            "391/391 [==============================] - 29s 74ms/step - loss: 0.0759 - accuracy: 0.9780 - val_loss: 4.9483 - val_accuracy: 0.3955\n",
            "Epoch 65/100\n",
            "391/391 [==============================] - 29s 74ms/step - loss: 0.0700 - accuracy: 0.9802 - val_loss: 4.6258 - val_accuracy: 0.3998\n",
            "Epoch 66/100\n",
            "391/391 [==============================] - 29s 74ms/step - loss: 0.0739 - accuracy: 0.9780 - val_loss: 4.8121 - val_accuracy: 0.3915\n",
            "Epoch 67/100\n",
            "391/391 [==============================] - 29s 74ms/step - loss: 0.0651 - accuracy: 0.9817 - val_loss: 4.7060 - val_accuracy: 0.3965\n",
            "Epoch 68/100\n",
            "391/391 [==============================] - 29s 74ms/step - loss: 0.0676 - accuracy: 0.9809 - val_loss: 4.6685 - val_accuracy: 0.3983\n",
            "Epoch 69/100\n",
            "391/391 [==============================] - 29s 74ms/step - loss: 0.0548 - accuracy: 0.9839 - val_loss: 4.8753 - val_accuracy: 0.4012\n",
            "Epoch 70/100\n",
            "391/391 [==============================] - 29s 74ms/step - loss: 0.0737 - accuracy: 0.9787 - val_loss: 4.8128 - val_accuracy: 0.3978\n",
            "Epoch 71/100\n",
            "391/391 [==============================] - 29s 74ms/step - loss: 0.0649 - accuracy: 0.9812 - val_loss: 5.3046 - val_accuracy: 0.3983\n",
            "Epoch 72/100\n",
            "391/391 [==============================] - 29s 74ms/step - loss: 0.0670 - accuracy: 0.9806 - val_loss: 4.8146 - val_accuracy: 0.4087\n",
            "Epoch 73/100\n",
            "391/391 [==============================] - 29s 74ms/step - loss: 0.0605 - accuracy: 0.9817 - val_loss: 4.7410 - val_accuracy: 0.3965\n",
            "Epoch 74/100\n",
            "391/391 [==============================] - 29s 74ms/step - loss: 0.0602 - accuracy: 0.9824 - val_loss: 4.8346 - val_accuracy: 0.4014\n",
            "Epoch 75/100\n",
            "391/391 [==============================] - 29s 74ms/step - loss: 0.0530 - accuracy: 0.9849 - val_loss: 4.8201 - val_accuracy: 0.4037\n",
            "Epoch 76/100\n",
            "391/391 [==============================] - 29s 74ms/step - loss: 0.0576 - accuracy: 0.9833 - val_loss: 4.5995 - val_accuracy: 0.4075\n",
            "Epoch 77/100\n",
            "391/391 [==============================] - 29s 74ms/step - loss: 0.0492 - accuracy: 0.9856 - val_loss: 5.0957 - val_accuracy: 0.4019\n",
            "Epoch 78/100\n",
            "391/391 [==============================] - 29s 75ms/step - loss: 0.0614 - accuracy: 0.9831 - val_loss: 4.8000 - val_accuracy: 0.4037\n",
            "Epoch 79/100\n",
            "391/391 [==============================] - 29s 74ms/step - loss: 0.0546 - accuracy: 0.9839 - val_loss: 5.1312 - val_accuracy: 0.4005\n",
            "Epoch 80/100\n",
            "391/391 [==============================] - 29s 74ms/step - loss: 0.0583 - accuracy: 0.9830 - val_loss: 5.1024 - val_accuracy: 0.4065\n",
            "Epoch 81/100\n",
            "391/391 [==============================] - 29s 74ms/step - loss: 0.0535 - accuracy: 0.9844 - val_loss: 4.9817 - val_accuracy: 0.3994\n",
            "Epoch 82/100\n",
            "391/391 [==============================] - 29s 74ms/step - loss: 0.0639 - accuracy: 0.9819 - val_loss: 4.9646 - val_accuracy: 0.4009\n",
            "Epoch 83/100\n",
            "391/391 [==============================] - 29s 74ms/step - loss: 0.0512 - accuracy: 0.9851 - val_loss: 5.1321 - val_accuracy: 0.4000\n",
            "Epoch 84/100\n",
            "391/391 [==============================] - 29s 74ms/step - loss: 0.0564 - accuracy: 0.9833 - val_loss: 4.8707 - val_accuracy: 0.3969\n",
            "Epoch 85/100\n",
            "391/391 [==============================] - 29s 74ms/step - loss: 0.0532 - accuracy: 0.9847 - val_loss: 4.7658 - val_accuracy: 0.4026\n",
            "Epoch 86/100\n",
            "391/391 [==============================] - 29s 74ms/step - loss: 0.0461 - accuracy: 0.9869 - val_loss: 4.7616 - val_accuracy: 0.4046\n",
            "Epoch 87/100\n",
            "391/391 [==============================] - 29s 74ms/step - loss: 0.0554 - accuracy: 0.9844 - val_loss: 5.1669 - val_accuracy: 0.3980\n",
            "Epoch 88/100\n",
            "391/391 [==============================] - 29s 74ms/step - loss: 0.0576 - accuracy: 0.9830 - val_loss: 4.8265 - val_accuracy: 0.3930\n",
            "Epoch 89/100\n",
            "391/391 [==============================] - 29s 74ms/step - loss: 0.0442 - accuracy: 0.9881 - val_loss: 5.2413 - val_accuracy: 0.4008\n",
            "Epoch 90/100\n",
            "391/391 [==============================] - 29s 74ms/step - loss: 0.0571 - accuracy: 0.9836 - val_loss: 4.6316 - val_accuracy: 0.3941\n",
            "Epoch 91/100\n",
            "391/391 [==============================] - 29s 74ms/step - loss: 0.0464 - accuracy: 0.9870 - val_loss: 4.8722 - val_accuracy: 0.3987\n",
            "Epoch 92/100\n",
            "391/391 [==============================] - 29s 74ms/step - loss: 0.0541 - accuracy: 0.9852 - val_loss: 4.6232 - val_accuracy: 0.4049\n",
            "Epoch 93/100\n",
            "391/391 [==============================] - 29s 74ms/step - loss: 0.0497 - accuracy: 0.9857 - val_loss: 5.1056 - val_accuracy: 0.3969\n",
            "Epoch 94/100\n",
            "391/391 [==============================] - 29s 74ms/step - loss: 0.0594 - accuracy: 0.9830 - val_loss: 4.9929 - val_accuracy: 0.4074\n",
            "Epoch 95/100\n",
            "391/391 [==============================] - 29s 74ms/step - loss: 0.0521 - accuracy: 0.9847 - val_loss: 4.9268 - val_accuracy: 0.4100\n",
            "Epoch 96/100\n",
            "391/391 [==============================] - 29s 74ms/step - loss: 0.0512 - accuracy: 0.9849 - val_loss: 4.9212 - val_accuracy: 0.4013\n",
            "Epoch 97/100\n",
            "391/391 [==============================] - 29s 74ms/step - loss: 0.0508 - accuracy: 0.9856 - val_loss: 4.7867 - val_accuracy: 0.3995\n",
            "Epoch 98/100\n",
            "391/391 [==============================] - 29s 74ms/step - loss: 0.0543 - accuracy: 0.9848 - val_loss: 4.7747 - val_accuracy: 0.4007\n",
            "Epoch 99/100\n",
            "391/391 [==============================] - 29s 74ms/step - loss: 0.0532 - accuracy: 0.9849 - val_loss: 5.0896 - val_accuracy: 0.4007\n",
            "Epoch 100/100\n",
            "391/391 [==============================] - 29s 74ms/step - loss: 0.0479 - accuracy: 0.9870 - val_loss: 4.7484 - val_accuracy: 0.4012\n"
          ],
          "name": "stdout"
        },
        {
          "output_type": "display_data",
          "data": {
            "image/png": "[encoded data removed]",
            "text/plain": [
              "<Figure size 432x288 with 1 Axes>"
            ]
          },
          "metadata": {
            "tags": []
          }
        },
        {
          "output_type": "display_data",
          "data": {
            "image/png": "[encoded data removed]",
            "text/plain": [
              "<Figure size 432x288 with 1 Axes>"
            ]
          },
          "metadata": {
            "tags": []
          }
        }
      ]
    },
    {
      "cell_type": "code",
      "metadata": {
        "colab": {
          "base_uri": "https://localhost:8080/"
        },
        "id": "92t1RFNw1XzC",
        "outputId": "90cc1967-dea7-4a52-9424-0e4306b83717"
      },
      "source": [
        "comment = f\"\"\"Batch Size: {batch_size}\n",
        "max_step_grad = 1/tf.math.reduce_max(tf.math.abs(grad))\n",
        "velocity initializer: RandomNormal\n",
        "beta = (beta_hat*t+1)/(t+2)'\"\"\"\n",
        "gravity.save_run_info(model,\n",
        "                     history,\n",
        "                     gravity_opt,\n",
        "                     'CIFAR100 (Fine)',\n",
        "                     comment=comment)"
      ],
      "execution_count": null,
      "outputs": [
        {
          "output_type": "stream",
          "text": [
            "save_run_info completed\n"
          ],
          "name": "stdout"
        }
      ]
    },
    {
      "cell_type": "markdown",
      "metadata": {
        "id": "p9_f-gMU1XzD"
      },
      "source": [
        "### VGG19\n"
      ]
    },
    {
      "cell_type": "code",
      "metadata": {
        "id": "aIuFd8Cw1XzE",
        "colab": {
          "base_uri": "https://localhost:8080/",
          "height": 1000
        },
        "outputId": "44606737-c782-4931-f885-2ccf2da9ab97"
      },
      "source": [
        "batch_size = 128\n",
        "epochs = 100\n",
        "gravity_opt = Gravity(learning_rate=0.1, alpha=0.01, beta=0.9)\n",
        "adam_opt = tf.keras.optimizers.Adam(learning_rate=0.001)\n",
        "cost_func = tf.keras.losses.SparseCategoricalCrossentropy(from_logits=True)\n",
        "\n",
        "model = gravity.get_vgg19(classes=cifar100_classes,\n",
        "                          input_shape=(32, 32, 3),\n",
        "                          drop_out_rate=0,\n",
        "                          print_summary=False)\n",
        "\n",
        "model.compile(optimizer=gravity_opt,\n",
        "              loss=cost_func,\n",
        "              metrics=['accuracy'])\n",
        "history = model.fit(x_train_cifar100, y_train_cifar100,\n",
        "                    batch_size=batch_size,\n",
        "                    epochs=epochs,\n",
        "                    validation_data=(x_test_cifar100, y_test_cifar100))\n",
        "gravity.plot_history(history)"
      ],
      "execution_count": 13,
      "outputs": [
        {
          "output_type": "stream",
          "text": [
            "Epoch 1/100\n",
            "  2/391 [..............................] - ETA: 34s - loss: 2.9963 - accuracy: 0.0312WARNING:tensorflow:Callbacks method `on_train_batch_end` is slow compared to the batch time (batch time: 0.0350s vs `on_train_batch_end` time: 0.0615s). Check your callbacks.\n",
            "391/391 [==============================] - 36s 91ms/step - loss: 2.8679 - accuracy: 0.1038 - val_loss: 2.6954 - val_accuracy: 0.1549\n",
            "Epoch 2/100\n",
            "391/391 [==============================] - 35s 89ms/step - loss: 2.5704 - accuracy: 0.1947 - val_loss: 2.4556 - val_accuracy: 0.2365\n",
            "Epoch 3/100\n",
            "391/391 [==============================] - 35s 90ms/step - loss: 2.3803 - accuracy: 0.2579 - val_loss: 2.3811 - val_accuracy: 0.2628\n",
            "Epoch 4/100\n",
            "391/391 [==============================] - 35s 89ms/step - loss: 2.2345 - accuracy: 0.3017 - val_loss: 2.1951 - val_accuracy: 0.3130\n",
            "Epoch 5/100\n",
            "391/391 [==============================] - 35s 89ms/step - loss: 2.0921 - accuracy: 0.3471 - val_loss: 2.1045 - val_accuracy: 0.3457\n",
            "Epoch 6/100\n",
            "391/391 [==============================] - 35s 90ms/step - loss: 1.9669 - accuracy: 0.3846 - val_loss: 2.0054 - val_accuracy: 0.3792\n",
            "Epoch 7/100\n",
            "391/391 [==============================] - 35s 89ms/step - loss: 1.8607 - accuracy: 0.4152 - val_loss: 1.9608 - val_accuracy: 0.3922\n",
            "Epoch 8/100\n",
            "391/391 [==============================] - 35s 89ms/step - loss: 1.7521 - accuracy: 0.4468 - val_loss: 1.9085 - val_accuracy: 0.4150\n",
            "Epoch 9/100\n",
            "391/391 [==============================] - 35s 89ms/step - loss: 1.6315 - accuracy: 0.4863 - val_loss: 1.8655 - val_accuracy: 0.4257\n",
            "Epoch 10/100\n",
            "391/391 [==============================] - 35s 89ms/step - loss: 1.5215 - accuracy: 0.5188 - val_loss: 1.8308 - val_accuracy: 0.4444\n",
            "Epoch 11/100\n",
            "391/391 [==============================] - 35s 89ms/step - loss: 1.4003 - accuracy: 0.5538 - val_loss: 1.8015 - val_accuracy: 0.4560\n",
            "Epoch 12/100\n",
            "391/391 [==============================] - 35s 89ms/step - loss: 1.2876 - accuracy: 0.5882 - val_loss: 1.8293 - val_accuracy: 0.4598\n",
            "Epoch 13/100\n",
            "391/391 [==============================] - 35s 89ms/step - loss: 1.1593 - accuracy: 0.6285 - val_loss: 1.8665 - val_accuracy: 0.4481\n",
            "Epoch 14/100\n",
            "391/391 [==============================] - 35s 89ms/step - loss: 1.0464 - accuracy: 0.6629 - val_loss: 1.9259 - val_accuracy: 0.4584\n",
            "Epoch 15/100\n",
            "391/391 [==============================] - 35s 89ms/step - loss: 0.9488 - accuracy: 0.6930 - val_loss: 2.0313 - val_accuracy: 0.4660\n",
            "Epoch 16/100\n",
            "391/391 [==============================] - 35s 89ms/step - loss: 0.8377 - accuracy: 0.7260 - val_loss: 1.9826 - val_accuracy: 0.4650\n",
            "Epoch 17/100\n",
            "391/391 [==============================] - 35s 89ms/step - loss: 0.7361 - accuracy: 0.7583 - val_loss: 2.2428 - val_accuracy: 0.4588\n",
            "Epoch 18/100\n",
            "391/391 [==============================] - 35s 89ms/step - loss: 0.6589 - accuracy: 0.7847 - val_loss: 2.1503 - val_accuracy: 0.4737\n",
            "Epoch 19/100\n",
            "391/391 [==============================] - 35s 89ms/step - loss: 0.5738 - accuracy: 0.8126 - val_loss: 2.2407 - val_accuracy: 0.4662\n",
            "Epoch 20/100\n",
            "391/391 [==============================] - 35s 89ms/step - loss: 0.4960 - accuracy: 0.8365 - val_loss: 2.2943 - val_accuracy: 0.4753\n",
            "Epoch 21/100\n",
            "391/391 [==============================] - 35s 89ms/step - loss: 0.4326 - accuracy: 0.8559 - val_loss: 2.4794 - val_accuracy: 0.4691\n",
            "Epoch 22/100\n",
            "391/391 [==============================] - 35s 89ms/step - loss: 0.3675 - accuracy: 0.8789 - val_loss: 2.5070 - val_accuracy: 0.4609\n",
            "Epoch 23/100\n",
            "391/391 [==============================] - 35s 89ms/step - loss: 0.3254 - accuracy: 0.8932 - val_loss: 2.5444 - val_accuracy: 0.4652\n",
            "Epoch 24/100\n",
            "391/391 [==============================] - 35s 89ms/step - loss: 0.2819 - accuracy: 0.9074 - val_loss: 2.5715 - val_accuracy: 0.4762\n",
            "Epoch 25/100\n",
            "391/391 [==============================] - 35s 89ms/step - loss: 0.2605 - accuracy: 0.9144 - val_loss: 2.6634 - val_accuracy: 0.4725\n",
            "Epoch 26/100\n",
            "391/391 [==============================] - 35s 89ms/step - loss: 0.2253 - accuracy: 0.9274 - val_loss: 2.6691 - val_accuracy: 0.4832\n",
            "Epoch 27/100\n",
            "391/391 [==============================] - 35s 89ms/step - loss: 0.1859 - accuracy: 0.9399 - val_loss: 2.8273 - val_accuracy: 0.4737\n",
            "Epoch 28/100\n",
            "391/391 [==============================] - 35s 89ms/step - loss: 0.1791 - accuracy: 0.9417 - val_loss: 2.8498 - val_accuracy: 0.4765\n",
            "Epoch 29/100\n",
            "391/391 [==============================] - 35s 89ms/step - loss: 0.1686 - accuracy: 0.9444 - val_loss: 2.8839 - val_accuracy: 0.4804\n",
            "Epoch 30/100\n",
            "391/391 [==============================] - 35s 89ms/step - loss: 0.1425 - accuracy: 0.9541 - val_loss: 3.0941 - val_accuracy: 0.4860\n",
            "Epoch 31/100\n",
            "391/391 [==============================] - 35s 89ms/step - loss: 0.1354 - accuracy: 0.9555 - val_loss: 2.7836 - val_accuracy: 0.4851\n",
            "Epoch 32/100\n",
            "391/391 [==============================] - 35s 89ms/step - loss: 0.1243 - accuracy: 0.9593 - val_loss: 3.0645 - val_accuracy: 0.4813\n",
            "Epoch 33/100\n",
            "391/391 [==============================] - 35s 89ms/step - loss: 0.1115 - accuracy: 0.9644 - val_loss: 3.1791 - val_accuracy: 0.4778\n",
            "Epoch 34/100\n",
            "391/391 [==============================] - 35s 89ms/step - loss: 0.1186 - accuracy: 0.9618 - val_loss: 2.9533 - val_accuracy: 0.4800\n",
            "Epoch 35/100\n",
            "391/391 [==============================] - 35s 89ms/step - loss: 0.1027 - accuracy: 0.9677 - val_loss: 2.9239 - val_accuracy: 0.4880\n",
            "Epoch 36/100\n",
            "391/391 [==============================] - 35s 89ms/step - loss: 0.0892 - accuracy: 0.9716 - val_loss: 3.2433 - val_accuracy: 0.4846\n",
            "Epoch 37/100\n",
            "391/391 [==============================] - 35s 89ms/step - loss: 0.0836 - accuracy: 0.9732 - val_loss: 3.3453 - val_accuracy: 0.4781\n",
            "Epoch 38/100\n",
            "391/391 [==============================] - 35s 89ms/step - loss: 0.0751 - accuracy: 0.9758 - val_loss: 3.2501 - val_accuracy: 0.4763\n",
            "Epoch 39/100\n",
            "391/391 [==============================] - 35s 89ms/step - loss: 0.0791 - accuracy: 0.9749 - val_loss: 3.3622 - val_accuracy: 0.4859\n",
            "Epoch 40/100\n",
            "391/391 [==============================] - 35s 89ms/step - loss: 0.0766 - accuracy: 0.9761 - val_loss: 3.0071 - val_accuracy: 0.4801\n",
            "Epoch 41/100\n",
            "391/391 [==============================] - 35s 89ms/step - loss: 0.0735 - accuracy: 0.9774 - val_loss: 3.2464 - val_accuracy: 0.4849\n",
            "Epoch 42/100\n",
            "391/391 [==============================] - 35s 89ms/step - loss: 0.0593 - accuracy: 0.9812 - val_loss: 3.2329 - val_accuracy: 0.4861\n",
            "Epoch 43/100\n",
            "391/391 [==============================] - 35s 89ms/step - loss: 0.0606 - accuracy: 0.9814 - val_loss: 3.5622 - val_accuracy: 0.4828\n",
            "Epoch 44/100\n",
            "391/391 [==============================] - 35s 89ms/step - loss: 0.0692 - accuracy: 0.9772 - val_loss: 3.0692 - val_accuracy: 0.4902\n",
            "Epoch 45/100\n",
            "391/391 [==============================] - 35s 89ms/step - loss: 0.0597 - accuracy: 0.9813 - val_loss: 3.4183 - val_accuracy: 0.4826\n",
            "Epoch 46/100\n",
            "391/391 [==============================] - 35s 89ms/step - loss: 0.0567 - accuracy: 0.9824 - val_loss: 3.4022 - val_accuracy: 0.4897\n",
            "Epoch 47/100\n",
            "391/391 [==============================] - 35s 89ms/step - loss: 0.0570 - accuracy: 0.9823 - val_loss: 3.1668 - val_accuracy: 0.4847\n",
            "Epoch 48/100\n",
            "391/391 [==============================] - 35s 89ms/step - loss: 0.0538 - accuracy: 0.9824 - val_loss: 3.5556 - val_accuracy: 0.4780\n",
            "Epoch 49/100\n",
            "391/391 [==============================] - 35s 89ms/step - loss: 0.0540 - accuracy: 0.9827 - val_loss: 3.3229 - val_accuracy: 0.4901\n",
            "Epoch 50/100\n",
            "391/391 [==============================] - 35s 89ms/step - loss: 0.0508 - accuracy: 0.9844 - val_loss: 3.1619 - val_accuracy: 0.4861\n",
            "Epoch 51/100\n",
            "391/391 [==============================] - 35s 89ms/step - loss: 0.0536 - accuracy: 0.9834 - val_loss: 3.2341 - val_accuracy: 0.4845\n",
            "Epoch 52/100\n",
            "391/391 [==============================] - 35s 90ms/step - loss: 0.0443 - accuracy: 0.9857 - val_loss: 3.5141 - val_accuracy: 0.4780\n",
            "Epoch 53/100\n",
            "391/391 [==============================] - 35s 89ms/step - loss: 0.0502 - accuracy: 0.9841 - val_loss: 3.6758 - val_accuracy: 0.4850\n",
            "Epoch 54/100\n",
            "391/391 [==============================] - 35s 89ms/step - loss: 0.0490 - accuracy: 0.9844 - val_loss: 3.3022 - val_accuracy: 0.4896\n",
            "Epoch 55/100\n",
            "391/391 [==============================] - 35s 89ms/step - loss: 0.0434 - accuracy: 0.9865 - val_loss: 3.4437 - val_accuracy: 0.4958\n",
            "Epoch 56/100\n",
            "391/391 [==============================] - 35s 89ms/step - loss: 0.0418 - accuracy: 0.9871 - val_loss: 3.2248 - val_accuracy: 0.4842\n",
            "Epoch 57/100\n",
            "391/391 [==============================] - 35s 89ms/step - loss: 0.0443 - accuracy: 0.9856 - val_loss: 3.1694 - val_accuracy: 0.4806\n",
            "Epoch 58/100\n",
            "391/391 [==============================] - 35s 89ms/step - loss: 0.0425 - accuracy: 0.9866 - val_loss: 3.8800 - val_accuracy: 0.4742\n",
            "Epoch 59/100\n",
            "391/391 [==============================] - 35s 89ms/step - loss: 0.0433 - accuracy: 0.9870 - val_loss: 3.3803 - val_accuracy: 0.4870\n",
            "Epoch 60/100\n",
            "391/391 [==============================] - 35s 89ms/step - loss: 0.0369 - accuracy: 0.9881 - val_loss: 3.5172 - val_accuracy: 0.4801\n",
            "Epoch 61/100\n",
            "391/391 [==============================] - 35s 89ms/step - loss: 0.0392 - accuracy: 0.9881 - val_loss: 3.7171 - val_accuracy: 0.4736\n",
            "Epoch 62/100\n",
            "391/391 [==============================] - 35s 89ms/step - loss: 0.0325 - accuracy: 0.9896 - val_loss: 3.5585 - val_accuracy: 0.4832\n",
            "Epoch 63/100\n",
            "391/391 [==============================] - 35s 89ms/step - loss: 0.0336 - accuracy: 0.9895 - val_loss: 3.6326 - val_accuracy: 0.4771\n",
            "Epoch 64/100\n",
            "391/391 [==============================] - 35s 89ms/step - loss: 0.0392 - accuracy: 0.9877 - val_loss: 3.3630 - val_accuracy: 0.4834\n",
            "Epoch 65/100\n",
            "391/391 [==============================] - 35s 89ms/step - loss: 0.0364 - accuracy: 0.9888 - val_loss: 3.2974 - val_accuracy: 0.4892\n",
            "Epoch 66/100\n",
            "391/391 [==============================] - 35s 89ms/step - loss: 0.0314 - accuracy: 0.9903 - val_loss: 3.6407 - val_accuracy: 0.4955\n",
            "Epoch 67/100\n",
            "391/391 [==============================] - 35s 89ms/step - loss: 0.0275 - accuracy: 0.9915 - val_loss: 3.8155 - val_accuracy: 0.4837\n",
            "Epoch 68/100\n",
            "391/391 [==============================] - 35s 89ms/step - loss: 0.0333 - accuracy: 0.9901 - val_loss: 3.8836 - val_accuracy: 0.4858\n",
            "Epoch 69/100\n",
            "391/391 [==============================] - 35s 89ms/step - loss: 0.0322 - accuracy: 0.9903 - val_loss: 3.9707 - val_accuracy: 0.4843\n",
            "Epoch 70/100\n",
            "391/391 [==============================] - 35s 89ms/step - loss: 0.0305 - accuracy: 0.9907 - val_loss: 3.5939 - val_accuracy: 0.4849\n",
            "Epoch 71/100\n",
            "391/391 [==============================] - 35s 89ms/step - loss: 0.0293 - accuracy: 0.9911 - val_loss: 3.6395 - val_accuracy: 0.4831\n",
            "Epoch 72/100\n",
            "391/391 [==============================] - 35s 89ms/step - loss: 0.0252 - accuracy: 0.9925 - val_loss: 3.5941 - val_accuracy: 0.4908\n",
            "Epoch 73/100\n",
            "391/391 [==============================] - 35s 89ms/step - loss: 0.0300 - accuracy: 0.9908 - val_loss: 3.2951 - val_accuracy: 0.4806\n",
            "Epoch 74/100\n",
            "391/391 [==============================] - 35s 89ms/step - loss: 0.0259 - accuracy: 0.9919 - val_loss: 3.5901 - val_accuracy: 0.4932\n",
            "Epoch 75/100\n",
            "391/391 [==============================] - 35s 89ms/step - loss: 0.0330 - accuracy: 0.9900 - val_loss: 3.4694 - val_accuracy: 0.4876\n",
            "Epoch 76/100\n",
            "391/391 [==============================] - 35s 89ms/step - loss: 0.0292 - accuracy: 0.9909 - val_loss: 3.6461 - val_accuracy: 0.4906\n",
            "Epoch 77/100\n",
            "391/391 [==============================] - 35s 89ms/step - loss: 0.0313 - accuracy: 0.9906 - val_loss: 3.6219 - val_accuracy: 0.4922\n",
            "Epoch 78/100\n",
            "391/391 [==============================] - 35s 89ms/step - loss: 0.0243 - accuracy: 0.9929 - val_loss: 3.7328 - val_accuracy: 0.4946\n",
            "Epoch 79/100\n",
            "391/391 [==============================] - 35s 89ms/step - loss: 0.0223 - accuracy: 0.9932 - val_loss: 3.6790 - val_accuracy: 0.4862\n",
            "Epoch 80/100\n",
            "391/391 [==============================] - 35s 89ms/step - loss: 0.0312 - accuracy: 0.9906 - val_loss: 3.7614 - val_accuracy: 0.4915\n",
            "Epoch 81/100\n",
            "391/391 [==============================] - 35s 89ms/step - loss: 0.0259 - accuracy: 0.9919 - val_loss: 3.6073 - val_accuracy: 0.4858\n",
            "Epoch 82/100\n",
            "391/391 [==============================] - 35s 89ms/step - loss: 0.0212 - accuracy: 0.9936 - val_loss: 3.7784 - val_accuracy: 0.4935\n",
            "Epoch 83/100\n",
            "391/391 [==============================] - 35s 89ms/step - loss: 0.0208 - accuracy: 0.9930 - val_loss: 4.1829 - val_accuracy: 0.4920\n",
            "Epoch 84/100\n",
            "391/391 [==============================] - 35s 89ms/step - loss: 0.0263 - accuracy: 0.9923 - val_loss: 3.9952 - val_accuracy: 0.4942\n",
            "Epoch 85/100\n",
            "391/391 [==============================] - 35s 89ms/step - loss: 0.0258 - accuracy: 0.9925 - val_loss: 3.9974 - val_accuracy: 0.4805\n",
            "Epoch 86/100\n",
            "391/391 [==============================] - 35s 89ms/step - loss: 0.0235 - accuracy: 0.9929 - val_loss: 3.6178 - val_accuracy: 0.4853\n",
            "Epoch 87/100\n",
            "391/391 [==============================] - 35s 89ms/step - loss: 0.0230 - accuracy: 0.9929 - val_loss: 3.9775 - val_accuracy: 0.4897\n",
            "Epoch 88/100\n",
            "391/391 [==============================] - 35s 89ms/step - loss: 0.0277 - accuracy: 0.9914 - val_loss: 3.5373 - val_accuracy: 0.4845\n",
            "Epoch 89/100\n",
            "391/391 [==============================] - 35s 89ms/step - loss: 0.0224 - accuracy: 0.9934 - val_loss: 3.8678 - val_accuracy: 0.4889\n",
            "Epoch 90/100\n",
            "391/391 [==============================] - 35s 89ms/step - loss: 0.0237 - accuracy: 0.9927 - val_loss: 3.8628 - val_accuracy: 0.4865\n",
            "Epoch 91/100\n",
            "391/391 [==============================] - 35s 89ms/step - loss: 0.0214 - accuracy: 0.9935 - val_loss: 3.8351 - val_accuracy: 0.4887\n",
            "Epoch 92/100\n",
            "391/391 [==============================] - 35s 89ms/step - loss: 0.0206 - accuracy: 0.9937 - val_loss: 3.9017 - val_accuracy: 0.4787\n",
            "Epoch 93/100\n",
            "391/391 [==============================] - 35s 89ms/step - loss: 0.0213 - accuracy: 0.9932 - val_loss: 3.5927 - val_accuracy: 0.4812\n",
            "Epoch 94/100\n",
            "391/391 [==============================] - 35s 89ms/step - loss: 0.0198 - accuracy: 0.9936 - val_loss: 4.0184 - val_accuracy: 0.4915\n",
            "Epoch 95/100\n",
            "391/391 [==============================] - 35s 89ms/step - loss: 0.0183 - accuracy: 0.9947 - val_loss: 3.9389 - val_accuracy: 0.4903\n",
            "Epoch 96/100\n",
            "391/391 [==============================] - 35s 89ms/step - loss: 0.0217 - accuracy: 0.9938 - val_loss: 3.6245 - val_accuracy: 0.4922\n",
            "Epoch 97/100\n",
            "391/391 [==============================] - 35s 89ms/step - loss: 0.0186 - accuracy: 0.9941 - val_loss: 3.9894 - val_accuracy: 0.4855\n",
            "Epoch 98/100\n",
            "391/391 [==============================] - 35s 89ms/step - loss: 0.0209 - accuracy: 0.9936 - val_loss: 3.7984 - val_accuracy: 0.4879\n",
            "Epoch 99/100\n",
            "391/391 [==============================] - 35s 90ms/step - loss: 0.0257 - accuracy: 0.9922 - val_loss: 3.7479 - val_accuracy: 0.4882\n",
            "Epoch 100/100\n",
            "391/391 [==============================] - 35s 89ms/step - loss: 0.0219 - accuracy: 0.9932 - val_loss: 3.7604 - val_accuracy: 0.4910\n"
          ],
          "name": "stdout"
        },
        {
          "output_type": "display_data",
          "data": {
            "image/png": "[encoded data removed]",
            "text/plain": [
              "<Figure size 432x288 with 1 Axes>"
            ]
          },
          "metadata": {
            "tags": []
          }
        },
        {
          "output_type": "display_data",
          "data": {
            "image/png": "[encoded data removed]",
            "text/plain": [
              "<Figure size 432x288 with 1 Axes>"
            ]
          },
          "metadata": {
            "tags": []
          }
        }
      ]
    },
    {
      "cell_type": "code",
      "metadata": {
        "id": "h0OWSTit1XzE",
        "colab": {
          "base_uri": "https://localhost:8080/"
        },
        "outputId": "5e76ce5f-88fe-4c3b-d263-99f89c25793f"
      },
      "source": [
        "comment = f\"\"\"Batch Size: {batch_size}\n",
        "max_step_grad = 1/tf.math.reduce_max(tf.math.abs(grad))\n",
        "velocity initializer: RandomNormal\n",
        "beta = (beta_hat*t+1)/(t+2)'\"\"\"\n",
        "gravity.save_run_info(model,\n",
        "                     history,\n",
        "                     gravity_opt,\n",
        "                     'CIFAR100 (Fine)',\n",
        "                     comment=comment)"
      ],
      "execution_count": 14,
      "outputs": [
        {
          "output_type": "stream",
          "text": [
            "save_run_info completed\n"
          ],
          "name": "stdout"
        }
      ]
    }
  ]
}