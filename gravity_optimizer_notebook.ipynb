{
  "nbformat": 4,
  "nbformat_minor": 0,
  "metadata": {
    "accelerator": "GPU",
    "colab": {
      "name": "gravity_optimizer_notebook.ipynb",
      "provenance": [],
      "collapsed_sections": [
        "m44FoofQTYbf",
        "pRm4P1XNXzA_",
        "1ToKPjvy8QwX",
        "MynFjb3Bb2bP",
        "_40VUUsS92xS",
        "MsB-wxc79B7e"
      ],
      "toc_visible": true
    },
    "kernelspec": {
      "display_name": "Python 3",
      "language": "python",
      "name": "python3"
    },
    "language_info": {
      "codemirror_mode": {
        "name": "ipython",
        "version": 3
      },
      "file_extension": ".py",
      "mimetype": "text/x-python",
      "name": "python",
      "nbconvert_exporter": "python",
      "pygments_lexer": "ipython3",
      "version": "3.8.3"
    }
  },
  "cells": [
    {
      "cell_type": "markdown",
      "metadata": {
        "id": "ROo3YHH_377X"
      },
      "source": [
        "# Import Modules"
      ]
    },
    {
      "cell_type": "code",
      "metadata": {
        "colab": {
          "base_uri": "https://localhost:8080/"
        },
        "id": "0siAij-6WGyE",
        "outputId": "3bb14cf8-4978-4477-f058-6a2bff28e1d7"
      },
      "source": [
        "import time\n",
        "from zipfile import ZipFile\n",
        "import json\n",
        "%tensorflow_version 2.x\n",
        "import tensorflow as tf\n",
        "import numpy as np\n",
        "import pandas as pd\n",
        "from matplotlib import pyplot as plt\n",
        "device_name = tf.test.gpu_device_name()\n",
        "# if device_name != '/device:GPU:0':\n",
        "#   raise SystemError('GPU device not found')\n",
        "print('Found GPU at: {}'.format(device_name))\n",
        "plt.style.use('dark_background')"
      ],
      "execution_count": 2,
      "outputs": [
        {
          "output_type": "stream",
          "text": [
            "Found GPU at: \n"
          ],
          "name": "stdout"
        }
      ]
    },
    {
      "cell_type": "markdown",
      "metadata": {
        "id": "m44FoofQTYbf"
      },
      "source": [
        "# Functions Definition"
      ]
    },
    {
      "cell_type": "markdown",
      "metadata": {
        "id": "Q3xejDOoTYbg"
      },
      "source": [
        "## Datasets Tools"
      ]
    },
    {
      "cell_type": "code",
      "metadata": {
        "id": "09z_-wMuTYbg"
      },
      "source": [
        "def print_dataset_info(name, x_train, y_train, x_test, y_test):\n",
        "    train_samples = x_train.shape[0]\n",
        "    test_samples = x_test.shape[0]\n",
        "    print(f'{name} dataset information:')\n",
        "    print(f'  * Total Train Samples: {train_samples}')\n",
        "    print(f'  * Total Test Samples:  {test_samples}')\n",
        "    print(f'  * Input Shape:  {x_train.shape[1:]}')\n",
        "    print(f'  * Output Shape: {y_train.shape[1:]}')\n",
        "    print(f'Shapes Detail:')\n",
        "    print(f'  * x_train:  {x_train.shape}')\n",
        "    print(f'  * y_train:  {y_train.shape}')\n",
        "    print(f'  * x_test:   {x_test.shape}')\n",
        "    print(f'  * y_test:   {y_test.shape}')\n",
        "\n",
        "\n",
        "def show_random_image(name, x_train, y_train, x_test, y_test):\n",
        "    train_samples = x_train.shape[0]\n",
        "    test_samples = x_test.shape[0]\n",
        "    if x_train.ndim == 4 and x_train.shape[-1] not in (3, 4):\n",
        "        print(f'Invalid image shape {x_train.shape[1:]} for image data')\n",
        "        x_train = x_train.reshape(x_train.shape[:-1])\n",
        "        x_test = x_test.reshape(x_test.shape[:-1])\n",
        "        print(f'Images reshaped to: {x_train.shape[1:]}')\n",
        "    print('Random Train Example: ')\n",
        "    index = np.random.randint(0, train_samples)\n",
        "    plt.imshow(x_train[index, ])\n",
        "    plt.show()\n",
        "    print(f'Label: {y_train[index,]}')\n",
        "    print('Random Test Example: ')\n",
        "    index = np.random.randint(0, test_samples)\n",
        "    plt.imshow(x_test[index, ])\n",
        "    plt.show()\n",
        "    print(f'Label: {y_test[index,]}')\n",
        "\n",
        "\n",
        "def print_cifar10_classes():\n",
        "    num_classes = 10\n",
        "    classes = {\n",
        "        0: 'airplane',\n",
        "        1: 'automobile',\n",
        "        2: 'bird',\n",
        "        3: 'cat',\n",
        "        4: 'deer',\n",
        "        5: 'dog',\n",
        "        6: 'frog',\n",
        "        7: 'horse',\n",
        "        8: 'ship',\n",
        "        9: 'truck'\n",
        "    }\n",
        "    print('CIFAR10 Classes:')\n",
        "    for i in range(num_classes):\n",
        "        print(f'  {i}- {classes[i]}')\n"
      ],
      "execution_count": 3,
      "outputs": []
    },
    {
      "cell_type": "markdown",
      "metadata": {
        "id": "eiTSDUsVTYbg"
      },
      "source": [
        "## Train Tools"
      ]
    },
    {
      "cell_type": "code",
      "metadata": {
        "id": "czJn7lwSTYbg"
      },
      "source": [
        "def plot_history(history):\n",
        "    # summarize history for accuracy\n",
        "    plt.plot(history.history['accuracy'])\n",
        "    plt.plot(history.history['val_accuracy'])\n",
        "    plt.title('model accuracy')\n",
        "    plt.ylabel('accuracy')\n",
        "    plt.xlabel('epoch')\n",
        "    plt.legend(['train', 'test'], loc='upper left')\n",
        "    plt.show()\n",
        "    # summarize history for loss\n",
        "    plt.plot(history.history['loss'])\n",
        "    plt.plot(history.history['val_loss'])\n",
        "    plt.title('model loss')\n",
        "    plt.ylabel('loss')\n",
        "    plt.xlabel('epoch')\n",
        "    plt.legend(['train', 'test'], loc='upper left')\n",
        "    plt.show()\n",
        "\n",
        "\n",
        "def save_run_info(model, history, optimizer, dataset: str, comment=None):\n",
        "    # Load Data\n",
        "    model_name = model.name\n",
        "    optimizer_name = optimizer.get_config()['name']\n",
        "    model_config = model.to_json()\n",
        "    history_dict = {}\n",
        "    epochs = len(history.history['loss'])\n",
        "    history_dict['epochs'] = list(range(1, epochs+1))\n",
        "    history_dict.update(history.history)\n",
        "    optimizer_config = optimizer.get_config()\n",
        "    for i in optimizer_config:\n",
        "        if type(optimizer_config[i]) not in (str, float) :\n",
        "            optimizer_config[i] = round(float(optimizer_config[i]), 4)\n",
        "    print(optimizer_config)     \n",
        "    # Serializing\n",
        "    max_acc = round(max(history_dict['accuracy']), 2)\n",
        "    max_val_acc = round(max(history_dict['val_accuracy']), 2)\n",
        "    acc_str = f'{max_val_acc:.2f}{max_acc:.2f}'.replace('.', '')\n",
        "    time_str = time.strftime(\"%Y%m%d_%H%M%S\")\n",
        "    zipfile_name = f'{dataset}_{model_name}_{acc_str}_{optimizer_name}_{time_str}.zip'\n",
        "    history_df = pd.DataFrame(history_dict)\n",
        "    with ZipFile(zipfile_name, mode='w') as zip_file:\n",
        "        zip_file.writestr(f'history.csv', history_df.to_csv(index=False))\n",
        "        zip_file.writestr(f'dataset.txt', dataset)\n",
        "        zip_file.writestr(f'model_config.json',\n",
        "                          json.dumps(model_config, indent=4))\n",
        "        zip_file.writestr(f'optimizer_config.json',\n",
        "                          json.dumps(optimizer_config, indent=4))\n",
        "        if comment:\n",
        "            zip_file.writestr('comment.txt', comment)\n"
      ],
      "execution_count": 4,
      "outputs": []
    },
    {
      "cell_type": "markdown",
      "metadata": {
        "id": "pRm4P1XNXzA_"
      },
      "source": [
        "# Optimizers Classes"
      ]
    },
    {
      "cell_type": "code",
      "metadata": {
        "id": "kbP6IdVzieJj"
      },
      "source": [
        "class Gravity(tf.keras.optimizers.Optimizer):\n",
        "    def __init__(self, learning_rate=0.01, alpha=4e-3, beta=0.9, name=\"Gravity\", **kwargs):\n",
        "        super(Gravity, self).__init__(name, **kwargs)\n",
        "        self._set_hyper('learning_rate', kwargs.get('lr', learning_rate))\n",
        "        self._set_hyper('decay', self._initial_decay)\n",
        "        self._set_hyper('alpha', alpha)\n",
        "        self._set_hyper('beta', beta)\n",
        "        self.epsilon = 1e-7\n",
        "    def _create_slots(self, var_list):\n",
        "        alpha = self._get_hyper(\"alpha\")\n",
        "        stddev = alpha/self.learning_rate\n",
        "        initializer = tf.keras.initializers.TruncatedNormal(mean=0.0, stddev=stddev, seed=None)\n",
        "        for var in var_list:\n",
        "            self.add_slot(var, \"velocity\", initializer=initializer)\n",
        "\n",
        "    @tf.function\n",
        "    def _resource_apply_dense(self, grad, var):\n",
        "        # Get Data\n",
        "        var_dtype = var.dtype.base_dtype\n",
        "        lr_t = self._decayed_lr(var_dtype) # handle learning rate decay\n",
        "        beta = self._get_hyper(\"beta\", var_dtype)\n",
        "        velocity = self.get_slot(var, \"velocity\")\n",
        "\n",
        "        # Calculations\n",
        "        max_grad = tf.math.reduce_max(grad)\n",
        "        min_grad = tf.math.reduce_min(grad)\n",
        "        max_step_grad = 1 / (max_grad-min_grad+self.epsilon)\n",
        "        gradient_term = grad / (1 + (grad/(max_step_grad+self.epsilon))**2)\n",
        "\n",
        "        # update variables\n",
        "        updated_velocity = velocity.assign(beta*velocity + (1-beta)*gradient_term) \n",
        "        updated_var = var.assign(var - lr_t*updated_velocity)       \n",
        "        \n",
        "        # updates = [updated_var, updated_velocity]\n",
        "        # return tf.group(*updates)\n",
        "    def _resource_apply_sparse(self, grad, var):\n",
        "        raise NotImplementedError\n",
        "    def get_config(self):\n",
        "        config = super(Gravity, self).get_config()\n",
        "        config.update({\n",
        "            'learning_rate': self._serialize_hyperparameter('learning_rate'),\n",
        "            'decay': self._serialize_hyperparameter('decay'),\n",
        "            'beta': self._serialize_hyperparameter('beta'),\n",
        "            'epsilon': self.epsilon,\n",
        "        })\n",
        "        return config"
      ],
      "execution_count": 5,
      "outputs": []
    },
    {
      "cell_type": "code",
      "metadata": {
        "id": "o9BjBdJSGVr8"
      },
      "source": [
        "class TestOpt(tf.keras.optimizers.Optimizer):\n",
        "    def __init__(self, learning_rate, beta=0.9, name=\"Gravity\", **kwargs):\n",
        "        super(TestOpt, self).__init__(name, **kwargs)\n",
        "        self._set_hyper('learning_rate', kwargs.get('lr', learning_rate))\n",
        "        self._set_hyper('decay', self._initial_decay)\n",
        "        self._set_hyper('beta', beta)\n",
        "        self.epsilon = 1e-7\n",
        "    def _create_slots(self, var_list):\n",
        "        for var in var_list:\n",
        "            self.add_slot(var, \"velocity\")\n",
        "\n",
        "    @tf.function\n",
        "    def _resource_apply_dense(self, grad, var):\n",
        "        # Get Data\n",
        "        var_dtype = var.dtype.base_dtype\n",
        "        lr_t = self._decayed_lr(var_dtype) # handle learning rate decay\n",
        "        beta = self._get_hyper(\"beta\", var_dtype)\n",
        "        velocity = self.get_slot(var, \"velocity\")\n",
        "\n",
        "        # Calculations\n",
        "        m = 1 # Gradient at which the learning rate is half of the max\n",
        "        gradient_term = (grad*((grad/(m+self.epsilon))**2)+0.001) / (1 + (grad/(m+self.epsilon))**2)\n",
        "\n",
        "        # update variables\n",
        "        updated_velocity = velocity.assign(beta*velocity + (1-beta)*gradient_term) \n",
        "        updated_var = var.assign(var - lr_t*updated_velocity)       \n",
        "        \n",
        "        # updates = [updated_var, updated_velocity]\n",
        "        # return tf.group(*updates)\n",
        "    def _resource_apply_sparse(self, grad, var):\n",
        "        raise NotImplementedError\n",
        "    def get_config(self):\n",
        "        config = super(TestOpt, self).get_config()\n",
        "        config.update({\n",
        "            'learning_rate': self._serialize_hyperparameter('learning_rate'),\n",
        "            'decay': self._serialize_hyperparameter('decay'),\n",
        "            'beta': self._serialize_hyperparameter('beta'),\n",
        "            'epsilon': self.epsilon,\n",
        "        })\n",
        "        return config"
      ],
      "execution_count": 6,
      "outputs": []
    },
    {
      "cell_type": "code",
      "metadata": {
        "id": "Zv6iyw-0Tj12"
      },
      "source": [
        "class Pace(tf.keras.optimizers.Optimizer):\n",
        "    def __init__(self, lr, name=\"AdaptivePace\", **kwargs):\n",
        "        super().__init__(name, **kwargs)\n",
        "        self.learning_rate = lr\n",
        "        self.epsilon = 1e-7\n",
        "        self.pace_log = {'min':[], 'max':[], 'mean':[], 'std':[]}\n",
        "    \n",
        "    def _create_slots(self, var_list):\n",
        "        pass\n",
        "\n",
        "    @tf.function\n",
        "    def _resource_apply_dense(self, grad, var):\n",
        "        b = self.learning_rate\n",
        "        a = b*abs(float(tf.math.reduce_std(grad)))\n",
        "        step = -a*tf.math.tanh((b/a)*grad)\n",
        "        updated_var = step + var\n",
        "        var.assign(updated_var)\n",
        "\n",
        "    def _resource_apply_sparse(self, grad, var):\n",
        "        raise NotImplementedError\n",
        "    def get_config(self):\n",
        "        base_config = super().get_config()\n",
        "        return base_config"
      ],
      "execution_count": 7,
      "outputs": []
    },
    {
      "cell_type": "markdown",
      "metadata": {
        "id": "1ToKPjvy8QwX"
      },
      "source": [
        "# Datasets"
      ]
    },
    {
      "cell_type": "code",
      "metadata": {
        "id": "9TB2R1xbXSS1"
      },
      "source": [
        "tf.keras.backend.set_image_data_format('channels_last')"
      ],
      "execution_count": 9,
      "outputs": []
    },
    {
      "cell_type": "markdown",
      "metadata": {
        "id": "MynFjb3Bb2bP"
      },
      "source": [
        "## MNIST"
      ]
    },
    {
      "cell_type": "code",
      "metadata": {
        "colab": {
          "base_uri": "https://localhost:8080/",
          "height": 0
        },
        "id": "tfn_ZOlSb2bQ",
        "outputId": "8e30e290-3c7c-4fe3-cd11-ffd8409a2036"
      },
      "source": [
        "(x_train_mnist, y_train_mnist), (x_test_mnist, y_test_mnist) = tf.keras.datasets.mnist.load_data()\n",
        "x_train_mnist = x_train_mnist.reshape((x_train_mnist.shape[0], 28, 28, 1)).astype('float32')\n",
        "x_test_mnist = x_test_mnist.reshape((x_test_mnist.shape[0], 28, 28, 1)).astype('float32')\n",
        "x_train_mnist, x_test_mnist = x_train_mnist / 255.0, x_test_mnist / 255.0\n",
        "input_shape_mnist = x_train_mnist.shape[1:]\n",
        "classes_mnist = 10\n",
        "print_dataset_info('MNIST', x_train_mnist, y_train_mnist, x_test_mnist, y_test_mnist)\n",
        "show_random_image('MNIST', x_train_mnist, y_train_mnist, x_test_mnist, y_test_mnist)"
      ],
      "execution_count": 10,
      "outputs": [
        {
          "output_type": "stream",
          "text": [
            "Downloading data from https://storage.googleapis.com/tensorflow/tf-keras-datasets/mnist.npz\n",
            "11493376/11490434 [==============================] - 0s 0us/step\n",
            "MNIST dataset information:\n",
            "  * Total Train Samples: 60000\n",
            "  * Total Test Samples:  10000\n",
            "  * Input Shape:  (28, 28, 1)\n",
            "  * Output Shape: ()\n",
            "Shapes Detail:\n",
            "  * x_train:  (60000, 28, 28, 1)\n",
            "  * y_train:  (60000,)\n",
            "  * x_test:   (10000, 28, 28, 1)\n",
            "  * y_test:   (10000,)\n",
            "Invalid image shape (28, 28, 1) for image data\n",
            "Images reshaped to: (28, 28)\n",
            "Random Train Example: \n"
          ],
          "name": "stdout"
        },
        {
          "output_type": "display_data",
          "data": {
            "image/png": "[encoded data removed]",
            "text/plain": [
              "<Figure size 432x288 with 1 Axes>"
            ]
          },
          "metadata": {
            "tags": []
          }
        },
        {
          "output_type": "stream",
          "text": [
            "Label: 3\n",
            "Random Test Example: \n"
          ],
          "name": "stdout"
        },
        {
          "output_type": "display_data",
          "data": {
            "image/png": "[encoded data removed]",
            "text/plain": [
              "<Figure size 432x288 with 1 Axes>"
            ]
          },
          "metadata": {
            "tags": []
          }
        },
        {
          "output_type": "stream",
          "text": [
            "Label: 6\n"
          ],
          "name": "stdout"
        }
      ]
    },
    {
      "cell_type": "markdown",
      "metadata": {
        "id": "_40VUUsS92xS"
      },
      "source": [
        "## CIFAR 10"
      ]
    },
    {
      "cell_type": "code",
      "metadata": {
        "id": "zfAVGdvi91_u",
        "colab": {
          "base_uri": "https://localhost:8080/",
          "height": 0
        },
        "outputId": "ff51e4e8-d189-485b-89c4-6ff9b6ba0de6"
      },
      "source": [
        "(x_train_cifar10, y_train_cifar10), (x_test_cifar10, y_test_cifar10) = tf.keras.datasets.cifar10.load_data()\n",
        "x_train_cifar10 = x_train_cifar10.astype('float32')\n",
        "x_test_cifar10 = x_test_cifar10.astype('float32')\n",
        "x_train_cifar10, x_test_cifar10= x_train_cifar10 / 255, x_test_cifar10 / 255\n",
        "input_shape_cifar10 = x_train_cifar10.shape[1:]\n",
        "classes_cifar10 = 10\n",
        "print_dataset_info('CIFAR10', x_train_cifar10, y_train_cifar10, x_test_cifar10, y_test_cifar10)\n",
        "print_cifar10_classes()\n",
        "show_random_image('CIFAR10', x_train_cifar10, y_train_cifar10, x_test_cifar10, y_test_cifar10)\n"
      ],
      "execution_count": 11,
      "outputs": [
        {
          "output_type": "stream",
          "text": [
            "Downloading data from https://www.cs.toronto.edu/~kriz/cifar-10-python.tar.gz\n",
            "170500096/170498071 [==============================] - 2s 0us/step\n",
            "CIFAR10 dataset information:\n",
            "  * Total Train Samples: 50000\n",
            "  * Total Test Samples:  10000\n",
            "  * Input Shape:  (32, 32, 3)\n",
            "  * Output Shape: (1,)\n",
            "Shapes Detail:\n",
            "  * x_train:  (50000, 32, 32, 3)\n",
            "  * y_train:  (50000, 1)\n",
            "  * x_test:   (10000, 32, 32, 3)\n",
            "  * y_test:   (10000, 1)\n",
            "CIFAR10 Classes:\n",
            "  0- airplane\n",
            "  1- automobile\n",
            "  2- bird\n",
            "  3- cat\n",
            "  4- deer\n",
            "  5- dog\n",
            "  6- frog\n",
            "  7- horse\n",
            "  8- ship\n",
            "  9- truck\n",
            "Random Train Example: \n"
          ],
          "name": "stdout"
        },
        {
          "output_type": "display_data",
          "data": {
            "image/png": "[encoded data removed]",
            "text/plain": [
              "<Figure size 432x288 with 1 Axes>"
            ]
          },
          "metadata": {
            "tags": []
          }
        },
        {
          "output_type": "stream",
          "text": [
            "Label: [5]\n",
            "Random Test Example: \n"
          ],
          "name": "stdout"
        },
        {
          "output_type": "display_data",
          "data": {
            "image/png": "[encoded data removed]",
            "text/plain": [
              "<Figure size 432x288 with 1 Axes>"
            ]
          },
          "metadata": {
            "tags": []
          }
        },
        {
          "output_type": "stream",
          "text": [
            "Label: [7]\n"
          ],
          "name": "stdout"
        }
      ]
    },
    {
      "cell_type": "markdown",
      "metadata": {
        "id": "LbJzFr7y4Ff1"
      },
      "source": [
        "# Achitectures"
      ]
    },
    {
      "cell_type": "markdown",
      "metadata": {
        "id": "0F5ZMklR53-5"
      },
      "source": [
        "## VGG16 (CIFAR10)"
      ]
    },
    {
      "cell_type": "code",
      "metadata": {
        "id": "YICxNe-x4KEJ"
      },
      "source": [
        "def get_vgg16_cifar10(drop_out_rate=0.5, print_summary=True):\n",
        "    base_model = tf.keras.applications.VGG16(\n",
        "        include_top=True,\n",
        "        weights=None,\n",
        "        input_tensor=None,\n",
        "        input_shape=input_shape_cifar10,\n",
        "        pooling=None,\n",
        "        classes=classes_cifar10,\n",
        "        classifier_activation=None,\n",
        "    )\n",
        "    fc1 = base_model.layers[-3]\n",
        "    fc2 = base_model.layers[-2]\n",
        "    predictions = base_model.layers[-1]\n",
        "\n",
        "    # Create the dropout layers\n",
        "    dropout1 = tf.keras.layers.Dropout(drop_out_rate)\n",
        "    dropout2 = tf.keras.layers.Dropout(drop_out_rate)\n",
        "\n",
        "    # Reconnect the layers\n",
        "    x = dropout1(fc1.output)\n",
        "    x = fc2(x)\n",
        "    x = dropout2(x)\n",
        "    predictors = predictions(x)\n",
        "\n",
        "    # Create a new model\n",
        "    model_vgg16_cifar10 = tf.keras.models.Model(base_model.input, predictors, name='vgg16')\n",
        "\n",
        "    if print_summary:\n",
        "        model_vgg16_cifar10.summary()\n",
        "    return model_vgg16_cifar10\n",
        "\n",
        "def get_vgg16_mnist(print_summary=False):\n",
        "    min_shape = (32, 32, 1)\n",
        "    base_model = tf.keras.applications.VGG16(\n",
        "        include_top=True,\n",
        "        weights=None,\n",
        "        input_tensor=None,\n",
        "        input_shape=min_shape,\n",
        "        pooling=None,\n",
        "        classes=classes_mnist,\n",
        "        classifier_activation=None,\n",
        "    )\n",
        "    resize_layer = tf.keras.layers.experimental.preprocessing.Resizing(min_shape[0], min_shape[1])\n",
        "    inputs = tf.keras.Input(shape=input_shape_mnist)\n",
        "    x = resize_layer(inputs)\n",
        "    outputs = base_model(x)\n",
        "    model_vgg16_mnist = tf.keras.Model(inputs, outputs, name='vgg16')\n",
        "    if print_summary:\n",
        "        model_vgg16_mnist.summary()\n",
        "    return model_vgg16_mnist"
      ],
      "execution_count": 20,
      "outputs": []
    },
    {
      "cell_type": "markdown",
      "metadata": {
        "id": "mj1fRGlb6V3K"
      },
      "source": [
        "# Optimizers Test"
      ]
    },
    {
      "cell_type": "code",
      "metadata": {
        "id": "Zw3g61JYXfAU"
      },
      "source": [
        "sparse_categorical_cost_from_logits = tf.keras.losses.SparseCategoricalCrossentropy(from_logits=True)\n",
        "sparse_categorical_cost = tf.keras.losses.SparseCategoricalCrossentropy(from_logits=False)"
      ],
      "execution_count": 21,
      "outputs": []
    },
    {
      "cell_type": "markdown",
      "metadata": {
        "id": "HJ1zCJXY6wGN"
      },
      "source": [
        "## Optimizers Instantiation"
      ]
    },
    {
      "cell_type": "markdown",
      "metadata": {
        "id": "qtfu5xCD77mK"
      },
      "source": [
        "### Gravity"
      ]
    },
    {
      "cell_type": "code",
      "metadata": {
        "id": "gWlVl-mdTOBl"
      },
      "source": [
        "gravity_learning_rate = 0.01\n",
        "gravity_beta = 0.9\n",
        "gravity_alpha = 0.004\n",
        "gravity_opt = Gravity(gravity_learning_rate, alpha=gravity_alpha, beta=gravity_beta)"
      ],
      "execution_count": 22,
      "outputs": []
    },
    {
      "cell_type": "markdown",
      "metadata": {
        "id": "hUfZ2eoL6_tM"
      },
      "source": [
        "### Adam"
      ]
    },
    {
      "cell_type": "code",
      "metadata": {
        "id": "KTg68W5k7uZl"
      },
      "source": [
        "adam_learning_rate = 0.000095\n",
        "adam_beta_1 = 0.9\n",
        "adam_beta_2 = 0.999\n",
        "adam_epsilon = 1e-07\n",
        "adam_amsgrad = False\n",
        "\n",
        "adam_opt = tf.keras.optimizers.Adam(\n",
        "    learning_rate=adam_learning_rate,\n",
        "    beta_1=adam_beta_1,\n",
        "    beta_2=adam_beta_2,\n",
        "    epsilon=adam_epsilon,\n",
        "    amsgrad=adam_amsgrad\n",
        ")"
      ],
      "execution_count": 23,
      "outputs": []
    },
    {
      "cell_type": "markdown",
      "metadata": {
        "id": "dvgRokit2Z0_"
      },
      "source": [
        "### SGD"
      ]
    },
    {
      "cell_type": "code",
      "metadata": {
        "id": "lIUlvH_S2Z0_"
      },
      "source": [
        "sgd_learning_rate = 0.01\n",
        "sgd_beta = 0.9\n",
        "\n",
        "sgd_opt = tf.keras.optimizers.SGD(\n",
        "    learning_rate=sgd_learning_rate,\n",
        "    momentum=sgd_beta, \n",
        "    nesterov=False,\n",
        "    name=\"SGD\")"
      ],
      "execution_count": null,
      "outputs": []
    },
    {
      "cell_type": "markdown",
      "metadata": {
        "id": "MsB-wxc79B7e"
      },
      "source": [
        "### RMSProp"
      ]
    },
    {
      "cell_type": "code",
      "metadata": {
        "id": "ioGJ-1XY9B7f"
      },
      "source": [
        "rms_opt = tf.keras.optimizers.RMSprop(\n",
        "    learning_rate=0.01,\n",
        "    rho=0.9,\n",
        "    momentum=0.9,\n",
        "    epsilon=1e-07,\n",
        "    centered=False,\n",
        "    name=\"RMSprop\"\n",
        "    )"
      ],
      "execution_count": null,
      "outputs": []
    },
    {
      "cell_type": "markdown",
      "metadata": {
        "id": "zMljnhTKYwkb"
      },
      "source": [
        "## CIFAR10 - VGG16"
      ]
    },
    {
      "cell_type": "markdown",
      "metadata": {
        "id": "ZaDtIiLZYW5p"
      },
      "source": [
        "### Hyper Parameters"
      ]
    },
    {
      "cell_type": "code",
      "metadata": {
        "id": "1KBggHpNYaRM"
      },
      "source": [
        "batch_size_cifar10 = 128\n",
        "epochs_cifar10 = 100"
      ],
      "execution_count": 24,
      "outputs": []
    },
    {
      "cell_type": "markdown",
      "metadata": {
        "id": "SgEHZxCQZ0xT"
      },
      "source": [
        "### Gravity Test"
      ]
    },
    {
      "cell_type": "code",
      "metadata": {
        "id": "DAh3QXwwZ0xU"
      },
      "source": [
        "model_vgg16_cifar10_gravity = get_vgg16_cifar10(print_summary=False)\n",
        "\n",
        "model_vgg16_cifar10_gravity.compile(optimizer=gravity_opt,\n",
        "                                    loss=sparse_categorical_cost_from_logits,\n",
        "                                    metrics=['accuracy'])\n",
        "gravity_history = model_vgg16_cifar10_gravity.fit(x_train_cifar10, y_train_cifar10,\n",
        "                                                  batch_size=batch_size_cifar10,\n",
        "                                                  epochs=epochs_cifar10,\n",
        "                                                  validation_data=(x_test_cifar10, y_test_cifar10))"
      ],
      "execution_count": null,
      "outputs": []
    },
    {
      "cell_type": "code",
      "metadata": {
        "id": "SD5WsQC9VfAa",
        "colab": {
          "base_uri": "https://localhost:8080/"
        },
        "outputId": "130f0bd9-80f7-4337-d73c-4070ec18cba9"
      },
      "source": [
        "comment = f\"\"\"Batch Size: {batch_size_cifar10}\n",
        "max_step_grad = 1/(max_grad-min_grad+self.epsilon)\n",
        "alpha added\"\"\"\n",
        "save_run_info(model_vgg16_cifar10_gravity,\n",
        "              gravity_history,\n",
        "              gravity_opt,\n",
        "              'CIFAR10',\n",
        "              comment=comment)"
      ],
      "execution_count": null,
      "outputs": [
        {
          "output_type": "stream",
          "text": [
            "{'name': 'Gravity', 'learning_rate': 0.01, 'decay': 0.0, 'beta': 0.9, 'epsilon': 1e-07}\n"
          ],
          "name": "stdout"
        }
      ]
    },
    {
      "cell_type": "code",
      "metadata": {
        "id": "XAHWKEJ1pA65",
        "colab": {
          "base_uri": "https://localhost:8080/",
          "height": 573
        },
        "outputId": "c424b56d-cc70-425e-ba16-538d89257eda"
      },
      "source": [
        "plot_history(gravity_history)"
      ],
      "execution_count": null,
      "outputs": [
        {
          "output_type": "display_data",
          "data": {
            "image/png": "[encoded data removed]",
            "text/plain": [
              "<Figure size 432x288 with 1 Axes>"
            ]
          },
          "metadata": {
            "tags": []
          }
        },
        {
          "output_type": "display_data",
          "data": {
            "image/png": "[encoded data removed]",
            "text/plain": [
              "<Figure size 432x288 with 1 Axes>"
            ]
          },
          "metadata": {
            "tags": []
          }
        }
      ]
    },
    {
      "cell_type": "markdown",
      "metadata": {
        "id": "l3ibWf2y28wY"
      },
      "source": [
        "### Adam"
      ]
    },
    {
      "cell_type": "code",
      "metadata": {
        "colab": {
          "base_uri": "https://localhost:8080/"
        },
        "id": "daFMbQaY28wY",
        "outputId": "4fa04be4-9249-4214-d468-43a8b7966e0c"
      },
      "source": [
        "model_vgg16_cifar10_adam = get_vgg16_cifar10(print_summary=False)\n",
        "\n",
        "model_vgg16_cifar10_adam.compile(optimizer=adam_opt,\n",
        "                                 loss=sparse_categorical_cost_from_logits,\n",
        "                                 metrics=['accuracy'])\n",
        "adam_history = model_vgg16_cifar10_adam.fit(x_train_cifar10, y_train_cifar10,\n",
        "                                                  batch_size=batch_size_cifar10,\n",
        "                                                  epochs=epochs_cifar10,\n",
        "                                                  validation_data=(x_test_cifar10, y_test_cifar10))"
      ],
      "execution_count": null,
      "outputs": [
        {
          "output_type": "stream",
          "text": [
            "Epoch 1/100\n",
            "  2/391 [..............................] - ETA: 29s - loss: 2.3026 - accuracy: 0.1133WARNING:tensorflow:Callbacks method `on_train_batch_end` is slow compared to the batch time (batch time: 0.0276s vs `on_train_batch_end` time: 0.0619s). Check your callbacks.\n",
            "391/391 [==============================] - 25s 63ms/step - loss: 1.9016 - accuracy: 0.2488 - val_loss: 1.5676 - val_accuracy: 0.3828\n",
            "Epoch 2/100\n",
            "391/391 [==============================] - 25s 64ms/step - loss: 1.4894 - accuracy: 0.4304 - val_loss: 1.3964 - val_accuracy: 0.4662\n",
            "Epoch 3/100\n",
            "391/391 [==============================] - 25s 63ms/step - loss: 1.2226 - accuracy: 0.5516 - val_loss: 1.1748 - val_accuracy: 0.5743\n",
            "Epoch 4/100\n",
            "391/391 [==============================] - 25s 63ms/step - loss: 1.0205 - accuracy: 0.6344 - val_loss: 0.9731 - val_accuracy: 0.6545\n",
            "Epoch 5/100\n",
            "391/391 [==============================] - 25s 63ms/step - loss: 0.8487 - accuracy: 0.6998 - val_loss: 0.9273 - val_accuracy: 0.6758\n",
            "Epoch 6/100\n",
            "391/391 [==============================] - 25s 63ms/step - loss: 0.7225 - accuracy: 0.7470 - val_loss: 0.8395 - val_accuracy: 0.7117\n",
            "Epoch 7/100\n",
            "391/391 [==============================] - 24s 63ms/step - loss: 0.6101 - accuracy: 0.7859 - val_loss: 0.8350 - val_accuracy: 0.7161\n",
            "Epoch 8/100\n",
            "391/391 [==============================] - 25s 63ms/step - loss: 0.5038 - accuracy: 0.8233 - val_loss: 0.8444 - val_accuracy: 0.7306\n",
            "Epoch 9/100\n",
            "391/391 [==============================] - 25s 63ms/step - loss: 0.4147 - accuracy: 0.8546 - val_loss: 0.8557 - val_accuracy: 0.7364\n",
            "Epoch 10/100\n",
            "391/391 [==============================] - 25s 63ms/step - loss: 0.3358 - accuracy: 0.8837 - val_loss: 0.8468 - val_accuracy: 0.7498\n",
            "Epoch 11/100\n",
            "391/391 [==============================] - 25s 63ms/step - loss: 0.2687 - accuracy: 0.9075 - val_loss: 1.0982 - val_accuracy: 0.7288\n",
            "Epoch 12/100\n",
            "391/391 [==============================] - 25s 63ms/step - loss: 0.2322 - accuracy: 0.9199 - val_loss: 0.9836 - val_accuracy: 0.7481\n",
            "Epoch 13/100\n",
            "391/391 [==============================] - 25s 63ms/step - loss: 0.1804 - accuracy: 0.9381 - val_loss: 1.0913 - val_accuracy: 0.7489\n",
            "Epoch 14/100\n",
            "391/391 [==============================] - 25s 63ms/step - loss: 0.1513 - accuracy: 0.9477 - val_loss: 1.0352 - val_accuracy: 0.7501\n",
            "Epoch 15/100\n",
            "391/391 [==============================] - 24s 63ms/step - loss: 0.1294 - accuracy: 0.9558 - val_loss: 1.1163 - val_accuracy: 0.7441\n",
            "Epoch 16/100\n",
            "391/391 [==============================] - 25s 63ms/step - loss: 0.1036 - accuracy: 0.9656 - val_loss: 1.1934 - val_accuracy: 0.7566\n",
            "Epoch 17/100\n",
            "391/391 [==============================] - 25s 63ms/step - loss: 0.0988 - accuracy: 0.9665 - val_loss: 1.0454 - val_accuracy: 0.7564\n",
            "Epoch 18/100\n",
            "391/391 [==============================] - 25s 63ms/step - loss: 0.0883 - accuracy: 0.9692 - val_loss: 1.2007 - val_accuracy: 0.7534\n",
            "Epoch 19/100\n",
            "391/391 [==============================] - 25s 63ms/step - loss: 0.0764 - accuracy: 0.9744 - val_loss: 1.2684 - val_accuracy: 0.7447\n",
            "Epoch 20/100\n",
            "391/391 [==============================] - 25s 63ms/step - loss: 0.0720 - accuracy: 0.9763 - val_loss: 1.1037 - val_accuracy: 0.7612\n",
            "Epoch 21/100\n",
            "391/391 [==============================] - 25s 63ms/step - loss: 0.0660 - accuracy: 0.9784 - val_loss: 1.2674 - val_accuracy: 0.7581\n",
            "Epoch 22/100\n",
            "391/391 [==============================] - 25s 63ms/step - loss: 0.0663 - accuracy: 0.9778 - val_loss: 1.2134 - val_accuracy: 0.7635\n",
            "Epoch 23/100\n",
            "391/391 [==============================] - 25s 63ms/step - loss: 0.0591 - accuracy: 0.9801 - val_loss: 1.2340 - val_accuracy: 0.7616\n",
            "Epoch 24/100\n",
            "391/391 [==============================] - 25s 63ms/step - loss: 0.0590 - accuracy: 0.9801 - val_loss: 1.3429 - val_accuracy: 0.7594\n",
            "Epoch 25/100\n",
            "391/391 [==============================] - 25s 63ms/step - loss: 0.0595 - accuracy: 0.9807 - val_loss: 1.2474 - val_accuracy: 0.7558\n",
            "Epoch 26/100\n",
            "391/391 [==============================] - 25s 63ms/step - loss: 0.0568 - accuracy: 0.9815 - val_loss: 1.4878 - val_accuracy: 0.7518\n",
            "Epoch 27/100\n",
            "391/391 [==============================] - 25s 63ms/step - loss: 0.0489 - accuracy: 0.9840 - val_loss: 1.3712 - val_accuracy: 0.7453\n",
            "Epoch 28/100\n",
            "391/391 [==============================] - 25s 63ms/step - loss: 0.0446 - accuracy: 0.9851 - val_loss: 1.2742 - val_accuracy: 0.7641\n",
            "Epoch 29/100\n",
            "391/391 [==============================] - 25s 63ms/step - loss: 0.0515 - accuracy: 0.9833 - val_loss: 1.4208 - val_accuracy: 0.7432\n",
            "Epoch 30/100\n",
            "391/391 [==============================] - 25s 63ms/step - loss: 0.0484 - accuracy: 0.9835 - val_loss: 1.3763 - val_accuracy: 0.7622\n",
            "Epoch 31/100\n",
            "391/391 [==============================] - 25s 63ms/step - loss: 0.0451 - accuracy: 0.9855 - val_loss: 1.2593 - val_accuracy: 0.7643\n",
            "Epoch 32/100\n",
            "391/391 [==============================] - 25s 63ms/step - loss: 0.0415 - accuracy: 0.9862 - val_loss: 1.3441 - val_accuracy: 0.7636\n",
            "Epoch 33/100\n",
            "391/391 [==============================] - 25s 63ms/step - loss: 0.0415 - accuracy: 0.9867 - val_loss: 1.2734 - val_accuracy: 0.7702\n",
            "Epoch 34/100\n",
            "391/391 [==============================] - 25s 63ms/step - loss: 0.0389 - accuracy: 0.9874 - val_loss: 1.2036 - val_accuracy: 0.7630\n",
            "Epoch 35/100\n",
            "391/391 [==============================] - 25s 63ms/step - loss: 0.0379 - accuracy: 0.9875 - val_loss: 1.3168 - val_accuracy: 0.7625\n",
            "Epoch 36/100\n",
            "391/391 [==============================] - 25s 63ms/step - loss: 0.0384 - accuracy: 0.9880 - val_loss: 1.3389 - val_accuracy: 0.7637\n",
            "Epoch 37/100\n",
            "391/391 [==============================] - 25s 63ms/step - loss: 0.0368 - accuracy: 0.9881 - val_loss: 1.4453 - val_accuracy: 0.7692\n",
            "Epoch 38/100\n",
            "391/391 [==============================] - 25s 63ms/step - loss: 0.0403 - accuracy: 0.9870 - val_loss: 1.2545 - val_accuracy: 0.7709\n",
            "Epoch 39/100\n",
            "391/391 [==============================] - 25s 63ms/step - loss: 0.0365 - accuracy: 0.9882 - val_loss: 1.2259 - val_accuracy: 0.7623\n",
            "Epoch 40/100\n",
            "391/391 [==============================] - 25s 63ms/step - loss: 0.0311 - accuracy: 0.9903 - val_loss: 1.3625 - val_accuracy: 0.7606\n",
            "Epoch 41/100\n",
            "391/391 [==============================] - 25s 63ms/step - loss: 0.0358 - accuracy: 0.9890 - val_loss: 1.4541 - val_accuracy: 0.7606\n",
            "Epoch 42/100\n",
            "391/391 [==============================] - 25s 63ms/step - loss: 0.0340 - accuracy: 0.9893 - val_loss: 1.2347 - val_accuracy: 0.7663\n",
            "Epoch 43/100\n",
            "391/391 [==============================] - 25s 63ms/step - loss: 0.0348 - accuracy: 0.9891 - val_loss: 1.3588 - val_accuracy: 0.7571\n",
            "Epoch 44/100\n",
            "391/391 [==============================] - 25s 63ms/step - loss: 0.0323 - accuracy: 0.9894 - val_loss: 1.2084 - val_accuracy: 0.7745\n",
            "Epoch 45/100\n",
            "391/391 [==============================] - 25s 63ms/step - loss: 0.0283 - accuracy: 0.9915 - val_loss: 1.3475 - val_accuracy: 0.7657\n",
            "Epoch 46/100\n",
            "391/391 [==============================] - 25s 63ms/step - loss: 0.0332 - accuracy: 0.9896 - val_loss: 1.2481 - val_accuracy: 0.7638\n",
            "Epoch 47/100\n",
            "391/391 [==============================] - 25s 63ms/step - loss: 0.0335 - accuracy: 0.9891 - val_loss: 1.3832 - val_accuracy: 0.7585\n",
            "Epoch 48/100\n",
            "391/391 [==============================] - 25s 63ms/step - loss: 0.0261 - accuracy: 0.9917 - val_loss: 1.3390 - val_accuracy: 0.7707\n",
            "Epoch 49/100\n",
            "391/391 [==============================] - 25s 63ms/step - loss: 0.0332 - accuracy: 0.9901 - val_loss: 1.4133 - val_accuracy: 0.7582\n",
            "Epoch 50/100\n",
            "391/391 [==============================] - 25s 63ms/step - loss: 0.0276 - accuracy: 0.9911 - val_loss: 1.3362 - val_accuracy: 0.7644\n",
            "Epoch 51/100\n",
            "391/391 [==============================] - 25s 63ms/step - loss: 0.0249 - accuracy: 0.9919 - val_loss: 1.3431 - val_accuracy: 0.7683\n",
            "Epoch 52/100\n",
            "391/391 [==============================] - 25s 63ms/step - loss: 0.0261 - accuracy: 0.9919 - val_loss: 1.3469 - val_accuracy: 0.7713\n",
            "Epoch 53/100\n",
            "391/391 [==============================] - 25s 63ms/step - loss: 0.0257 - accuracy: 0.9917 - val_loss: 1.4976 - val_accuracy: 0.7621\n",
            "Epoch 54/100\n",
            "391/391 [==============================] - 25s 63ms/step - loss: 0.0284 - accuracy: 0.9909 - val_loss: 1.3754 - val_accuracy: 0.7760\n",
            "Epoch 55/100\n",
            "391/391 [==============================] - 25s 63ms/step - loss: 0.0243 - accuracy: 0.9921 - val_loss: 1.3424 - val_accuracy: 0.7722\n",
            "Epoch 56/100\n",
            "391/391 [==============================] - 25s 63ms/step - loss: 0.0225 - accuracy: 0.9926 - val_loss: 1.3698 - val_accuracy: 0.7757\n",
            "Epoch 57/100\n",
            "391/391 [==============================] - 25s 63ms/step - loss: 0.0223 - accuracy: 0.9931 - val_loss: 1.3638 - val_accuracy: 0.7677\n",
            "Epoch 58/100\n",
            "391/391 [==============================] - 25s 63ms/step - loss: 0.0242 - accuracy: 0.9927 - val_loss: 1.4590 - val_accuracy: 0.7671\n",
            "Epoch 59/100\n",
            "391/391 [==============================] - 25s 63ms/step - loss: 0.0230 - accuracy: 0.9924 - val_loss: 1.4051 - val_accuracy: 0.7737\n",
            "Epoch 60/100\n",
            "391/391 [==============================] - 25s 63ms/step - loss: 0.0229 - accuracy: 0.9923 - val_loss: 1.3599 - val_accuracy: 0.7769\n",
            "Epoch 61/100\n",
            "391/391 [==============================] - 25s 63ms/step - loss: 0.0222 - accuracy: 0.9935 - val_loss: 1.2600 - val_accuracy: 0.7726\n",
            "Epoch 62/100\n",
            "391/391 [==============================] - 25s 63ms/step - loss: 0.0239 - accuracy: 0.9930 - val_loss: 1.3601 - val_accuracy: 0.7636\n",
            "Epoch 63/100\n",
            "391/391 [==============================] - 25s 64ms/step - loss: 0.0234 - accuracy: 0.9928 - val_loss: 1.5886 - val_accuracy: 0.7653\n",
            "Epoch 64/100\n",
            "391/391 [==============================] - 25s 63ms/step - loss: 0.0203 - accuracy: 0.9935 - val_loss: 1.3257 - val_accuracy: 0.7690\n",
            "Epoch 65/100\n",
            "391/391 [==============================] - 25s 63ms/step - loss: 0.0242 - accuracy: 0.9920 - val_loss: 1.5043 - val_accuracy: 0.7768\n",
            "Epoch 66/100\n",
            "391/391 [==============================] - 25s 63ms/step - loss: 0.0196 - accuracy: 0.9941 - val_loss: 1.4731 - val_accuracy: 0.7852\n",
            "Epoch 67/100\n",
            "391/391 [==============================] - 25s 63ms/step - loss: 0.0227 - accuracy: 0.9932 - val_loss: 1.2819 - val_accuracy: 0.7773\n",
            "Epoch 68/100\n",
            "391/391 [==============================] - 25s 63ms/step - loss: 0.0175 - accuracy: 0.9944 - val_loss: 1.4149 - val_accuracy: 0.7827\n",
            "Epoch 69/100\n",
            "391/391 [==============================] - 25s 64ms/step - loss: 0.0195 - accuracy: 0.9942 - val_loss: 1.4081 - val_accuracy: 0.7856\n",
            "Epoch 70/100\n",
            "391/391 [==============================] - 25s 63ms/step - loss: 0.0204 - accuracy: 0.9937 - val_loss: 1.4559 - val_accuracy: 0.7754\n",
            "Epoch 71/100\n",
            "391/391 [==============================] - 25s 63ms/step - loss: 0.0176 - accuracy: 0.9944 - val_loss: 1.5394 - val_accuracy: 0.7860\n",
            "Epoch 72/100\n",
            "391/391 [==============================] - 25s 63ms/step - loss: 0.0198 - accuracy: 0.9942 - val_loss: 1.3513 - val_accuracy: 0.7798\n",
            "Epoch 73/100\n",
            "391/391 [==============================] - 25s 64ms/step - loss: 0.0164 - accuracy: 0.9947 - val_loss: 1.5262 - val_accuracy: 0.7704\n",
            "Epoch 74/100\n",
            "391/391 [==============================] - 25s 63ms/step - loss: 0.0246 - accuracy: 0.9925 - val_loss: 1.3281 - val_accuracy: 0.7784\n",
            "Epoch 75/100\n",
            "391/391 [==============================] - 25s 63ms/step - loss: 0.0153 - accuracy: 0.9952 - val_loss: 1.5393 - val_accuracy: 0.7777\n",
            "Epoch 76/100\n",
            "391/391 [==============================] - 25s 64ms/step - loss: 0.0180 - accuracy: 0.9947 - val_loss: 1.4431 - val_accuracy: 0.7878\n",
            "Epoch 77/100\n",
            "391/391 [==============================] - 25s 63ms/step - loss: 0.0163 - accuracy: 0.9950 - val_loss: 1.4118 - val_accuracy: 0.7842\n",
            "Epoch 78/100\n",
            "391/391 [==============================] - 25s 63ms/step - loss: 0.0197 - accuracy: 0.9939 - val_loss: 1.4125 - val_accuracy: 0.7807\n",
            "Epoch 79/100\n",
            "391/391 [==============================] - 25s 63ms/step - loss: 0.0188 - accuracy: 0.9943 - val_loss: 1.3099 - val_accuracy: 0.7860\n",
            "Epoch 80/100\n",
            "391/391 [==============================] - 25s 63ms/step - loss: 0.0144 - accuracy: 0.9954 - val_loss: 1.5732 - val_accuracy: 0.7792\n",
            "Epoch 81/100\n",
            "391/391 [==============================] - 25s 63ms/step - loss: 0.0164 - accuracy: 0.9954 - val_loss: 1.5002 - val_accuracy: 0.7774\n",
            "Epoch 82/100\n",
            "391/391 [==============================] - 25s 63ms/step - loss: 0.0215 - accuracy: 0.9936 - val_loss: 1.2648 - val_accuracy: 0.7831\n",
            "Epoch 83/100\n",
            "391/391 [==============================] - 25s 63ms/step - loss: 0.0185 - accuracy: 0.9942 - val_loss: 1.4202 - val_accuracy: 0.7806\n",
            "Epoch 84/100\n",
            "391/391 [==============================] - 25s 64ms/step - loss: 0.0154 - accuracy: 0.9957 - val_loss: 1.4299 - val_accuracy: 0.7902\n",
            "Epoch 85/100\n",
            "391/391 [==============================] - 25s 63ms/step - loss: 0.0186 - accuracy: 0.9945 - val_loss: 1.4067 - val_accuracy: 0.7793\n",
            "Epoch 86/100\n",
            "391/391 [==============================] - 25s 63ms/step - loss: 0.0116 - accuracy: 0.9964 - val_loss: 1.5928 - val_accuracy: 0.7816\n",
            "Epoch 87/100\n",
            "391/391 [==============================] - 25s 64ms/step - loss: 0.0192 - accuracy: 0.9944 - val_loss: 1.2866 - val_accuracy: 0.7758\n",
            "Epoch 88/100\n",
            "391/391 [==============================] - 25s 64ms/step - loss: 0.0163 - accuracy: 0.9946 - val_loss: 1.4783 - val_accuracy: 0.7835\n",
            "Epoch 89/100\n",
            "391/391 [==============================] - 25s 63ms/step - loss: 0.0198 - accuracy: 0.9944 - val_loss: 1.5558 - val_accuracy: 0.7743\n",
            "Epoch 90/100\n",
            "391/391 [==============================] - 25s 63ms/step - loss: 0.0168 - accuracy: 0.9949 - val_loss: 1.4297 - val_accuracy: 0.7811\n",
            "Epoch 91/100\n",
            "391/391 [==============================] - 25s 64ms/step - loss: 0.0153 - accuracy: 0.9957 - val_loss: 1.3345 - val_accuracy: 0.7823\n",
            "Epoch 92/100\n",
            "391/391 [==============================] - 25s 63ms/step - loss: 0.0141 - accuracy: 0.9958 - val_loss: 1.3643 - val_accuracy: 0.7847\n",
            "Epoch 93/100\n",
            "391/391 [==============================] - 25s 63ms/step - loss: 0.0131 - accuracy: 0.9960 - val_loss: 1.5530 - val_accuracy: 0.7895\n",
            "Epoch 94/100\n",
            "391/391 [==============================] - 25s 63ms/step - loss: 0.0199 - accuracy: 0.9944 - val_loss: 1.3765 - val_accuracy: 0.7851\n",
            "Epoch 95/100\n",
            "391/391 [==============================] - 25s 64ms/step - loss: 0.0136 - accuracy: 0.9961 - val_loss: 1.3562 - val_accuracy: 0.7856\n",
            "Epoch 96/100\n",
            "391/391 [==============================] - 25s 63ms/step - loss: 0.0145 - accuracy: 0.9957 - val_loss: 1.3291 - val_accuracy: 0.7863\n",
            "Epoch 97/100\n",
            "391/391 [==============================] - 25s 63ms/step - loss: 0.0085 - accuracy: 0.9976 - val_loss: 1.6951 - val_accuracy: 0.7701\n",
            "Epoch 98/100\n",
            "391/391 [==============================] - 25s 63ms/step - loss: 0.0158 - accuracy: 0.9952 - val_loss: 1.4698 - val_accuracy: 0.7808\n",
            "Epoch 99/100\n",
            "391/391 [==============================] - 25s 63ms/step - loss: 0.0173 - accuracy: 0.9945 - val_loss: 1.5369 - val_accuracy: 0.7915\n",
            "Epoch 100/100\n",
            "391/391 [==============================] - 25s 63ms/step - loss: 0.0141 - accuracy: 0.9957 - val_loss: 1.4472 - val_accuracy: 0.7869\n"
          ],
          "name": "stdout"
        }
      ]
    },
    {
      "cell_type": "code",
      "metadata": {
        "colab": {
          "base_uri": "https://localhost:8080/"
        },
        "id": "lvwAkdcg28wZ",
        "outputId": "615c4048-09d5-41d7-a338-c68727ff1807"
      },
      "source": [
        "comment = f\"\"\"Batch Size: {batch_size_cifar10}\n",
        "max_step_grad = 1/(max_grad-min_grad+self.epsilon)\"\"\"\n",
        "save_run_info(model_vgg16_cifar10_adam,\n",
        "              adam_history,\n",
        "              adam_opt,\n",
        "              'CIFAR10',\n",
        "              comment=comment)"
      ],
      "execution_count": null,
      "outputs": [
        {
          "output_type": "stream",
          "text": [
            "{'name': 'Adam', 'learning_rate': 0.0001, 'decay': 0.0, 'beta_1': 0.9, 'beta_2': 0.999, 'epsilon': 1e-07, 'amsgrad': 0.0}\n"
          ],
          "name": "stdout"
        }
      ]
    },
    {
      "cell_type": "code",
      "metadata": {
        "colab": {
          "base_uri": "https://localhost:8080/",
          "height": 573
        },
        "id": "IqY8xEfi28wZ",
        "outputId": "bc35c46e-9bcb-4547-fae0-7e3a0fab2f7f"
      },
      "source": [
        "plot_history(gravity_history)"
      ],
      "execution_count": null,
      "outputs": [
        {
          "output_type": "display_data",
          "data": {
            "image/png": "[encoded data removed]",
            "text/plain": [
              "<Figure size 432x288 with 1 Axes>"
            ]
          },
          "metadata": {
            "tags": []
          }
        },
        {
          "output_type": "display_data",
          "data": {
            "image/png": "[encoded data removed]",
            "text/plain": [
              "<Figure size 432x288 with 1 Axes>"
            ]
          },
          "metadata": {
            "tags": []
          }
        }
      ]
    },
    {
      "cell_type": "markdown",
      "metadata": {
        "id": "1fzsIQBedqPG"
      },
      "source": [
        "## MNIST - VGG16"
      ]
    },
    {
      "cell_type": "markdown",
      "metadata": {
        "id": "OgzgghMHdqPG"
      },
      "source": [
        "### Hyper Parameters"
      ]
    },
    {
      "cell_type": "code",
      "metadata": {
        "id": "gdtXPSHYdqPG"
      },
      "source": [
        "batch_size_mnist = 128\n",
        "epochs_mnist = 100"
      ],
      "execution_count": null,
      "outputs": []
    },
    {
      "cell_type": "markdown",
      "metadata": {
        "id": "BcfYbb35dqPH"
      },
      "source": [
        "### Gravity"
      ]
    },
    {
      "cell_type": "code",
      "metadata": {
        "id": "L3Cf85GPdqPH"
      },
      "source": [
        "model_vgg16_mnist_gravity = get_vgg16_mnist()\n",
        "\n",
        "model_vgg16_mnist_gravity.compile(optimizer=gravity_opt,\n",
        "                                  loss=sparse_categorical_cost_from_logits,\n",
        "                                  metrics=['accuracy'])\n",
        "gravity_history = model_vgg16_mnist_gravity.fit(x_train_mnist, y_train_mnist,\n",
        "                                                batch_size=batch_size_mnist,\n",
        "                                                epochs=epochs_mnist,\n",
        "                                                validation_data=(x_test_mnist, y_test_mnist))"
      ],
      "execution_count": null,
      "outputs": []
    },
    {
      "cell_type": "code",
      "metadata": {
        "colab": {
          "base_uri": "https://localhost:8080/"
        },
        "id": "1xUt9xvndqPI",
        "outputId": "b1b07014-d509-4634-989c-03389208c336"
      },
      "source": [
        "comment = f\"\"\"Batch Size: {batch_size_mnist}\n",
        "max_step_grad = 1/(max_grad-min_grad+self.epsilon)\n",
        "velocity_initializer = 'random_normal'\"\"\"\n",
        "save_run_info(model_vgg16_mnist_gravity,\n",
        "              gravity_history,\n",
        "              gravity_opt,\n",
        "              'MNIST',\n",
        "              comment=comment)"
      ],
      "execution_count": null,
      "outputs": [
        {
          "output_type": "stream",
          "text": [
            "{'name': 'Gravity', 'learning_rate': 0.1, 'decay': 0.0, 'beta': 0.9, 'epsilon': 1e-07}\n"
          ],
          "name": "stdout"
        }
      ]
    },
    {
      "cell_type": "code",
      "metadata": {
        "colab": {
          "base_uri": "https://localhost:8080/",
          "height": 573
        },
        "id": "cgVfInMRdqPI",
        "outputId": "da00fccb-b4ab-4450-f6a6-ffb564ec413c"
      },
      "source": [
        "plot_history(gravity_history)"
      ],
      "execution_count": null,
      "outputs": [
        {
          "output_type": "display_data",
          "data": {
            "image/png": "[encoded data removed]",
            "text/plain": [
              "<Figure size 432x288 with 1 Axes>"
            ]
          },
          "metadata": {
            "tags": [],
            "needs_background": "dark"
          }
        },
        {
          "output_type": "display_data",
          "data": {
            "image/png": "[encoded data removed]",
            "text/plain": [
              "<Figure size 432x288 with 1 Axes>"
            ]
          },
          "metadata": {
            "tags": [],
            "needs_background": "dark"
          }
        }
      ]
    },
    {
      "cell_type": "markdown",
      "metadata": {
        "id": "HLMk7oMBlsfJ"
      },
      "source": [
        "### Adam"
      ]
    },
    {
      "cell_type": "code",
      "metadata": {
        "id": "XdkV_beSlsfK"
      },
      "source": [
        "model_vgg16_mnist_adam = get_vgg16_mnist()\n",
        "\n",
        "model_vgg16_mnist_adam.compile(optimizer=adam_opt,\n",
        "                               loss=sparse_categorical_cost_from_logits,\n",
        "                               metrics=['accuracy'])\n",
        "adam_history = model_vgg16_mnist_adam.fit(x_train_mnist, y_train_mnist,\n",
        "                                          batch_size=batch_size_mnist,\n",
        "                                          epochs=epochs_mnist,\n",
        "                                          validation_data=(x_test_mnist, y_test_mnist))"
      ],
      "execution_count": null,
      "outputs": []
    },
    {
      "cell_type": "code",
      "metadata": {
        "id": "NFpXpKOOlsfM"
      },
      "source": [
        "comment = f\"\"\"Batch Size: {batch_size_mnist}\n",
        "max_step_grad = 1/(max_grad-min_grad+self.epsilon)\"\"\"\n",
        "save_run_info(model_vgg16_mnist_adam,\n",
        "              adam_history,\n",
        "              adam_opt,\n",
        "              'MNIST',\n",
        "              comment=comment)"
      ],
      "execution_count": null,
      "outputs": []
    },
    {
      "cell_type": "code",
      "metadata": {
        "id": "JIlFwP5zlsfM"
      },
      "source": [
        "plot_history(adam_history)"
      ],
      "execution_count": null,
      "outputs": []
    }
  ]
}