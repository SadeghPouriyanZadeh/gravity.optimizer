{
  "nbformat": 4,
  "nbformat_minor": 0,
  "metadata": {
    "accelerator": "GPU",
    "colab": {
      "name": "gravity_optimizer_notebook.ipynb",
      "provenance": [],
      "collapsed_sections": []
    },
    "kernelspec": {
      "display_name": "Python 3",
      "language": "python",
      "name": "python3"
    },
    "language_info": {
      "codemirror_mode": {
        "name": "ipython",
        "version": 3
      },
      "file_extension": ".py",
      "mimetype": "text/x-python",
      "name": "python",
      "nbconvert_exporter": "python",
      "pygments_lexer": "ipython3",
      "version": "3.8.3"
    }
  },
  "cells": [
    {
      "cell_type": "markdown",
      "metadata": {
        "id": "ROo3YHH_377X"
      },
      "source": [
        "# Import Modules"
      ]
    },
    {
      "cell_type": "code",
      "metadata": {
        "id": "_zhlTXlWnMkU",
        "colab": {
          "base_uri": "https://localhost:8080/"
        },
        "outputId": "46763f16-24bf-46b7-d50f-798a4fa28303"
      },
      "source": [
        "!git clone https://github.com/dariush-bahrami/gravity.optimizer.git"
      ],
      "execution_count": 3,
      "outputs": [
        {
          "output_type": "stream",
          "text": [
            "Cloning into 'gravity.optimizer'...\n",
            "remote: Enumerating objects: 162, done.\u001b[K\n",
            "remote: Counting objects: 100% (162/162), done.\u001b[K\n",
            "remote: Compressing objects: 100% (112/112), done.\u001b[K\n",
            "remote: Total 162 (delta 85), reused 125 (delta 48), pack-reused 0\u001b[K\n",
            "Receiving objects: 100% (162/162), 2.99 MiB | 30.01 MiB/s, done.\n",
            "Resolving deltas: 100% (85/85), done.\n"
          ],
          "name": "stdout"
        }
      ]
    },
    {
      "cell_type": "code",
      "metadata": {
        "id": "g3KZoyjcs0fg"
      },
      "source": [
        "# !rm -R /content/gravity.optimizer"
      ],
      "execution_count": null,
      "outputs": []
    },
    {
      "cell_type": "code",
      "metadata": {
        "colab": {
          "base_uri": "https://localhost:8080/"
        },
        "id": "0siAij-6WGyE",
        "outputId": "dd112952-79be-4bfd-a3d9-8eecca301f06"
      },
      "source": [
        "import sys\n",
        "sys.path.append('/content/gravity.optimizer')\n",
        "%tensorflow_version 2.x\n",
        "import tensorflow as tf\n",
        "import numpy as np\n",
        "import pandas as pd\n",
        "from matplotlib import pyplot as plt\n",
        "device_name = tf.test.gpu_device_name()\n",
        "if device_name != '/device:GPU:0':\n",
        "  raise SystemError('GPU device not found')\n",
        "print('Found GPU at: {}'.format(device_name))\n",
        "plt.style.use('dark_background')\n",
        "import gravity"
      ],
      "execution_count": 1,
      "outputs": [
        {
          "output_type": "stream",
          "text": [
            "Found GPU at: /device:GPU:0\n"
          ],
          "name": "stdout"
        }
      ]
    },
    {
      "cell_type": "markdown",
      "metadata": {
        "id": "pRm4P1XNXzA_"
      },
      "source": [
        "# Optimizer Definition"
      ]
    },
    {
      "cell_type": "code",
      "metadata": {
        "id": "kbP6IdVzieJj"
      },
      "source": [
        "class Gravity(tf.keras.optimizers.Optimizer):\n",
        "    def __init__(self, learning_rate=0.1, alpha=0.01, beta=0.9, name=\"Gravity\", **kwargs):\n",
        "        super(Gravity, self).__init__(name, **kwargs)\n",
        "        self._set_hyper('learning_rate', kwargs.get('lr', learning_rate))\n",
        "        self._set_hyper('decay', self._initial_decay)\n",
        "        self._set_hyper('alpha', alpha)\n",
        "        self._set_hyper('beta', beta)\n",
        "        self.epsilon = 1e-7\n",
        "    def _create_slots(self, var_list):\n",
        "        alpha = self._get_hyper(\"alpha\")\n",
        "        stddev = alpha/self.learning_rate\n",
        "        initializer = tf.keras.initializers.RandomNormal(mean=0.0, stddev=stddev, seed=None)\n",
        "        # initializer = 'zeros'\n",
        "        for var in var_list:\n",
        "            self.add_slot(var, \"velocity\", initializer=initializer)\n",
        "\n",
        "    @tf.function\n",
        "    def _resource_apply_dense(self, grad, var):\n",
        "        # Get Data\n",
        "        var_dtype = var.dtype.base_dtype\n",
        "        lr_t = self._decayed_lr(var_dtype) # handle learning rate decay\n",
        "        beta_hat = self._get_hyper(\"beta\", var_dtype)\n",
        "        t = tf.cast(self.iterations, float)\n",
        "        beta = (beta_hat*t + 1 )/(t + 2)\n",
        "        velocity = self.get_slot(var, \"velocity\")\n",
        "\n",
        "        # Calculations\n",
        "        max_step_grad = 1/tf.math.reduce_max(tf.math.abs(grad))\n",
        "        gradient_term = grad / (1 + (grad/max_step_grad)**2)\n",
        "\n",
        "        # update variables\n",
        "        updated_velocity = velocity.assign(beta*velocity + (1-beta)*gradient_term) \n",
        "        updated_var = var.assign(var - lr_t*updated_velocity)       \n",
        "        \n",
        "        # updates = [updated_var, updated_velocity]\n",
        "        # return tf.group(*updates)\n",
        "    def _resource_apply_sparse(self, grad, var):\n",
        "        raise NotImplementedError\n",
        "    def get_config(self):\n",
        "        config = super(Gravity, self).get_config()\n",
        "        config.update({\n",
        "            'learning_rate': self._serialize_hyperparameter('learning_rate'),\n",
        "            'decay': self._serialize_hyperparameter('decay'),\n",
        "            'alpha': self._serialize_hyperparameter('alpha'),\n",
        "            'beta': self._serialize_hyperparameter('beta'),\n",
        "            'epsilon': self.epsilon,\n",
        "        })\n",
        "        return config"
      ],
      "execution_count": 8,
      "outputs": []
    },
    {
      "cell_type": "markdown",
      "metadata": {
        "id": "mj1fRGlb6V3K"
      },
      "source": [
        "# Benchmarks"
      ]
    },
    {
      "cell_type": "markdown",
      "metadata": {
        "id": "1fzsIQBedqPG"
      },
      "source": [
        "## MNIST"
      ]
    },
    {
      "cell_type": "code",
      "metadata": {
        "id": "XurAPLKoyz87",
        "colab": {
          "base_uri": "https://localhost:8080/"
        },
        "outputId": "483a75b4-e32d-4362-f0ea-c2d96528edfa"
      },
      "source": [
        "mnist_dict = gravity.get_dataset_mnist(verbose=False, show_images=False)\n",
        "x_train_mnist, y_train_mnist = mnist_dict['train_data']\n",
        "x_test_mnist, y_test_mnist = mnist_dict['test_data']\n",
        "mnist_classes = mnist_dict['classes']\n",
        "mnist_input_shape = mnist_dict['input_shape']"
      ],
      "execution_count": 3,
      "outputs": [
        {
          "output_type": "stream",
          "text": [
            "Downloading data from https://storage.googleapis.com/tensorflow/tf-keras-datasets/mnist.npz\n",
            "11493376/11490434 [==============================] - 0s 0us/step\n"
          ],
          "name": "stdout"
        }
      ]
    },
    {
      "cell_type": "markdown",
      "metadata": {
        "id": "g5RN-k1AycU5"
      },
      "source": [
        "### VGG16"
      ]
    },
    {
      "cell_type": "code",
      "metadata": {
        "id": "L3Cf85GPdqPH",
        "colab": {
          "base_uri": "https://localhost:8080/",
          "height": 1000
        },
        "outputId": "3fc18a7b-c024-4970-9c19-d9623752a448"
      },
      "source": [
        "batch_size = 128\n",
        "epochs = 100\n",
        "gravity_opt = Gravity(learning_rate=0.1, alpha=0.01, beta=0.9)\n",
        "adam_opt = tf.keras.optimizers.Adam(learning_rate=0.001)\n",
        "cost_func = tf.keras.losses.SparseCategoricalCrossentropy(from_logits=True)\n",
        "\n",
        "base_model = gravity.get_vgg16(classes=mnist_classes,\n",
        "                               input_shape=(32, 32, 1),\n",
        "                               drop_out_rate=0,\n",
        "                               print_summary=False)\n",
        "model = gravity.resize_model_input_size(base_model,\n",
        "                                        target_size=(32, 32),\n",
        "                                        data_shape=(28, 28, 1),\n",
        "                                        print_summary=False)\n",
        "\n",
        "model.compile(optimizer=gravity_opt,\n",
        "            loss=cost_func,\n",
        "            metrics=['accuracy'])\n",
        "history = model.fit(x_train_mnist, y_train_mnist,\n",
        "                    batch_size=batch_size,\n",
        "                    epochs=epochs,\n",
        "                    validation_data=(x_test_mnist, y_test_mnist))\n",
        "gravity.plot_history(history)"
      ],
      "execution_count": 4,
      "outputs": [
        {
          "output_type": "stream",
          "text": [
            "Epoch 1/100\n",
            "  2/469 [..............................] - ETA: 16s - loss: 2.3023 - accuracy: 0.0625WARNING:tensorflow:Callbacks method `on_train_batch_end` is slow compared to the batch time (batch time: 0.0255s vs `on_train_batch_end` time: 0.0416s). Check your callbacks.\n",
            "469/469 [==============================] - 34s 72ms/step - loss: 1.7748 - accuracy: 0.3594 - val_loss: 0.2875 - val_accuracy: 0.9133\n",
            "Epoch 2/100\n",
            "469/469 [==============================] - 34s 72ms/step - loss: 0.1132 - accuracy: 0.9651 - val_loss: 0.0736 - val_accuracy: 0.9793\n",
            "Epoch 3/100\n",
            "469/469 [==============================] - 35s 74ms/step - loss: 0.0534 - accuracy: 0.9834 - val_loss: 0.0454 - val_accuracy: 0.9861\n",
            "Epoch 4/100\n",
            "469/469 [==============================] - 34s 73ms/step - loss: 0.0348 - accuracy: 0.9897 - val_loss: 0.0465 - val_accuracy: 0.9860\n",
            "Epoch 5/100\n",
            "469/469 [==============================] - 35s 74ms/step - loss: 0.0256 - accuracy: 0.9918 - val_loss: 0.0297 - val_accuracy: 0.9908\n",
            "Epoch 6/100\n",
            "469/469 [==============================] - 34s 73ms/step - loss: 0.0190 - accuracy: 0.9941 - val_loss: 0.0347 - val_accuracy: 0.9903\n",
            "Epoch 7/100\n",
            "469/469 [==============================] - 34s 73ms/step - loss: 0.0151 - accuracy: 0.9952 - val_loss: 0.0290 - val_accuracy: 0.9908\n",
            "Epoch 8/100\n",
            "469/469 [==============================] - 35s 74ms/step - loss: 0.0121 - accuracy: 0.9965 - val_loss: 0.0280 - val_accuracy: 0.9926\n",
            "Epoch 9/100\n",
            "469/469 [==============================] - 34s 74ms/step - loss: 0.0102 - accuracy: 0.9969 - val_loss: 0.0280 - val_accuracy: 0.9917\n",
            "Epoch 10/100\n",
            "469/469 [==============================] - 34s 73ms/step - loss: 0.0074 - accuracy: 0.9977 - val_loss: 0.0292 - val_accuracy: 0.9915\n",
            "Epoch 11/100\n",
            "469/469 [==============================] - 35s 74ms/step - loss: 0.0044 - accuracy: 0.9987 - val_loss: 0.0369 - val_accuracy: 0.9910\n",
            "Epoch 12/100\n",
            "469/469 [==============================] - 35s 74ms/step - loss: 0.0055 - accuracy: 0.9983 - val_loss: 0.0357 - val_accuracy: 0.9911\n",
            "Epoch 13/100\n",
            "469/469 [==============================] - 35s 74ms/step - loss: 0.0069 - accuracy: 0.9977 - val_loss: 0.0297 - val_accuracy: 0.9922\n",
            "Epoch 14/100\n",
            "469/469 [==============================] - 35s 74ms/step - loss: 0.0039 - accuracy: 0.9987 - val_loss: 0.0292 - val_accuracy: 0.9929\n",
            "Epoch 15/100\n",
            "469/469 [==============================] - 35s 74ms/step - loss: 0.0033 - accuracy: 0.9989 - val_loss: 0.0319 - val_accuracy: 0.9930\n",
            "Epoch 16/100\n",
            "469/469 [==============================] - 35s 74ms/step - loss: 0.0029 - accuracy: 0.9992 - val_loss: 0.0235 - val_accuracy: 0.9933\n",
            "Epoch 17/100\n",
            "469/469 [==============================] - 35s 74ms/step - loss: 0.0012 - accuracy: 0.9997 - val_loss: 0.0266 - val_accuracy: 0.9933\n",
            "Epoch 18/100\n",
            "469/469 [==============================] - 35s 74ms/step - loss: 3.0965e-04 - accuracy: 0.9999 - val_loss: 0.0342 - val_accuracy: 0.9926\n",
            "Epoch 19/100\n",
            "469/469 [==============================] - 34s 73ms/step - loss: 0.0011 - accuracy: 0.9997 - val_loss: 0.0336 - val_accuracy: 0.9930\n",
            "Epoch 20/100\n",
            "469/469 [==============================] - 35s 74ms/step - loss: 1.6210e-04 - accuracy: 0.9999 - val_loss: 0.0320 - val_accuracy: 0.9941\n",
            "Epoch 21/100\n",
            "469/469 [==============================] - 34s 73ms/step - loss: 1.8164e-05 - accuracy: 1.0000 - val_loss: 0.0337 - val_accuracy: 0.9939\n",
            "Epoch 22/100\n",
            "469/469 [==============================] - 35s 74ms/step - loss: 1.0480e-05 - accuracy: 1.0000 - val_loss: 0.0346 - val_accuracy: 0.9936\n",
            "Epoch 23/100\n",
            "469/469 [==============================] - 35s 74ms/step - loss: 7.6989e-06 - accuracy: 1.0000 - val_loss: 0.0353 - val_accuracy: 0.9936\n",
            "Epoch 24/100\n",
            "469/469 [==============================] - 34s 74ms/step - loss: 6.2501e-06 - accuracy: 1.0000 - val_loss: 0.0359 - val_accuracy: 0.9935\n",
            "Epoch 25/100\n",
            "469/469 [==============================] - 35s 74ms/step - loss: 5.2905e-06 - accuracy: 1.0000 - val_loss: 0.0365 - val_accuracy: 0.9935\n",
            "Epoch 26/100\n",
            "469/469 [==============================] - 35s 74ms/step - loss: 4.5761e-06 - accuracy: 1.0000 - val_loss: 0.0370 - val_accuracy: 0.9937\n",
            "Epoch 27/100\n",
            "469/469 [==============================] - 35s 74ms/step - loss: 4.0318e-06 - accuracy: 1.0000 - val_loss: 0.0373 - val_accuracy: 0.9936\n",
            "Epoch 28/100\n",
            "469/469 [==============================] - 35s 74ms/step - loss: 3.6107e-06 - accuracy: 1.0000 - val_loss: 0.0377 - val_accuracy: 0.9937\n",
            "Epoch 29/100\n",
            "469/469 [==============================] - 35s 74ms/step - loss: 3.2632e-06 - accuracy: 1.0000 - val_loss: 0.0381 - val_accuracy: 0.9937\n",
            "Epoch 30/100\n",
            "469/469 [==============================] - 35s 74ms/step - loss: 2.9787e-06 - accuracy: 1.0000 - val_loss: 0.0384 - val_accuracy: 0.9937\n",
            "Epoch 31/100\n",
            "469/469 [==============================] - 35s 74ms/step - loss: 2.7273e-06 - accuracy: 1.0000 - val_loss: 0.0387 - val_accuracy: 0.9937\n",
            "Epoch 32/100\n",
            "469/469 [==============================] - 35s 74ms/step - loss: 2.5215e-06 - accuracy: 1.0000 - val_loss: 0.0389 - val_accuracy: 0.9937\n",
            "Epoch 33/100\n",
            "469/469 [==============================] - 35s 74ms/step - loss: 2.3437e-06 - accuracy: 1.0000 - val_loss: 0.0392 - val_accuracy: 0.9937\n",
            "Epoch 34/100\n",
            "469/469 [==============================] - 35s 74ms/step - loss: 2.1856e-06 - accuracy: 1.0000 - val_loss: 0.0395 - val_accuracy: 0.9937\n",
            "Epoch 35/100\n",
            "469/469 [==============================] - 35s 74ms/step - loss: 2.0486e-06 - accuracy: 1.0000 - val_loss: 0.0397 - val_accuracy: 0.9937\n",
            "Epoch 36/100\n",
            "469/469 [==============================] - 35s 74ms/step - loss: 1.9273e-06 - accuracy: 1.0000 - val_loss: 0.0399 - val_accuracy: 0.9937\n",
            "Epoch 37/100\n",
            "469/469 [==============================] - 35s 74ms/step - loss: 1.8194e-06 - accuracy: 1.0000 - val_loss: 0.0401 - val_accuracy: 0.9937\n",
            "Epoch 38/100\n",
            "469/469 [==============================] - 35s 74ms/step - loss: 1.7204e-06 - accuracy: 1.0000 - val_loss: 0.0403 - val_accuracy: 0.9937\n",
            "Epoch 39/100\n",
            "469/469 [==============================] - 35s 74ms/step - loss: 1.6316e-06 - accuracy: 1.0000 - val_loss: 0.0405 - val_accuracy: 0.9937\n",
            "Epoch 40/100\n",
            "469/469 [==============================] - 35s 74ms/step - loss: 1.5536e-06 - accuracy: 1.0000 - val_loss: 0.0407 - val_accuracy: 0.9937\n",
            "Epoch 41/100\n",
            "469/469 [==============================] - 35s 74ms/step - loss: 1.4804e-06 - accuracy: 1.0000 - val_loss: 0.0408 - val_accuracy: 0.9937\n",
            "Epoch 42/100\n",
            "469/469 [==============================] - 35s 74ms/step - loss: 1.4143e-06 - accuracy: 1.0000 - val_loss: 0.0410 - val_accuracy: 0.9937\n",
            "Epoch 43/100\n",
            "469/469 [==============================] - 35s 74ms/step - loss: 1.3536e-06 - accuracy: 1.0000 - val_loss: 0.0412 - val_accuracy: 0.9937\n",
            "Epoch 44/100\n",
            "469/469 [==============================] - 35s 74ms/step - loss: 1.2969e-06 - accuracy: 1.0000 - val_loss: 0.0413 - val_accuracy: 0.9937\n",
            "Epoch 45/100\n",
            "469/469 [==============================] - 35s 74ms/step - loss: 1.2458e-06 - accuracy: 1.0000 - val_loss: 0.0415 - val_accuracy: 0.9937\n",
            "Epoch 46/100\n",
            "469/469 [==============================] - 35s 74ms/step - loss: 1.1967e-06 - accuracy: 1.0000 - val_loss: 0.0416 - val_accuracy: 0.9937\n",
            "Epoch 47/100\n",
            "469/469 [==============================] - 35s 74ms/step - loss: 1.1537e-06 - accuracy: 1.0000 - val_loss: 0.0417 - val_accuracy: 0.9937\n",
            "Epoch 48/100\n",
            "469/469 [==============================] - 34s 74ms/step - loss: 1.1111e-06 - accuracy: 1.0000 - val_loss: 0.0419 - val_accuracy: 0.9937\n",
            "Epoch 49/100\n",
            "469/469 [==============================] - 34s 74ms/step - loss: 1.0721e-06 - accuracy: 1.0000 - val_loss: 0.0420 - val_accuracy: 0.9937\n",
            "Epoch 50/100\n",
            "469/469 [==============================] - 34s 73ms/step - loss: 1.0366e-06 - accuracy: 1.0000 - val_loss: 0.0421 - val_accuracy: 0.9936\n",
            "Epoch 51/100\n",
            "469/469 [==============================] - 34s 73ms/step - loss: 1.0024e-06 - accuracy: 1.0000 - val_loss: 0.0423 - val_accuracy: 0.9936\n",
            "Epoch 52/100\n",
            "469/469 [==============================] - 34s 73ms/step - loss: 9.7041e-07 - accuracy: 1.0000 - val_loss: 0.0424 - val_accuracy: 0.9936\n",
            "Epoch 53/100\n",
            "469/469 [==============================] - 34s 73ms/step - loss: 9.4125e-07 - accuracy: 1.0000 - val_loss: 0.0425 - val_accuracy: 0.9936\n",
            "Epoch 54/100\n",
            "469/469 [==============================] - 34s 73ms/step - loss: 9.1230e-07 - accuracy: 1.0000 - val_loss: 0.0426 - val_accuracy: 0.9936\n",
            "Epoch 55/100\n",
            "469/469 [==============================] - 35s 74ms/step - loss: 8.8571e-07 - accuracy: 1.0000 - val_loss: 0.0427 - val_accuracy: 0.9936\n",
            "Epoch 56/100\n",
            "469/469 [==============================] - 35s 74ms/step - loss: 8.6092e-07 - accuracy: 1.0000 - val_loss: 0.0428 - val_accuracy: 0.9936\n",
            "Epoch 57/100\n",
            "469/469 [==============================] - 34s 73ms/step - loss: 8.3678e-07 - accuracy: 1.0000 - val_loss: 0.0429 - val_accuracy: 0.9936\n",
            "Epoch 58/100\n",
            "469/469 [==============================] - 34s 73ms/step - loss: 8.1388e-07 - accuracy: 1.0000 - val_loss: 0.0430 - val_accuracy: 0.9936\n",
            "Epoch 59/100\n",
            "469/469 [==============================] - 34s 73ms/step - loss: 7.9274e-07 - accuracy: 1.0000 - val_loss: 0.0431 - val_accuracy: 0.9936\n",
            "Epoch 60/100\n",
            "469/469 [==============================] - 35s 74ms/step - loss: 7.7219e-07 - accuracy: 1.0000 - val_loss: 0.0432 - val_accuracy: 0.9936\n",
            "Epoch 61/100\n",
            "469/469 [==============================] - 34s 73ms/step - loss: 7.5272e-07 - accuracy: 1.0000 - val_loss: 0.0433 - val_accuracy: 0.9936\n",
            "Epoch 62/100\n",
            "469/469 [==============================] - 35s 74ms/step - loss: 7.3420e-07 - accuracy: 1.0000 - val_loss: 0.0434 - val_accuracy: 0.9936\n",
            "Epoch 63/100\n",
            "469/469 [==============================] - 34s 73ms/step - loss: 7.1630e-07 - accuracy: 1.0000 - val_loss: 0.0435 - val_accuracy: 0.9936\n",
            "Epoch 64/100\n",
            "469/469 [==============================] - 34s 74ms/step - loss: 6.9960e-07 - accuracy: 1.0000 - val_loss: 0.0436 - val_accuracy: 0.9936\n",
            "Epoch 65/100\n",
            "469/469 [==============================] - 34s 73ms/step - loss: 6.8322e-07 - accuracy: 1.0000 - val_loss: 0.0437 - val_accuracy: 0.9936\n",
            "Epoch 66/100\n",
            "469/469 [==============================] - 34s 73ms/step - loss: 6.6796e-07 - accuracy: 1.0000 - val_loss: 0.0438 - val_accuracy: 0.9936\n",
            "Epoch 67/100\n",
            "469/469 [==============================] - 35s 74ms/step - loss: 6.5332e-07 - accuracy: 1.0000 - val_loss: 0.0439 - val_accuracy: 0.9936\n",
            "Epoch 68/100\n",
            "469/469 [==============================] - 35s 74ms/step - loss: 6.3920e-07 - accuracy: 1.0000 - val_loss: 0.0439 - val_accuracy: 0.9936\n",
            "Epoch 69/100\n",
            "469/469 [==============================] - 35s 75ms/step - loss: 6.2536e-07 - accuracy: 1.0000 - val_loss: 0.0440 - val_accuracy: 0.9936\n",
            "Epoch 70/100\n",
            "469/469 [==============================] - 34s 73ms/step - loss: 6.1245e-07 - accuracy: 1.0000 - val_loss: 0.0441 - val_accuracy: 0.9936\n",
            "Epoch 71/100\n",
            "469/469 [==============================] - 35s 74ms/step - loss: 6.0006e-07 - accuracy: 1.0000 - val_loss: 0.0442 - val_accuracy: 0.9935\n",
            "Epoch 72/100\n",
            "469/469 [==============================] - 35s 74ms/step - loss: 5.8811e-07 - accuracy: 1.0000 - val_loss: 0.0443 - val_accuracy: 0.9935\n",
            "Epoch 73/100\n",
            "469/469 [==============================] - 34s 74ms/step - loss: 5.7682e-07 - accuracy: 1.0000 - val_loss: 0.0443 - val_accuracy: 0.9935\n",
            "Epoch 74/100\n",
            "469/469 [==============================] - 35s 74ms/step - loss: 5.6569e-07 - accuracy: 1.0000 - val_loss: 0.0444 - val_accuracy: 0.9935\n",
            "Epoch 75/100\n",
            "469/469 [==============================] - 35s 75ms/step - loss: 5.5510e-07 - accuracy: 1.0000 - val_loss: 0.0445 - val_accuracy: 0.9935\n",
            "Epoch 76/100\n",
            "469/469 [==============================] - 35s 74ms/step - loss: 5.4488e-07 - accuracy: 1.0000 - val_loss: 0.0445 - val_accuracy: 0.9935\n",
            "Epoch 77/100\n",
            "469/469 [==============================] - 35s 75ms/step - loss: 5.3472e-07 - accuracy: 1.0000 - val_loss: 0.0446 - val_accuracy: 0.9935\n",
            "Epoch 78/100\n",
            "469/469 [==============================] - 34s 74ms/step - loss: 5.2536e-07 - accuracy: 1.0000 - val_loss: 0.0447 - val_accuracy: 0.9935\n",
            "Epoch 79/100\n",
            "469/469 [==============================] - 34s 74ms/step - loss: 5.1631e-07 - accuracy: 1.0000 - val_loss: 0.0447 - val_accuracy: 0.9935\n",
            "Epoch 80/100\n",
            "469/469 [==============================] - 35s 74ms/step - loss: 5.0715e-07 - accuracy: 1.0000 - val_loss: 0.0448 - val_accuracy: 0.9935\n",
            "Epoch 81/100\n",
            "469/469 [==============================] - 34s 74ms/step - loss: 4.9857e-07 - accuracy: 1.0000 - val_loss: 0.0449 - val_accuracy: 0.9934\n",
            "Epoch 82/100\n",
            "469/469 [==============================] - 34s 74ms/step - loss: 4.9024e-07 - accuracy: 1.0000 - val_loss: 0.0449 - val_accuracy: 0.9934\n",
            "Epoch 83/100\n",
            "469/469 [==============================] - 35s 75ms/step - loss: 4.8227e-07 - accuracy: 1.0000 - val_loss: 0.0450 - val_accuracy: 0.9934\n",
            "Epoch 84/100\n",
            "469/469 [==============================] - 34s 73ms/step - loss: 4.7443e-07 - accuracy: 1.0000 - val_loss: 0.0451 - val_accuracy: 0.9934\n",
            "Epoch 85/100\n",
            "469/469 [==============================] - 35s 74ms/step - loss: 4.6674e-07 - accuracy: 1.0000 - val_loss: 0.0451 - val_accuracy: 0.9934\n",
            "Epoch 86/100\n",
            "469/469 [==============================] - 34s 74ms/step - loss: 4.5939e-07 - accuracy: 1.0000 - val_loss: 0.0452 - val_accuracy: 0.9934\n",
            "Epoch 87/100\n",
            "469/469 [==============================] - 35s 74ms/step - loss: 4.5230e-07 - accuracy: 1.0000 - val_loss: 0.0453 - val_accuracy: 0.9934\n",
            "Epoch 88/100\n",
            "469/469 [==============================] - 34s 73ms/step - loss: 4.4555e-07 - accuracy: 1.0000 - val_loss: 0.0453 - val_accuracy: 0.9934\n",
            "Epoch 89/100\n",
            "469/469 [==============================] - 34s 73ms/step - loss: 4.3863e-07 - accuracy: 1.0000 - val_loss: 0.0454 - val_accuracy: 0.9934\n",
            "Epoch 90/100\n",
            "469/469 [==============================] - 35s 75ms/step - loss: 4.3224e-07 - accuracy: 1.0000 - val_loss: 0.0454 - val_accuracy: 0.9934\n",
            "Epoch 91/100\n",
            "469/469 [==============================] - 35s 74ms/step - loss: 4.2590e-07 - accuracy: 1.0000 - val_loss: 0.0455 - val_accuracy: 0.9934\n",
            "Epoch 92/100\n",
            "469/469 [==============================] - 35s 74ms/step - loss: 4.1986e-07 - accuracy: 1.0000 - val_loss: 0.0455 - val_accuracy: 0.9934\n",
            "Epoch 93/100\n",
            "469/469 [==============================] - 34s 73ms/step - loss: 4.1386e-07 - accuracy: 1.0000 - val_loss: 0.0456 - val_accuracy: 0.9934\n",
            "Epoch 94/100\n",
            "469/469 [==============================] - 35s 74ms/step - loss: 4.0805e-07 - accuracy: 1.0000 - val_loss: 0.0456 - val_accuracy: 0.9934\n",
            "Epoch 95/100\n",
            "469/469 [==============================] - 34s 73ms/step - loss: 4.0232e-07 - accuracy: 1.0000 - val_loss: 0.0457 - val_accuracy: 0.9934\n",
            "Epoch 96/100\n",
            "469/469 [==============================] - 35s 74ms/step - loss: 3.9688e-07 - accuracy: 1.0000 - val_loss: 0.0458 - val_accuracy: 0.9934\n",
            "Epoch 97/100\n",
            "469/469 [==============================] - 35s 74ms/step - loss: 3.9160e-07 - accuracy: 1.0000 - val_loss: 0.0458 - val_accuracy: 0.9934\n",
            "Epoch 98/100\n",
            "469/469 [==============================] - 35s 74ms/step - loss: 3.8620e-07 - accuracy: 1.0000 - val_loss: 0.0459 - val_accuracy: 0.9934\n",
            "Epoch 99/100\n",
            "469/469 [==============================] - 34s 74ms/step - loss: 3.8121e-07 - accuracy: 1.0000 - val_loss: 0.0459 - val_accuracy: 0.9934\n",
            "Epoch 100/100\n",
            "469/469 [==============================] - 34s 74ms/step - loss: 3.7629e-07 - accuracy: 1.0000 - val_loss: 0.0460 - val_accuracy: 0.9934\n"
          ],
          "name": "stdout"
        },
        {
          "output_type": "display_data",
          "data": {
            "image/png": "[encoded data removed]",
            "text/plain": [
              "<Figure size 432x288 with 1 Axes>"
            ]
          },
          "metadata": {
            "tags": [],
            "needs_background": "dark"
          }
        },
        {
          "output_type": "display_data",
          "data": {
            "image/png": "[encoded data removed]",
            "text/plain": [
              "<Figure size 432x288 with 1 Axes>"
            ]
          },
          "metadata": {
            "tags": [],
            "needs_background": "dark"
          }
        }
      ]
    },
    {
      "cell_type": "code",
      "metadata": {
        "id": "1xUt9xvndqPI",
        "colab": {
          "base_uri": "https://localhost:8080/"
        },
        "outputId": "a1f7c608-8389-46f6-b807-817d0379743a"
      },
      "source": [
        "comment = f\"\"\"Batch Size: {batch_size}\n",
        "max_step_grad = 1/tf.math.reduce_max(tf.math.abs(grad))\n",
        "velocity initializer: RandomNormal\n",
        "beta = (beta_hat*t+1)/(t+2)'\"\"\"\n",
        "gravity.save_run_info(model,\n",
        "                     history,\n",
        "                     gravity_opt,\n",
        "                     'MNIST',\n",
        "                     comment=comment)"
      ],
      "execution_count": 6,
      "outputs": [
        {
          "output_type": "stream",
          "text": [
            "save_run_info completed\n"
          ],
          "name": "stdout"
        }
      ]
    },
    {
      "cell_type": "markdown",
      "metadata": {
        "id": "lGuLy-eFlK2R"
      },
      "source": [
        "### VGG19"
      ]
    },
    {
      "cell_type": "code",
      "metadata": {
        "id": "_utgLHPJlK2R"
      },
      "source": [
        "batch_size = 128\n",
        "epochs = 100\n",
        "gravity_opt = Gravity(learning_rate=0.1, alpha=0.01, beta=0.9)\n",
        "adam_opt = tf.keras.optimizers.Adam(learning_rate=0.001)\n",
        "cost_func = tf.keras.losses.SparseCategoricalCrossentropy(from_logits=True)\n",
        "\n",
        "base_model = gravity.get_vgg19(classes=mnist_classes,\n",
        "                               input_shape=(32, 32, 1),\n",
        "                               drop_out_rate=0,\n",
        "                               print_summary=False)\n",
        "model = gravity.resize_model_input_size(base_model,\n",
        "                                        target_size=(32, 32),\n",
        "                                        data_shape=(28, 28, 1),\n",
        "                                        print_summary=False)\n",
        "\n",
        "model.compile(optimizer=gravity_opt,\n",
        "            loss=cost_func,\n",
        "            metrics=['accuracy'])\n",
        "history = model.fit(x_train_mnist, y_train_mnist,\n",
        "                    batch_size=batch_size,\n",
        "                    epochs=epochs,\n",
        "                    validation_data=(x_test_mnist, y_test_mnist))\n",
        "gravity.plot_history(history)"
      ],
      "execution_count": null,
      "outputs": []
    },
    {
      "cell_type": "code",
      "metadata": {
        "colab": {
          "base_uri": "https://localhost:8080/"
        },
        "id": "Et8UxnE_lK2S",
        "outputId": "a855f0f5-e503-4879-f319-5d79b95b99e0"
      },
      "source": [
        "comment = f\"\"\"Batch Size: {batch_size}\n",
        "max_step_grad = 1/tf.math.reduce_max(tf.math.abs(grad))\n",
        "velocity initializer: RandomNormal\n",
        "beta = (beta_hat*t+1)/(t+2)'\"\"\"\n",
        "gravty.save_run_info(model,\n",
        "                     history,\n",
        "                     gravity_opt,\n",
        "                     'MNIST',\n",
        "                     comment=comment)"
      ],
      "execution_count": null,
      "outputs": [
        {
          "output_type": "stream",
          "text": [
            "save_run_info completed\n"
          ],
          "name": "stdout"
        }
      ]
    },
    {
      "cell_type": "markdown",
      "metadata": {
        "id": "ma2-qYW1sdpn"
      },
      "source": [
        "## Fashion MNIST"
      ]
    },
    {
      "cell_type": "code",
      "metadata": {
        "id": "pSCVLXVzsdpo"
      },
      "source": [
        "fashion_mnist_dict = gravity.get_dataset_fashion_mnist(verbose=False, show_images=False)\n",
        "x_train_fashion_mnist, y_train_fashion_mnist = fashion_mnist_dict['train_data']\n",
        "x_test_fashion_mnist, y_test_fashion_mnist = fashion_mnist_dict['test_data']\n",
        "fashion_mnist_classes = fashion_mnist_dict['classes']\n",
        "fashion_mnist_input_shape = fashion_mnist_dict['input_shape']"
      ],
      "execution_count": null,
      "outputs": []
    },
    {
      "cell_type": "markdown",
      "metadata": {
        "id": "WUXoqDldsdpp"
      },
      "source": [
        "### VGG16"
      ]
    },
    {
      "cell_type": "code",
      "metadata": {
        "id": "1OrCBYxhsdpp"
      },
      "source": [
        "batch_size = 128\n",
        "epochs = 100\n",
        "gravity_opt = Gravity(learning_rate=0.1, alpha=0.01, beta=0.9)\n",
        "adam_opt = tf.keras.optimizers.Adam(learning_rate=0.001)\n",
        "cost_func = tf.keras.losses.SparseCategoricalCrossentropy(from_logits=True)\n",
        "\n",
        "base_model = gravity.get_vgg16(classes=fashion_mnist_classes,\n",
        "                               input_shape=(32, 32, 1),\n",
        "                               drop_out_rate=0,\n",
        "                               print_summary=False)\n",
        "model = gravity.resize_model_input_size(base_model,\n",
        "                                        target_size=(32, 32),\n",
        "                                        data_shape=fashion_mnist_input_shape,\n",
        "                                        print_summary=False)\n",
        "\n",
        "model.compile(optimizer=gravity_opt,\n",
        "            loss=cost_func,\n",
        "            metrics=['accuracy'])\n",
        "history = model.fit(x_train_fashion_mnist, y_train_fashion_mnist,\n",
        "                    batch_size=batch_size,\n",
        "                    epochs=epochs,\n",
        "                    validation_data=(x_test_fashion_mnist, y_test_fashion_mnist))\n",
        "gravity.plot_history(history)"
      ],
      "execution_count": null,
      "outputs": []
    },
    {
      "cell_type": "code",
      "metadata": {
        "colab": {
          "base_uri": "https://localhost:8080/"
        },
        "id": "J9r6WTBXsdpp",
        "outputId": "9470ff8e-25be-411a-ca55-98e52c081e24"
      },
      "source": [
        "comment = f\"\"\"Batch Size: {batch_size}\n",
        "max_step_grad = 1/tf.math.reduce_max(tf.math.abs(grad))\n",
        "velocity initializer: RandomNormal\n",
        "beta = (beta_hat*t+1)/(t+2)'\"\"\"\n",
        "gravity.save_run_info(model,\n",
        "                     history,\n",
        "                     gravity_opt,\n",
        "                     'Fashion MNIST',\n",
        "                     comment=comment)"
      ],
      "execution_count": null,
      "outputs": [
        {
          "output_type": "stream",
          "text": [
            "save_run_info completed\n"
          ],
          "name": "stdout"
        }
      ]
    },
    {
      "cell_type": "markdown",
      "metadata": {
        "id": "9ByXsh_Asdpq"
      },
      "source": [
        "### VGG19"
      ]
    },
    {
      "cell_type": "code",
      "metadata": {
        "id": "qdgPW3Zcsdpq"
      },
      "source": [
        "batch_size = 128\n",
        "epochs = 100\n",
        "gravity_opt = Gravity(learning_rate=0.1, alpha=0.01, beta=0.9)\n",
        "adam_opt = tf.keras.optimizers.Adam(learning_rate=0.001)\n",
        "cost_func = tf.keras.losses.SparseCategoricalCrossentropy(from_logits=True)\n",
        "\n",
        "base_model = gravity.get_vgg19(classes=mnist_classes,\n",
        "                               input_shape=(32, 32, 1),\n",
        "                               drop_out_rate=0,\n",
        "                               print_summary=False)\n",
        "model = gravity.resize_model_input_size(base_model,\n",
        "                                        target_size=(32, 32),\n",
        "                                        data_shape=(28, 28, 1),\n",
        "                                        print_summary=False)\n",
        "\n",
        "model.compile(optimizer=gravity_opt,\n",
        "            loss=cost_func,\n",
        "            metrics=['accuracy'])\n",
        "history = model.fit(x_train_mnist, y_train_mnist,\n",
        "                    batch_size=batch_size,\n",
        "                    epochs=epochs,\n",
        "                    validation_data=(x_test_mnist, y_test_mnist))\n",
        "gravity.plot_history(history)"
      ],
      "execution_count": null,
      "outputs": []
    },
    {
      "cell_type": "code",
      "metadata": {
        "colab": {
          "base_uri": "https://localhost:8080/"
        },
        "id": "6c_wHIWwsdpq",
        "outputId": "a855f0f5-e503-4879-f319-5d79b95b99e0"
      },
      "source": [
        "comment = f\"\"\"Batch Size: {batch_size}\n",
        "max_step_grad = 1/tf.math.reduce_max(tf.math.abs(grad))\n",
        "velocity initializer: RandomNormal\n",
        "beta = (beta_hat*t+1)/(t+2)'\"\"\"\n",
        "gravty.save_run_info(model,\n",
        "                     history,\n",
        "                     gravity_opt,\n",
        "                     'Fashion MNIST',\n",
        "                     comment=comment)"
      ],
      "execution_count": null,
      "outputs": [
        {
          "output_type": "stream",
          "text": [
            "save_run_info completed\n"
          ],
          "name": "stdout"
        }
      ]
    },
    {
      "cell_type": "markdown",
      "metadata": {
        "id": "empswep92qZf"
      },
      "source": [
        "## CIFAR10"
      ]
    },
    {
      "cell_type": "code",
      "metadata": {
        "id": "m-gbUv7Y2qZf",
        "colab": {
          "base_uri": "https://localhost:8080/"
        },
        "outputId": "66da1048-0bee-494a-ec63-5e19b4f64d57"
      },
      "source": [
        "cifar10_dict = gravity.get_dataset_cifar10(verbose=False, show_images=False)\n",
        "x_train_cifar10, y_train_cifar10 = cifar10_dict['train_data']\n",
        "x_test_cifar10, y_test_cifar10 = cifar10_dict['test_data']\n",
        "cifar10_classes = cifar10_dict['classes']\n",
        "cifar10_input_shape = cifar10_dict['input_shape']"
      ],
      "execution_count": null,
      "outputs": [
        {
          "output_type": "stream",
          "text": [
            "Downloading data from https://www.cs.toronto.edu/~kriz/cifar-10-python.tar.gz\n",
            "170500096/170498071 [==============================] - 2s 0us/step\n"
          ],
          "name": "stdout"
        }
      ]
    },
    {
      "cell_type": "markdown",
      "metadata": {
        "id": "URz5gjH72qZg"
      },
      "source": [
        "### VGG16"
      ]
    },
    {
      "cell_type": "code",
      "metadata": {
        "id": "tFseoFTb2qZg",
        "colab": {
          "base_uri": "https://localhost:8080/",
          "height": 1000
        },
        "outputId": "aa35b7aa-507f-4737-aaba-c24bc4a90453"
      },
      "source": [
        "batch_size = 128\n",
        "epochs = 100\n",
        "gravity_opt = Gravity(learning_rate=0.1, alpha=0.01, beta=0.9)\n",
        "adam_opt = tf.keras.optimizers.Adam(learning_rate=0.001)\n",
        "cost_func = tf.keras.losses.SparseCategoricalCrossentropy(from_logits=True)\n",
        "\n",
        "model = gravity.get_vgg16(classes=cifar10_classes,\n",
        "                          input_shape=(32, 32, 3),\n",
        "                          drop_out_rate=0,\n",
        "                          print_summary=False)\n",
        "\n",
        "model.compile(optimizer=gravity_opt,\n",
        "              loss=cost_func,\n",
        "              metrics=['accuracy'])\n",
        "history = model.fit(x_train_cifar10, y_train_cifar10,\n",
        "                    batch_size=batch_size,\n",
        "                    epochs=epochs,\n",
        "                    validation_data=(x_test_cifar10, y_test_cifar10))\n",
        "gravity.plot_history(history)"
      ],
      "execution_count": null,
      "outputs": [
        {
          "output_type": "stream",
          "text": [
            "Epoch 1/100\n",
            "  2/391 [..............................] - ETA: 32s - loss: 2.3025 - accuracy: 0.0977WARNING:tensorflow:Callbacks method `on_train_batch_end` is slow compared to the batch time (batch time: 0.0306s vs `on_train_batch_end` time: 0.0685s). Check your callbacks.\n",
            "391/391 [==============================] - 29s 74ms/step - loss: 2.1656 - accuracy: 0.1837 - val_loss: 1.9305 - val_accuracy: 0.2886\n",
            "Epoch 2/100\n",
            "391/391 [==============================] - 29s 75ms/step - loss: 1.6716 - accuracy: 0.3798 - val_loss: 1.5063 - val_accuracy: 0.4485\n",
            "Epoch 3/100\n",
            "391/391 [==============================] - 29s 74ms/step - loss: 1.3654 - accuracy: 0.5006 - val_loss: 1.2478 - val_accuracy: 0.5429\n",
            "Epoch 4/100\n",
            "391/391 [==============================] - 29s 74ms/step - loss: 1.1582 - accuracy: 0.5806 - val_loss: 1.1082 - val_accuracy: 0.6030\n",
            "Epoch 5/100\n",
            "391/391 [==============================] - 29s 74ms/step - loss: 0.9788 - accuracy: 0.6527 - val_loss: 1.0105 - val_accuracy: 0.6396\n",
            "Epoch 6/100\n",
            "391/391 [==============================] - 29s 74ms/step - loss: 0.8258 - accuracy: 0.7083 - val_loss: 0.9779 - val_accuracy: 0.6567\n",
            "Epoch 7/100\n",
            "391/391 [==============================] - 29s 74ms/step - loss: 0.6967 - accuracy: 0.7562 - val_loss: 0.8080 - val_accuracy: 0.7199\n",
            "Epoch 8/100\n",
            "391/391 [==============================] - 29s 74ms/step - loss: 0.5755 - accuracy: 0.7987 - val_loss: 0.8307 - val_accuracy: 0.7187\n",
            "Epoch 9/100\n",
            "391/391 [==============================] - 29s 74ms/step - loss: 0.4721 - accuracy: 0.8347 - val_loss: 0.8195 - val_accuracy: 0.7322\n",
            "Epoch 10/100\n",
            "391/391 [==============================] - 29s 74ms/step - loss: 0.3764 - accuracy: 0.8691 - val_loss: 0.8135 - val_accuracy: 0.7434\n",
            "Epoch 11/100\n",
            "391/391 [==============================] - 29s 74ms/step - loss: 0.3157 - accuracy: 0.8906 - val_loss: 0.7842 - val_accuracy: 0.7600\n",
            "Epoch 12/100\n",
            "391/391 [==============================] - 29s 74ms/step - loss: 0.2467 - accuracy: 0.9143 - val_loss: 0.9509 - val_accuracy: 0.7350\n",
            "Epoch 13/100\n",
            "391/391 [==============================] - 29s 74ms/step - loss: 0.2116 - accuracy: 0.9277 - val_loss: 0.9424 - val_accuracy: 0.7498\n",
            "Epoch 14/100\n",
            "391/391 [==============================] - 29s 74ms/step - loss: 0.1623 - accuracy: 0.9427 - val_loss: 1.0589 - val_accuracy: 0.7483\n",
            "Epoch 15/100\n",
            "391/391 [==============================] - 29s 74ms/step - loss: 0.1422 - accuracy: 0.9500 - val_loss: 1.0223 - val_accuracy: 0.7545\n",
            "Epoch 16/100\n",
            "391/391 [==============================] - 29s 74ms/step - loss: 0.1171 - accuracy: 0.9594 - val_loss: 1.0206 - val_accuracy: 0.7611\n",
            "Epoch 17/100\n",
            "391/391 [==============================] - 29s 74ms/step - loss: 0.1022 - accuracy: 0.9645 - val_loss: 1.1590 - val_accuracy: 0.7523\n",
            "Epoch 18/100\n",
            "391/391 [==============================] - 29s 74ms/step - loss: 0.0820 - accuracy: 0.9712 - val_loss: 1.0963 - val_accuracy: 0.7534\n",
            "Epoch 19/100\n",
            "391/391 [==============================] - 29s 74ms/step - loss: 0.0759 - accuracy: 0.9732 - val_loss: 1.0699 - val_accuracy: 0.7708\n",
            "Epoch 20/100\n",
            "391/391 [==============================] - 29s 74ms/step - loss: 0.0627 - accuracy: 0.9789 - val_loss: 1.0730 - val_accuracy: 0.7597\n",
            "Epoch 21/100\n",
            "391/391 [==============================] - 29s 74ms/step - loss: 0.0498 - accuracy: 0.9831 - val_loss: 1.2454 - val_accuracy: 0.7544\n",
            "Epoch 22/100\n",
            "391/391 [==============================] - 29s 74ms/step - loss: 0.0523 - accuracy: 0.9820 - val_loss: 1.2036 - val_accuracy: 0.7666\n",
            "Epoch 23/100\n",
            "391/391 [==============================] - 29s 74ms/step - loss: 0.0493 - accuracy: 0.9829 - val_loss: 1.1455 - val_accuracy: 0.7607\n",
            "Epoch 24/100\n",
            "391/391 [==============================] - 29s 74ms/step - loss: 0.0387 - accuracy: 0.9866 - val_loss: 1.2386 - val_accuracy: 0.7635\n",
            "Epoch 25/100\n",
            "391/391 [==============================] - 29s 74ms/step - loss: 0.0392 - accuracy: 0.9870 - val_loss: 1.3441 - val_accuracy: 0.7587\n",
            "Epoch 26/100\n",
            "391/391 [==============================] - 29s 74ms/step - loss: 0.0287 - accuracy: 0.9907 - val_loss: 1.2417 - val_accuracy: 0.7786\n",
            "Epoch 27/100\n",
            "391/391 [==============================] - 29s 74ms/step - loss: 0.0282 - accuracy: 0.9909 - val_loss: 1.2081 - val_accuracy: 0.7718\n",
            "Epoch 28/100\n",
            "391/391 [==============================] - 29s 74ms/step - loss: 0.0291 - accuracy: 0.9903 - val_loss: 1.2968 - val_accuracy: 0.7722\n",
            "Epoch 29/100\n",
            "391/391 [==============================] - 29s 74ms/step - loss: 0.0270 - accuracy: 0.9907 - val_loss: 1.2596 - val_accuracy: 0.7822\n",
            "Epoch 30/100\n",
            "391/391 [==============================] - 29s 74ms/step - loss: 0.0215 - accuracy: 0.9927 - val_loss: 1.2585 - val_accuracy: 0.7718\n",
            "Epoch 31/100\n",
            "391/391 [==============================] - 29s 74ms/step - loss: 0.0254 - accuracy: 0.9916 - val_loss: 1.2914 - val_accuracy: 0.7814\n",
            "Epoch 32/100\n",
            "391/391 [==============================] - 29s 74ms/step - loss: 0.0228 - accuracy: 0.9926 - val_loss: 1.3299 - val_accuracy: 0.7747\n",
            "Epoch 33/100\n",
            "391/391 [==============================] - 29s 73ms/step - loss: 0.0227 - accuracy: 0.9924 - val_loss: 1.2706 - val_accuracy: 0.7798\n",
            "Epoch 34/100\n",
            "391/391 [==============================] - 29s 73ms/step - loss: 0.0195 - accuracy: 0.9936 - val_loss: 1.3314 - val_accuracy: 0.7823\n",
            "Epoch 35/100\n",
            "391/391 [==============================] - 29s 74ms/step - loss: 0.0154 - accuracy: 0.9950 - val_loss: 1.4620 - val_accuracy: 0.7776\n",
            "Epoch 36/100\n",
            "391/391 [==============================] - 29s 74ms/step - loss: 0.0173 - accuracy: 0.9946 - val_loss: 1.3763 - val_accuracy: 0.7758\n",
            "Epoch 37/100\n",
            "391/391 [==============================] - 29s 73ms/step - loss: 0.0160 - accuracy: 0.9949 - val_loss: 1.3490 - val_accuracy: 0.7817\n",
            "Epoch 38/100\n",
            "391/391 [==============================] - 29s 74ms/step - loss: 0.0176 - accuracy: 0.9945 - val_loss: 1.3799 - val_accuracy: 0.7740\n",
            "Epoch 39/100\n",
            "391/391 [==============================] - 29s 74ms/step - loss: 0.0123 - accuracy: 0.9958 - val_loss: 1.3967 - val_accuracy: 0.7796\n",
            "Epoch 40/100\n",
            "391/391 [==============================] - 29s 74ms/step - loss: 0.0135 - accuracy: 0.9957 - val_loss: 1.3266 - val_accuracy: 0.7830\n",
            "Epoch 41/100\n",
            "391/391 [==============================] - 29s 74ms/step - loss: 0.0159 - accuracy: 0.9948 - val_loss: 1.4510 - val_accuracy: 0.7822\n",
            "Epoch 42/100\n",
            "391/391 [==============================] - 29s 74ms/step - loss: 0.0137 - accuracy: 0.9953 - val_loss: 1.3979 - val_accuracy: 0.7832\n",
            "Epoch 43/100\n",
            "391/391 [==============================] - 29s 74ms/step - loss: 0.0117 - accuracy: 0.9963 - val_loss: 1.5063 - val_accuracy: 0.7845\n",
            "Epoch 44/100\n",
            "391/391 [==============================] - 29s 73ms/step - loss: 0.0171 - accuracy: 0.9944 - val_loss: 1.4359 - val_accuracy: 0.7748\n",
            "Epoch 45/100\n",
            "391/391 [==============================] - 29s 74ms/step - loss: 0.0151 - accuracy: 0.9947 - val_loss: 1.4516 - val_accuracy: 0.7800\n",
            "Epoch 46/100\n",
            "391/391 [==============================] - 29s 74ms/step - loss: 0.0135 - accuracy: 0.9957 - val_loss: 1.3432 - val_accuracy: 0.7829\n",
            "Epoch 47/100\n",
            "391/391 [==============================] - 29s 74ms/step - loss: 0.0072 - accuracy: 0.9976 - val_loss: 1.5208 - val_accuracy: 0.7789\n",
            "Epoch 48/100\n",
            "391/391 [==============================] - 29s 74ms/step - loss: 0.0123 - accuracy: 0.9955 - val_loss: 1.4891 - val_accuracy: 0.7720\n",
            "Epoch 49/100\n",
            "391/391 [==============================] - 29s 74ms/step - loss: 0.0073 - accuracy: 0.9975 - val_loss: 1.6104 - val_accuracy: 0.7808\n",
            "Epoch 50/100\n",
            "391/391 [==============================] - 29s 73ms/step - loss: 0.0124 - accuracy: 0.9959 - val_loss: 1.4433 - val_accuracy: 0.7811\n",
            "Epoch 51/100\n",
            "391/391 [==============================] - 29s 73ms/step - loss: 0.0093 - accuracy: 0.9967 - val_loss: 1.5186 - val_accuracy: 0.7757\n",
            "Epoch 52/100\n",
            "391/391 [==============================] - 29s 73ms/step - loss: 0.0135 - accuracy: 0.9958 - val_loss: 1.5540 - val_accuracy: 0.7780\n",
            "Epoch 53/100\n",
            "391/391 [==============================] - 29s 73ms/step - loss: 0.0135 - accuracy: 0.9957 - val_loss: 1.4288 - val_accuracy: 0.7767\n",
            "Epoch 54/100\n",
            "391/391 [==============================] - 29s 73ms/step - loss: 0.0092 - accuracy: 0.9969 - val_loss: 1.6269 - val_accuracy: 0.7790\n",
            "Epoch 55/100\n",
            "391/391 [==============================] - 29s 73ms/step - loss: 0.0131 - accuracy: 0.9955 - val_loss: 1.4233 - val_accuracy: 0.7811\n",
            "Epoch 56/100\n",
            "391/391 [==============================] - 29s 73ms/step - loss: 0.0073 - accuracy: 0.9976 - val_loss: 1.5693 - val_accuracy: 0.7756\n",
            "Epoch 57/100\n",
            "391/391 [==============================] - 29s 73ms/step - loss: 0.0101 - accuracy: 0.9970 - val_loss: 1.5572 - val_accuracy: 0.7813\n",
            "Epoch 58/100\n",
            "391/391 [==============================] - 29s 73ms/step - loss: 0.0084 - accuracy: 0.9970 - val_loss: 1.6047 - val_accuracy: 0.7793\n",
            "Epoch 59/100\n",
            "391/391 [==============================] - 29s 73ms/step - loss: 0.0092 - accuracy: 0.9972 - val_loss: 1.4636 - val_accuracy: 0.7779\n",
            "Epoch 60/100\n",
            "391/391 [==============================] - 29s 73ms/step - loss: 0.0040 - accuracy: 0.9986 - val_loss: 1.6444 - val_accuracy: 0.7824\n",
            "Epoch 61/100\n",
            "391/391 [==============================] - 29s 73ms/step - loss: 0.0059 - accuracy: 0.9983 - val_loss: 1.5940 - val_accuracy: 0.7802\n",
            "Epoch 62/100\n",
            "391/391 [==============================] - 29s 73ms/step - loss: 0.0064 - accuracy: 0.9980 - val_loss: 1.5888 - val_accuracy: 0.7766\n",
            "Epoch 63/100\n",
            "391/391 [==============================] - 29s 74ms/step - loss: 0.0086 - accuracy: 0.9972 - val_loss: 1.4718 - val_accuracy: 0.7832\n",
            "Epoch 64/100\n",
            "391/391 [==============================] - 29s 74ms/step - loss: 0.0051 - accuracy: 0.9985 - val_loss: 1.6982 - val_accuracy: 0.7846\n",
            "Epoch 65/100\n",
            "391/391 [==============================] - 29s 74ms/step - loss: 0.0091 - accuracy: 0.9972 - val_loss: 1.6059 - val_accuracy: 0.7753\n",
            "Epoch 66/100\n",
            "391/391 [==============================] - 29s 74ms/step - loss: 0.0067 - accuracy: 0.9978 - val_loss: 1.5472 - val_accuracy: 0.7812\n",
            "Epoch 67/100\n",
            "391/391 [==============================] - 29s 74ms/step - loss: 0.0067 - accuracy: 0.9979 - val_loss: 1.6637 - val_accuracy: 0.7764\n",
            "Epoch 68/100\n",
            "391/391 [==============================] - 29s 74ms/step - loss: 0.0053 - accuracy: 0.9984 - val_loss: 1.7114 - val_accuracy: 0.7727\n",
            "Epoch 69/100\n",
            "391/391 [==============================] - 29s 74ms/step - loss: 0.0093 - accuracy: 0.9970 - val_loss: 1.6273 - val_accuracy: 0.7826\n",
            "Epoch 70/100\n",
            "391/391 [==============================] - 29s 74ms/step - loss: 0.0049 - accuracy: 0.9985 - val_loss: 1.6745 - val_accuracy: 0.7837\n",
            "Epoch 71/100\n",
            "391/391 [==============================] - 29s 74ms/step - loss: 0.0085 - accuracy: 0.9975 - val_loss: 1.5620 - val_accuracy: 0.7791\n",
            "Epoch 72/100\n",
            "391/391 [==============================] - 29s 74ms/step - loss: 0.0056 - accuracy: 0.9982 - val_loss: 1.5127 - val_accuracy: 0.7863\n",
            "Epoch 73/100\n",
            "391/391 [==============================] - 29s 74ms/step - loss: 0.0068 - accuracy: 0.9977 - val_loss: 1.5475 - val_accuracy: 0.7802\n",
            "Epoch 74/100\n",
            "391/391 [==============================] - 29s 74ms/step - loss: 0.0050 - accuracy: 0.9983 - val_loss: 1.6960 - val_accuracy: 0.7780\n",
            "Epoch 75/100\n",
            "391/391 [==============================] - 29s 74ms/step - loss: 0.0084 - accuracy: 0.9974 - val_loss: 1.4511 - val_accuracy: 0.7853\n",
            "Epoch 76/100\n",
            "391/391 [==============================] - 29s 74ms/step - loss: 0.0039 - accuracy: 0.9987 - val_loss: 1.5041 - val_accuracy: 0.7884\n",
            "Epoch 77/100\n",
            "391/391 [==============================] - 29s 74ms/step - loss: 8.3770e-04 - accuracy: 0.9997 - val_loss: 1.6197 - val_accuracy: 0.7948\n",
            "Epoch 78/100\n",
            "391/391 [==============================] - 29s 74ms/step - loss: 3.7922e-04 - accuracy: 0.9999 - val_loss: 1.6779 - val_accuracy: 0.7949\n",
            "Epoch 79/100\n",
            "391/391 [==============================] - 29s 74ms/step - loss: 2.7803e-05 - accuracy: 1.0000 - val_loss: 1.7107 - val_accuracy: 0.7949\n",
            "Epoch 80/100\n",
            "391/391 [==============================] - 29s 74ms/step - loss: 1.1693e-05 - accuracy: 1.0000 - val_loss: 1.7295 - val_accuracy: 0.7949\n",
            "Epoch 81/100\n",
            "391/391 [==============================] - 29s 74ms/step - loss: 9.2740e-06 - accuracy: 1.0000 - val_loss: 1.7455 - val_accuracy: 0.7956\n",
            "Epoch 82/100\n",
            "391/391 [==============================] - 29s 74ms/step - loss: 7.7886e-06 - accuracy: 1.0000 - val_loss: 1.7594 - val_accuracy: 0.7960\n",
            "Epoch 83/100\n",
            "391/391 [==============================] - 29s 74ms/step - loss: 6.7435e-06 - accuracy: 1.0000 - val_loss: 1.7718 - val_accuracy: 0.7958\n",
            "Epoch 84/100\n",
            "391/391 [==============================] - 29s 74ms/step - loss: 5.9588e-06 - accuracy: 1.0000 - val_loss: 1.7830 - val_accuracy: 0.7958\n",
            "Epoch 85/100\n",
            "391/391 [==============================] - 29s 74ms/step - loss: 5.3441e-06 - accuracy: 1.0000 - val_loss: 1.7932 - val_accuracy: 0.7960\n",
            "Epoch 86/100\n",
            "391/391 [==============================] - 29s 74ms/step - loss: 4.8476e-06 - accuracy: 1.0000 - val_loss: 1.8027 - val_accuracy: 0.7962\n",
            "Epoch 87/100\n",
            "391/391 [==============================] - 29s 74ms/step - loss: 4.4360e-06 - accuracy: 1.0000 - val_loss: 1.8115 - val_accuracy: 0.7960\n",
            "Epoch 88/100\n",
            "391/391 [==============================] - 29s 74ms/step - loss: 4.0885e-06 - accuracy: 1.0000 - val_loss: 1.8198 - val_accuracy: 0.7958\n",
            "Epoch 89/100\n",
            "391/391 [==============================] - 29s 74ms/step - loss: 3.7926e-06 - accuracy: 1.0000 - val_loss: 1.8275 - val_accuracy: 0.7956\n",
            "Epoch 90/100\n",
            "391/391 [==============================] - 29s 74ms/step - loss: 3.5370e-06 - accuracy: 1.0000 - val_loss: 1.8348 - val_accuracy: 0.7954\n",
            "Epoch 91/100\n",
            "391/391 [==============================] - 29s 73ms/step - loss: 3.3136e-06 - accuracy: 1.0000 - val_loss: 1.8416 - val_accuracy: 0.7953\n",
            "Epoch 92/100\n",
            "391/391 [==============================] - 29s 73ms/step - loss: 3.1162e-06 - accuracy: 1.0000 - val_loss: 1.8482 - val_accuracy: 0.7953\n",
            "Epoch 93/100\n",
            "391/391 [==============================] - 29s 74ms/step - loss: 2.9416e-06 - accuracy: 1.0000 - val_loss: 1.8544 - val_accuracy: 0.7956\n",
            "Epoch 94/100\n",
            "391/391 [==============================] - 29s 74ms/step - loss: 2.7855e-06 - accuracy: 1.0000 - val_loss: 1.8603 - val_accuracy: 0.7957\n",
            "Epoch 95/100\n",
            "391/391 [==============================] - 29s 74ms/step - loss: 2.6451e-06 - accuracy: 1.0000 - val_loss: 1.8660 - val_accuracy: 0.7957\n",
            "Epoch 96/100\n",
            "391/391 [==============================] - 29s 73ms/step - loss: 2.5183e-06 - accuracy: 1.0000 - val_loss: 1.8714 - val_accuracy: 0.7957\n",
            "Epoch 97/100\n",
            "391/391 [==============================] - 29s 73ms/step - loss: 2.4026e-06 - accuracy: 1.0000 - val_loss: 1.8766 - val_accuracy: 0.7959\n",
            "Epoch 98/100\n",
            "391/391 [==============================] - 29s 74ms/step - loss: 2.2974e-06 - accuracy: 1.0000 - val_loss: 1.8816 - val_accuracy: 0.7959\n",
            "Epoch 99/100\n",
            "391/391 [==============================] - 29s 74ms/step - loss: 2.2007e-06 - accuracy: 1.0000 - val_loss: 1.8864 - val_accuracy: 0.7958\n",
            "Epoch 100/100\n",
            "391/391 [==============================] - 29s 74ms/step - loss: 2.1120e-06 - accuracy: 1.0000 - val_loss: 1.8911 - val_accuracy: 0.7957\n"
          ],
          "name": "stdout"
        },
        {
          "output_type": "display_data",
          "data": {
            "image/png": "[encoded data removed]",
            "text/plain": [
              "<Figure size 432x288 with 1 Axes>"
            ]
          },
          "metadata": {
            "tags": []
          }
        },
        {
          "output_type": "display_data",
          "data": {
            "image/png": "[encoded data removed]",
            "text/plain": [
              "<Figure size 432x288 with 1 Axes>"
            ]
          },
          "metadata": {
            "tags": []
          }
        }
      ]
    },
    {
      "cell_type": "code",
      "metadata": {
        "colab": {
          "base_uri": "https://localhost:8080/"
        },
        "id": "dwP5qMza2qZg",
        "outputId": "1da49305-407b-430b-f5b3-4b5b5a000bd7"
      },
      "source": [
        "comment = f\"\"\"Batch Size: {batch_size}\n",
        "max_step_grad = 1/tf.math.reduce_max(tf.math.abs(grad))\n",
        "velocity initializer: RandomNormal\n",
        "beta = (beta_hat*t+1)/(t+2)'\"\"\"\n",
        "gravity.save_run_info(model,\n",
        "                     history,\n",
        "                     gravity_opt,\n",
        "                     'CIFAR10',\n",
        "                     comment=comment)"
      ],
      "execution_count": null,
      "outputs": [
        {
          "output_type": "stream",
          "text": [
            "save_run_info completed\n"
          ],
          "name": "stdout"
        }
      ]
    },
    {
      "cell_type": "markdown",
      "metadata": {
        "id": "ooM3AFJq8PlF"
      },
      "source": [
        "### VGG19\n"
      ]
    },
    {
      "cell_type": "code",
      "metadata": {
        "id": "_9GM1MEL8PlG"
      },
      "source": [
        "batch_size = 128\n",
        "epochs = 100\n",
        "gravity_opt = Gravity(learning_rate=0.1, alpha=0.01, beta=0.9)\n",
        "adam_opt = tf.keras.optimizers.Adam(learning_rate=0.001)\n",
        "cost_func = tf.keras.losses.SparseCategoricalCrossentropy(from_logits=True)\n",
        "\n",
        "model = gravity.get_vgg19(classes=cifar10_classes,\n",
        "                          input_shape=(32, 32, 3),\n",
        "                          drop_out_rate=0,\n",
        "                          print_summary=False)\n",
        "\n",
        "model.compile(optimizer=gravity_opt,\n",
        "              loss=cost_func,\n",
        "              metrics=['accuracy'])\n",
        "history = model.fit(x_train_cifar10, y_train_cifar10,\n",
        "                    batch_size=batch_size,\n",
        "                    epochs=epochs,\n",
        "                    validation_data=(x_test_cifar10, y_test_cifar10))\n",
        "gravity.plot_history(history)"
      ],
      "execution_count": null,
      "outputs": []
    },
    {
      "cell_type": "code",
      "metadata": {
        "id": "yfuz9QUy8PlG"
      },
      "source": [
        "comment = f\"\"\"Batch Size: {batch_size}\n",
        "max_step_grad = 1/tf.math.reduce_max(tf.math.abs(grad))\n",
        "velocity initializer: RandomNormal\n",
        "beta = (beta_hat*t+1)/(t+2)'\"\"\"\n",
        "gravty.save_run_info(model,\n",
        "                     history,\n",
        "                     gravity_opt,\n",
        "                     'CIFAR10',\n",
        "                     comment=comment)"
      ],
      "execution_count": null,
      "outputs": []
    },
    {
      "cell_type": "markdown",
      "metadata": {
        "id": "AUCxa8zG0JTU"
      },
      "source": [
        "## CIFAR100 (Coarse)"
      ]
    },
    {
      "cell_type": "code",
      "metadata": {
        "id": "wb_rXfpa0JTV"
      },
      "source": [
        "cifar100_dict = gravity.get_dataset_cifar100(label_mode='coarse', verbose=True, show_images=True)\n",
        "x_train_cifar100, y_train_cifar100 = cifar100_dict['train_data']\n",
        "x_test_cifar100, y_test_cifar100 = cifar100_dict['test_data']\n",
        "cifar100_classes = cifar100_dict['classes']\n",
        "cifar100_input_shape = cifar100_dict['input_shape']"
      ],
      "execution_count": null,
      "outputs": []
    },
    {
      "cell_type": "markdown",
      "metadata": {
        "id": "r0YX6t4g0JTV"
      },
      "source": [
        "### VGG16"
      ]
    },
    {
      "cell_type": "code",
      "metadata": {
        "id": "DEFSQP0B0JTV"
      },
      "source": [
        "batch_size = 128\n",
        "epochs = 100\n",
        "gravity_opt = Gravity(learning_rate=0.1, alpha=0.01, beta=0.9)\n",
        "adam_opt = tf.keras.optimizers.Adam(learning_rate=0.001)\n",
        "cost_func = tf.keras.losses.SparseCategoricalCrossentropy(from_logits=True)\n",
        "\n",
        "model = gravity.get_vgg16(classes=cifar100_classes,\n",
        "                          input_shape=(32, 32, 3),\n",
        "                          drop_out_rate=0,\n",
        "                          print_summary=False)\n",
        "\n",
        "model.compile(optimizer=gravity_opt,\n",
        "              loss=cost_func,\n",
        "              metrics=['accuracy'])\n",
        "history = model.fit(x_train_cifar100, y_train_cifar100,\n",
        "                    batch_size=batch_size,\n",
        "                    epochs=epochs,\n",
        "                    validation_data=(x_test_cifar100, y_test_cifar100))\n",
        "gravity.plot_history(history)"
      ],
      "execution_count": null,
      "outputs": []
    },
    {
      "cell_type": "code",
      "metadata": {
        "colab": {
          "base_uri": "https://localhost:8080/"
        },
        "id": "YFPgUWT80JTV",
        "outputId": "2d1129de-d8d8-45c0-f87d-3e18f03a1719"
      },
      "source": [
        "comment = f\"\"\"Batch Size: {batch_size}\n",
        "max_step_grad = 1/tf.math.reduce_max(tf.math.abs(grad))\n",
        "velocity initializer: RandomNormal\n",
        "beta = (beta_hat*t+1)/(t+2)'\"\"\"\n",
        "gravity.save_run_info(model,\n",
        "                     history,\n",
        "                     gravity_opt,\n",
        "                     'CIFAR100 (Coarse)',\n",
        "                     comment=comment)"
      ],
      "execution_count": null,
      "outputs": [
        {
          "output_type": "stream",
          "text": [
            "save_run_info completed\n"
          ],
          "name": "stdout"
        }
      ]
    },
    {
      "cell_type": "markdown",
      "metadata": {
        "id": "JbqmgPLT0JTX"
      },
      "source": [
        "### VGG19\n"
      ]
    },
    {
      "cell_type": "code",
      "metadata": {
        "id": "MjrVpTPI0JTX"
      },
      "source": [
        "batch_size = 128\n",
        "epochs = 100\n",
        "gravity_opt = Gravity(learning_rate=0.1, alpha=0.01, beta=0.9)\n",
        "adam_opt = tf.keras.optimizers.Adam(learning_rate=0.001)\n",
        "cost_func = tf.keras.losses.SparseCategoricalCrossentropy(from_logits=True)\n",
        "\n",
        "model = gravity.get_vgg19(classes=cifar100_classes,\n",
        "                          input_shape=(32, 32, 3),\n",
        "                          drop_out_rate=0,\n",
        "                          print_summary=False)\n",
        "\n",
        "model.compile(optimizer=gravity_opt,\n",
        "              loss=cost_func,\n",
        "              metrics=['accuracy'])\n",
        "history = model.fit(x_train_cifar100, y_train_cifar100,\n",
        "                    batch_size=batch_size,\n",
        "                    epochs=epochs,\n",
        "                    validation_data=(x_test_cifar100, y_test_cifar100))\n",
        "gravity.plot_history(history)"
      ],
      "execution_count": null,
      "outputs": []
    },
    {
      "cell_type": "code",
      "metadata": {
        "id": "kqUpUjnI0JTX"
      },
      "source": [
        "comment = f\"\"\"Batch Size: {batch_size}\n",
        "max_step_grad = 1/tf.math.reduce_max(tf.math.abs(grad))\n",
        "velocity initializer: RandomNormal\n",
        "beta = (beta_hat*t+1)/(t+2)'\"\"\"\n",
        "gravty.save_run_info(model,\n",
        "                     history,\n",
        "                     gravity_opt,\n",
        "                     'CIFAR100 (Coarse)',\n",
        "                     comment=comment)"
      ],
      "execution_count": null,
      "outputs": []
    },
    {
      "cell_type": "markdown",
      "metadata": {
        "id": "jE3CtpQT1XzB"
      },
      "source": [
        "## CIFAR100 (Fine)"
      ]
    },
    {
      "cell_type": "code",
      "metadata": {
        "colab": {
          "base_uri": "https://localhost:8080/",
          "height": 753
        },
        "id": "4TCya3tN1XzB",
        "outputId": "b4d108f7-e92f-4250-d4e3-4657de9e822d"
      },
      "source": [
        "cifar100_dict = gravity.get_dataset_cifar100(label_mode='fine', verbose=True, show_images=True)\n",
        "x_train_cifar100, y_train_cifar100 = cifar100_dict['train_data']\n",
        "x_test_cifar100, y_test_cifar100 = cifar100_dict['test_data']\n",
        "cifar100_classes = cifar100_dict['classes']\n",
        "cifar100_input_shape = cifar100_dict['input_shape']"
      ],
      "execution_count": null,
      "outputs": [
        {
          "output_type": "stream",
          "text": [
            "CIFAR100 dataset information:\n",
            "  * Total Train Samples: 50000\n",
            "  * Total Test Samples:  10000\n",
            "  * Input Shape:  (32, 32, 3)\n",
            "  * Output Shape: (1,)\n",
            "Shapes Detail:\n",
            "  * x_train:  (50000, 32, 32, 3)\n",
            "  * y_train:  (50000, 1)\n",
            "  * x_test:   (10000, 32, 32, 3)\n",
            "  * y_test:   (10000, 1)\n",
            "Random Train Example: \n"
          ],
          "name": "stdout"
        },
        {
          "output_type": "display_data",
          "data": {
            "image/png": "[encoded data removed]",
            "text/plain": [
              "<Figure size 432x288 with 1 Axes>"
            ]
          },
          "metadata": {
            "tags": []
          }
        },
        {
          "output_type": "stream",
          "text": [
            "Label: [51]\n",
            "Random Test Example: \n"
          ],
          "name": "stdout"
        },
        {
          "output_type": "display_data",
          "data": {
            "image/png": "[encoded data removed]",
            "text/plain": [
              "<Figure size 432x288 with 1 Axes>"
            ]
          },
          "metadata": {
            "tags": []
          }
        },
        {
          "output_type": "stream",
          "text": [
            "Label: [10]\n"
          ],
          "name": "stdout"
        }
      ]
    },
    {
      "cell_type": "markdown",
      "metadata": {
        "id": "cbPYUYlK1XzC"
      },
      "source": [
        "### VGG16"
      ]
    },
    {
      "cell_type": "code",
      "metadata": {
        "colab": {
          "base_uri": "https://localhost:8080/",
          "height": 1000
        },
        "id": "2wfn3zZb1XzC",
        "outputId": "b1ddabff-7029-4f36-f257-b1b0003aa490"
      },
      "source": [
        "batch_size = 128\n",
        "epochs = 100\n",
        "gravity_opt = Gravity(learning_rate=0.1, alpha=0.01, beta=0.9)\n",
        "adam_opt = tf.keras.optimizers.Adam(learning_rate=0.001)\n",
        "cost_func = tf.keras.losses.SparseCategoricalCrossentropy(from_logits=True)\n",
        "\n",
        "model = gravity.get_vgg16(classes=cifar100_classes,\n",
        "                          input_shape=(32, 32, 3),\n",
        "                          drop_out_rate=0,\n",
        "                          print_summary=False)\n",
        "\n",
        "model.compile(optimizer=gravity_opt,\n",
        "              loss=cost_func,\n",
        "              metrics=['accuracy'])\n",
        "history = model.fit(x_train_cifar100, y_train_cifar100,\n",
        "                    batch_size=batch_size,\n",
        "                    epochs=epochs,\n",
        "                    validation_data=(x_test_cifar100, y_test_cifar100))\n",
        "gravity.plot_history(history)"
      ],
      "execution_count": null,
      "outputs": [
        {
          "output_type": "stream",
          "text": [
            "Epoch 1/100\n",
            "  2/391 [..............................] - ETA: 29s - loss: 4.6056 - accuracy: 0.0039WARNING:tensorflow:Callbacks method `on_train_batch_end` is slow compared to the batch time (batch time: 0.0320s vs `on_train_batch_end` time: 0.0540s). Check your callbacks.\n",
            "391/391 [==============================] - 30s 76ms/step - loss: 4.3493 - accuracy: 0.0362 - val_loss: 3.9703 - val_accuracy: 0.0847\n",
            "Epoch 2/100\n",
            "391/391 [==============================] - 29s 74ms/step - loss: 3.7991 - accuracy: 0.1072 - val_loss: 3.8313 - val_accuracy: 0.1109\n",
            "Epoch 3/100\n",
            "391/391 [==============================] - 29s 74ms/step - loss: 3.5234 - accuracy: 0.1533 - val_loss: 3.3790 - val_accuracy: 0.1878\n",
            "Epoch 4/100\n",
            "391/391 [==============================] - 29s 75ms/step - loss: 3.2462 - accuracy: 0.2050 - val_loss: 3.1340 - val_accuracy: 0.2312\n",
            "Epoch 5/100\n",
            "391/391 [==============================] - 29s 74ms/step - loss: 2.9889 - accuracy: 0.2534 - val_loss: 3.0208 - val_accuracy: 0.2534\n",
            "Epoch 6/100\n",
            "391/391 [==============================] - 29s 74ms/step - loss: 2.7518 - accuracy: 0.2983 - val_loss: 2.8211 - val_accuracy: 0.2980\n",
            "Epoch 7/100\n",
            "391/391 [==============================] - 29s 74ms/step - loss: 2.5075 - accuracy: 0.3475 - val_loss: 2.6955 - val_accuracy: 0.3250\n",
            "Epoch 8/100\n",
            "391/391 [==============================] - 29s 74ms/step - loss: 2.2715 - accuracy: 0.3986 - val_loss: 2.6086 - val_accuracy: 0.3523\n",
            "Epoch 9/100\n",
            "391/391 [==============================] - 29s 74ms/step - loss: 2.0462 - accuracy: 0.4435 - val_loss: 2.5166 - val_accuracy: 0.3679\n",
            "Epoch 10/100\n",
            "391/391 [==============================] - 29s 74ms/step - loss: 1.8322 - accuracy: 0.4927 - val_loss: 2.5279 - val_accuracy: 0.3825\n",
            "Epoch 11/100\n",
            "391/391 [==============================] - 29s 74ms/step - loss: 1.6154 - accuracy: 0.5435 - val_loss: 2.5125 - val_accuracy: 0.3798\n",
            "Epoch 12/100\n",
            "391/391 [==============================] - 29s 74ms/step - loss: 1.4107 - accuracy: 0.5936 - val_loss: 2.5463 - val_accuracy: 0.3879\n",
            "Epoch 13/100\n",
            "391/391 [==============================] - 29s 74ms/step - loss: 1.2207 - accuracy: 0.6402 - val_loss: 2.7856 - val_accuracy: 0.3875\n",
            "Epoch 14/100\n",
            "391/391 [==============================] - 29s 74ms/step - loss: 1.0615 - accuracy: 0.6791 - val_loss: 2.8308 - val_accuracy: 0.3946\n",
            "Epoch 15/100\n",
            "391/391 [==============================] - 29s 74ms/step - loss: 0.9331 - accuracy: 0.7160 - val_loss: 2.9618 - val_accuracy: 0.3751\n",
            "Epoch 16/100\n",
            "391/391 [==============================] - 29s 74ms/step - loss: 0.8119 - accuracy: 0.7510 - val_loss: 3.0221 - val_accuracy: 0.3793\n",
            "Epoch 17/100\n",
            "391/391 [==============================] - 29s 74ms/step - loss: 0.7088 - accuracy: 0.7806 - val_loss: 3.0208 - val_accuracy: 0.3821\n",
            "Epoch 18/100\n",
            "391/391 [==============================] - 29s 74ms/step - loss: 0.6095 - accuracy: 0.8106 - val_loss: 3.3943 - val_accuracy: 0.3856\n",
            "Epoch 19/100\n",
            "391/391 [==============================] - 29s 74ms/step - loss: 0.5470 - accuracy: 0.8285 - val_loss: 3.2264 - val_accuracy: 0.3823\n",
            "Epoch 20/100\n",
            "391/391 [==============================] - 29s 74ms/step - loss: 0.5028 - accuracy: 0.8401 - val_loss: 3.3365 - val_accuracy: 0.3905\n",
            "Epoch 21/100\n",
            "391/391 [==============================] - 29s 74ms/step - loss: 0.4343 - accuracy: 0.8645 - val_loss: 3.8398 - val_accuracy: 0.3843\n",
            "Epoch 22/100\n",
            "391/391 [==============================] - 29s 74ms/step - loss: 0.3859 - accuracy: 0.8795 - val_loss: 3.5418 - val_accuracy: 0.3830\n",
            "Epoch 23/100\n",
            "391/391 [==============================] - 29s 74ms/step - loss: 0.3652 - accuracy: 0.8852 - val_loss: 3.7289 - val_accuracy: 0.3793\n",
            "Epoch 24/100\n",
            "391/391 [==============================] - 29s 74ms/step - loss: 0.3275 - accuracy: 0.8968 - val_loss: 3.8450 - val_accuracy: 0.3959\n",
            "Epoch 25/100\n",
            "391/391 [==============================] - 29s 74ms/step - loss: 0.3035 - accuracy: 0.9051 - val_loss: 3.9664 - val_accuracy: 0.3833\n",
            "Epoch 26/100\n",
            "391/391 [==============================] - 29s 74ms/step - loss: 0.2717 - accuracy: 0.9154 - val_loss: 3.9709 - val_accuracy: 0.3944\n",
            "Epoch 27/100\n",
            "391/391 [==============================] - 29s 74ms/step - loss: 0.2432 - accuracy: 0.9246 - val_loss: 3.7280 - val_accuracy: 0.3901\n",
            "Epoch 28/100\n",
            "391/391 [==============================] - 29s 74ms/step - loss: 0.2176 - accuracy: 0.9327 - val_loss: 3.9460 - val_accuracy: 0.3932\n",
            "Epoch 29/100\n",
            "391/391 [==============================] - 29s 74ms/step - loss: 0.2365 - accuracy: 0.9261 - val_loss: 4.0269 - val_accuracy: 0.3864\n",
            "Epoch 30/100\n",
            "391/391 [==============================] - 29s 74ms/step - loss: 0.1968 - accuracy: 0.9386 - val_loss: 4.1474 - val_accuracy: 0.3905\n",
            "Epoch 31/100\n",
            "391/391 [==============================] - 29s 74ms/step - loss: 0.1844 - accuracy: 0.9438 - val_loss: 4.0697 - val_accuracy: 0.3868\n",
            "Epoch 32/100\n",
            "391/391 [==============================] - 29s 74ms/step - loss: 0.1720 - accuracy: 0.9465 - val_loss: 4.0549 - val_accuracy: 0.3860\n",
            "Epoch 33/100\n",
            "391/391 [==============================] - 29s 74ms/step - loss: 0.1600 - accuracy: 0.9524 - val_loss: 4.1878 - val_accuracy: 0.3891\n",
            "Epoch 34/100\n",
            "391/391 [==============================] - 29s 74ms/step - loss: 0.1511 - accuracy: 0.9538 - val_loss: 4.0840 - val_accuracy: 0.3937\n",
            "Epoch 35/100\n",
            "391/391 [==============================] - 29s 74ms/step - loss: 0.1548 - accuracy: 0.9532 - val_loss: 4.6189 - val_accuracy: 0.3947\n",
            "Epoch 36/100\n",
            "391/391 [==============================] - 29s 74ms/step - loss: 0.1379 - accuracy: 0.9585 - val_loss: 4.4276 - val_accuracy: 0.3980\n",
            "Epoch 37/100\n",
            "391/391 [==============================] - 29s 74ms/step - loss: 0.1380 - accuracy: 0.9582 - val_loss: 4.2699 - val_accuracy: 0.3995\n",
            "Epoch 38/100\n",
            "391/391 [==============================] - 29s 74ms/step - loss: 0.1192 - accuracy: 0.9649 - val_loss: 4.1892 - val_accuracy: 0.4128\n",
            "Epoch 39/100\n",
            "391/391 [==============================] - 29s 74ms/step - loss: 0.1140 - accuracy: 0.9654 - val_loss: 4.4641 - val_accuracy: 0.3971\n",
            "Epoch 40/100\n",
            "391/391 [==============================] - 29s 74ms/step - loss: 0.1134 - accuracy: 0.9653 - val_loss: 4.6293 - val_accuracy: 0.3964\n",
            "Epoch 41/100\n",
            "391/391 [==============================] - 29s 74ms/step - loss: 0.1114 - accuracy: 0.9658 - val_loss: 4.6857 - val_accuracy: 0.4037\n",
            "Epoch 42/100\n",
            "391/391 [==============================] - 29s 74ms/step - loss: 0.1150 - accuracy: 0.9652 - val_loss: 4.5897 - val_accuracy: 0.3989\n",
            "Epoch 43/100\n",
            "391/391 [==============================] - 29s 74ms/step - loss: 0.1102 - accuracy: 0.9658 - val_loss: 4.6978 - val_accuracy: 0.3923\n",
            "Epoch 44/100\n",
            "391/391 [==============================] - 29s 74ms/step - loss: 0.1076 - accuracy: 0.9689 - val_loss: 4.6175 - val_accuracy: 0.3912\n",
            "Epoch 45/100\n",
            "391/391 [==============================] - 29s 74ms/step - loss: 0.1029 - accuracy: 0.9688 - val_loss: 4.4066 - val_accuracy: 0.4036\n",
            "Epoch 46/100\n",
            "391/391 [==============================] - 29s 74ms/step - loss: 0.0967 - accuracy: 0.9709 - val_loss: 4.5672 - val_accuracy: 0.4024\n",
            "Epoch 47/100\n",
            "391/391 [==============================] - 29s 74ms/step - loss: 0.0989 - accuracy: 0.9703 - val_loss: 4.5250 - val_accuracy: 0.3934\n",
            "Epoch 48/100\n",
            "391/391 [==============================] - 29s 74ms/step - loss: 0.1030 - accuracy: 0.9684 - val_loss: 4.6985 - val_accuracy: 0.4029\n",
            "Epoch 49/100\n",
            "391/391 [==============================] - 29s 74ms/step - loss: 0.0900 - accuracy: 0.9729 - val_loss: 4.4986 - val_accuracy: 0.4031\n",
            "Epoch 50/100\n",
            "391/391 [==============================] - 29s 74ms/step - loss: 0.0917 - accuracy: 0.9728 - val_loss: 5.0431 - val_accuracy: 0.3965\n",
            "Epoch 51/100\n",
            "391/391 [==============================] - 29s 74ms/step - loss: 0.0867 - accuracy: 0.9734 - val_loss: 4.6153 - val_accuracy: 0.3967\n",
            "Epoch 52/100\n",
            "391/391 [==============================] - 29s 74ms/step - loss: 0.0832 - accuracy: 0.9744 - val_loss: 4.6491 - val_accuracy: 0.3951\n",
            "Epoch 53/100\n",
            "391/391 [==============================] - 29s 74ms/step - loss: 0.0917 - accuracy: 0.9724 - val_loss: 4.3206 - val_accuracy: 0.4046\n",
            "Epoch 54/100\n",
            "391/391 [==============================] - 29s 74ms/step - loss: 0.0742 - accuracy: 0.9776 - val_loss: 4.3438 - val_accuracy: 0.4027\n",
            "Epoch 55/100\n",
            "391/391 [==============================] - 29s 74ms/step - loss: 0.0859 - accuracy: 0.9752 - val_loss: 4.2374 - val_accuracy: 0.3982\n",
            "Epoch 56/100\n",
            "391/391 [==============================] - 29s 74ms/step - loss: 0.0729 - accuracy: 0.9785 - val_loss: 4.4661 - val_accuracy: 0.4025\n",
            "Epoch 57/100\n",
            "391/391 [==============================] - 29s 74ms/step - loss: 0.0775 - accuracy: 0.9780 - val_loss: 4.6280 - val_accuracy: 0.3934\n",
            "Epoch 58/100\n",
            "391/391 [==============================] - 29s 74ms/step - loss: 0.0723 - accuracy: 0.9782 - val_loss: 4.4520 - val_accuracy: 0.3973\n",
            "Epoch 59/100\n",
            "391/391 [==============================] - 29s 75ms/step - loss: 0.0734 - accuracy: 0.9789 - val_loss: 4.9799 - val_accuracy: 0.3974\n",
            "Epoch 60/100\n",
            "391/391 [==============================] - 29s 74ms/step - loss: 0.0649 - accuracy: 0.9808 - val_loss: 4.6817 - val_accuracy: 0.4005\n",
            "Epoch 61/100\n",
            "391/391 [==============================] - 29s 74ms/step - loss: 0.0696 - accuracy: 0.9791 - val_loss: 4.8043 - val_accuracy: 0.4018\n",
            "Epoch 62/100\n",
            "391/391 [==============================] - 29s 74ms/step - loss: 0.0770 - accuracy: 0.9774 - val_loss: 4.8557 - val_accuracy: 0.4044\n",
            "Epoch 63/100\n",
            "391/391 [==============================] - 29s 75ms/step - loss: 0.0700 - accuracy: 0.9788 - val_loss: 5.1106 - val_accuracy: 0.3979\n",
            "Epoch 64/100\n",
            "391/391 [==============================] - 29s 74ms/step - loss: 0.0759 - accuracy: 0.9780 - val_loss: 4.9483 - val_accuracy: 0.3955\n",
            "Epoch 65/100\n",
            "391/391 [==============================] - 29s 74ms/step - loss: 0.0700 - accuracy: 0.9802 - val_loss: 4.6258 - val_accuracy: 0.3998\n",
            "Epoch 66/100\n",
            "391/391 [==============================] - 29s 74ms/step - loss: 0.0739 - accuracy: 0.9780 - val_loss: 4.8121 - val_accuracy: 0.3915\n",
            "Epoch 67/100\n",
            "391/391 [==============================] - 29s 74ms/step - loss: 0.0651 - accuracy: 0.9817 - val_loss: 4.7060 - val_accuracy: 0.3965\n",
            "Epoch 68/100\n",
            "391/391 [==============================] - 29s 74ms/step - loss: 0.0676 - accuracy: 0.9809 - val_loss: 4.6685 - val_accuracy: 0.3983\n",
            "Epoch 69/100\n",
            "391/391 [==============================] - 29s 74ms/step - loss: 0.0548 - accuracy: 0.9839 - val_loss: 4.8753 - val_accuracy: 0.4012\n",
            "Epoch 70/100\n",
            "391/391 [==============================] - 29s 74ms/step - loss: 0.0737 - accuracy: 0.9787 - val_loss: 4.8128 - val_accuracy: 0.3978\n",
            "Epoch 71/100\n",
            "391/391 [==============================] - 29s 74ms/step - loss: 0.0649 - accuracy: 0.9812 - val_loss: 5.3046 - val_accuracy: 0.3983\n",
            "Epoch 72/100\n",
            "391/391 [==============================] - 29s 74ms/step - loss: 0.0670 - accuracy: 0.9806 - val_loss: 4.8146 - val_accuracy: 0.4087\n",
            "Epoch 73/100\n",
            "391/391 [==============================] - 29s 74ms/step - loss: 0.0605 - accuracy: 0.9817 - val_loss: 4.7410 - val_accuracy: 0.3965\n",
            "Epoch 74/100\n",
            "391/391 [==============================] - 29s 74ms/step - loss: 0.0602 - accuracy: 0.9824 - val_loss: 4.8346 - val_accuracy: 0.4014\n",
            "Epoch 75/100\n",
            "391/391 [==============================] - 29s 74ms/step - loss: 0.0530 - accuracy: 0.9849 - val_loss: 4.8201 - val_accuracy: 0.4037\n",
            "Epoch 76/100\n",
            "391/391 [==============================] - 29s 74ms/step - loss: 0.0576 - accuracy: 0.9833 - val_loss: 4.5995 - val_accuracy: 0.4075\n",
            "Epoch 77/100\n",
            "391/391 [==============================] - 29s 74ms/step - loss: 0.0492 - accuracy: 0.9856 - val_loss: 5.0957 - val_accuracy: 0.4019\n",
            "Epoch 78/100\n",
            "391/391 [==============================] - 29s 75ms/step - loss: 0.0614 - accuracy: 0.9831 - val_loss: 4.8000 - val_accuracy: 0.4037\n",
            "Epoch 79/100\n",
            "391/391 [==============================] - 29s 74ms/step - loss: 0.0546 - accuracy: 0.9839 - val_loss: 5.1312 - val_accuracy: 0.4005\n",
            "Epoch 80/100\n",
            "391/391 [==============================] - 29s 74ms/step - loss: 0.0583 - accuracy: 0.9830 - val_loss: 5.1024 - val_accuracy: 0.4065\n",
            "Epoch 81/100\n",
            "391/391 [==============================] - 29s 74ms/step - loss: 0.0535 - accuracy: 0.9844 - val_loss: 4.9817 - val_accuracy: 0.3994\n",
            "Epoch 82/100\n",
            "391/391 [==============================] - 29s 74ms/step - loss: 0.0639 - accuracy: 0.9819 - val_loss: 4.9646 - val_accuracy: 0.4009\n",
            "Epoch 83/100\n",
            "391/391 [==============================] - 29s 74ms/step - loss: 0.0512 - accuracy: 0.9851 - val_loss: 5.1321 - val_accuracy: 0.4000\n",
            "Epoch 84/100\n",
            "391/391 [==============================] - 29s 74ms/step - loss: 0.0564 - accuracy: 0.9833 - val_loss: 4.8707 - val_accuracy: 0.3969\n",
            "Epoch 85/100\n",
            "391/391 [==============================] - 29s 74ms/step - loss: 0.0532 - accuracy: 0.9847 - val_loss: 4.7658 - val_accuracy: 0.4026\n",
            "Epoch 86/100\n",
            "391/391 [==============================] - 29s 74ms/step - loss: 0.0461 - accuracy: 0.9869 - val_loss: 4.7616 - val_accuracy: 0.4046\n",
            "Epoch 87/100\n",
            "391/391 [==============================] - 29s 74ms/step - loss: 0.0554 - accuracy: 0.9844 - val_loss: 5.1669 - val_accuracy: 0.3980\n",
            "Epoch 88/100\n",
            "391/391 [==============================] - 29s 74ms/step - loss: 0.0576 - accuracy: 0.9830 - val_loss: 4.8265 - val_accuracy: 0.3930\n",
            "Epoch 89/100\n",
            "391/391 [==============================] - 29s 74ms/step - loss: 0.0442 - accuracy: 0.9881 - val_loss: 5.2413 - val_accuracy: 0.4008\n",
            "Epoch 90/100\n",
            "391/391 [==============================] - 29s 74ms/step - loss: 0.0571 - accuracy: 0.9836 - val_loss: 4.6316 - val_accuracy: 0.3941\n",
            "Epoch 91/100\n",
            "391/391 [==============================] - 29s 74ms/step - loss: 0.0464 - accuracy: 0.9870 - val_loss: 4.8722 - val_accuracy: 0.3987\n",
            "Epoch 92/100\n",
            "391/391 [==============================] - 29s 74ms/step - loss: 0.0541 - accuracy: 0.9852 - val_loss: 4.6232 - val_accuracy: 0.4049\n",
            "Epoch 93/100\n",
            "391/391 [==============================] - 29s 74ms/step - loss: 0.0497 - accuracy: 0.9857 - val_loss: 5.1056 - val_accuracy: 0.3969\n",
            "Epoch 94/100\n",
            "391/391 [==============================] - 29s 74ms/step - loss: 0.0594 - accuracy: 0.9830 - val_loss: 4.9929 - val_accuracy: 0.4074\n",
            "Epoch 95/100\n",
            "391/391 [==============================] - 29s 74ms/step - loss: 0.0521 - accuracy: 0.9847 - val_loss: 4.9268 - val_accuracy: 0.4100\n",
            "Epoch 96/100\n",
            "391/391 [==============================] - 29s 74ms/step - loss: 0.0512 - accuracy: 0.9849 - val_loss: 4.9212 - val_accuracy: 0.4013\n",
            "Epoch 97/100\n",
            "391/391 [==============================] - 29s 74ms/step - loss: 0.0508 - accuracy: 0.9856 - val_loss: 4.7867 - val_accuracy: 0.3995\n",
            "Epoch 98/100\n",
            "391/391 [==============================] - 29s 74ms/step - loss: 0.0543 - accuracy: 0.9848 - val_loss: 4.7747 - val_accuracy: 0.4007\n",
            "Epoch 99/100\n",
            "391/391 [==============================] - 29s 74ms/step - loss: 0.0532 - accuracy: 0.9849 - val_loss: 5.0896 - val_accuracy: 0.4007\n",
            "Epoch 100/100\n",
            "391/391 [==============================] - 29s 74ms/step - loss: 0.0479 - accuracy: 0.9870 - val_loss: 4.7484 - val_accuracy: 0.4012\n"
          ],
          "name": "stdout"
        },
        {
          "output_type": "display_data",
          "data": {
            "image/png": "[encoded data removed]",
            "text/plain": [
              "<Figure size 432x288 with 1 Axes>"
            ]
          },
          "metadata": {
            "tags": []
          }
        },
        {
          "output_type": "display_data",
          "data": {
            "image/png": "[encoded data removed]",
            "text/plain": [
              "<Figure size 432x288 with 1 Axes>"
            ]
          },
          "metadata": {
            "tags": []
          }
        }
      ]
    },
    {
      "cell_type": "code",
      "metadata": {
        "colab": {
          "base_uri": "https://localhost:8080/"
        },
        "id": "92t1RFNw1XzC",
        "outputId": "90cc1967-dea7-4a52-9424-0e4306b83717"
      },
      "source": [
        "comment = f\"\"\"Batch Size: {batch_size}\n",
        "max_step_grad = 1/tf.math.reduce_max(tf.math.abs(grad))\n",
        "velocity initializer: RandomNormal\n",
        "beta = (beta_hat*t+1)/(t+2)'\"\"\"\n",
        "gravity.save_run_info(model,\n",
        "                     history,\n",
        "                     gravity_opt,\n",
        "                     'CIFAR100 (Fine)',\n",
        "                     comment=comment)"
      ],
      "execution_count": null,
      "outputs": [
        {
          "output_type": "stream",
          "text": [
            "save_run_info completed\n"
          ],
          "name": "stdout"
        }
      ]
    },
    {
      "cell_type": "markdown",
      "metadata": {
        "id": "p9_f-gMU1XzD"
      },
      "source": [
        "### VGG19\n"
      ]
    },
    {
      "cell_type": "code",
      "metadata": {
        "id": "aIuFd8Cw1XzE"
      },
      "source": [
        "batch_size = 128\n",
        "epochs = 100\n",
        "gravity_opt = Gravity(learning_rate=0.1, alpha=0.01, beta=0.9)\n",
        "adam_opt = tf.keras.optimizers.Adam(learning_rate=0.001)\n",
        "cost_func = tf.keras.losses.SparseCategoricalCrossentropy(from_logits=True)\n",
        "\n",
        "model = gravity.get_vgg19(classes=cifar100_classes,\n",
        "                          input_shape=(32, 32, 3),\n",
        "                          drop_out_rate=0,\n",
        "                          print_summary=False)\n",
        "\n",
        "model.compile(optimizer=gravity_opt,\n",
        "              loss=cost_func,\n",
        "              metrics=['accuracy'])\n",
        "history = model.fit(x_train_cifar100, y_train_cifar100,\n",
        "                    batch_size=batch_size,\n",
        "                    epochs=epochs,\n",
        "                    validation_data=(x_test_cifar100, y_test_cifar100))\n",
        "gravity.plot_history(history)"
      ],
      "execution_count": null,
      "outputs": []
    },
    {
      "cell_type": "code",
      "metadata": {
        "id": "h0OWSTit1XzE"
      },
      "source": [
        "comment = f\"\"\"Batch Size: {batch_size}\n",
        "max_step_grad = 1/tf.math.reduce_max(tf.math.abs(grad))\n",
        "velocity initializer: RandomNormal\n",
        "beta = (beta_hat*t+1)/(t+2)'\"\"\"\n",
        "gravty.save_run_info(model,\n",
        "                     history,\n",
        "                     gravity_opt,\n",
        "                     'CIFAR100 (Fine)',\n",
        "                     comment=comment)"
      ],
      "execution_count": null,
      "outputs": []
    }
  ]
}