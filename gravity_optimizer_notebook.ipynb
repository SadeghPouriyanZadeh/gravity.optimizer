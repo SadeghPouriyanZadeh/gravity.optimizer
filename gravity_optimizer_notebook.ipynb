{
  "nbformat": 4,
  "nbformat_minor": 0,
  "metadata": {
    "accelerator": "GPU",
    "colab": {
      "name": "gravity_optimizer_notebook.ipynb",
      "provenance": [],
      "collapsed_sections": [
        "Q3xejDOoTYbg",
        "eiTSDUsVTYbg",
        "1ToKPjvy8QwX",
        "MynFjb3Bb2bP",
        "_40VUUsS92xS",
        "MsB-wxc79B7e",
        "l3ibWf2y28wY"
      ],
      "toc_visible": true
    },
    "kernelspec": {
      "display_name": "Python 3",
      "language": "python",
      "name": "python3"
    },
    "language_info": {
      "codemirror_mode": {
        "name": "ipython",
        "version": 3
      },
      "file_extension": ".py",
      "mimetype": "text/x-python",
      "name": "python",
      "nbconvert_exporter": "python",
      "pygments_lexer": "ipython3",
      "version": "3.8.3"
    }
  },
  "cells": [
    {
      "cell_type": "markdown",
      "metadata": {
        "id": "ROo3YHH_377X"
      },
      "source": [
        "# Import Modules"
      ]
    },
    {
      "cell_type": "code",
      "metadata": {
        "colab": {
          "base_uri": "https://localhost:8080/"
        },
        "id": "0siAij-6WGyE",
        "outputId": "70d6c6ac-3621-4654-8dd7-9a1d2909d06f"
      },
      "source": [
        "import time\n",
        "from zipfile import ZipFile\n",
        "import json\n",
        "%tensorflow_version 2.x\n",
        "import tensorflow as tf\n",
        "import numpy as np\n",
        "import pandas as pd\n",
        "from matplotlib import pyplot as plt\n",
        "device_name = tf.test.gpu_device_name()\n",
        "if device_name != '/device:GPU:0':\n",
        "  raise SystemError('GPU device not found')\n",
        "print('Found GPU at: {}'.format(device_name))\n",
        "plt.style.use('dark_background')"
      ],
      "execution_count": null,
      "outputs": [
        {
          "output_type": "stream",
          "text": [
            "Found GPU at: /device:GPU:0\n"
          ],
          "name": "stdout"
        }
      ]
    },
    {
      "cell_type": "markdown",
      "metadata": {
        "id": "m44FoofQTYbf"
      },
      "source": [
        "# Functions Definition"
      ]
    },
    {
      "cell_type": "markdown",
      "metadata": {
        "id": "Q3xejDOoTYbg"
      },
      "source": [
        "## Datasets Tools"
      ]
    },
    {
      "cell_type": "code",
      "metadata": {
        "id": "09z_-wMuTYbg"
      },
      "source": [
        "def print_dataset_info(name, x_train, y_train, x_test, y_test):\n",
        "    train_samples = x_train.shape[0]\n",
        "    test_samples = x_test.shape[0]\n",
        "    print(f'{name} dataset information:')\n",
        "    print(f'  * Total Train Samples: {train_samples}')\n",
        "    print(f'  * Total Test Samples:  {test_samples}')\n",
        "    print(f'  * Input Shape:  {x_train.shape[1:]}')\n",
        "    print(f'  * Output Shape: {y_train.shape[1:]}')\n",
        "    print(f'Shapes Detail:')\n",
        "    print(f'  * x_train:  {x_train.shape}')\n",
        "    print(f'  * y_train:  {y_train.shape}')\n",
        "    print(f'  * x_test:   {x_test.shape}')\n",
        "    print(f'  * y_test:   {y_test.shape}')\n",
        "\n",
        "\n",
        "def show_random_image(name, x_train, y_train, x_test, y_test):\n",
        "    train_samples = x_train.shape[0]\n",
        "    test_samples = x_test.shape[0]\n",
        "    if x_train.ndim == 4 and x_train.shape[-1] not in (3, 4):\n",
        "        print(f'Invalid image shape {x_train.shape[1:]} for image data')\n",
        "        x_train = x_train.reshape(x_train.shape[:-1])\n",
        "        x_test = x_test.reshape(x_test.shape[:-1])\n",
        "        print(f'Images reshaped to: {x_train.shape[1:]}')\n",
        "    print('Random Train Example: ')\n",
        "    index = np.random.randint(0, train_samples)\n",
        "    plt.imshow(x_train[index, ])\n",
        "    plt.show()\n",
        "    print(f'Label: {y_train[index,]}')\n",
        "    print('Random Test Example: ')\n",
        "    index = np.random.randint(0, test_samples)\n",
        "    plt.imshow(x_test[index, ])\n",
        "    plt.show()\n",
        "    print(f'Label: {y_test[index,]}')\n",
        "\n",
        "\n",
        "def print_cifar10_classes():\n",
        "    num_classes = 10\n",
        "    classes = {\n",
        "        0: 'airplane',\n",
        "        1: 'automobile',\n",
        "        2: 'bird',\n",
        "        3: 'cat',\n",
        "        4: 'deer',\n",
        "        5: 'dog',\n",
        "        6: 'frog',\n",
        "        7: 'horse',\n",
        "        8: 'ship',\n",
        "        9: 'truck'\n",
        "    }\n",
        "    print('CIFAR10 Classes:')\n",
        "    for i in range(num_classes):\n",
        "        print(f'  {i}- {classes[i]}')\n"
      ],
      "execution_count": null,
      "outputs": []
    },
    {
      "cell_type": "markdown",
      "metadata": {
        "id": "eiTSDUsVTYbg"
      },
      "source": [
        "## Train Tools"
      ]
    },
    {
      "cell_type": "code",
      "metadata": {
        "id": "czJn7lwSTYbg"
      },
      "source": [
        "def plot_history(history):\n",
        "    # summarize history for accuracy\n",
        "    plt.plot(history.history['accuracy'])\n",
        "    plt.plot(history.history['val_accuracy'])\n",
        "    plt.title('model accuracy')\n",
        "    plt.ylabel('accuracy')\n",
        "    plt.xlabel('epoch')\n",
        "    plt.legend(['train', 'test'], loc='upper left')\n",
        "    plt.show()\n",
        "    # summarize history for loss\n",
        "    plt.plot(history.history['loss'])\n",
        "    plt.plot(history.history['val_loss'])\n",
        "    plt.title('model loss')\n",
        "    plt.ylabel('loss')\n",
        "    plt.xlabel('epoch')\n",
        "    plt.legend(['train', 'test'], loc='upper left')\n",
        "    plt.show()\n",
        "\n",
        "\n",
        "def save_run_info(model, history, optimizer, dataset: str, comment=None):\n",
        "    # Load Data\n",
        "    model_name = model.name\n",
        "    optimizer_name = optimizer.get_config()['name']\n",
        "    model_config = model.to_json()\n",
        "    history_dict = {}\n",
        "    epochs = len(history.history['loss'])\n",
        "    history_dict['epochs'] = list(range(1, epochs+1))\n",
        "    history_dict.update(history.history)\n",
        "    optimizer_config = optimizer.get_config()\n",
        "    for i in optimizer_config:\n",
        "        if type(optimizer_config[i]) not in (str, float) :\n",
        "            optimizer_config[i] = round(float(optimizer_config[i]), 4)\n",
        "    # Serializing\n",
        "    max_acc = round(max(history_dict['accuracy']), 2)\n",
        "    max_val_acc = round(max(history_dict['val_accuracy']), 2)\n",
        "    acc_str = f'{max_val_acc:.2f}{max_acc:.2f}'.replace('.', '')\n",
        "    time_str = time.strftime(\"%Y%m%d_%H%M%S\")\n",
        "    zipfile_name = f'{dataset}_{model_name}_{acc_str}_{optimizer_name}_{time_str}.zip'\n",
        "    history_df = pd.DataFrame(history_dict)\n",
        "    with ZipFile(zipfile_name, mode='w') as zip_file:\n",
        "        zip_file.writestr(f'history.csv', history_df.to_csv(index=False))\n",
        "        zip_file.writestr(f'dataset.txt', dataset)\n",
        "        zip_file.writestr(f'model_config.json',\n",
        "                          json.dumps(model_config, indent=4))\n",
        "        zip_file.writestr(f'optimizer_config.json',\n",
        "                          json.dumps(optimizer_config, indent=4))\n",
        "        if comment:\n",
        "            zip_file.writestr('comment.txt', comment)\n",
        "    print('save_run_info completed')\n"
      ],
      "execution_count": null,
      "outputs": []
    },
    {
      "cell_type": "markdown",
      "metadata": {
        "id": "pRm4P1XNXzA_"
      },
      "source": [
        "# Optimizers Classes"
      ]
    },
    {
      "cell_type": "code",
      "metadata": {
        "id": "kbP6IdVzieJj"
      },
      "source": [
        "class Gravity(tf.keras.optimizers.Optimizer):\n",
        "    def __init__(self, learning_rate=0.1, alpha=0.01, beta=0.9, name=\"Gravity\", **kwargs):\n",
        "        super(Gravity, self).__init__(name, **kwargs)\n",
        "        self._set_hyper('learning_rate', kwargs.get('lr', learning_rate))\n",
        "        self._set_hyper('decay', self._initial_decay)\n",
        "        self._set_hyper('alpha', alpha)\n",
        "        self._set_hyper('beta', beta)\n",
        "        self.epsilon = 1e-7\n",
        "    def _create_slots(self, var_list):\n",
        "        alpha = self._get_hyper(\"alpha\")\n",
        "        stddev = alpha/self.learning_rate\n",
        "        initializer = tf.keras.initializers.RandomNormal(mean=0.0, stddev=stddev, seed=None)\n",
        "        # initializer = 'zeros'\n",
        "        for var in var_list:\n",
        "            self.add_slot(var, \"velocity\", initializer=initializer)\n",
        "\n",
        "    @tf.function\n",
        "    def _resource_apply_dense(self, grad, var):\n",
        "        # Get Data\n",
        "        var_dtype = var.dtype.base_dtype\n",
        "        lr_t = self._decayed_lr(var_dtype) # handle learning rate decay\n",
        "        beta_hat = self._get_hyper(\"beta\", var_dtype)\n",
        "        t = tf.cast(self.iterations, float)\n",
        "        beta = (beta_hat*t + 1 )/(t + 2)\n",
        "        velocity = self.get_slot(var, \"velocity\")\n",
        "\n",
        "        # Calculations\n",
        "        max_step_grad = 1/tf.math.reduce_max(tf.math.abs(grad))\n",
        "        gradient_term = grad / (1 + (grad/max_step_grad)**2)\n",
        "\n",
        "        # update variables\n",
        "        updated_velocity = velocity.assign(beta*velocity + (1-beta)*gradient_term) \n",
        "        updated_var = var.assign(var - lr_t*updated_velocity)       \n",
        "        \n",
        "        # updates = [updated_var, updated_velocity]\n",
        "        # return tf.group(*updates)\n",
        "    def _resource_apply_sparse(self, grad, var):\n",
        "        raise NotImplementedError\n",
        "    def get_config(self):\n",
        "        config = super(Gravity, self).get_config()\n",
        "        config.update({\n",
        "            'learning_rate': self._serialize_hyperparameter('learning_rate'),\n",
        "            'decay': self._serialize_hyperparameter('decay'),\n",
        "            'beta': self._serialize_hyperparameter('beta'),\n",
        "            'epsilon': self.epsilon,\n",
        "        })\n",
        "        return config"
      ],
      "execution_count": null,
      "outputs": []
    },
    {
      "cell_type": "markdown",
      "metadata": {
        "id": "1ToKPjvy8QwX"
      },
      "source": [
        "# Datasets"
      ]
    },
    {
      "cell_type": "code",
      "metadata": {
        "id": "9TB2R1xbXSS1"
      },
      "source": [
        "tf.keras.backend.set_image_data_format('channels_last')"
      ],
      "execution_count": null,
      "outputs": []
    },
    {
      "cell_type": "markdown",
      "metadata": {
        "id": "MynFjb3Bb2bP"
      },
      "source": [
        "## MNIST"
      ]
    },
    {
      "cell_type": "code",
      "metadata": {
        "colab": {
          "base_uri": "https://localhost:8080/"
        },
        "id": "tfn_ZOlSb2bQ",
        "outputId": "90546299-1447-4256-d1a8-67336991f090"
      },
      "source": [
        "(x_train_mnist, y_train_mnist), (x_test_mnist, y_test_mnist) = tf.keras.datasets.mnist.load_data()\n",
        "x_train_mnist = x_train_mnist.reshape((x_train_mnist.shape[0], 28, 28, 1)).astype('float32')\n",
        "x_test_mnist = x_test_mnist.reshape((x_test_mnist.shape[0], 28, 28, 1)).astype('float32')\n",
        "x_train_mnist, x_test_mnist = x_train_mnist / 255.0, x_test_mnist / 255.0\n",
        "input_shape_mnist = x_train_mnist.shape[1:]\n",
        "classes_mnist = 10\n",
        "print_dataset_info('MNIST', x_train_mnist, y_train_mnist, x_test_mnist, y_test_mnist)\n",
        "show_random_image('MNIST', x_train_mnist, y_train_mnist, x_test_mnist, y_test_mnist)"
      ],
      "execution_count": null,
      "outputs": [
        {
          "output_type": "stream",
          "text": [
            "Downloading data from https://storage.googleapis.com/tensorflow/tf-keras-datasets/mnist.npz\n",
            "11493376/11490434 [==============================] - 0s 0us/step\n",
            "MNIST dataset information:\n",
            "  * Total Train Samples: 60000\n",
            "  * Total Test Samples:  10000\n",
            "  * Input Shape:  (28, 28, 1)\n",
            "  * Output Shape: ()\n",
            "Shapes Detail:\n",
            "  * x_train:  (60000, 28, 28, 1)\n",
            "  * y_train:  (60000,)\n",
            "  * x_test:   (10000, 28, 28, 1)\n",
            "  * y_test:   (10000,)\n",
            "Invalid image shape (28, 28, 1) for image data\n",
            "Images reshaped to: (28, 28)\n",
            "Random Train Example: \n"
          ],
          "name": "stdout"
        },
        {
          "output_type": "display_data",
          "data": {
            "image/png": "[encoded data removed]",
            "text/plain": [
              "<Figure size 432x288 with 1 Axes>"
            ]
          },
          "metadata": {
            "tags": []
          }
        },
        {
          "output_type": "stream",
          "text": [
            "Label: 0\n",
            "Random Test Example: \n"
          ],
          "name": "stdout"
        },
        {
          "output_type": "display_data",
          "data": {
            "image/png": "[encoded data removed]",
            "text/plain": [
              "<Figure size 432x288 with 1 Axes>"
            ]
          },
          "metadata": {
            "tags": []
          }
        },
        {
          "output_type": "stream",
          "text": [
            "Label: 0\n"
          ],
          "name": "stdout"
        }
      ]
    },
    {
      "cell_type": "markdown",
      "metadata": {
        "id": "_40VUUsS92xS"
      },
      "source": [
        "## CIFAR 10"
      ]
    },
    {
      "cell_type": "code",
      "metadata": {
        "id": "zfAVGdvi91_u",
        "colab": {
          "base_uri": "https://localhost:8080/"
        },
        "outputId": "e5b33d40-77ca-4725-e47c-a3abc3530b98"
      },
      "source": [
        "(x_train_cifar10, y_train_cifar10), (x_test_cifar10, y_test_cifar10) = tf.keras.datasets.cifar10.load_data()\n",
        "x_train_cifar10 = x_train_cifar10.astype('float32')\n",
        "x_test_cifar10 = x_test_cifar10.astype('float32')\n",
        "x_train_cifar10, x_test_cifar10= x_train_cifar10 / 255, x_test_cifar10 / 255\n",
        "input_shape_cifar10 = x_train_cifar10.shape[1:]\n",
        "classes_cifar10 = 10\n",
        "print_dataset_info('CIFAR10', x_train_cifar10, y_train_cifar10, x_test_cifar10, y_test_cifar10)\n",
        "print_cifar10_classes()\n",
        "show_random_image('CIFAR10', x_train_cifar10, y_train_cifar10, x_test_cifar10, y_test_cifar10)\n"
      ],
      "execution_count": null,
      "outputs": [
        {
          "output_type": "stream",
          "text": [
            "Downloading data from https://www.cs.toronto.edu/~kriz/cifar-10-python.tar.gz\n",
            "170500096/170498071 [==============================] - 2s 0us/step\n",
            "CIFAR10 dataset information:\n",
            "  * Total Train Samples: 50000\n",
            "  * Total Test Samples:  10000\n",
            "  * Input Shape:  (32, 32, 3)\n",
            "  * Output Shape: (1,)\n",
            "Shapes Detail:\n",
            "  * x_train:  (50000, 32, 32, 3)\n",
            "  * y_train:  (50000, 1)\n",
            "  * x_test:   (10000, 32, 32, 3)\n",
            "  * y_test:   (10000, 1)\n",
            "CIFAR10 Classes:\n",
            "  0- airplane\n",
            "  1- automobile\n",
            "  2- bird\n",
            "  3- cat\n",
            "  4- deer\n",
            "  5- dog\n",
            "  6- frog\n",
            "  7- horse\n",
            "  8- ship\n",
            "  9- truck\n",
            "Random Train Example: \n"
          ],
          "name": "stdout"
        },
        {
          "output_type": "display_data",
          "data": {
            "image/png": "[encoded data removed]",
            "text/plain": [
              "<Figure size 432x288 with 1 Axes>"
            ]
          },
          "metadata": {
            "tags": []
          }
        },
        {
          "output_type": "stream",
          "text": [
            "Label: [0]\n",
            "Random Test Example: \n"
          ],
          "name": "stdout"
        },
        {
          "output_type": "display_data",
          "data": {
            "image/png": "[encoded data removed]",
            "text/plain": [
              "<Figure size 432x288 with 1 Axes>"
            ]
          },
          "metadata": {
            "tags": []
          }
        },
        {
          "output_type": "stream",
          "text": [
            "Label: [5]\n"
          ],
          "name": "stdout"
        }
      ]
    },
    {
      "cell_type": "markdown",
      "metadata": {
        "id": "LbJzFr7y4Ff1"
      },
      "source": [
        "# Achitectures"
      ]
    },
    {
      "cell_type": "markdown",
      "metadata": {
        "id": "0F5ZMklR53-5"
      },
      "source": [
        "## VGG16 (CIFAR10)"
      ]
    },
    {
      "cell_type": "code",
      "metadata": {
        "id": "YICxNe-x4KEJ"
      },
      "source": [
        "def get_vgg16_cifar10(drop_out_rate=0.5, print_summary=True):\n",
        "    base_model = tf.keras.applications.VGG16(\n",
        "        include_top=True,\n",
        "        weights=None,\n",
        "        input_tensor=None,\n",
        "        input_shape=input_shape_cifar10,\n",
        "        pooling=None,\n",
        "        classes=classes_cifar10,\n",
        "        classifier_activation=None,\n",
        "    )\n",
        "    fc1 = base_model.layers[-3]\n",
        "    fc2 = base_model.layers[-2]\n",
        "    predictions = base_model.layers[-1]\n",
        "\n",
        "    # Create the dropout layers\n",
        "    dropout1 = tf.keras.layers.Dropout(drop_out_rate)\n",
        "    dropout2 = tf.keras.layers.Dropout(drop_out_rate)\n",
        "\n",
        "    # Reconnect the layers\n",
        "    x = dropout1(fc1.output)\n",
        "    x = fc2(x)\n",
        "    x = dropout2(x)\n",
        "    predictors = predictions(x)\n",
        "\n",
        "    # Create a new model\n",
        "    model_vgg16_cifar10 = tf.keras.models.Model(base_model.input, predictors, name='vgg16')\n",
        "\n",
        "    if print_summary:\n",
        "        model_vgg16_cifar10.summary()\n",
        "    return model_vgg16_cifar10\n",
        "\n",
        "def get_vgg16_mnist(print_summary=False):\n",
        "    min_shape = (32, 32, 1)\n",
        "    base_model = tf.keras.applications.VGG16(\n",
        "        include_top=True,\n",
        "        weights=None,\n",
        "        input_tensor=None,\n",
        "        input_shape=min_shape,\n",
        "        pooling=None,\n",
        "        classes=classes_mnist,\n",
        "        classifier_activation=None,\n",
        "    )\n",
        "    resize_layer = tf.keras.layers.experimental.preprocessing.Resizing(min_shape[0], min_shape[1])\n",
        "    inputs = tf.keras.Input(shape=input_shape_mnist)\n",
        "    x = resize_layer(inputs)\n",
        "    outputs = base_model(x)\n",
        "    model_vgg16_mnist = tf.keras.Model(inputs, outputs, name='vgg16')\n",
        "    if print_summary:\n",
        "        model_vgg16_mnist.summary()\n",
        "    return model_vgg16_mnist"
      ],
      "execution_count": null,
      "outputs": []
    },
    {
      "cell_type": "markdown",
      "metadata": {
        "id": "mj1fRGlb6V3K"
      },
      "source": [
        "# Optimizers Test"
      ]
    },
    {
      "cell_type": "code",
      "metadata": {
        "id": "Zw3g61JYXfAU"
      },
      "source": [
        "sparse_categorical_cost = tf.keras.losses.SparseCategoricalCrossentropy(from_logits=True)"
      ],
      "execution_count": null,
      "outputs": []
    },
    {
      "cell_type": "markdown",
      "metadata": {
        "id": "HJ1zCJXY6wGN"
      },
      "source": [
        "## Optimizers Instantiation"
      ]
    },
    {
      "cell_type": "markdown",
      "metadata": {
        "id": "qtfu5xCD77mK"
      },
      "source": [
        "### Gravity"
      ]
    },
    {
      "cell_type": "code",
      "metadata": {
        "id": "gWlVl-mdTOBl"
      },
      "source": [
        "gravity_learning_rate = 0.1\n",
        "gravity_beta = 0.9\n",
        "gravity_alpha = 0.01\n",
        "gravity_opt = Gravity(gravity_learning_rate, alpha=gravity_alpha, beta=gravity_beta)"
      ],
      "execution_count": null,
      "outputs": []
    },
    {
      "cell_type": "markdown",
      "metadata": {
        "id": "hUfZ2eoL6_tM"
      },
      "source": [
        "### Adam"
      ]
    },
    {
      "cell_type": "code",
      "metadata": {
        "id": "KTg68W5k7uZl"
      },
      "source": [
        "adam_learning_rate = 0.000095\n",
        "adam_beta_1 = 0.9\n",
        "adam_beta_2 = 0.999\n",
        "adam_epsilon = 1e-07\n",
        "adam_amsgrad = False\n",
        "\n",
        "adam_opt = tf.keras.optimizers.Adam(\n",
        "    learning_rate=adam_learning_rate,\n",
        "    beta_1=adam_beta_1,\n",
        "    beta_2=adam_beta_2,\n",
        "    epsilon=adam_epsilon,\n",
        "    amsgrad=adam_amsgrad\n",
        ")"
      ],
      "execution_count": null,
      "outputs": []
    },
    {
      "cell_type": "markdown",
      "metadata": {
        "id": "dvgRokit2Z0_"
      },
      "source": [
        "### SGD"
      ]
    },
    {
      "cell_type": "code",
      "metadata": {
        "id": "lIUlvH_S2Z0_"
      },
      "source": [
        "sgd_learning_rate = 0.01\n",
        "sgd_beta = 0.9\n",
        "\n",
        "sgd_opt = tf.keras.optimizers.SGD(\n",
        "    learning_rate=sgd_learning_rate,\n",
        "    momentum=sgd_beta, \n",
        "    nesterov=False,\n",
        "    name=\"SGD\")"
      ],
      "execution_count": null,
      "outputs": []
    },
    {
      "cell_type": "markdown",
      "metadata": {
        "id": "MsB-wxc79B7e"
      },
      "source": [
        "### RMSProp"
      ]
    },
    {
      "cell_type": "code",
      "metadata": {
        "id": "ioGJ-1XY9B7f"
      },
      "source": [
        "rms_opt = tf.keras.optimizers.RMSprop(\n",
        "    learning_rate=0.01,\n",
        "    rho=0.9,\n",
        "    momentum=0.9,\n",
        "    epsilon=1e-07,\n",
        "    centered=False,\n",
        "    name=\"RMSprop\"\n",
        "    )"
      ],
      "execution_count": null,
      "outputs": []
    },
    {
      "cell_type": "markdown",
      "metadata": {
        "id": "zMljnhTKYwkb"
      },
      "source": [
        "## CIFAR10 - VGG16"
      ]
    },
    {
      "cell_type": "markdown",
      "metadata": {
        "id": "ZaDtIiLZYW5p"
      },
      "source": [
        "### Hyper Parameters"
      ]
    },
    {
      "cell_type": "code",
      "metadata": {
        "id": "1KBggHpNYaRM"
      },
      "source": [
        "batch_size_cifar10 = 128\n",
        "epochs_cifar10 = 100"
      ],
      "execution_count": null,
      "outputs": []
    },
    {
      "cell_type": "markdown",
      "metadata": {
        "id": "SgEHZxCQZ0xT"
      },
      "source": [
        "### Gravity Test"
      ]
    },
    {
      "cell_type": "code",
      "metadata": {
        "id": "DAh3QXwwZ0xU",
        "colab": {
          "base_uri": "https://localhost:8080/"
        },
        "outputId": "90d25c51-fe8c-42b3-b76b-1e48fe70b2a8"
      },
      "source": [
        "model_vgg16_cifar10_gravity = get_vgg16_cifar10(drop_out_rate=0, print_summary=False)\n",
        "\n",
        "model_vgg16_cifar10_gravity.compile(optimizer=gravity_opt,\n",
        "                                    loss=sparse_categorical_cost,\n",
        "                                    metrics=['accuracy'])\n",
        "gravity_history = model_vgg16_cifar10_gravity.fit(x_train_cifar10, y_train_cifar10,\n",
        "                                                  batch_size=batch_size_cifar10,\n",
        "                                                  epochs=epochs_cifar10,\n",
        "                                                  validation_data=(x_test_cifar10, y_test_cifar10))"
      ],
      "execution_count": null,
      "outputs": [
        {
          "output_type": "stream",
          "text": [
            "Epoch 1/100\n",
            "  2/391 [..............................] - ETA: 30s - loss: 2.3024 - accuracy: 0.0625WARNING:tensorflow:Callbacks method `on_train_batch_end` is slow compared to the batch time (batch time: 0.0311s vs `on_train_batch_end` time: 0.0558s). Check your callbacks.\n",
            "391/391 [==============================] - 29s 74ms/step - loss: 1.9572 - accuracy: 0.2644 - val_loss: 1.5889 - val_accuracy: 0.4107\n",
            "Epoch 2/100\n",
            "391/391 [==============================] - 29s 74ms/step - loss: 1.4603 - accuracy: 0.4627 - val_loss: 1.3527 - val_accuracy: 0.5028\n",
            "Epoch 3/100\n",
            "391/391 [==============================] - 28s 73ms/step - loss: 1.1660 - accuracy: 0.5801 - val_loss: 1.0944 - val_accuracy: 0.6076\n",
            "Epoch 4/100\n",
            "391/391 [==============================] - 29s 73ms/step - loss: 0.9499 - accuracy: 0.6617 - val_loss: 0.9343 - val_accuracy: 0.6677\n",
            "Epoch 5/100\n",
            "391/391 [==============================] - 29s 73ms/step - loss: 0.7989 - accuracy: 0.7172 - val_loss: 0.8403 - val_accuracy: 0.7070\n",
            "Epoch 6/100\n",
            "391/391 [==============================] - 29s 73ms/step - loss: 0.6566 - accuracy: 0.7719 - val_loss: 0.8033 - val_accuracy: 0.7191\n",
            "Epoch 7/100\n",
            "391/391 [==============================] - 29s 73ms/step - loss: 0.5520 - accuracy: 0.8074 - val_loss: 0.7268 - val_accuracy: 0.7574\n",
            "Epoch 8/100\n",
            "391/391 [==============================] - 29s 73ms/step - loss: 0.4568 - accuracy: 0.8402 - val_loss: 0.7631 - val_accuracy: 0.7551\n",
            "Epoch 9/100\n",
            "391/391 [==============================] - 29s 73ms/step - loss: 0.3737 - accuracy: 0.8691 - val_loss: 0.7737 - val_accuracy: 0.7610\n",
            "Epoch 10/100\n",
            "391/391 [==============================] - 29s 73ms/step - loss: 0.3047 - accuracy: 0.8959 - val_loss: 0.7283 - val_accuracy: 0.7683\n",
            "Epoch 11/100\n",
            "391/391 [==============================] - 29s 73ms/step - loss: 0.2435 - accuracy: 0.9147 - val_loss: 0.8713 - val_accuracy: 0.7485\n",
            "Epoch 12/100\n",
            "391/391 [==============================] - 29s 73ms/step - loss: 0.2014 - accuracy: 0.9303 - val_loss: 0.8159 - val_accuracy: 0.7708\n",
            "Epoch 13/100\n",
            "391/391 [==============================] - 29s 73ms/step - loss: 0.1672 - accuracy: 0.9414 - val_loss: 0.9198 - val_accuracy: 0.7766\n",
            "Epoch 14/100\n",
            "391/391 [==============================] - 29s 73ms/step - loss: 0.1305 - accuracy: 0.9548 - val_loss: 0.9387 - val_accuracy: 0.7675\n",
            "Epoch 15/100\n",
            "391/391 [==============================] - 29s 73ms/step - loss: 0.1094 - accuracy: 0.9617 - val_loss: 0.9395 - val_accuracy: 0.7734\n",
            "Epoch 16/100\n",
            "391/391 [==============================] - 29s 73ms/step - loss: 0.0920 - accuracy: 0.9690 - val_loss: 1.0163 - val_accuracy: 0.7773\n",
            "Epoch 17/100\n",
            "391/391 [==============================] - 29s 73ms/step - loss: 0.0823 - accuracy: 0.9716 - val_loss: 0.9921 - val_accuracy: 0.7870\n",
            "Epoch 18/100\n",
            "391/391 [==============================] - 29s 73ms/step - loss: 0.0713 - accuracy: 0.9759 - val_loss: 1.1205 - val_accuracy: 0.7770\n",
            "Epoch 19/100\n",
            "391/391 [==============================] - 29s 73ms/step - loss: 0.0629 - accuracy: 0.9779 - val_loss: 1.0178 - val_accuracy: 0.7894\n",
            "Epoch 20/100\n",
            "391/391 [==============================] - 29s 73ms/step - loss: 0.0540 - accuracy: 0.9815 - val_loss: 1.0881 - val_accuracy: 0.7850\n",
            "Epoch 21/100\n",
            "391/391 [==============================] - 29s 73ms/step - loss: 0.0462 - accuracy: 0.9843 - val_loss: 1.0824 - val_accuracy: 0.7844\n",
            "Epoch 22/100\n",
            "391/391 [==============================] - 28s 73ms/step - loss: 0.0472 - accuracy: 0.9838 - val_loss: 1.0453 - val_accuracy: 0.7802\n",
            "Epoch 23/100\n",
            "391/391 [==============================] - 28s 73ms/step - loss: 0.0334 - accuracy: 0.9884 - val_loss: 1.0889 - val_accuracy: 0.7877\n",
            "Epoch 24/100\n",
            "391/391 [==============================] - 29s 73ms/step - loss: 0.0314 - accuracy: 0.9896 - val_loss: 1.1556 - val_accuracy: 0.7837\n",
            "Epoch 25/100\n",
            "391/391 [==============================] - 29s 73ms/step - loss: 0.0356 - accuracy: 0.9880 - val_loss: 1.1164 - val_accuracy: 0.7883\n",
            "Epoch 26/100\n",
            "391/391 [==============================] - 29s 73ms/step - loss: 0.0278 - accuracy: 0.9906 - val_loss: 1.3287 - val_accuracy: 0.7788\n",
            "Epoch 27/100\n",
            "391/391 [==============================] - 29s 73ms/step - loss: 0.0320 - accuracy: 0.9895 - val_loss: 1.1286 - val_accuracy: 0.7815\n",
            "Epoch 28/100\n",
            "391/391 [==============================] - 29s 73ms/step - loss: 0.0218 - accuracy: 0.9929 - val_loss: 1.1853 - val_accuracy: 0.7884\n",
            "Epoch 29/100\n",
            "391/391 [==============================] - 29s 73ms/step - loss: 0.0212 - accuracy: 0.9925 - val_loss: 1.1636 - val_accuracy: 0.7894\n",
            "Epoch 30/100\n",
            "391/391 [==============================] - 28s 73ms/step - loss: 0.0250 - accuracy: 0.9914 - val_loss: 1.1800 - val_accuracy: 0.7761\n",
            "Epoch 31/100\n",
            "391/391 [==============================] - 29s 73ms/step - loss: 0.0227 - accuracy: 0.9930 - val_loss: 1.2305 - val_accuracy: 0.7908\n",
            "Epoch 32/100\n",
            "391/391 [==============================] - 29s 74ms/step - loss: 0.0232 - accuracy: 0.9922 - val_loss: 1.1708 - val_accuracy: 0.7939\n",
            "Epoch 33/100\n",
            "391/391 [==============================] - 29s 73ms/step - loss: 0.0166 - accuracy: 0.9945 - val_loss: 1.2320 - val_accuracy: 0.7921\n",
            "Epoch 34/100\n",
            "391/391 [==============================] - 29s 73ms/step - loss: 0.0203 - accuracy: 0.9933 - val_loss: 1.2587 - val_accuracy: 0.7914\n",
            "Epoch 35/100\n",
            "391/391 [==============================] - 29s 73ms/step - loss: 0.0185 - accuracy: 0.9935 - val_loss: 1.2345 - val_accuracy: 0.7887\n",
            "Epoch 36/100\n",
            "391/391 [==============================] - 29s 73ms/step - loss: 0.0141 - accuracy: 0.9951 - val_loss: 1.2700 - val_accuracy: 0.7936\n",
            "Epoch 37/100\n",
            "391/391 [==============================] - 29s 73ms/step - loss: 0.0177 - accuracy: 0.9941 - val_loss: 1.2516 - val_accuracy: 0.7893\n",
            "Epoch 38/100\n",
            "391/391 [==============================] - 29s 73ms/step - loss: 0.0102 - accuracy: 0.9964 - val_loss: 1.3342 - val_accuracy: 0.7968\n",
            "Epoch 39/100\n",
            "391/391 [==============================] - 29s 73ms/step - loss: 0.0119 - accuracy: 0.9959 - val_loss: 1.2837 - val_accuracy: 0.7871\n",
            "Epoch 40/100\n",
            "391/391 [==============================] - 29s 73ms/step - loss: 0.0145 - accuracy: 0.9953 - val_loss: 1.3296 - val_accuracy: 0.7971\n",
            "Epoch 41/100\n",
            "391/391 [==============================] - 29s 73ms/step - loss: 0.0152 - accuracy: 0.9948 - val_loss: 1.2360 - val_accuracy: 0.7981\n",
            "Epoch 42/100\n",
            "391/391 [==============================] - 29s 74ms/step - loss: 0.0139 - accuracy: 0.9958 - val_loss: 1.2881 - val_accuracy: 0.7861\n",
            "Epoch 43/100\n",
            "391/391 [==============================] - 29s 73ms/step - loss: 0.0071 - accuracy: 0.9979 - val_loss: 1.3686 - val_accuracy: 0.7849\n",
            "Epoch 44/100\n",
            "391/391 [==============================] - 29s 73ms/step - loss: 0.0114 - accuracy: 0.9965 - val_loss: 1.3341 - val_accuracy: 0.7948\n",
            "Epoch 45/100\n",
            "391/391 [==============================] - 29s 73ms/step - loss: 0.0132 - accuracy: 0.9957 - val_loss: 1.2484 - val_accuracy: 0.8023\n",
            "Epoch 46/100\n",
            "391/391 [==============================] - 29s 73ms/step - loss: 0.0058 - accuracy: 0.9982 - val_loss: 1.3966 - val_accuracy: 0.8025\n",
            "Epoch 47/100\n",
            "391/391 [==============================] - 29s 74ms/step - loss: 0.0104 - accuracy: 0.9966 - val_loss: 1.3512 - val_accuracy: 0.7897\n",
            "Epoch 48/100\n",
            "391/391 [==============================] - 29s 73ms/step - loss: 0.0125 - accuracy: 0.9960 - val_loss: 1.2093 - val_accuracy: 0.7933\n",
            "Epoch 49/100\n",
            "391/391 [==============================] - 29s 73ms/step - loss: 0.0100 - accuracy: 0.9965 - val_loss: 1.3079 - val_accuracy: 0.7920\n",
            "Epoch 50/100\n",
            "391/391 [==============================] - 29s 74ms/step - loss: 0.0084 - accuracy: 0.9971 - val_loss: 1.4358 - val_accuracy: 0.7908\n",
            "Epoch 51/100\n",
            "391/391 [==============================] - 29s 73ms/step - loss: 0.0114 - accuracy: 0.9964 - val_loss: 1.2423 - val_accuracy: 0.7929\n",
            "Epoch 52/100\n",
            "391/391 [==============================] - 29s 74ms/step - loss: 0.0074 - accuracy: 0.9976 - val_loss: 1.3190 - val_accuracy: 0.7961\n",
            "Epoch 53/100\n",
            "391/391 [==============================] - 29s 73ms/step - loss: 0.0046 - accuracy: 0.9987 - val_loss: 1.4610 - val_accuracy: 0.8016\n",
            "Epoch 54/100\n",
            "391/391 [==============================] - 29s 73ms/step - loss: 0.0022 - accuracy: 0.9993 - val_loss: 1.5189 - val_accuracy: 0.7993\n",
            "Epoch 55/100\n",
            "391/391 [==============================] - 29s 73ms/step - loss: 0.0072 - accuracy: 0.9977 - val_loss: 1.4200 - val_accuracy: 0.7948\n",
            "Epoch 56/100\n",
            "391/391 [==============================] - 29s 73ms/step - loss: 0.0109 - accuracy: 0.9963 - val_loss: 1.2934 - val_accuracy: 0.7943\n",
            "Epoch 57/100\n",
            "391/391 [==============================] - 29s 74ms/step - loss: 0.0083 - accuracy: 0.9971 - val_loss: 1.3897 - val_accuracy: 0.7985\n",
            "Epoch 58/100\n",
            "391/391 [==============================] - 29s 74ms/step - loss: 0.0064 - accuracy: 0.9980 - val_loss: 1.4130 - val_accuracy: 0.7969\n",
            "Epoch 59/100\n",
            "391/391 [==============================] - 29s 74ms/step - loss: 0.0030 - accuracy: 0.9991 - val_loss: 1.5935 - val_accuracy: 0.7953\n",
            "Epoch 60/100\n",
            "391/391 [==============================] - 29s 73ms/step - loss: 0.0087 - accuracy: 0.9972 - val_loss: 1.4587 - val_accuracy: 0.7941\n",
            "Epoch 61/100\n",
            "391/391 [==============================] - 29s 73ms/step - loss: 0.0083 - accuracy: 0.9971 - val_loss: 1.4889 - val_accuracy: 0.7959\n",
            "Epoch 62/100\n",
            "391/391 [==============================] - 29s 73ms/step - loss: 0.0071 - accuracy: 0.9975 - val_loss: 1.4069 - val_accuracy: 0.7971\n",
            "Epoch 63/100\n",
            "391/391 [==============================] - 29s 74ms/step - loss: 0.0069 - accuracy: 0.9976 - val_loss: 1.4755 - val_accuracy: 0.7974\n",
            "Epoch 64/100\n",
            "391/391 [==============================] - 29s 73ms/step - loss: 0.0054 - accuracy: 0.9981 - val_loss: 1.3486 - val_accuracy: 0.7969\n",
            "Epoch 65/100\n",
            "391/391 [==============================] - 29s 73ms/step - loss: 0.0068 - accuracy: 0.9976 - val_loss: 1.4581 - val_accuracy: 0.8007\n",
            "Epoch 66/100\n",
            "391/391 [==============================] - 29s 73ms/step - loss: 0.0073 - accuracy: 0.9977 - val_loss: 1.3755 - val_accuracy: 0.7946\n",
            "Epoch 67/100\n",
            "391/391 [==============================] - 29s 74ms/step - loss: 0.0033 - accuracy: 0.9989 - val_loss: 1.4442 - val_accuracy: 0.8010\n",
            "Epoch 68/100\n",
            "391/391 [==============================] - 29s 74ms/step - loss: 0.0040 - accuracy: 0.9985 - val_loss: 1.5297 - val_accuracy: 0.7954\n",
            "Epoch 69/100\n",
            "391/391 [==============================] - 29s 74ms/step - loss: 0.0064 - accuracy: 0.9980 - val_loss: 1.4517 - val_accuracy: 0.7915\n",
            "Epoch 70/100\n",
            "391/391 [==============================] - 29s 74ms/step - loss: 0.0100 - accuracy: 0.9968 - val_loss: 1.3350 - val_accuracy: 0.7897\n",
            "Epoch 71/100\n",
            "391/391 [==============================] - 29s 74ms/step - loss: 0.0083 - accuracy: 0.9972 - val_loss: 1.4715 - val_accuracy: 0.7907\n",
            "Epoch 72/100\n",
            "391/391 [==============================] - 29s 74ms/step - loss: 0.0073 - accuracy: 0.9979 - val_loss: 1.3521 - val_accuracy: 0.8011\n",
            "Epoch 73/100\n",
            "391/391 [==============================] - 29s 74ms/step - loss: 0.0017 - accuracy: 0.9995 - val_loss: 1.4681 - val_accuracy: 0.8067\n",
            "Epoch 74/100\n",
            "391/391 [==============================] - 29s 74ms/step - loss: 0.0031 - accuracy: 0.9992 - val_loss: 1.4091 - val_accuracy: 0.7988\n",
            "Epoch 75/100\n",
            "391/391 [==============================] - 29s 73ms/step - loss: 0.0026 - accuracy: 0.9992 - val_loss: 1.4982 - val_accuracy: 0.8020\n",
            "Epoch 76/100\n",
            "391/391 [==============================] - 29s 74ms/step - loss: 0.0059 - accuracy: 0.9983 - val_loss: 1.4087 - val_accuracy: 0.8000\n",
            "Epoch 77/100\n",
            "391/391 [==============================] - 29s 74ms/step - loss: 0.0044 - accuracy: 0.9985 - val_loss: 1.5291 - val_accuracy: 0.7954\n",
            "Epoch 78/100\n",
            "391/391 [==============================] - 29s 74ms/step - loss: 0.0057 - accuracy: 0.9983 - val_loss: 1.4642 - val_accuracy: 0.8014\n",
            "Epoch 79/100\n",
            "391/391 [==============================] - 29s 74ms/step - loss: 0.0017 - accuracy: 0.9995 - val_loss: 1.5663 - val_accuracy: 0.8003\n",
            "Epoch 80/100\n",
            "391/391 [==============================] - 29s 74ms/step - loss: 0.0033 - accuracy: 0.9990 - val_loss: 1.5497 - val_accuracy: 0.7910\n",
            "Epoch 81/100\n",
            "391/391 [==============================] - 29s 73ms/step - loss: 0.0058 - accuracy: 0.9983 - val_loss: 1.4058 - val_accuracy: 0.7979\n",
            "Epoch 82/100\n",
            "391/391 [==============================] - 29s 73ms/step - loss: 0.0015 - accuracy: 0.9995 - val_loss: 1.4880 - val_accuracy: 0.8034\n",
            "Epoch 83/100\n",
            "391/391 [==============================] - 29s 73ms/step - loss: 1.4313e-04 - accuracy: 1.0000 - val_loss: 1.5658 - val_accuracy: 0.8054\n",
            "Epoch 84/100\n",
            "391/391 [==============================] - 29s 73ms/step - loss: 2.6314e-05 - accuracy: 1.0000 - val_loss: 1.5866 - val_accuracy: 0.8059\n",
            "Epoch 85/100\n",
            "391/391 [==============================] - 29s 73ms/step - loss: 1.0191e-05 - accuracy: 1.0000 - val_loss: 1.6029 - val_accuracy: 0.8063\n",
            "Epoch 86/100\n",
            "391/391 [==============================] - 29s 73ms/step - loss: 8.1489e-06 - accuracy: 1.0000 - val_loss: 1.6162 - val_accuracy: 0.8067\n",
            "Epoch 87/100\n",
            "391/391 [==============================] - 29s 74ms/step - loss: 6.8821e-06 - accuracy: 1.0000 - val_loss: 1.6277 - val_accuracy: 0.8069\n",
            "Epoch 88/100\n",
            "391/391 [==============================] - 29s 73ms/step - loss: 5.9945e-06 - accuracy: 1.0000 - val_loss: 1.6379 - val_accuracy: 0.8071\n",
            "Epoch 89/100\n",
            "391/391 [==============================] - 29s 73ms/step - loss: 5.3263e-06 - accuracy: 1.0000 - val_loss: 1.6472 - val_accuracy: 0.8072\n",
            "Epoch 90/100\n",
            "391/391 [==============================] - 29s 74ms/step - loss: 4.7991e-06 - accuracy: 1.0000 - val_loss: 1.6558 - val_accuracy: 0.8074\n",
            "Epoch 91/100\n",
            "391/391 [==============================] - 29s 73ms/step - loss: 4.3724e-06 - accuracy: 1.0000 - val_loss: 1.6635 - val_accuracy: 0.8075\n",
            "Epoch 92/100\n",
            "391/391 [==============================] - 29s 73ms/step - loss: 4.0178e-06 - accuracy: 1.0000 - val_loss: 1.6709 - val_accuracy: 0.8079\n",
            "Epoch 93/100\n",
            "391/391 [==============================] - 29s 73ms/step - loss: 3.7180e-06 - accuracy: 1.0000 - val_loss: 1.6777 - val_accuracy: 0.8081\n",
            "Epoch 94/100\n",
            "391/391 [==============================] - 29s 74ms/step - loss: 3.4617e-06 - accuracy: 1.0000 - val_loss: 1.6841 - val_accuracy: 0.8082\n",
            "Epoch 95/100\n",
            "391/391 [==============================] - 29s 74ms/step - loss: 3.2390e-06 - accuracy: 1.0000 - val_loss: 1.6902 - val_accuracy: 0.8082\n",
            "Epoch 96/100\n",
            "391/391 [==============================] - 29s 73ms/step - loss: 3.0446e-06 - accuracy: 1.0000 - val_loss: 1.6959 - val_accuracy: 0.8084\n",
            "Epoch 97/100\n",
            "391/391 [==============================] - 29s 74ms/step - loss: 2.8720e-06 - accuracy: 1.0000 - val_loss: 1.7013 - val_accuracy: 0.8085\n",
            "Epoch 98/100\n",
            "391/391 [==============================] - 29s 73ms/step - loss: 2.7186e-06 - accuracy: 1.0000 - val_loss: 1.7065 - val_accuracy: 0.8085\n",
            "Epoch 99/100\n",
            "391/391 [==============================] - 29s 73ms/step - loss: 2.5804e-06 - accuracy: 1.0000 - val_loss: 1.7114 - val_accuracy: 0.8085\n",
            "Epoch 100/100\n",
            "391/391 [==============================] - 29s 74ms/step - loss: 2.4560e-06 - accuracy: 1.0000 - val_loss: 1.7161 - val_accuracy: 0.8086\n"
          ],
          "name": "stdout"
        }
      ]
    },
    {
      "cell_type": "code",
      "metadata": {
        "id": "SD5WsQC9VfAa",
        "colab": {
          "base_uri": "https://localhost:8080/"
        },
        "outputId": "141c2151-6cd6-42a9-bfb9-4ae260d4ace5"
      },
      "source": [
        "comment = f\"\"\"Batch Size: {batch_size_cifar10}\n",
        "max_step_grad = 1/tf.math.reduce_max(tf.math.abs(grad))\n",
        "velocity initializer: RandomNormal\n",
        "beta = beta_hat*t+1/t+2\"\"\"\n",
        "save_run_info(model_vgg16_cifar10_gravity,\n",
        "              gravity_history,\n",
        "              gravity_opt,\n",
        "              'CIFAR10',\n",
        "              comment=comment)"
      ],
      "execution_count": null,
      "outputs": [
        {
          "output_type": "stream",
          "text": [
            "save_run_info completed\n"
          ],
          "name": "stdout"
        }
      ]
    },
    {
      "cell_type": "code",
      "metadata": {
        "id": "XAHWKEJ1pA65"
      },
      "source": [
        "plot_history(gravity_history)"
      ],
      "execution_count": null,
      "outputs": []
    },
    {
      "cell_type": "markdown",
      "metadata": {
        "id": "l3ibWf2y28wY"
      },
      "source": [
        "### Adam"
      ]
    },
    {
      "cell_type": "code",
      "metadata": {
        "id": "daFMbQaY28wY"
      },
      "source": [
        "model_vgg16_cifar10_adam = get_vgg16_cifar10(drop_out_rate=0, print_summary=False)\n",
        "\n",
        "model_vgg16_cifar10_adam.compile(optimizer=adam_opt,\n",
        "                                 loss=sparse_categorical_cost_from_logits,\n",
        "                                 metrics=['accuracy'])\n",
        "adam_history = model_vgg16_cifar10_adam.fit(x_train_cifar10, y_train_cifar10,\n",
        "                                                  batch_size=batch_size_cifar10,\n",
        "                                                  epochs=epochs_cifar10,\n",
        "                                                  validation_data=(x_test_cifar10, y_test_cifar10))"
      ],
      "execution_count": null,
      "outputs": []
    },
    {
      "cell_type": "code",
      "metadata": {
        "colab": {
          "base_uri": "https://localhost:8080/"
        },
        "id": "lvwAkdcg28wZ",
        "outputId": "615c4048-09d5-41d7-a338-c68727ff1807"
      },
      "source": [
        "comment = f\"\"\"Batch Size: {batch_size_cifar10}\n",
        "max_step_grad = 1/(max_grad-min_grad+self.epsilon)\"\"\"\n",
        "save_run_info(model_vgg16_cifar10_adam,\n",
        "              adam_history,\n",
        "              adam_opt,\n",
        "              'CIFAR10',\n",
        "              comment=comment)"
      ],
      "execution_count": null,
      "outputs": [
        {
          "output_type": "stream",
          "text": [
            "{'name': 'Adam', 'learning_rate': 0.0001, 'decay': 0.0, 'beta_1': 0.9, 'beta_2': 0.999, 'epsilon': 1e-07, 'amsgrad': 0.0}\n"
          ],
          "name": "stdout"
        }
      ]
    },
    {
      "cell_type": "code",
      "metadata": {
        "colab": {
          "base_uri": "https://localhost:8080/",
          "height": 573
        },
        "id": "IqY8xEfi28wZ",
        "outputId": "bc35c46e-9bcb-4547-fae0-7e3a0fab2f7f"
      },
      "source": [
        "plot_history(gravity_history)"
      ],
      "execution_count": null,
      "outputs": [
        {
          "output_type": "display_data",
          "data": {
            "image/png": "[encoded data removed]",
            "text/plain": [
              "<Figure size 432x288 with 1 Axes>"
            ]
          },
          "metadata": {
            "tags": []
          }
        },
        {
          "output_type": "display_data",
          "data": {
            "image/png": "[encoded data removed]",
            "text/plain": [
              "<Figure size 432x288 with 1 Axes>"
            ]
          },
          "metadata": {
            "tags": []
          }
        }
      ]
    },
    {
      "cell_type": "markdown",
      "metadata": {
        "id": "1fzsIQBedqPG"
      },
      "source": [
        "## MNIST - VGG16"
      ]
    },
    {
      "cell_type": "markdown",
      "metadata": {
        "id": "OgzgghMHdqPG"
      },
      "source": [
        "### Hyper Parameters"
      ]
    },
    {
      "cell_type": "code",
      "metadata": {
        "id": "gdtXPSHYdqPG"
      },
      "source": [
        "batch_size_mnist = 128\n",
        "epochs_mnist = 100"
      ],
      "execution_count": null,
      "outputs": []
    },
    {
      "cell_type": "markdown",
      "metadata": {
        "id": "BcfYbb35dqPH"
      },
      "source": [
        "### Gravity"
      ]
    },
    {
      "cell_type": "code",
      "metadata": {
        "id": "L3Cf85GPdqPH"
      },
      "source": [
        "model_vgg16_mnist_gravity = get_vgg16_mnist()\n",
        "\n",
        "model_vgg16_mnist_gravity.compile(optimizer=gravity_opt,\n",
        "                                  loss=sparse_categorical_cost,\n",
        "                                  metrics=['accuracy'])\n",
        "gravity_history = model_vgg16_mnist_gravity.fit(x_train_mnist, y_train_mnist,\n",
        "                                                batch_size=batch_size_mnist,\n",
        "                                                epochs=epochs_mnist,\n",
        "                                                validation_data=(x_test_mnist, y_test_mnist))"
      ],
      "execution_count": null,
      "outputs": []
    },
    {
      "cell_type": "code",
      "metadata": {
        "id": "1xUt9xvndqPI",
        "colab": {
          "base_uri": "https://localhost:8080/"
        },
        "outputId": "a855f0f5-e503-4879-f319-5d79b95b99e0"
      },
      "source": [
        "comment = f\"\"\"Batch Size: {batch_size_mnist}\n",
        "max_step_grad = 1/(max_grad-min_grad+self.epsilon)\n",
        "velocity initializer: RandomNormal\n",
        "beta = beta_hat*t+1/t+2'\"\"\"\n",
        "save_run_info(model_vgg16_mnist_gravity,\n",
        "              gravity_history,\n",
        "              gravity_opt,\n",
        "              'MNIST',\n",
        "              comment=comment)"
      ],
      "execution_count": null,
      "outputs": [
        {
          "output_type": "stream",
          "text": [
            "save_run_info completed\n"
          ],
          "name": "stdout"
        }
      ]
    },
    {
      "cell_type": "code",
      "metadata": {
        "id": "cgVfInMRdqPI"
      },
      "source": [
        "plot_history(gravity_history)"
      ],
      "execution_count": null,
      "outputs": []
    },
    {
      "cell_type": "markdown",
      "metadata": {
        "id": "HLMk7oMBlsfJ"
      },
      "source": [
        "### Adam"
      ]
    },
    {
      "cell_type": "code",
      "metadata": {
        "id": "XdkV_beSlsfK"
      },
      "source": [
        "model_vgg16_mnist_adam = get_vgg16_mnist()\n",
        "\n",
        "model_vgg16_mnist_adam.compile(optimizer=adam_opt,\n",
        "                               loss=sparse_categorical_cost_from_logits,\n",
        "                               metrics=['accuracy'])\n",
        "adam_history = model_vgg16_mnist_adam.fit(x_train_mnist, y_train_mnist,\n",
        "                                          batch_size=batch_size_mnist,\n",
        "                                          epochs=epochs_mnist,\n",
        "                                          validation_data=(x_test_mnist, y_test_mnist))"
      ],
      "execution_count": null,
      "outputs": []
    },
    {
      "cell_type": "code",
      "metadata": {
        "id": "NFpXpKOOlsfM"
      },
      "source": [
        "comment = f\"\"\"Batch Size: {batch_size_mnist}\n",
        "max_step_grad = 1/(max_grad-min_grad+self.epsilon)\"\"\"\n",
        "save_run_info(model_vgg16_mnist_adam,\n",
        "              adam_history,\n",
        "              adam_opt,\n",
        "              'MNIST',\n",
        "              comment=comment)"
      ],
      "execution_count": null,
      "outputs": []
    },
    {
      "cell_type": "code",
      "metadata": {
        "id": "JIlFwP5zlsfM"
      },
      "source": [
        "plot_history(adam_history)"
      ],
      "execution_count": null,
      "outputs": []
    }
  ]
}