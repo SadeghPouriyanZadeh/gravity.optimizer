{
 "cells": [
  {
   "cell_type": "markdown",
   "metadata": {
    "id": "ROo3YHH_377X"
   },
   "source": [
    "# Import Modules"
   ]
  },
  {
   "cell_type": "code",
   "execution_count": 190,
   "metadata": {
    "colab": {
     "base_uri": "https://localhost:8080/"
    },
    "id": "0siAij-6WGyE",
    "outputId": "4fb48279-3744-43bc-ec9e-142a3434c9f0"
   },
   "outputs": [
    {
     "name": "stdout",
     "output_type": "stream",
     "text": [
      "Found GPU at: /device:GPU:0\n"
     ]
    }
   ],
   "source": [
    "%tensorflow_version 2.x\n",
    "import tensorflow as tf\n",
    "import numpy as np\n",
    "from matplotlib import pyplot as plt\n",
    "device_name = tf.test.gpu_device_name()\n",
    "if device_name != '/device:GPU:0':\n",
    "  raise SystemError('GPU device not found')\n",
    "print('Found GPU at: {}'.format(device_name))\n",
    "plt.style.use('dark_background')"
   ]
  },
  {
   "cell_type": "markdown",
   "metadata": {},
   "source": [
    "# Functions Definition"
   ]
  },
  {
   "cell_type": "markdown",
   "metadata": {},
   "source": [
    "## Datasets Tools"
   ]
  },
  {
   "cell_type": "code",
   "execution_count": null,
   "metadata": {},
   "outputs": [],
   "source": [
    "\"\"\"This module contain functions related to retriving datasets information\"\"\"\n",
    "import numpy as np\n",
    "import matplotlib.pyplot as plt\n",
    "\n",
    "\n",
    "def print_dataset_info(name, x_train, y_train, x_test, y_test):\n",
    "    train_samples = x_train.shape[0]\n",
    "    test_samples = x_test.shape[0]\n",
    "    print(f'{name} dataset information:')\n",
    "    print(f'  * Total Train Samples: {train_samples}')\n",
    "    print(f'  * Total Test Samples:  {test_samples}')\n",
    "    print(f'  * Input Shape:  {x_train.shape[1:]}')\n",
    "    print(f'  * Output Shape: {y_train.shape[1:]}')\n",
    "    print(f'Shapes Detail:')\n",
    "    print(f'  * x_train:  {x_train.shape}')\n",
    "    print(f'  * y_train:  {y_train.shape}')\n",
    "    print(f'  * x_test:   {x_test.shape}')\n",
    "    print(f'  * y_test:   {y_test.shape}')\n",
    "\n",
    "\n",
    "def show_random_image(name, x_train, y_train, x_test, y_test):\n",
    "    train_samples = x_train.shape[0]\n",
    "    test_samples = x_test.shape[0]\n",
    "    if x_train.ndim == 4 and x_train.shape[-1] not in (3, 4):\n",
    "        print(f'Invalid image shape {x_train.shape[1:]} for image data')\n",
    "        x_train = x_train.reshape(x_train.shape[:-1])\n",
    "        x_test = x_test.reshape(x_test.shape[:-1])\n",
    "        print(f'Images reshaped to: {x_train.shape[1:]}')\n",
    "    print('Random Train Example: ')\n",
    "    index = np.random.randint(0, train_samples)\n",
    "    plt.imshow(x_train[index, ])\n",
    "    plt.show()\n",
    "    print(f'Label: {y_train[index,]}')\n",
    "    print('Random Test Example: ')\n",
    "    index = np.random.randint(0, test_samples)\n",
    "    plt.imshow(x_test[index, ])\n",
    "    plt.show()\n",
    "    print(f'Label: {y_test[index,]}')\n",
    "\n",
    "\n",
    "def print_cifar10_classes():\n",
    "    num_classes = 10\n",
    "    classes = {\n",
    "        0: 'airplane',\n",
    "        1: 'automobile',\n",
    "        2: 'bird',\n",
    "        3: 'cat',\n",
    "        4: 'deer',\n",
    "        5: 'dog',\n",
    "        6: 'frog',\n",
    "        7: 'horse',\n",
    "        8: 'ship',\n",
    "        9: 'truck'\n",
    "    }\n",
    "    print('CIFAR10 Classes:')\n",
    "    for i in range(num_classes):\n",
    "        print(f'  {i}- {classes[i]}')\n"
   ]
  },
  {
   "cell_type": "markdown",
   "metadata": {},
   "source": [
    "## Train Tools"
   ]
  },
  {
   "cell_type": "code",
   "execution_count": null,
   "metadata": {},
   "outputs": [],
   "source": [
    "\"\"\"This module contain functions needed in saving and visalizing training info\"\"\"\n",
    "import time\n",
    "from zipfile import ZipFile\n",
    "import json\n",
    "import pandas as pd\n",
    "import matplotlib.pyplot as plt\n",
    "\n",
    "\n",
    "def plot_history(history):\n",
    "    # summarize history for accuracy\n",
    "    plt.plot(history.history['accuracy'])\n",
    "    plt.plot(history.history['val_accuracy'])\n",
    "    plt.title('model accuracy')\n",
    "    plt.ylabel('accuracy')\n",
    "    plt.xlabel('epoch')\n",
    "    plt.legend(['train', 'test'], loc='upper left')\n",
    "    plt.show()\n",
    "    # summarize history for loss\n",
    "    plt.plot(history.history['loss'])\n",
    "    plt.plot(history.history['val_loss'])\n",
    "    plt.title('model loss')\n",
    "    plt.ylabel('loss')\n",
    "    plt.xlabel('epoch')\n",
    "    plt.legend(['train', 'test'], loc='upper left')\n",
    "    plt.show()\n",
    "\n",
    "\n",
    "def save_run_info(model, history, optimizer, dataset: str, comment=None):\n",
    "    # Load Data\n",
    "    model_name = model.name\n",
    "    optimizer_name = optimizer.get_config()['name']\n",
    "    model_config = model.get_config()\n",
    "    history_dict = history.history\n",
    "    optimizer_config = optimizer.get_config()\n",
    "\n",
    "    # Serializing\n",
    "    max_acc = round(max(history_dict['accuracy']), 2)\n",
    "    max_val_acc = round(max(history_dict['val_accuracy']), 2)\n",
    "    acc_str = f'{max_val_acc:.2f}{max_acc:.2f}'.replace('.', '')\n",
    "    time_str = time.strftime(\"%Y%m%d_%H%M%S\")\n",
    "    zipfile_name = f'{dataset}_{model_name}_{acc_str}_{optimizer_name}_{time_str}.zip'\n",
    "    history_df = pd.DataFrame(history_dict)\n",
    "    with ZipFile(zipfile_name, mode='w') as zip_file:\n",
    "        zip_file.writestr(f'history.csv', history_df.to_csv(index=False))\n",
    "        zip_file.writestr(f'dataset.txt', dataset)\n",
    "        zip_file.writestr(f'model_config.json',\n",
    "                          json.dumps(model_config, indent=4))\n",
    "        zip_file.writestr(f'optimizer_config.json',\n",
    "                          json.dumps(optimizer_config, indent=4))\n",
    "        if comment:\n",
    "            zip_file.writestr('comment.txt', comment)\n"
   ]
  },
  {
   "cell_type": "markdown",
   "metadata": {
    "id": "pRm4P1XNXzA_"
   },
   "source": [
    "# Optimizers Classes"
   ]
  },
  {
   "cell_type": "code",
   "execution_count": 218,
   "metadata": {
    "id": "kbP6IdVzieJj"
   },
   "outputs": [],
   "source": [
    "class Gravity(tf.keras.optimizers.Optimizer):\n",
    "    def __init__(self, learning_rate, beta=0.9, name=\"Gravity\", **kwargs):\n",
    "        \"\"\"Call super().__init__() and use _set_hyper() to store hyperparameters\"\"\"\n",
    "        super(Gravity, self).__init__(name, **kwargs)\n",
    "        self._set_hyper('learning_rate', kwargs.get('lr', learning_rate))\n",
    "        self._set_hyper('decay', self._initial_decay)\n",
    "        self._set_hyper('beta', beta)\n",
    "        self.epsilon = 1e-7\n",
    "    def _create_slots(self, var_list):\n",
    "        for var in var_list:\n",
    "            self.add_slot(var, \"velocity\")\n",
    "\n",
    "    @tf.function\n",
    "    def _resource_apply_dense(self, grad, var):\n",
    "        # Get Data\n",
    "        var_dtype = var.dtype.base_dtype\n",
    "        lr_t = self._decayed_lr(var_dtype) # handle learning rate decay\n",
    "        beta = self._get_hyper(\"beta\", var_dtype)\n",
    "        velocity = self.get_slot(var, \"velocity\")\n",
    "\n",
    "        # Calculations\n",
    "        max_step_grad = 1/(tf.reduce_max(tf.abs(grad))+self.epsilon)\n",
    "        gradient_term = grad / (1 + (grad/(max_step_grad+self.epsilon))**2)\n",
    "\n",
    "        # update variables\n",
    "        updated_velocity = velocity.assign(beta*velocity + (1-beta)*gradient_term) \n",
    "        updated_var = var.assign(var - lr_t*updated_velocity)       \n",
    "        \n",
    "        updates = [updated_var, updated_velocity]\n",
    "        # return tf.group(*updates)\n",
    "    def _resource_apply_sparse(self, grad, var):\n",
    "        raise NotImplementedError\n",
    "    def get_config(self):\n",
    "        config = super(Gravity, self).get_config()\n",
    "        config.update({\n",
    "            'learning_rate': self._serialize_hyperparameter('learning_rate'),\n",
    "            'decay': self._serialize_hyperparameter('decay'),\n",
    "            'beta': self._serialize_hyperparameter('beta'),\n",
    "            'epsilon': self.epsilon,\n",
    "        })\n",
    "        return config"
   ]
  },
  {
   "cell_type": "code",
   "execution_count": 192,
   "metadata": {
    "id": "Zv6iyw-0Tj12"
   },
   "outputs": [],
   "source": [
    "class Pace(tf.keras.optimizers.Optimizer):\n",
    "    def __init__(self, lr, name=\"AdaptivePace\", **kwargs):\n",
    "        \"\"\"Call super().__init__() and use _set_hyper() to store hyperparameters\"\"\"\n",
    "        super().__init__(name, **kwargs)\n",
    "        self.learning_rate = lr\n",
    "        self.epsilon = 1e-7\n",
    "        self.pace_log = {'min':[], 'max':[], 'mean':[], 'std':[]}\n",
    "    \n",
    "    def _create_slots(self, var_list):\n",
    "        pass\n",
    "\n",
    "    @tf.function\n",
    "    def _resource_apply_dense(self, grad, var):\n",
    "        b = self.learning_rate\n",
    "        a = b*abs(float(tf.math.reduce_std(grad)))\n",
    "        step = -a*tf.math.tanh((b/a)*grad)\n",
    "        updated_var = step + var\n",
    "        var.assign(updated_var)\n",
    "\n",
    "    def _resource_apply_sparse(self, grad, var):\n",
    "        raise NotImplementedError\n",
    "    def get_config(self):\n",
    "        base_config = super().get_config()\n",
    "        return base_config"
   ]
  },
  {
   "cell_type": "markdown",
   "metadata": {
    "id": "1ToKPjvy8QwX"
   },
   "source": [
    "# Datasets"
   ]
  },
  {
   "cell_type": "markdown",
   "metadata": {
    "id": "O_88bwOz4az5"
   },
   "source": [
    "## Dataset Tools"
   ]
  },
  {
   "cell_type": "code",
   "execution_count": 193,
   "metadata": {
    "id": "9TB2R1xbXSS1"
   },
   "outputs": [],
   "source": [
    "tf.keras.backend.set_image_data_format('channels_last')"
   ]
  },
  {
   "cell_type": "markdown",
   "metadata": {
    "id": "MynFjb3Bb2bP"
   },
   "source": [
    "## MNIST"
   ]
  },
  {
   "cell_type": "code",
   "execution_count": 195,
   "metadata": {
    "colab": {
     "base_uri": "https://localhost:8080/",
     "height": 0
    },
    "id": "tfn_ZOlSb2bQ",
    "outputId": "eef7775f-2308-4b9e-dbf6-b0f2aaba9e24"
   },
   "outputs": [
    {
     "name": "stdout",
     "output_type": "stream",
     "text": [
      "MNIST dataset information:\n",
      "  * Total Train Samples: 60000\n",
      "  * Total Test Samples:  10000\n",
      "  * Input Shape:  (28, 28, 1)\n",
      "  * Output Shape: ()\n",
      "Shapes Detail:\n",
      "  * x_train:  (60000, 28, 28, 1)\n",
      "  * y_train:  (60000,)\n",
      "  * x_test:   (10000, 28, 28, 1)\n",
      "  * y_test:   (10000,)\n",
      "Invalid image shape (28, 28, 1) for image data\n",
      "Images reshaped to: (28, 28)\n",
      "Random Train Example: \n"
     ]
    },
    {
     "data": {
      "image/png": "[encoded data removed]",
      "text/plain": [
       "<Figure size 640x480 with 1 Axes>"
      ]
     },
     "metadata": {
      "tags": []
     },
     "output_type": "display_data"
    },
    {
     "name": "stdout",
     "output_type": "stream",
     "text": [
      "Label: 0\n",
      "Random Test Example: \n"
     ]
    },
    {
     "data": {
      "image/png": "[encoded data removed]",
      "text/plain": [
       "<Figure size 640x480 with 1 Axes>"
      ]
     },
     "metadata": {
      "tags": []
     },
     "output_type": "display_data"
    },
    {
     "name": "stdout",
     "output_type": "stream",
     "text": [
      "Label: 8\n"
     ]
    }
   ],
   "source": [
    "(x_train_mnist, y_train_mnist), (x_test_mnist, y_test_mnist) = tf.keras.datasets.mnist.load_data()\n",
    "x_train_mnist = x_train_mnist.reshape((x_train_mnist.shape[0], 28, 28, 1)).astype('float32')\n",
    "x_test_mnist = x_test_mnist.reshape((x_test_mnist.shape[0], 28, 28, 1)).astype('float32')\n",
    "x_train_mnist, x_test_mnist = x_train_mnist / 255.0, x_test_mnist / 255.0\n",
    "input_shape_mnist = x_train_mnist.shape[1:]\n",
    "classes_mnist = 10\n",
    "print_dataset_info('MNIST', x_train_mnist, y_train_mnist, x_test_mnist, y_test_mnist)\n",
    "show_random_image('MNIST', x_train_mnist, y_train_mnist, x_test_mnist, y_test_mnist)"
   ]
  },
  {
   "cell_type": "markdown",
   "metadata": {
    "id": "_40VUUsS92xS"
   },
   "source": [
    "## CIFAR 10"
   ]
  },
  {
   "cell_type": "code",
   "execution_count": 196,
   "metadata": {
    "colab": {
     "base_uri": "https://localhost:8080/",
     "height": 1000
    },
    "id": "zfAVGdvi91_u",
    "outputId": "385694eb-4141-4feb-ce5d-3bce62e43d71"
   },
   "outputs": [
    {
     "name": "stdout",
     "output_type": "stream",
     "text": [
      "CIFAR10 dataset information:\n",
      "  * Total Train Samples: 50000\n",
      "  * Total Test Samples:  10000\n",
      "  * Input Shape:  (32, 32, 3)\n",
      "  * Output Shape: (1,)\n",
      "Shapes Detail:\n",
      "  * x_train:  (50000, 32, 32, 3)\n",
      "  * y_train:  (50000, 1)\n",
      "  * x_test:   (10000, 32, 32, 3)\n",
      "  * y_test:   (10000, 1)\n",
      "CIFAR10 Classes:\n",
      "  0- airplane\n",
      "  1- automobile\n",
      "  2- bird\n",
      "  3- cat\n",
      "  4- deer\n",
      "  5- dog\n",
      "  6- frog\n",
      "  7- horse\n",
      "  8- ship\n",
      "  9- truck\n",
      "Random Train Example: \n"
     ]
    },
    {
     "data": {
      "image/png": "[encoded data removed]",
      "text/plain": [
       "<Figure size 640x480 with 1 Axes>"
      ]
     },
     "metadata": {
      "tags": []
     },
     "output_type": "display_data"
    },
    {
     "name": "stdout",
     "output_type": "stream",
     "text": [
      "Label: [0]\n",
      "Random Test Example: \n"
     ]
    },
    {
     "data": {
      "image/png": "[encoded data removed]",
      "text/plain": [
       "<Figure size 640x480 with 1 Axes>"
      ]
     },
     "metadata": {
      "tags": []
     },
     "output_type": "display_data"
    },
    {
     "name": "stdout",
     "output_type": "stream",
     "text": [
      "Label: [9]\n"
     ]
    }
   ],
   "source": [
    "(x_train_cifar10, y_train_cifar10), (x_test_cifar10, y_test_cifar10) = tf.keras.datasets.cifar10.load_data()\n",
    "x_train_cifar10 = x_train_cifar10.astype('float32')\n",
    "x_test_cifar10 = x_test_cifar10.astype('float32')\n",
    "x_train_cifar10, x_test_cifar10= x_train_cifar10 / 255, x_test_cifar10 / 255\n",
    "input_shape_cifar10 = x_train_cifar10.shape[1:]\n",
    "classes_cifar10 = 10\n",
    "print_dataset_info('CIFAR10', x_train_cifar10, y_train_cifar10, x_test_cifar10, y_test_cifar10)\n",
    "print_cifar10_classes()\n",
    "show_random_image('CIFAR10', x_train_cifar10, y_train_cifar10, x_test_cifar10, y_test_cifar10)\n"
   ]
  },
  {
   "cell_type": "markdown",
   "metadata": {
    "id": "LbJzFr7y4Ff1"
   },
   "source": [
    "# Achitectures"
   ]
  },
  {
   "cell_type": "markdown",
   "metadata": {
    "id": "0F5ZMklR53-5"
   },
   "source": [
    "## VGG16 (CIFAR10)"
   ]
  },
  {
   "cell_type": "code",
   "execution_count": 197,
   "metadata": {
    "id": "YICxNe-x4KEJ"
   },
   "outputs": [],
   "source": [
    "def get_vgg16_cifar10(print_summary=True):\n",
    "    model_vgg16_cifar10 = tf.keras.applications.VGG16(\n",
    "        include_top=True,\n",
    "        weights=None,\n",
    "        input_tensor=None,\n",
    "        input_shape=input_shape_cifar10,\n",
    "        pooling=None,\n",
    "        classes=classes_cifar10,\n",
    "        classifier_activation=None,\n",
    "    )\n",
    "    if print_summary:\n",
    "        model_vgg16_cifar10.summary()\n",
    "    return model_vgg16_cifar10"
   ]
  },
  {
   "cell_type": "markdown",
   "metadata": {
    "id": "mj1fRGlb6V3K"
   },
   "source": [
    "# Optimizers Test"
   ]
  },
  {
   "cell_type": "code",
   "execution_count": 199,
   "metadata": {
    "id": "Zw3g61JYXfAU"
   },
   "outputs": [],
   "source": [
    "sparse_categorical_cost = tf.keras.losses.SparseCategoricalCrossentropy(from_logits=True)"
   ]
  },
  {
   "cell_type": "markdown",
   "metadata": {
    "id": "HJ1zCJXY6wGN"
   },
   "source": [
    "## Optimizers Instantiation"
   ]
  },
  {
   "cell_type": "markdown",
   "metadata": {
    "id": "hUfZ2eoL6_tM"
   },
   "source": [
    "### Adam"
   ]
  },
  {
   "cell_type": "code",
   "execution_count": 200,
   "metadata": {
    "id": "KTg68W5k7uZl"
   },
   "outputs": [],
   "source": [
    "adam_learning_rate = 0.001\n",
    "adam_beta_1 = 0.9\n",
    "adam_beta_2 = 0.999\n",
    "adam_epsilon = 1e-07\n",
    "adam_amsgrad = False\n",
    "\n",
    "adam_opt = tf.keras.optimizers.Adam(\n",
    "    learning_rate=adam_learning_rate,\n",
    "    beta_1=adam_beta_1,\n",
    "    beta_2=adam_beta_2,\n",
    "    epsilon=adam_epsilon,\n",
    "    amsgrad=False,\n",
    "    name=adam_amsgrad\n",
    ")"
   ]
  },
  {
   "cell_type": "markdown",
   "metadata": {
    "id": "qtfu5xCD77mK"
   },
   "source": [
    "### Gravity"
   ]
  },
  {
   "cell_type": "code",
   "execution_count": 219,
   "metadata": {
    "id": "gWlVl-mdTOBl"
   },
   "outputs": [],
   "source": [
    "gravity_learning_rate = 0.01\n",
    "gravity_beta = 0\n",
    "gravity_opt = Gravity(gravity_learning_rate, beta=gravity_beta)"
   ]
  },
  {
   "cell_type": "markdown",
   "metadata": {
    "id": "zMljnhTKYwkb"
   },
   "source": [
    "## CIFAR10 Test"
   ]
  },
  {
   "cell_type": "markdown",
   "metadata": {
    "id": "ZaDtIiLZYW5p"
   },
   "source": [
    "### Hyper Parameters"
   ]
  },
  {
   "cell_type": "code",
   "execution_count": 203,
   "metadata": {
    "id": "1KBggHpNYaRM"
   },
   "outputs": [],
   "source": [
    "batch_size_cifar10 = 128\n",
    "epochs_cifar10 = 250"
   ]
  },
  {
   "cell_type": "markdown",
   "metadata": {
    "id": "qxVyEvWjVGwH"
   },
   "source": [
    "### Adam Test"
   ]
  },
  {
   "cell_type": "code",
   "execution_count": null,
   "metadata": {
    "id": "EsgETLpdVLOD"
   },
   "outputs": [],
   "source": [
    "model_vgg16_cifar10_adam = get_vgg16_cifar10(print_summary=False)\n",
    "\n",
    "model_vgg16_cifar10_adam.compile(optimizer=adam_opt,\n",
    "                                 loss=sparse_categorical_cost,\n",
    "                                 metrics=['accuracy'])\n",
    "adam_history = model_vgg16_cifar10_adam.fit(x_train_cifar10, y_train_cifar10,\n",
    "                                            batch_size=batch_size_cifar10,\n",
    "                                            epochs=epochs_cifar10,\n",
    "                                            validation_data=(x_test_cifar10, y_test_cifar10))"
   ]
  },
  {
   "cell_type": "markdown",
   "metadata": {
    "id": "SgEHZxCQZ0xT"
   },
   "source": [
    "### Gravity Test"
   ]
  },
  {
   "cell_type": "code",
   "execution_count": null,
   "metadata": {
    "id": "DAh3QXwwZ0xU"
   },
   "outputs": [],
   "source": [
    "model_vgg16_cifar10_gravity = get_vgg16_cifar10(print_summary=False)\n",
    "\n",
    "model_vgg16_cifar10_gravity.compile(optimizer=gravity_opt,\n",
    "                                    loss=sparse_categorical_cost,\n",
    "                                    metrics=['accuracy'])\n",
    "gravity_history = model_vgg16_cifar10_gravity.fit(x_train_cifar10, y_train_cifar10,\n",
    "                                                  batch_size=batch_size_cifar10,\n",
    "                                                  epochs=epochs_cifar10,\n",
    "                                                  validation_data=(x_test_cifar10, y_test_cifar10))"
   ]
  },
  {
   "cell_type": "code",
   "execution_count": null,
   "metadata": {
    "id": "SD5WsQC9VfAa"
   },
   "outputs": [],
   "source": [
    "comment = f\"\"\"Batch Size: {batch_size_cifar10}\n",
    "max_step_grad=1/(tf.reduce_max(tf.abs(grad))+self.epsilon)\"\"\"\n",
    "save_run_info(model_vgg16_cifar10_gravity,\n",
    "              gravity_history,\n",
    "              gravity_opt,\n",
    "              'CIFAR10',\n",
    "              comment=comment)"
   ]
  },
  {
   "cell_type": "code",
   "execution_count": 111,
   "metadata": {
    "colab": {
     "base_uri": "https://localhost:8080/",
     "height": 927
    },
    "id": "XAHWKEJ1pA65",
    "outputId": "bace319a-2ff2-4f71-b6ec-ed632f43324a"
   },
   "outputs": [
    {
     "data": {
      "image/png": "[encoded data removed]",
      "text/plain": [
       "<Figure size 640x480 with 1 Axes>"
      ]
     },
     "metadata": {
      "tags": []
     },
     "output_type": "display_data"
    },
    {
     "data": {
      "image/png": "[encoded data removed]",
      "text/plain": [
       "<Figure size 640x480 with 1 Axes>"
      ]
     },
     "metadata": {
      "tags": []
     },
     "output_type": "display_data"
    }
   ],
   "source": [
    "plot_history(gravity_history)"
   ]
  },
  {
   "cell_type": "code",
   "execution_count": null,
   "metadata": {
    "id": "nx1zebgBuDuB"
   },
   "outputs": [],
   "source": []
  }
 ],
 "metadata": {
  "accelerator": "GPU",
  "colab": {
   "collapsed_sections": [
    "O_88bwOz4az5",
    "MynFjb3Bb2bP"
   ],
   "name": "gravity_optimizer_keras_implementation.ipynb",
   "provenance": [],
   "toc_visible": true
  },
  "kernelspec": {
   "display_name": "Python 3",
   "language": "python",
   "name": "python3"
  },
  "language_info": {
   "codemirror_mode": {
    "name": "ipython",
    "version": 3
   },
   "file_extension": ".py",
   "mimetype": "text/x-python",
   "name": "python",
   "nbconvert_exporter": "python",
   "pygments_lexer": "ipython3",
   "version": "3.8.3"
  }
 },
 "nbformat": 4,
 "nbformat_minor": 4
}
