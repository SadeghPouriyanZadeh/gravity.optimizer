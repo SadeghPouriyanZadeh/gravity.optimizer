{
  "nbformat": 4,
  "nbformat_minor": 0,
  "metadata": {
    "accelerator": "GPU",
    "colab": {
      "name": "gravity_optimizer_notebook.ipynb",
      "provenance": [],
      "collapsed_sections": [
        "1ToKPjvy8QwX",
        "MynFjb3Bb2bP",
        "_40VUUsS92xS"
      ],
      "toc_visible": true
    },
    "kernelspec": {
      "display_name": "Python 3",
      "language": "python",
      "name": "python3"
    },
    "language_info": {
      "codemirror_mode": {
        "name": "ipython",
        "version": 3
      },
      "file_extension": ".py",
      "mimetype": "text/x-python",
      "name": "python",
      "nbconvert_exporter": "python",
      "pygments_lexer": "ipython3",
      "version": "3.8.3"
    }
  },
  "cells": [
    {
      "cell_type": "markdown",
      "metadata": {
        "id": "ROo3YHH_377X"
      },
      "source": [
        "# Import Modules"
      ]
    },
    {
      "cell_type": "code",
      "metadata": {
        "colab": {
          "base_uri": "https://localhost:8080/"
        },
        "id": "0siAij-6WGyE",
        "outputId": "9fbfaf88-bd7a-49d8-f9b4-e14a4116dd72"
      },
      "source": [
        "import time\n",
        "from zipfile import ZipFile\n",
        "import json\n",
        "%tensorflow_version 2.x\n",
        "import tensorflow as tf\n",
        "import numpy as np\n",
        "import pandas as pd\n",
        "from matplotlib import pyplot as plt\n",
        "device_name = tf.test.gpu_device_name()\n",
        "if device_name != '/device:GPU:0':\n",
        "  raise SystemError('GPU device not found')\n",
        "print('Found GPU at: {}'.format(device_name))\n",
        "plt.style.use('dark_background')"
      ],
      "execution_count": 1,
      "outputs": [
        {
          "output_type": "stream",
          "text": [
            "Found GPU at: /device:GPU:0\n"
          ],
          "name": "stdout"
        }
      ]
    },
    {
      "cell_type": "markdown",
      "metadata": {
        "id": "m44FoofQTYbf"
      },
      "source": [
        "# Functions Definition"
      ]
    },
    {
      "cell_type": "markdown",
      "metadata": {
        "id": "Q3xejDOoTYbg"
      },
      "source": [
        "## Datasets Tools"
      ]
    },
    {
      "cell_type": "code",
      "metadata": {
        "id": "09z_-wMuTYbg"
      },
      "source": [
        "def print_dataset_info(name, x_train, y_train, x_test, y_test):\n",
        "    train_samples = x_train.shape[0]\n",
        "    test_samples = x_test.shape[0]\n",
        "    print(f'{name} dataset information:')\n",
        "    print(f'  * Total Train Samples: {train_samples}')\n",
        "    print(f'  * Total Test Samples:  {test_samples}')\n",
        "    print(f'  * Input Shape:  {x_train.shape[1:]}')\n",
        "    print(f'  * Output Shape: {y_train.shape[1:]}')\n",
        "    print(f'Shapes Detail:')\n",
        "    print(f'  * x_train:  {x_train.shape}')\n",
        "    print(f'  * y_train:  {y_train.shape}')\n",
        "    print(f'  * x_test:   {x_test.shape}')\n",
        "    print(f'  * y_test:   {y_test.shape}')\n",
        "\n",
        "\n",
        "def show_random_image(name, x_train, y_train, x_test, y_test):\n",
        "    train_samples = x_train.shape[0]\n",
        "    test_samples = x_test.shape[0]\n",
        "    if x_train.ndim == 4 and x_train.shape[-1] not in (3, 4):\n",
        "        print(f'Invalid image shape {x_train.shape[1:]} for image data')\n",
        "        x_train = x_train.reshape(x_train.shape[:-1])\n",
        "        x_test = x_test.reshape(x_test.shape[:-1])\n",
        "        print(f'Images reshaped to: {x_train.shape[1:]}')\n",
        "    print('Random Train Example: ')\n",
        "    index = np.random.randint(0, train_samples)\n",
        "    plt.imshow(x_train[index, ])\n",
        "    plt.show()\n",
        "    print(f'Label: {y_train[index,]}')\n",
        "    print('Random Test Example: ')\n",
        "    index = np.random.randint(0, test_samples)\n",
        "    plt.imshow(x_test[index, ])\n",
        "    plt.show()\n",
        "    print(f'Label: {y_test[index,]}')\n",
        "\n",
        "\n",
        "def print_cifar10_classes():\n",
        "    num_classes = 10\n",
        "    classes = {\n",
        "        0: 'airplane',\n",
        "        1: 'automobile',\n",
        "        2: 'bird',\n",
        "        3: 'cat',\n",
        "        4: 'deer',\n",
        "        5: 'dog',\n",
        "        6: 'frog',\n",
        "        7: 'horse',\n",
        "        8: 'ship',\n",
        "        9: 'truck'\n",
        "    }\n",
        "    print('CIFAR10 Classes:')\n",
        "    for i in range(num_classes):\n",
        "        print(f'  {i}- {classes[i]}')\n"
      ],
      "execution_count": 2,
      "outputs": []
    },
    {
      "cell_type": "markdown",
      "metadata": {
        "id": "eiTSDUsVTYbg"
      },
      "source": [
        "## Train Tools"
      ]
    },
    {
      "cell_type": "code",
      "metadata": {
        "id": "czJn7lwSTYbg"
      },
      "source": [
        "def plot_history(history):\n",
        "    # summarize history for accuracy\n",
        "    plt.plot(history.history['accuracy'])\n",
        "    plt.plot(history.history['val_accuracy'])\n",
        "    plt.title('model accuracy')\n",
        "    plt.ylabel('accuracy')\n",
        "    plt.xlabel('epoch')\n",
        "    plt.legend(['train', 'test'], loc='upper left')\n",
        "    plt.show()\n",
        "    # summarize history for loss\n",
        "    plt.plot(history.history['loss'])\n",
        "    plt.plot(history.history['val_loss'])\n",
        "    plt.title('model loss')\n",
        "    plt.ylabel('loss')\n",
        "    plt.xlabel('epoch')\n",
        "    plt.legend(['train', 'test'], loc='upper left')\n",
        "    plt.show()\n",
        "\n",
        "\n",
        "def save_run_info(model, history, optimizer, dataset: str, comment=None):\n",
        "    # Load Data\n",
        "    model_name = model.name\n",
        "    optimizer_name = optimizer.get_config()['name']\n",
        "    model_config = model.to_json()\n",
        "    history_dict = {}\n",
        "    epochs = len(history.history['loss'])\n",
        "    history_dict['epochs'] = list(range(1, epochs+1))\n",
        "    history_dict.update(history.history)\n",
        "    optimizer_config = optimizer.get_config()\n",
        "    for i in optimizer_config:\n",
        "        if type(optimizer_config[i]) not in (str, float) :\n",
        "            optimizer_config[i] = round(float(optimizer_config[i]), 4)\n",
        "    print(optimizer_config)     \n",
        "    # Serializing\n",
        "    max_acc = round(max(history_dict['accuracy']), 2)\n",
        "    max_val_acc = round(max(history_dict['val_accuracy']), 2)\n",
        "    acc_str = f'{max_val_acc:.2f}{max_acc:.2f}'.replace('.', '')\n",
        "    time_str = time.strftime(\"%Y%m%d_%H%M%S\")\n",
        "    zipfile_name = f'{dataset}_{model_name}_{acc_str}_{optimizer_name}_{time_str}.zip'\n",
        "    history_df = pd.DataFrame(history_dict)\n",
        "    with ZipFile(zipfile_name, mode='w') as zip_file:\n",
        "        zip_file.writestr(f'history.csv', history_df.to_csv(index=False))\n",
        "        zip_file.writestr(f'dataset.txt', dataset)\n",
        "        zip_file.writestr(f'model_config.json',\n",
        "                          json.dumps(model_config, indent=4))\n",
        "        zip_file.writestr(f'optimizer_config.json',\n",
        "                          json.dumps(optimizer_config, indent=4))\n",
        "        if comment:\n",
        "            zip_file.writestr('comment.txt', comment)\n"
      ],
      "execution_count": 15,
      "outputs": []
    },
    {
      "cell_type": "markdown",
      "metadata": {
        "id": "pRm4P1XNXzA_"
      },
      "source": [
        "# Optimizers Classes"
      ]
    },
    {
      "cell_type": "code",
      "metadata": {
        "id": "kbP6IdVzieJj"
      },
      "source": [
        "class Gravity(tf.keras.optimizers.Optimizer):\n",
        "    def __init__(self, learning_rate, beta=0.9, name=\"Gravity\", **kwargs):\n",
        "        super(Gravity, self).__init__(name, **kwargs)\n",
        "        self._set_hyper('learning_rate', kwargs.get('lr', learning_rate))\n",
        "        self._set_hyper('decay', self._initial_decay)\n",
        "        self._set_hyper('beta', beta)\n",
        "        self.epsilon = 1e-7\n",
        "    def _create_slots(self, var_list):\n",
        "        for var in var_list:\n",
        "            self.add_slot(var, \"velocity\")\n",
        "\n",
        "    @tf.function\n",
        "    def _resource_apply_dense(self, grad, var):\n",
        "        # Get Data\n",
        "        var_dtype = var.dtype.base_dtype\n",
        "        lr_t = self._decayed_lr(var_dtype) # handle learning rate decay\n",
        "        beta = self._get_hyper(\"beta\", var_dtype)\n",
        "        velocity = self.get_slot(var, \"velocity\")\n",
        "\n",
        "        # Calculations\n",
        "        max_step_grad = 1/(tf.reduce_max(tf.abs(grad))+self.epsilon)\n",
        "        gradient_term = grad / (1 + (grad/(max_step_grad+self.epsilon))**2)\n",
        "\n",
        "        # update variables\n",
        "        updated_velocity = velocity.assign(beta*velocity + (1-beta)*gradient_term) \n",
        "        updated_var = var.assign(var - lr_t*updated_velocity)       \n",
        "        \n",
        "        updates = [updated_var, updated_velocity]\n",
        "        # return tf.group(*updates)\n",
        "    def _resource_apply_sparse(self, grad, var):\n",
        "        raise NotImplementedError\n",
        "    def get_config(self):\n",
        "        config = super(Gravity, self).get_config()\n",
        "        config.update({\n",
        "            'learning_rate': self._serialize_hyperparameter('learning_rate'),\n",
        "            'decay': self._serialize_hyperparameter('decay'),\n",
        "            'beta': self._serialize_hyperparameter('beta'),\n",
        "            'epsilon': self.epsilon,\n",
        "        })\n",
        "        return config"
      ],
      "execution_count": 4,
      "outputs": []
    },
    {
      "cell_type": "code",
      "metadata": {
        "id": "o9BjBdJSGVr8"
      },
      "source": [
        "class TestOpt(tf.keras.optimizers.Optimizer):\n",
        "    def __init__(self, learning_rate, beta=0.9, name=\"Gravity\", **kwargs):\n",
        "        super(TestOpt, self).__init__(name, **kwargs)\n",
        "        self._set_hyper('learning_rate', kwargs.get('lr', learning_rate))\n",
        "        self._set_hyper('decay', self._initial_decay)\n",
        "        self._set_hyper('beta', beta)\n",
        "        self.epsilon = 1e-7\n",
        "    def _create_slots(self, var_list):\n",
        "        for var in var_list:\n",
        "            self.add_slot(var, \"velocity\")\n",
        "\n",
        "    @tf.function\n",
        "    def _resource_apply_dense(self, grad, var):\n",
        "        # Get Data\n",
        "        var_dtype = var.dtype.base_dtype\n",
        "        lr_t = self._decayed_lr(var_dtype) # handle learning rate decay\n",
        "        beta = self._get_hyper(\"beta\", var_dtype)\n",
        "        velocity = self.get_slot(var, \"velocity\")\n",
        "\n",
        "        # Calculations\n",
        "        m = 1 # Gradient at which the learning rate is half of the max\n",
        "        gradient_term = (grad*((grad/(m+self.epsilon))**2)+0.001) / (1 + (grad/(m+self.epsilon))**2)\n",
        "\n",
        "        # update variables\n",
        "        updated_velocity = velocity.assign(beta*velocity + (1-beta)*gradient_term) \n",
        "        updated_var = var.assign(var - lr_t*updated_velocity)       \n",
        "        \n",
        "        updates = [updated_var, updated_velocity]\n",
        "        # return tf.group(*updates)\n",
        "    def _resource_apply_sparse(self, grad, var):\n",
        "        raise NotImplementedError\n",
        "    def get_config(self):\n",
        "        config = super(TestOpt, self).get_config()\n",
        "        config.update({\n",
        "            'learning_rate': self._serialize_hyperparameter('learning_rate'),\n",
        "            'decay': self._serialize_hyperparameter('decay'),\n",
        "            'beta': self._serialize_hyperparameter('beta'),\n",
        "            'epsilon': self.epsilon,\n",
        "        })\n",
        "        return config"
      ],
      "execution_count": 5,
      "outputs": []
    },
    {
      "cell_type": "code",
      "metadata": {
        "id": "Zv6iyw-0Tj12"
      },
      "source": [
        "class Pace(tf.keras.optimizers.Optimizer):\n",
        "    def __init__(self, lr, name=\"AdaptivePace\", **kwargs):\n",
        "        super().__init__(name, **kwargs)\n",
        "        self.learning_rate = lr\n",
        "        self.epsilon = 1e-7\n",
        "        self.pace_log = {'min':[], 'max':[], 'mean':[], 'std':[]}\n",
        "    \n",
        "    def _create_slots(self, var_list):\n",
        "        pass\n",
        "\n",
        "    @tf.function\n",
        "    def _resource_apply_dense(self, grad, var):\n",
        "        b = self.learning_rate\n",
        "        a = b*abs(float(tf.math.reduce_std(grad)))\n",
        "        step = -a*tf.math.tanh((b/a)*grad)\n",
        "        updated_var = step + var\n",
        "        var.assign(updated_var)\n",
        "\n",
        "    def _resource_apply_sparse(self, grad, var):\n",
        "        raise NotImplementedError\n",
        "    def get_config(self):\n",
        "        base_config = super().get_config()\n",
        "        return base_config"
      ],
      "execution_count": 6,
      "outputs": []
    },
    {
      "cell_type": "markdown",
      "metadata": {
        "id": "1ToKPjvy8QwX"
      },
      "source": [
        "# Datasets"
      ]
    },
    {
      "cell_type": "code",
      "metadata": {
        "id": "9TB2R1xbXSS1"
      },
      "source": [
        "tf.keras.backend.set_image_data_format('channels_last')"
      ],
      "execution_count": 7,
      "outputs": []
    },
    {
      "cell_type": "markdown",
      "metadata": {
        "id": "MynFjb3Bb2bP"
      },
      "source": [
        "## MNIST"
      ]
    },
    {
      "cell_type": "code",
      "metadata": {
        "colab": {
          "base_uri": "https://localhost:8080/",
          "height": 0
        },
        "id": "tfn_ZOlSb2bQ",
        "outputId": "90f6710b-ce34-4022-dd5c-4412c2498a2d"
      },
      "source": [
        "(x_train_mnist, y_train_mnist), (x_test_mnist, y_test_mnist) = tf.keras.datasets.mnist.load_data()\n",
        "x_train_mnist = x_train_mnist.reshape((x_train_mnist.shape[0], 28, 28, 1)).astype('float32')\n",
        "x_test_mnist = x_test_mnist.reshape((x_test_mnist.shape[0], 28, 28, 1)).astype('float32')\n",
        "x_train_mnist, x_test_mnist = x_train_mnist / 255.0, x_test_mnist / 255.0\n",
        "input_shape_mnist = x_train_mnist.shape[1:]\n",
        "classes_mnist = 10\n",
        "print_dataset_info('MNIST', x_train_mnist, y_train_mnist, x_test_mnist, y_test_mnist)\n",
        "show_random_image('MNIST', x_train_mnist, y_train_mnist, x_test_mnist, y_test_mnist)"
      ],
      "execution_count": 8,
      "outputs": [
        {
          "output_type": "stream",
          "text": [
            "Downloading data from https://storage.googleapis.com/tensorflow/tf-keras-datasets/mnist.npz\n",
            "11493376/11490434 [==============================] - 0s 0us/step\n",
            "MNIST dataset information:\n",
            "  * Total Train Samples: 60000\n",
            "  * Total Test Samples:  10000\n",
            "  * Input Shape:  (28, 28, 1)\n",
            "  * Output Shape: ()\n",
            "Shapes Detail:\n",
            "  * x_train:  (60000, 28, 28, 1)\n",
            "  * y_train:  (60000,)\n",
            "  * x_test:   (10000, 28, 28, 1)\n",
            "  * y_test:   (10000,)\n",
            "Invalid image shape (28, 28, 1) for image data\n",
            "Images reshaped to: (28, 28)\n",
            "Random Train Example: \n"
          ],
          "name": "stdout"
        },
        {
          "output_type": "display_data",
          "data": {
            "image/png": "[encoded data removed]",
            "text/plain": [
              "<Figure size 432x288 with 1 Axes>"
            ]
          },
          "metadata": {
            "tags": [],
            "needs_background": "dark"
          }
        },
        {
          "output_type": "stream",
          "text": [
            "Label: 5\n",
            "Random Test Example: \n"
          ],
          "name": "stdout"
        },
        {
          "output_type": "display_data",
          "data": {
            "image/png": "[encoded data removed]",
            "text/plain": [
              "<Figure size 432x288 with 1 Axes>"
            ]
          },
          "metadata": {
            "tags": [],
            "needs_background": "dark"
          }
        },
        {
          "output_type": "stream",
          "text": [
            "Label: 2\n"
          ],
          "name": "stdout"
        }
      ]
    },
    {
      "cell_type": "markdown",
      "metadata": {
        "id": "_40VUUsS92xS"
      },
      "source": [
        "## CIFAR 10"
      ]
    },
    {
      "cell_type": "code",
      "metadata": {
        "colab": {
          "base_uri": "https://localhost:8080/",
          "height": 0
        },
        "id": "zfAVGdvi91_u",
        "outputId": "73fc60c6-d3b0-4a95-913c-c86226ad540c"
      },
      "source": [
        "(x_train_cifar10, y_train_cifar10), (x_test_cifar10, y_test_cifar10) = tf.keras.datasets.cifar10.load_data()\n",
        "x_train_cifar10 = x_train_cifar10.astype('float32')\n",
        "x_test_cifar10 = x_test_cifar10.astype('float32')\n",
        "x_train_cifar10, x_test_cifar10= x_train_cifar10 / 255, x_test_cifar10 / 255\n",
        "input_shape_cifar10 = x_train_cifar10.shape[1:]\n",
        "classes_cifar10 = 10\n",
        "print_dataset_info('CIFAR10', x_train_cifar10, y_train_cifar10, x_test_cifar10, y_test_cifar10)\n",
        "print_cifar10_classes()\n",
        "show_random_image('CIFAR10', x_train_cifar10, y_train_cifar10, x_test_cifar10, y_test_cifar10)\n"
      ],
      "execution_count": 9,
      "outputs": [
        {
          "output_type": "stream",
          "text": [
            "Downloading data from https://www.cs.toronto.edu/~kriz/cifar-10-python.tar.gz\n",
            "170500096/170498071 [==============================] - 2s 0us/step\n",
            "CIFAR10 dataset information:\n",
            "  * Total Train Samples: 50000\n",
            "  * Total Test Samples:  10000\n",
            "  * Input Shape:  (32, 32, 3)\n",
            "  * Output Shape: (1,)\n",
            "Shapes Detail:\n",
            "  * x_train:  (50000, 32, 32, 3)\n",
            "  * y_train:  (50000, 1)\n",
            "  * x_test:   (10000, 32, 32, 3)\n",
            "  * y_test:   (10000, 1)\n",
            "CIFAR10 Classes:\n",
            "  0- airplane\n",
            "  1- automobile\n",
            "  2- bird\n",
            "  3- cat\n",
            "  4- deer\n",
            "  5- dog\n",
            "  6- frog\n",
            "  7- horse\n",
            "  8- ship\n",
            "  9- truck\n",
            "Random Train Example: \n"
          ],
          "name": "stdout"
        },
        {
          "output_type": "display_data",
          "data": {
            "image/png": "[encoded data removed]",
            "text/plain": [
              "<Figure size 432x288 with 1 Axes>"
            ]
          },
          "metadata": {
            "tags": [],
            "needs_background": "dark"
          }
        },
        {
          "output_type": "stream",
          "text": [
            "Label: [7]\n",
            "Random Test Example: \n"
          ],
          "name": "stdout"
        },
        {
          "output_type": "display_data",
          "data": {
            "image/png": "[encoded data removed]",
            "text/plain": [
              "<Figure size 432x288 with 1 Axes>"
            ]
          },
          "metadata": {
            "tags": [],
            "needs_background": "dark"
          }
        },
        {
          "output_type": "stream",
          "text": [
            "Label: [3]\n"
          ],
          "name": "stdout"
        }
      ]
    },
    {
      "cell_type": "markdown",
      "metadata": {
        "id": "LbJzFr7y4Ff1"
      },
      "source": [
        "# Achitectures"
      ]
    },
    {
      "cell_type": "markdown",
      "metadata": {
        "id": "0F5ZMklR53-5"
      },
      "source": [
        "## VGG16 (CIFAR10)"
      ]
    },
    {
      "cell_type": "code",
      "metadata": {
        "id": "YICxNe-x4KEJ"
      },
      "source": [
        "def get_vgg16_cifar10(print_summary=True):\n",
        "    model_vgg16_cifar10 = tf.keras.applications.VGG16(\n",
        "        include_top=True,\n",
        "        weights=None,\n",
        "        input_tensor=None,\n",
        "        input_shape=input_shape_cifar10,\n",
        "        pooling=None,\n",
        "        classes=classes_cifar10,\n",
        "        classifier_activation=None,\n",
        "    )\n",
        "    if print_summary:\n",
        "        model_vgg16_cifar10.summary()\n",
        "    return model_vgg16_cifar10"
      ],
      "execution_count": 10,
      "outputs": []
    },
    {
      "cell_type": "markdown",
      "metadata": {
        "id": "mj1fRGlb6V3K"
      },
      "source": [
        "# Optimizers Test"
      ]
    },
    {
      "cell_type": "code",
      "metadata": {
        "id": "Zw3g61JYXfAU"
      },
      "source": [
        "sparse_categorical_cost = tf.keras.losses.SparseCategoricalCrossentropy(from_logits=True)"
      ],
      "execution_count": 11,
      "outputs": []
    },
    {
      "cell_type": "markdown",
      "metadata": {
        "id": "HJ1zCJXY6wGN"
      },
      "source": [
        "## Optimizers Instantiation"
      ]
    },
    {
      "cell_type": "markdown",
      "metadata": {
        "id": "hUfZ2eoL6_tM"
      },
      "source": [
        "### Adam"
      ]
    },
    {
      "cell_type": "code",
      "metadata": {
        "id": "KTg68W5k7uZl"
      },
      "source": [
        "adam_learning_rate = 0.1\n",
        "adam_beta_1 = 0.9\n",
        "adam_beta_2 = 0.999\n",
        "adam_epsilon = 1e-07\n",
        "adam_amsgrad = False\n",
        "\n",
        "adam_opt = tf.keras.optimizers.Adam(\n",
        "    learning_rate=adam_learning_rate,\n",
        "    beta_1=adam_beta_1,\n",
        "    beta_2=adam_beta_2,\n",
        "    epsilon=adam_epsilon,\n",
        "    amsgrad=adam_amsgrad\n",
        ")"
      ],
      "execution_count": 12,
      "outputs": []
    },
    {
      "cell_type": "markdown",
      "metadata": {
        "id": "qtfu5xCD77mK"
      },
      "source": [
        "### Gravity"
      ]
    },
    {
      "cell_type": "code",
      "metadata": {
        "id": "gWlVl-mdTOBl"
      },
      "source": [
        "gravity_learning_rate = 0.1\n",
        "gravity_beta = 0.999\n",
        "gravity_opt = Gravity(gravity_learning_rate, beta=gravity_beta)"
      ],
      "execution_count": 22,
      "outputs": []
    },
    {
      "cell_type": "markdown",
      "metadata": {
        "id": "IX0nRtc6G8aL"
      },
      "source": [
        "### Test Opt"
      ]
    },
    {
      "cell_type": "code",
      "metadata": {
        "id": "21bY0iV6HDW3"
      },
      "source": [
        "test_lr = 0.01\n",
        "test_beta = 0\n",
        "test_opt = TestOpt(test_lr, beta=test_beta)"
      ],
      "execution_count": null,
      "outputs": []
    },
    {
      "cell_type": "markdown",
      "metadata": {
        "id": "zMljnhTKYwkb"
      },
      "source": [
        "## CIFAR10 Test"
      ]
    },
    {
      "cell_type": "markdown",
      "metadata": {
        "id": "ZaDtIiLZYW5p"
      },
      "source": [
        "### Hyper Parameters"
      ]
    },
    {
      "cell_type": "code",
      "metadata": {
        "id": "1KBggHpNYaRM"
      },
      "source": [
        "batch_size_cifar10 = 128\n",
        "epochs_cifar10 = 100"
      ],
      "execution_count": 17,
      "outputs": []
    },
    {
      "cell_type": "markdown",
      "metadata": {
        "id": "qxVyEvWjVGwH"
      },
      "source": [
        "### Adam Test"
      ]
    },
    {
      "cell_type": "code",
      "metadata": {
        "id": "EsgETLpdVLOD",
        "colab": {
          "base_uri": "https://localhost:8080/",
          "height": 717
        },
        "outputId": "d4940188-7cbb-4e6f-c438-00186ff85632"
      },
      "source": [
        "model_vgg16_cifar10_adam = get_vgg16_cifar10(print_summary=False)\n",
        "\n",
        "model_vgg16_cifar10_adam.compile(optimizer=adam_opt,\n",
        "                                 loss=sparse_categorical_cost,\n",
        "                                 metrics=['accuracy'])\n",
        "adam_history = model_vgg16_cifar10_adam.fit(x_train_cifar10, y_train_cifar10,\n",
        "                                            batch_size=batch_size_cifar10,\n",
        "                                            epochs=epochs_cifar10,\n",
        "                                            validation_data=(x_test_cifar10, y_test_cifar10))"
      ],
      "execution_count": null,
      "outputs": [
        {
          "output_type": "stream",
          "text": [
            "Epoch 1/100\n",
            "  2/391 [..............................] - ETA: 25s - loss: 6132320960512.0000 - accuracy: 0.0977WARNING:tensorflow:Callbacks method `on_train_batch_end` is slow compared to the batch time (batch time: 0.0486s vs `on_train_batch_end` time: 0.0836s). Check your callbacks.\n",
            "391/391 [==============================] - 52s 133ms/step - loss: 21385292283904.0000 - accuracy: 0.0996 - val_loss: 2.3033 - val_accuracy: 0.1000\n",
            "Epoch 2/100\n",
            "391/391 [==============================] - 50s 128ms/step - loss: 2.3048 - accuracy: 0.1009 - val_loss: 2.3037 - val_accuracy: 0.1000\n",
            "Epoch 3/100\n",
            "391/391 [==============================] - 50s 128ms/step - loss: 2.3053 - accuracy: 0.0996 - val_loss: 2.3054 - val_accuracy: 0.1000\n",
            "Epoch 4/100\n",
            "391/391 [==============================] - 50s 127ms/step - loss: 2.3064 - accuracy: 0.0989 - val_loss: 2.3073 - val_accuracy: 0.1000\n",
            "Epoch 5/100\n",
            "391/391 [==============================] - 50s 127ms/step - loss: 2.3066 - accuracy: 0.0999 - val_loss: 2.3055 - val_accuracy: 0.1000\n",
            "Epoch 6/100\n",
            "391/391 [==============================] - 50s 127ms/step - loss: 2.3068 - accuracy: 0.1017 - val_loss: 2.3078 - val_accuracy: 0.1000\n",
            "Epoch 7/100\n",
            "391/391 [==============================] - 50s 127ms/step - loss: 2.3079 - accuracy: 0.0975 - val_loss: 2.3056 - val_accuracy: 0.1000\n",
            "Epoch 8/100\n",
            "391/391 [==============================] - 50s 127ms/step - loss: 2.3080 - accuracy: 0.1009 - val_loss: 2.3044 - val_accuracy: 0.1000\n",
            "Epoch 9/100\n",
            "391/391 [==============================] - 50s 128ms/step - loss: 2.3091 - accuracy: 0.0981 - val_loss: 2.3069 - val_accuracy: 0.1000\n",
            "Epoch 10/100\n",
            " 86/391 [=====>........................] - ETA: 36s - loss: 2.3092 - accuracy: 0.0964"
          ],
          "name": "stdout"
        },
        {
          "output_type": "error",
          "ename": "KeyboardInterrupt",
          "evalue": "ignored",
          "traceback": [
            "\u001b[0;31m---------------------------------------------------------------------------\u001b[0m",
            "\u001b[0;31mKeyboardInterrupt\u001b[0m                         Traceback (most recent call last)",
            "\u001b[0;32m<ipython-input-27-44fd37411c2e>\u001b[0m in \u001b[0;36m<module>\u001b[0;34m()\u001b[0m\n\u001b[1;32m      7\u001b[0m                                             \u001b[0mbatch_size\u001b[0m\u001b[0;34m=\u001b[0m\u001b[0mbatch_size_cifar10\u001b[0m\u001b[0;34m,\u001b[0m\u001b[0;34m\u001b[0m\u001b[0;34m\u001b[0m\u001b[0m\n\u001b[1;32m      8\u001b[0m                                             \u001b[0mepochs\u001b[0m\u001b[0;34m=\u001b[0m\u001b[0mepochs_cifar10\u001b[0m\u001b[0;34m,\u001b[0m\u001b[0;34m\u001b[0m\u001b[0;34m\u001b[0m\u001b[0m\n\u001b[0;32m----> 9\u001b[0;31m                                             validation_data=(x_test_cifar10, y_test_cifar10))\n\u001b[0m",
            "\u001b[0;32m/usr/local/lib/python3.6/dist-packages/tensorflow/python/keras/engine/training.py\u001b[0m in \u001b[0;36m_method_wrapper\u001b[0;34m(self, *args, **kwargs)\u001b[0m\n\u001b[1;32m    106\u001b[0m   \u001b[0;32mdef\u001b[0m \u001b[0m_method_wrapper\u001b[0m\u001b[0;34m(\u001b[0m\u001b[0mself\u001b[0m\u001b[0;34m,\u001b[0m \u001b[0;34m*\u001b[0m\u001b[0margs\u001b[0m\u001b[0;34m,\u001b[0m \u001b[0;34m**\u001b[0m\u001b[0mkwargs\u001b[0m\u001b[0;34m)\u001b[0m\u001b[0;34m:\u001b[0m\u001b[0;34m\u001b[0m\u001b[0;34m\u001b[0m\u001b[0m\n\u001b[1;32m    107\u001b[0m     \u001b[0;32mif\u001b[0m \u001b[0;32mnot\u001b[0m \u001b[0mself\u001b[0m\u001b[0;34m.\u001b[0m\u001b[0m_in_multi_worker_mode\u001b[0m\u001b[0;34m(\u001b[0m\u001b[0;34m)\u001b[0m\u001b[0;34m:\u001b[0m  \u001b[0;31m# pylint: disable=protected-access\u001b[0m\u001b[0;34m\u001b[0m\u001b[0;34m\u001b[0m\u001b[0m\n\u001b[0;32m--> 108\u001b[0;31m       \u001b[0;32mreturn\u001b[0m \u001b[0mmethod\u001b[0m\u001b[0;34m(\u001b[0m\u001b[0mself\u001b[0m\u001b[0;34m,\u001b[0m \u001b[0;34m*\u001b[0m\u001b[0margs\u001b[0m\u001b[0;34m,\u001b[0m \u001b[0;34m**\u001b[0m\u001b[0mkwargs\u001b[0m\u001b[0;34m)\u001b[0m\u001b[0;34m\u001b[0m\u001b[0;34m\u001b[0m\u001b[0m\n\u001b[0m\u001b[1;32m    109\u001b[0m \u001b[0;34m\u001b[0m\u001b[0m\n\u001b[1;32m    110\u001b[0m     \u001b[0;31m# Running inside `run_distribute_coordinator` already.\u001b[0m\u001b[0;34m\u001b[0m\u001b[0;34m\u001b[0m\u001b[0;34m\u001b[0m\u001b[0m\n",
            "\u001b[0;32m/usr/local/lib/python3.6/dist-packages/tensorflow/python/keras/engine/training.py\u001b[0m in \u001b[0;36mfit\u001b[0;34m(self, x, y, batch_size, epochs, verbose, callbacks, validation_split, validation_data, shuffle, class_weight, sample_weight, initial_epoch, steps_per_epoch, validation_steps, validation_batch_size, validation_freq, max_queue_size, workers, use_multiprocessing)\u001b[0m\n\u001b[1;32m   1101\u001b[0m               \u001b[0mlogs\u001b[0m \u001b[0;34m=\u001b[0m \u001b[0mtmp_logs\u001b[0m  \u001b[0;31m# No error, now safe to assign to logs.\u001b[0m\u001b[0;34m\u001b[0m\u001b[0;34m\u001b[0m\u001b[0m\n\u001b[1;32m   1102\u001b[0m               \u001b[0mend_step\u001b[0m \u001b[0;34m=\u001b[0m \u001b[0mstep\u001b[0m \u001b[0;34m+\u001b[0m \u001b[0mdata_handler\u001b[0m\u001b[0;34m.\u001b[0m\u001b[0mstep_increment\u001b[0m\u001b[0;34m\u001b[0m\u001b[0;34m\u001b[0m\u001b[0m\n\u001b[0;32m-> 1103\u001b[0;31m               \u001b[0mcallbacks\u001b[0m\u001b[0;34m.\u001b[0m\u001b[0mon_train_batch_end\u001b[0m\u001b[0;34m(\u001b[0m\u001b[0mend_step\u001b[0m\u001b[0;34m,\u001b[0m \u001b[0mlogs\u001b[0m\u001b[0;34m)\u001b[0m\u001b[0;34m\u001b[0m\u001b[0;34m\u001b[0m\u001b[0m\n\u001b[0m\u001b[1;32m   1104\u001b[0m         \u001b[0mepoch_logs\u001b[0m \u001b[0;34m=\u001b[0m \u001b[0mcopy\u001b[0m\u001b[0;34m.\u001b[0m\u001b[0mcopy\u001b[0m\u001b[0;34m(\u001b[0m\u001b[0mlogs\u001b[0m\u001b[0;34m)\u001b[0m\u001b[0;34m\u001b[0m\u001b[0;34m\u001b[0m\u001b[0m\n\u001b[1;32m   1105\u001b[0m \u001b[0;34m\u001b[0m\u001b[0m\n",
            "\u001b[0;32m/usr/local/lib/python3.6/dist-packages/tensorflow/python/keras/callbacks.py\u001b[0m in \u001b[0;36mon_train_batch_end\u001b[0;34m(self, batch, logs)\u001b[0m\n\u001b[1;32m    438\u001b[0m     \"\"\"\n\u001b[1;32m    439\u001b[0m     \u001b[0;32mif\u001b[0m \u001b[0mself\u001b[0m\u001b[0;34m.\u001b[0m\u001b[0m_should_call_train_batch_hooks\u001b[0m\u001b[0;34m:\u001b[0m\u001b[0;34m\u001b[0m\u001b[0;34m\u001b[0m\u001b[0m\n\u001b[0;32m--> 440\u001b[0;31m       \u001b[0mself\u001b[0m\u001b[0;34m.\u001b[0m\u001b[0m_call_batch_hook\u001b[0m\u001b[0;34m(\u001b[0m\u001b[0mModeKeys\u001b[0m\u001b[0;34m.\u001b[0m\u001b[0mTRAIN\u001b[0m\u001b[0;34m,\u001b[0m \u001b[0;34m'end'\u001b[0m\u001b[0;34m,\u001b[0m \u001b[0mbatch\u001b[0m\u001b[0;34m,\u001b[0m \u001b[0mlogs\u001b[0m\u001b[0;34m=\u001b[0m\u001b[0mlogs\u001b[0m\u001b[0;34m)\u001b[0m\u001b[0;34m\u001b[0m\u001b[0;34m\u001b[0m\u001b[0m\n\u001b[0m\u001b[1;32m    441\u001b[0m \u001b[0;34m\u001b[0m\u001b[0m\n\u001b[1;32m    442\u001b[0m   \u001b[0;32mdef\u001b[0m \u001b[0mon_test_batch_begin\u001b[0m\u001b[0;34m(\u001b[0m\u001b[0mself\u001b[0m\u001b[0;34m,\u001b[0m \u001b[0mbatch\u001b[0m\u001b[0;34m,\u001b[0m \u001b[0mlogs\u001b[0m\u001b[0;34m=\u001b[0m\u001b[0;32mNone\u001b[0m\u001b[0;34m)\u001b[0m\u001b[0;34m:\u001b[0m\u001b[0;34m\u001b[0m\u001b[0;34m\u001b[0m\u001b[0m\n",
            "\u001b[0;32m/usr/local/lib/python3.6/dist-packages/tensorflow/python/keras/callbacks.py\u001b[0m in \u001b[0;36m_call_batch_hook\u001b[0;34m(self, mode, hook, batch, logs)\u001b[0m\n\u001b[1;32m    287\u001b[0m       \u001b[0mself\u001b[0m\u001b[0;34m.\u001b[0m\u001b[0m_call_batch_begin_hook\u001b[0m\u001b[0;34m(\u001b[0m\u001b[0mmode\u001b[0m\u001b[0;34m,\u001b[0m \u001b[0mbatch\u001b[0m\u001b[0;34m,\u001b[0m \u001b[0mlogs\u001b[0m\u001b[0;34m)\u001b[0m\u001b[0;34m\u001b[0m\u001b[0;34m\u001b[0m\u001b[0m\n\u001b[1;32m    288\u001b[0m     \u001b[0;32melif\u001b[0m \u001b[0mhook\u001b[0m \u001b[0;34m==\u001b[0m \u001b[0;34m'end'\u001b[0m\u001b[0;34m:\u001b[0m\u001b[0;34m\u001b[0m\u001b[0;34m\u001b[0m\u001b[0m\n\u001b[0;32m--> 289\u001b[0;31m       \u001b[0mself\u001b[0m\u001b[0;34m.\u001b[0m\u001b[0m_call_batch_end_hook\u001b[0m\u001b[0;34m(\u001b[0m\u001b[0mmode\u001b[0m\u001b[0;34m,\u001b[0m \u001b[0mbatch\u001b[0m\u001b[0;34m,\u001b[0m \u001b[0mlogs\u001b[0m\u001b[0;34m)\u001b[0m\u001b[0;34m\u001b[0m\u001b[0;34m\u001b[0m\u001b[0m\n\u001b[0m\u001b[1;32m    290\u001b[0m     \u001b[0;32melse\u001b[0m\u001b[0;34m:\u001b[0m\u001b[0;34m\u001b[0m\u001b[0;34m\u001b[0m\u001b[0m\n\u001b[1;32m    291\u001b[0m       \u001b[0;32mraise\u001b[0m \u001b[0mValueError\u001b[0m\u001b[0;34m(\u001b[0m\u001b[0;34m'Unrecognized hook: {}'\u001b[0m\u001b[0;34m.\u001b[0m\u001b[0mformat\u001b[0m\u001b[0;34m(\u001b[0m\u001b[0mhook\u001b[0m\u001b[0;34m)\u001b[0m\u001b[0;34m)\u001b[0m\u001b[0;34m\u001b[0m\u001b[0;34m\u001b[0m\u001b[0m\n",
            "\u001b[0;32m/usr/local/lib/python3.6/dist-packages/tensorflow/python/keras/callbacks.py\u001b[0m in \u001b[0;36m_call_batch_end_hook\u001b[0;34m(self, mode, batch, logs)\u001b[0m\n\u001b[1;32m    307\u001b[0m       \u001b[0mbatch_time\u001b[0m \u001b[0;34m=\u001b[0m \u001b[0mtime\u001b[0m\u001b[0;34m.\u001b[0m\u001b[0mtime\u001b[0m\u001b[0;34m(\u001b[0m\u001b[0;34m)\u001b[0m \u001b[0;34m-\u001b[0m \u001b[0mself\u001b[0m\u001b[0;34m.\u001b[0m\u001b[0m_batch_start_time\u001b[0m\u001b[0;34m\u001b[0m\u001b[0;34m\u001b[0m\u001b[0m\n\u001b[1;32m    308\u001b[0m \u001b[0;34m\u001b[0m\u001b[0m\n\u001b[0;32m--> 309\u001b[0;31m     \u001b[0mself\u001b[0m\u001b[0;34m.\u001b[0m\u001b[0m_call_batch_hook_helper\u001b[0m\u001b[0;34m(\u001b[0m\u001b[0mhook_name\u001b[0m\u001b[0;34m,\u001b[0m \u001b[0mbatch\u001b[0m\u001b[0;34m,\u001b[0m \u001b[0mlogs\u001b[0m\u001b[0;34m)\u001b[0m\u001b[0;34m\u001b[0m\u001b[0;34m\u001b[0m\u001b[0m\n\u001b[0m\u001b[1;32m    310\u001b[0m \u001b[0;34m\u001b[0m\u001b[0m\n\u001b[1;32m    311\u001b[0m     \u001b[0;32mif\u001b[0m \u001b[0mself\u001b[0m\u001b[0;34m.\u001b[0m\u001b[0m_check_timing\u001b[0m\u001b[0;34m:\u001b[0m\u001b[0;34m\u001b[0m\u001b[0;34m\u001b[0m\u001b[0m\n",
            "\u001b[0;32m/usr/local/lib/python3.6/dist-packages/tensorflow/python/keras/callbacks.py\u001b[0m in \u001b[0;36m_call_batch_hook_helper\u001b[0;34m(self, hook_name, batch, logs)\u001b[0m\n\u001b[1;32m    340\u001b[0m       \u001b[0mhook\u001b[0m \u001b[0;34m=\u001b[0m \u001b[0mgetattr\u001b[0m\u001b[0;34m(\u001b[0m\u001b[0mcallback\u001b[0m\u001b[0;34m,\u001b[0m \u001b[0mhook_name\u001b[0m\u001b[0;34m)\u001b[0m\u001b[0;34m\u001b[0m\u001b[0;34m\u001b[0m\u001b[0m\n\u001b[1;32m    341\u001b[0m       \u001b[0;32mif\u001b[0m \u001b[0mgetattr\u001b[0m\u001b[0;34m(\u001b[0m\u001b[0mcallback\u001b[0m\u001b[0;34m,\u001b[0m \u001b[0;34m'_supports_tf_logs'\u001b[0m\u001b[0;34m,\u001b[0m \u001b[0;32mFalse\u001b[0m\u001b[0;34m)\u001b[0m\u001b[0;34m:\u001b[0m\u001b[0;34m\u001b[0m\u001b[0;34m\u001b[0m\u001b[0m\n\u001b[0;32m--> 342\u001b[0;31m         \u001b[0mhook\u001b[0m\u001b[0;34m(\u001b[0m\u001b[0mbatch\u001b[0m\u001b[0;34m,\u001b[0m \u001b[0mlogs\u001b[0m\u001b[0;34m)\u001b[0m\u001b[0;34m\u001b[0m\u001b[0;34m\u001b[0m\u001b[0m\n\u001b[0m\u001b[1;32m    343\u001b[0m       \u001b[0;32melse\u001b[0m\u001b[0;34m:\u001b[0m\u001b[0;34m\u001b[0m\u001b[0;34m\u001b[0m\u001b[0m\n\u001b[1;32m    344\u001b[0m         \u001b[0;32mif\u001b[0m \u001b[0mnumpy_logs\u001b[0m \u001b[0;32mis\u001b[0m \u001b[0;32mNone\u001b[0m\u001b[0;34m:\u001b[0m  \u001b[0;31m# Only convert once.\u001b[0m\u001b[0;34m\u001b[0m\u001b[0;34m\u001b[0m\u001b[0m\n",
            "\u001b[0;32m/usr/local/lib/python3.6/dist-packages/tensorflow/python/keras/callbacks.py\u001b[0m in \u001b[0;36mon_train_batch_end\u001b[0;34m(self, batch, logs)\u001b[0m\n\u001b[1;32m    959\u001b[0m \u001b[0;34m\u001b[0m\u001b[0m\n\u001b[1;32m    960\u001b[0m   \u001b[0;32mdef\u001b[0m \u001b[0mon_train_batch_end\u001b[0m\u001b[0;34m(\u001b[0m\u001b[0mself\u001b[0m\u001b[0;34m,\u001b[0m \u001b[0mbatch\u001b[0m\u001b[0;34m,\u001b[0m \u001b[0mlogs\u001b[0m\u001b[0;34m=\u001b[0m\u001b[0;32mNone\u001b[0m\u001b[0;34m)\u001b[0m\u001b[0;34m:\u001b[0m\u001b[0;34m\u001b[0m\u001b[0;34m\u001b[0m\u001b[0m\n\u001b[0;32m--> 961\u001b[0;31m     \u001b[0mself\u001b[0m\u001b[0;34m.\u001b[0m\u001b[0m_batch_update_progbar\u001b[0m\u001b[0;34m(\u001b[0m\u001b[0mbatch\u001b[0m\u001b[0;34m,\u001b[0m \u001b[0mlogs\u001b[0m\u001b[0;34m)\u001b[0m\u001b[0;34m\u001b[0m\u001b[0;34m\u001b[0m\u001b[0m\n\u001b[0m\u001b[1;32m    962\u001b[0m \u001b[0;34m\u001b[0m\u001b[0m\n\u001b[1;32m    963\u001b[0m   \u001b[0;32mdef\u001b[0m \u001b[0mon_test_batch_end\u001b[0m\u001b[0;34m(\u001b[0m\u001b[0mself\u001b[0m\u001b[0;34m,\u001b[0m \u001b[0mbatch\u001b[0m\u001b[0;34m,\u001b[0m \u001b[0mlogs\u001b[0m\u001b[0;34m=\u001b[0m\u001b[0;32mNone\u001b[0m\u001b[0;34m)\u001b[0m\u001b[0;34m:\u001b[0m\u001b[0;34m\u001b[0m\u001b[0;34m\u001b[0m\u001b[0m\n",
            "\u001b[0;32m/usr/local/lib/python3.6/dist-packages/tensorflow/python/keras/callbacks.py\u001b[0m in \u001b[0;36m_batch_update_progbar\u001b[0;34m(self, batch, logs)\u001b[0m\n\u001b[1;32m   1014\u001b[0m     \u001b[0;32mif\u001b[0m \u001b[0mself\u001b[0m\u001b[0;34m.\u001b[0m\u001b[0mverbose\u001b[0m \u001b[0;34m==\u001b[0m \u001b[0;36m1\u001b[0m\u001b[0;34m:\u001b[0m\u001b[0;34m\u001b[0m\u001b[0;34m\u001b[0m\u001b[0m\n\u001b[1;32m   1015\u001b[0m       \u001b[0;31m# Only block async when verbose = 1.\u001b[0m\u001b[0;34m\u001b[0m\u001b[0;34m\u001b[0m\u001b[0;34m\u001b[0m\u001b[0m\n\u001b[0;32m-> 1016\u001b[0;31m       \u001b[0mlogs\u001b[0m \u001b[0;34m=\u001b[0m \u001b[0mtf_utils\u001b[0m\u001b[0;34m.\u001b[0m\u001b[0mto_numpy_or_python_type\u001b[0m\u001b[0;34m(\u001b[0m\u001b[0mlogs\u001b[0m\u001b[0;34m)\u001b[0m\u001b[0;34m\u001b[0m\u001b[0;34m\u001b[0m\u001b[0m\n\u001b[0m\u001b[1;32m   1017\u001b[0m       \u001b[0mself\u001b[0m\u001b[0;34m.\u001b[0m\u001b[0mprogbar\u001b[0m\u001b[0;34m.\u001b[0m\u001b[0mupdate\u001b[0m\u001b[0;34m(\u001b[0m\u001b[0mself\u001b[0m\u001b[0;34m.\u001b[0m\u001b[0mseen\u001b[0m\u001b[0;34m,\u001b[0m \u001b[0mlist\u001b[0m\u001b[0;34m(\u001b[0m\u001b[0mlogs\u001b[0m\u001b[0;34m.\u001b[0m\u001b[0mitems\u001b[0m\u001b[0;34m(\u001b[0m\u001b[0;34m)\u001b[0m\u001b[0;34m)\u001b[0m\u001b[0;34m,\u001b[0m \u001b[0mfinalize\u001b[0m\u001b[0;34m=\u001b[0m\u001b[0;32mFalse\u001b[0m\u001b[0;34m)\u001b[0m\u001b[0;34m\u001b[0m\u001b[0;34m\u001b[0m\u001b[0m\n\u001b[1;32m   1018\u001b[0m \u001b[0;34m\u001b[0m\u001b[0m\n",
            "\u001b[0;32m/usr/local/lib/python3.6/dist-packages/tensorflow/python/keras/utils/tf_utils.py\u001b[0m in \u001b[0;36mto_numpy_or_python_type\u001b[0;34m(tensors)\u001b[0m\n\u001b[1;32m    535\u001b[0m     \u001b[0;32mreturn\u001b[0m \u001b[0mt\u001b[0m  \u001b[0;31m# Don't turn ragged or sparse tensors to NumPy.\u001b[0m\u001b[0;34m\u001b[0m\u001b[0;34m\u001b[0m\u001b[0m\n\u001b[1;32m    536\u001b[0m \u001b[0;34m\u001b[0m\u001b[0m\n\u001b[0;32m--> 537\u001b[0;31m   \u001b[0;32mreturn\u001b[0m \u001b[0mnest\u001b[0m\u001b[0;34m.\u001b[0m\u001b[0mmap_structure\u001b[0m\u001b[0;34m(\u001b[0m\u001b[0m_to_single_numpy_or_python_type\u001b[0m\u001b[0;34m,\u001b[0m \u001b[0mtensors\u001b[0m\u001b[0;34m)\u001b[0m\u001b[0;34m\u001b[0m\u001b[0;34m\u001b[0m\u001b[0m\n\u001b[0m\u001b[1;32m    538\u001b[0m \u001b[0;34m\u001b[0m\u001b[0m\n\u001b[1;32m    539\u001b[0m \u001b[0;34m\u001b[0m\u001b[0m\n",
            "\u001b[0;32m/usr/local/lib/python3.6/dist-packages/tensorflow/python/util/nest.py\u001b[0m in \u001b[0;36mmap_structure\u001b[0;34m(func, *structure, **kwargs)\u001b[0m\n\u001b[1;32m    633\u001b[0m \u001b[0;34m\u001b[0m\u001b[0m\n\u001b[1;32m    634\u001b[0m   return pack_sequence_as(\n\u001b[0;32m--> 635\u001b[0;31m       \u001b[0mstructure\u001b[0m\u001b[0;34m[\u001b[0m\u001b[0;36m0\u001b[0m\u001b[0;34m]\u001b[0m\u001b[0;34m,\u001b[0m \u001b[0;34m[\u001b[0m\u001b[0mfunc\u001b[0m\u001b[0;34m(\u001b[0m\u001b[0;34m*\u001b[0m\u001b[0mx\u001b[0m\u001b[0;34m)\u001b[0m \u001b[0;32mfor\u001b[0m \u001b[0mx\u001b[0m \u001b[0;32min\u001b[0m \u001b[0mentries\u001b[0m\u001b[0;34m]\u001b[0m\u001b[0;34m,\u001b[0m\u001b[0;34m\u001b[0m\u001b[0;34m\u001b[0m\u001b[0m\n\u001b[0m\u001b[1;32m    636\u001b[0m       expand_composites=expand_composites)\n\u001b[1;32m    637\u001b[0m \u001b[0;34m\u001b[0m\u001b[0m\n",
            "\u001b[0;32m/usr/local/lib/python3.6/dist-packages/tensorflow/python/util/nest.py\u001b[0m in \u001b[0;36m<listcomp>\u001b[0;34m(.0)\u001b[0m\n\u001b[1;32m    633\u001b[0m \u001b[0;34m\u001b[0m\u001b[0m\n\u001b[1;32m    634\u001b[0m   return pack_sequence_as(\n\u001b[0;32m--> 635\u001b[0;31m       \u001b[0mstructure\u001b[0m\u001b[0;34m[\u001b[0m\u001b[0;36m0\u001b[0m\u001b[0;34m]\u001b[0m\u001b[0;34m,\u001b[0m \u001b[0;34m[\u001b[0m\u001b[0mfunc\u001b[0m\u001b[0;34m(\u001b[0m\u001b[0;34m*\u001b[0m\u001b[0mx\u001b[0m\u001b[0;34m)\u001b[0m \u001b[0;32mfor\u001b[0m \u001b[0mx\u001b[0m \u001b[0;32min\u001b[0m \u001b[0mentries\u001b[0m\u001b[0;34m]\u001b[0m\u001b[0;34m,\u001b[0m\u001b[0;34m\u001b[0m\u001b[0;34m\u001b[0m\u001b[0m\n\u001b[0m\u001b[1;32m    636\u001b[0m       expand_composites=expand_composites)\n\u001b[1;32m    637\u001b[0m \u001b[0;34m\u001b[0m\u001b[0m\n",
            "\u001b[0;32m/usr/local/lib/python3.6/dist-packages/tensorflow/python/keras/utils/tf_utils.py\u001b[0m in \u001b[0;36m_to_single_numpy_or_python_type\u001b[0;34m(t)\u001b[0m\n\u001b[1;32m    531\u001b[0m   \u001b[0;32mdef\u001b[0m \u001b[0m_to_single_numpy_or_python_type\u001b[0m\u001b[0;34m(\u001b[0m\u001b[0mt\u001b[0m\u001b[0;34m)\u001b[0m\u001b[0;34m:\u001b[0m\u001b[0;34m\u001b[0m\u001b[0;34m\u001b[0m\u001b[0m\n\u001b[1;32m    532\u001b[0m     \u001b[0;32mif\u001b[0m \u001b[0misinstance\u001b[0m\u001b[0;34m(\u001b[0m\u001b[0mt\u001b[0m\u001b[0;34m,\u001b[0m \u001b[0mops\u001b[0m\u001b[0;34m.\u001b[0m\u001b[0mTensor\u001b[0m\u001b[0;34m)\u001b[0m\u001b[0;34m:\u001b[0m\u001b[0;34m\u001b[0m\u001b[0;34m\u001b[0m\u001b[0m\n\u001b[0;32m--> 533\u001b[0;31m       \u001b[0mx\u001b[0m \u001b[0;34m=\u001b[0m \u001b[0mt\u001b[0m\u001b[0;34m.\u001b[0m\u001b[0mnumpy\u001b[0m\u001b[0;34m(\u001b[0m\u001b[0;34m)\u001b[0m\u001b[0;34m\u001b[0m\u001b[0;34m\u001b[0m\u001b[0m\n\u001b[0m\u001b[1;32m    534\u001b[0m       \u001b[0;32mreturn\u001b[0m \u001b[0mx\u001b[0m\u001b[0;34m.\u001b[0m\u001b[0mitem\u001b[0m\u001b[0;34m(\u001b[0m\u001b[0;34m)\u001b[0m \u001b[0;32mif\u001b[0m \u001b[0mnp\u001b[0m\u001b[0;34m.\u001b[0m\u001b[0mndim\u001b[0m\u001b[0;34m(\u001b[0m\u001b[0mx\u001b[0m\u001b[0;34m)\u001b[0m \u001b[0;34m==\u001b[0m \u001b[0;36m0\u001b[0m \u001b[0;32melse\u001b[0m \u001b[0mx\u001b[0m\u001b[0;34m\u001b[0m\u001b[0;34m\u001b[0m\u001b[0m\n\u001b[1;32m    535\u001b[0m     \u001b[0;32mreturn\u001b[0m \u001b[0mt\u001b[0m  \u001b[0;31m# Don't turn ragged or sparse tensors to NumPy.\u001b[0m\u001b[0;34m\u001b[0m\u001b[0;34m\u001b[0m\u001b[0m\n",
            "\u001b[0;32m/usr/local/lib/python3.6/dist-packages/tensorflow/python/framework/ops.py\u001b[0m in \u001b[0;36mnumpy\u001b[0;34m(self)\u001b[0m\n\u001b[1;32m   1061\u001b[0m     \"\"\"\n\u001b[1;32m   1062\u001b[0m     \u001b[0;31m# TODO(slebedev): Consider avoiding a copy for non-CPU or remote tensors.\u001b[0m\u001b[0;34m\u001b[0m\u001b[0;34m\u001b[0m\u001b[0;34m\u001b[0m\u001b[0m\n\u001b[0;32m-> 1063\u001b[0;31m     \u001b[0mmaybe_arr\u001b[0m \u001b[0;34m=\u001b[0m \u001b[0mself\u001b[0m\u001b[0;34m.\u001b[0m\u001b[0m_numpy\u001b[0m\u001b[0;34m(\u001b[0m\u001b[0;34m)\u001b[0m  \u001b[0;31m# pylint: disable=protected-access\u001b[0m\u001b[0;34m\u001b[0m\u001b[0;34m\u001b[0m\u001b[0m\n\u001b[0m\u001b[1;32m   1064\u001b[0m     \u001b[0;32mreturn\u001b[0m \u001b[0mmaybe_arr\u001b[0m\u001b[0;34m.\u001b[0m\u001b[0mcopy\u001b[0m\u001b[0;34m(\u001b[0m\u001b[0;34m)\u001b[0m \u001b[0;32mif\u001b[0m \u001b[0misinstance\u001b[0m\u001b[0;34m(\u001b[0m\u001b[0mmaybe_arr\u001b[0m\u001b[0;34m,\u001b[0m \u001b[0mnp\u001b[0m\u001b[0;34m.\u001b[0m\u001b[0mndarray\u001b[0m\u001b[0;34m)\u001b[0m \u001b[0;32melse\u001b[0m \u001b[0mmaybe_arr\u001b[0m\u001b[0;34m\u001b[0m\u001b[0;34m\u001b[0m\u001b[0m\n\u001b[1;32m   1065\u001b[0m \u001b[0;34m\u001b[0m\u001b[0m\n",
            "\u001b[0;32m/usr/local/lib/python3.6/dist-packages/tensorflow/python/framework/ops.py\u001b[0m in \u001b[0;36m_numpy\u001b[0;34m(self)\u001b[0m\n\u001b[1;32m   1027\u001b[0m   \u001b[0;32mdef\u001b[0m \u001b[0m_numpy\u001b[0m\u001b[0;34m(\u001b[0m\u001b[0mself\u001b[0m\u001b[0;34m)\u001b[0m\u001b[0;34m:\u001b[0m\u001b[0;34m\u001b[0m\u001b[0;34m\u001b[0m\u001b[0m\n\u001b[1;32m   1028\u001b[0m     \u001b[0;32mtry\u001b[0m\u001b[0;34m:\u001b[0m\u001b[0;34m\u001b[0m\u001b[0;34m\u001b[0m\u001b[0m\n\u001b[0;32m-> 1029\u001b[0;31m       \u001b[0;32mreturn\u001b[0m \u001b[0mself\u001b[0m\u001b[0;34m.\u001b[0m\u001b[0m_numpy_internal\u001b[0m\u001b[0;34m(\u001b[0m\u001b[0;34m)\u001b[0m\u001b[0;34m\u001b[0m\u001b[0;34m\u001b[0m\u001b[0m\n\u001b[0m\u001b[1;32m   1030\u001b[0m     \u001b[0;32mexcept\u001b[0m \u001b[0mcore\u001b[0m\u001b[0;34m.\u001b[0m\u001b[0m_NotOkStatusException\u001b[0m \u001b[0;32mas\u001b[0m \u001b[0me\u001b[0m\u001b[0;34m:\u001b[0m  \u001b[0;31m# pylint: disable=protected-access\u001b[0m\u001b[0;34m\u001b[0m\u001b[0;34m\u001b[0m\u001b[0m\n\u001b[1;32m   1031\u001b[0m       \u001b[0msix\u001b[0m\u001b[0;34m.\u001b[0m\u001b[0mraise_from\u001b[0m\u001b[0;34m(\u001b[0m\u001b[0mcore\u001b[0m\u001b[0;34m.\u001b[0m\u001b[0m_status_to_exception\u001b[0m\u001b[0;34m(\u001b[0m\u001b[0me\u001b[0m\u001b[0;34m.\u001b[0m\u001b[0mcode\u001b[0m\u001b[0;34m,\u001b[0m \u001b[0me\u001b[0m\u001b[0;34m.\u001b[0m\u001b[0mmessage\u001b[0m\u001b[0;34m)\u001b[0m\u001b[0;34m,\u001b[0m \u001b[0;32mNone\u001b[0m\u001b[0;34m)\u001b[0m  \u001b[0;31m# pylint: disable=protected-access\u001b[0m\u001b[0;34m\u001b[0m\u001b[0;34m\u001b[0m\u001b[0m\n",
            "\u001b[0;31mKeyboardInterrupt\u001b[0m: "
          ]
        }
      ]
    },
    {
      "cell_type": "markdown",
      "metadata": {
        "id": "SgEHZxCQZ0xT"
      },
      "source": [
        "### Gravity Test"
      ]
    },
    {
      "cell_type": "code",
      "metadata": {
        "id": "DAh3QXwwZ0xU",
        "colab": {
          "base_uri": "https://localhost:8080/"
        },
        "outputId": "98ac18ea-9452-4eab-d523-7f04c259a40e"
      },
      "source": [
        "model_vgg16_cifar10_gravity = get_vgg16_cifar10(print_summary=False)\n",
        "\n",
        "model_vgg16_cifar10_gravity.compile(optimizer=gravity_opt,\n",
        "                                    loss=sparse_categorical_cost,\n",
        "                                    metrics=['accuracy'])\n",
        "gravity_history = model_vgg16_cifar10_gravity.fit(x_train_cifar10, y_train_cifar10,\n",
        "                                                  batch_size=batch_size_cifar10,\n",
        "                                                  epochs=epochs_cifar10,\n",
        "                                                  validation_data=(x_test_cifar10, y_test_cifar10))"
      ],
      "execution_count": 23,
      "outputs": [
        {
          "output_type": "stream",
          "text": [
            "Epoch 1/100\n",
            "  2/391 [..............................] - ETA: 32s - loss: 2.3026 - accuracy: 0.0938WARNING:tensorflow:Callbacks method `on_train_batch_end` is slow compared to the batch time (batch time: 0.0298s vs `on_train_batch_end` time: 0.0689s). Check your callbacks.\n",
            "391/391 [==============================] - 28s 72ms/step - loss: 2.3026 - accuracy: 0.0989 - val_loss: 2.3025 - val_accuracy: 0.1000\n",
            "Epoch 2/100\n",
            "391/391 [==============================] - 29s 74ms/step - loss: 2.3026 - accuracy: 0.0999 - val_loss: 2.3024 - val_accuracy: 0.1000\n",
            "Epoch 3/100\n",
            "391/391 [==============================] - 29s 73ms/step - loss: 2.3023 - accuracy: 0.1155 - val_loss: 2.3020 - val_accuracy: 0.1325\n",
            "Epoch 4/100\n",
            "391/391 [==============================] - 29s 73ms/step - loss: 2.3014 - accuracy: 0.1185 - val_loss: 2.2999 - val_accuracy: 0.1216\n",
            "Epoch 5/100\n",
            "391/391 [==============================] - 29s 73ms/step - loss: 2.2928 - accuracy: 0.1556 - val_loss: 2.2734 - val_accuracy: 0.1666\n",
            "Epoch 6/100\n",
            "391/391 [==============================] - 29s 73ms/step - loss: 2.1917 - accuracy: 0.1726 - val_loss: 2.1405 - val_accuracy: 0.1897\n",
            "Epoch 7/100\n",
            "391/391 [==============================] - 29s 73ms/step - loss: 2.1119 - accuracy: 0.1975 - val_loss: 2.0925 - val_accuracy: 0.2213\n",
            "Epoch 8/100\n",
            "391/391 [==============================] - 29s 73ms/step - loss: 2.0394 - accuracy: 0.2372 - val_loss: 1.9993 - val_accuracy: 0.2564\n",
            "Epoch 9/100\n",
            "391/391 [==============================] - 29s 73ms/step - loss: 1.9948 - accuracy: 0.2488 - val_loss: 1.9393 - val_accuracy: 0.2714\n",
            "Epoch 10/100\n",
            "391/391 [==============================] - 29s 73ms/step - loss: 1.9296 - accuracy: 0.2675 - val_loss: 1.9021 - val_accuracy: 0.2867\n",
            "Epoch 11/100\n",
            "391/391 [==============================] - 29s 73ms/step - loss: 1.8726 - accuracy: 0.2683 - val_loss: 1.8087 - val_accuracy: 0.2903\n",
            "Epoch 12/100\n",
            "391/391 [==============================] - 29s 73ms/step - loss: 1.7926 - accuracy: 0.3058 - val_loss: 1.7354 - val_accuracy: 0.3178\n",
            "Epoch 13/100\n",
            "391/391 [==============================] - 29s 73ms/step - loss: 1.6998 - accuracy: 0.3460 - val_loss: 1.6382 - val_accuracy: 0.3646\n",
            "Epoch 14/100\n",
            "391/391 [==============================] - 29s 73ms/step - loss: 1.6396 - accuracy: 0.3785 - val_loss: 1.6000 - val_accuracy: 0.3970\n",
            "Epoch 15/100\n",
            "391/391 [==============================] - 29s 73ms/step - loss: 1.5943 - accuracy: 0.3971 - val_loss: 1.5794 - val_accuracy: 0.4059\n",
            "Epoch 16/100\n",
            "391/391 [==============================] - 29s 73ms/step - loss: 1.5393 - accuracy: 0.4229 - val_loss: 1.5089 - val_accuracy: 0.4322\n",
            "Epoch 17/100\n",
            "391/391 [==============================] - 29s 73ms/step - loss: 1.4611 - accuracy: 0.4549 - val_loss: 1.4529 - val_accuracy: 0.4578\n",
            "Epoch 18/100\n",
            "391/391 [==============================] - 29s 73ms/step - loss: 1.4168 - accuracy: 0.4745 - val_loss: 1.4130 - val_accuracy: 0.4798\n",
            "Epoch 19/100\n",
            "391/391 [==============================] - 29s 73ms/step - loss: 1.3650 - accuracy: 0.4934 - val_loss: 1.3892 - val_accuracy: 0.4948\n",
            "Epoch 20/100\n",
            "391/391 [==============================] - 29s 73ms/step - loss: 1.2749 - accuracy: 0.5332 - val_loss: 1.2543 - val_accuracy: 0.5413\n",
            "Epoch 21/100\n",
            "391/391 [==============================] - 29s 73ms/step - loss: 1.2035 - accuracy: 0.5613 - val_loss: 1.2124 - val_accuracy: 0.5592\n",
            "Epoch 22/100\n",
            "391/391 [==============================] - 29s 73ms/step - loss: 1.1136 - accuracy: 0.5947 - val_loss: 1.1574 - val_accuracy: 0.5813\n",
            "Epoch 23/100\n",
            "391/391 [==============================] - 29s 73ms/step - loss: 1.0150 - accuracy: 0.6328 - val_loss: 1.1073 - val_accuracy: 0.6097\n",
            "Epoch 24/100\n",
            "391/391 [==============================] - 29s 73ms/step - loss: 0.9395 - accuracy: 0.6623 - val_loss: 1.0505 - val_accuracy: 0.6271\n",
            "Epoch 25/100\n",
            "391/391 [==============================] - 29s 73ms/step - loss: 0.8362 - accuracy: 0.6988 - val_loss: 0.9877 - val_accuracy: 0.6544\n",
            "Epoch 26/100\n",
            "391/391 [==============================] - 29s 73ms/step - loss: 0.7414 - accuracy: 0.7358 - val_loss: 0.9832 - val_accuracy: 0.6686\n",
            "Epoch 27/100\n",
            "391/391 [==============================] - 29s 73ms/step - loss: 0.6486 - accuracy: 0.7716 - val_loss: 0.9815 - val_accuracy: 0.6780\n",
            "Epoch 28/100\n",
            "391/391 [==============================] - 29s 73ms/step - loss: 0.5465 - accuracy: 0.8051 - val_loss: 1.0128 - val_accuracy: 0.6845\n",
            "Epoch 29/100\n",
            "391/391 [==============================] - 29s 73ms/step - loss: 0.4515 - accuracy: 0.8404 - val_loss: 1.0610 - val_accuracy: 0.6891\n",
            "Epoch 30/100\n",
            "391/391 [==============================] - 29s 73ms/step - loss: 0.3620 - accuracy: 0.8717 - val_loss: 1.1080 - val_accuracy: 0.6960\n",
            "Epoch 31/100\n",
            "391/391 [==============================] - 29s 73ms/step - loss: 0.2960 - accuracy: 0.8962 - val_loss: 1.2008 - val_accuracy: 0.7013\n",
            "Epoch 32/100\n",
            "391/391 [==============================] - 29s 73ms/step - loss: 0.2540 - accuracy: 0.9115 - val_loss: 1.2494 - val_accuracy: 0.6965\n",
            "Epoch 33/100\n",
            "391/391 [==============================] - 29s 73ms/step - loss: 0.2369 - accuracy: 0.9167 - val_loss: 1.2213 - val_accuracy: 0.6939\n",
            "Epoch 34/100\n",
            "391/391 [==============================] - 29s 73ms/step - loss: 0.2081 - accuracy: 0.9263 - val_loss: 1.2951 - val_accuracy: 0.6960\n",
            "Epoch 35/100\n",
            "391/391 [==============================] - 29s 73ms/step - loss: 0.1867 - accuracy: 0.9354 - val_loss: 1.2909 - val_accuracy: 0.7056\n",
            "Epoch 36/100\n",
            "391/391 [==============================] - 29s 74ms/step - loss: 0.1579 - accuracy: 0.9460 - val_loss: 1.3611 - val_accuracy: 0.7159\n",
            "Epoch 37/100\n",
            "391/391 [==============================] - 29s 73ms/step - loss: 0.1233 - accuracy: 0.9580 - val_loss: 1.4228 - val_accuracy: 0.7138\n",
            "Epoch 38/100\n",
            "391/391 [==============================] - 29s 73ms/step - loss: 0.1050 - accuracy: 0.9643 - val_loss: 1.4343 - val_accuracy: 0.7176\n",
            "Epoch 39/100\n",
            "391/391 [==============================] - 29s 73ms/step - loss: 0.0872 - accuracy: 0.9704 - val_loss: 1.5439 - val_accuracy: 0.7155\n",
            "Epoch 40/100\n",
            "391/391 [==============================] - 29s 73ms/step - loss: 0.0894 - accuracy: 0.9701 - val_loss: 1.5203 - val_accuracy: 0.7131\n",
            "Epoch 41/100\n",
            "391/391 [==============================] - 29s 73ms/step - loss: 0.0887 - accuracy: 0.9699 - val_loss: 1.6076 - val_accuracy: 0.7079\n",
            "Epoch 42/100\n",
            "391/391 [==============================] - 29s 73ms/step - loss: 0.0751 - accuracy: 0.9741 - val_loss: 1.5941 - val_accuracy: 0.7121\n",
            "Epoch 43/100\n",
            "391/391 [==============================] - 29s 73ms/step - loss: 0.0681 - accuracy: 0.9769 - val_loss: 1.4101 - val_accuracy: 0.7283\n",
            "Epoch 44/100\n",
            "391/391 [==============================] - 29s 73ms/step - loss: 0.0550 - accuracy: 0.9820 - val_loss: 1.6566 - val_accuracy: 0.7265\n",
            "Epoch 45/100\n",
            "391/391 [==============================] - 29s 73ms/step - loss: 0.0527 - accuracy: 0.9824 - val_loss: 1.7153 - val_accuracy: 0.7175\n",
            "Epoch 46/100\n",
            "391/391 [==============================] - 29s 73ms/step - loss: 0.0492 - accuracy: 0.9838 - val_loss: 1.6011 - val_accuracy: 0.7157\n",
            "Epoch 47/100\n",
            "391/391 [==============================] - 29s 74ms/step - loss: 0.0439 - accuracy: 0.9848 - val_loss: 1.6337 - val_accuracy: 0.7233\n",
            "Epoch 48/100\n",
            "391/391 [==============================] - 29s 74ms/step - loss: 0.0463 - accuracy: 0.9848 - val_loss: 1.6920 - val_accuracy: 0.7199\n",
            "Epoch 49/100\n",
            "391/391 [==============================] - 29s 74ms/step - loss: 0.0440 - accuracy: 0.9850 - val_loss: 1.5763 - val_accuracy: 0.7167\n",
            "Epoch 50/100\n",
            "391/391 [==============================] - 29s 74ms/step - loss: 0.0394 - accuracy: 0.9868 - val_loss: 1.6657 - val_accuracy: 0.7236\n",
            "Epoch 51/100\n",
            "391/391 [==============================] - 29s 73ms/step - loss: 0.0334 - accuracy: 0.9887 - val_loss: 1.8158 - val_accuracy: 0.7275\n",
            "Epoch 52/100\n",
            "391/391 [==============================] - 29s 73ms/step - loss: 0.0308 - accuracy: 0.9899 - val_loss: 1.6748 - val_accuracy: 0.7284\n",
            "Epoch 53/100\n",
            "391/391 [==============================] - 29s 73ms/step - loss: 0.0311 - accuracy: 0.9900 - val_loss: 1.6843 - val_accuracy: 0.7306\n",
            "Epoch 54/100\n",
            "391/391 [==============================] - 29s 73ms/step - loss: 0.0252 - accuracy: 0.9920 - val_loss: 1.7560 - val_accuracy: 0.7257\n",
            "Epoch 55/100\n",
            "391/391 [==============================] - 29s 73ms/step - loss: 0.0246 - accuracy: 0.9918 - val_loss: 1.8575 - val_accuracy: 0.7344\n",
            "Epoch 56/100\n",
            "391/391 [==============================] - 29s 73ms/step - loss: 0.0277 - accuracy: 0.9912 - val_loss: 1.8389 - val_accuracy: 0.7271\n",
            "Epoch 57/100\n",
            "391/391 [==============================] - 29s 73ms/step - loss: 0.0219 - accuracy: 0.9924 - val_loss: 1.7551 - val_accuracy: 0.7292\n",
            "Epoch 58/100\n",
            "391/391 [==============================] - 29s 74ms/step - loss: 0.0219 - accuracy: 0.9926 - val_loss: 1.7459 - val_accuracy: 0.7305\n",
            "Epoch 59/100\n",
            "391/391 [==============================] - 29s 73ms/step - loss: 0.0192 - accuracy: 0.9940 - val_loss: 1.8632 - val_accuracy: 0.7290\n",
            "Epoch 60/100\n",
            "391/391 [==============================] - 29s 73ms/step - loss: 0.0174 - accuracy: 0.9947 - val_loss: 1.8643 - val_accuracy: 0.7301\n",
            "Epoch 61/100\n",
            "391/391 [==============================] - 29s 73ms/step - loss: 0.0178 - accuracy: 0.9937 - val_loss: 1.8117 - val_accuracy: 0.7296\n",
            "Epoch 62/100\n",
            "391/391 [==============================] - 29s 73ms/step - loss: 0.0153 - accuracy: 0.9948 - val_loss: 1.7932 - val_accuracy: 0.7354\n",
            "Epoch 63/100\n",
            "391/391 [==============================] - 29s 73ms/step - loss: 0.0147 - accuracy: 0.9950 - val_loss: 1.9068 - val_accuracy: 0.7298\n",
            "Epoch 64/100\n",
            "391/391 [==============================] - 29s 74ms/step - loss: 0.0151 - accuracy: 0.9948 - val_loss: 2.0410 - val_accuracy: 0.7307\n",
            "Epoch 65/100\n",
            "391/391 [==============================] - 29s 73ms/step - loss: 0.0128 - accuracy: 0.9955 - val_loss: 1.9531 - val_accuracy: 0.7310\n",
            "Epoch 66/100\n",
            "391/391 [==============================] - 29s 73ms/step - loss: 0.0114 - accuracy: 0.9963 - val_loss: 2.0228 - val_accuracy: 0.7377\n",
            "Epoch 67/100\n",
            "391/391 [==============================] - 29s 73ms/step - loss: 0.0114 - accuracy: 0.9959 - val_loss: 1.9773 - val_accuracy: 0.7338\n",
            "Epoch 68/100\n",
            "391/391 [==============================] - 29s 73ms/step - loss: 0.0120 - accuracy: 0.9962 - val_loss: 1.9107 - val_accuracy: 0.7322\n",
            "Epoch 69/100\n",
            "391/391 [==============================] - 29s 74ms/step - loss: 0.0113 - accuracy: 0.9962 - val_loss: 1.9600 - val_accuracy: 0.7350\n",
            "Epoch 70/100\n",
            "391/391 [==============================] - 29s 73ms/step - loss: 0.0102 - accuracy: 0.9967 - val_loss: 1.9703 - val_accuracy: 0.7394\n",
            "Epoch 71/100\n",
            "391/391 [==============================] - 29s 73ms/step - loss: 0.0109 - accuracy: 0.9964 - val_loss: 2.0456 - val_accuracy: 0.7362\n",
            "Epoch 72/100\n",
            "391/391 [==============================] - 29s 73ms/step - loss: 0.0107 - accuracy: 0.9964 - val_loss: 2.0928 - val_accuracy: 0.7309\n",
            "Epoch 73/100\n",
            "391/391 [==============================] - 29s 73ms/step - loss: 0.0120 - accuracy: 0.9964 - val_loss: 1.9649 - val_accuracy: 0.7309\n",
            "Epoch 74/100\n",
            "391/391 [==============================] - 29s 73ms/step - loss: 0.0117 - accuracy: 0.9962 - val_loss: 2.0335 - val_accuracy: 0.7298\n",
            "Epoch 75/100\n",
            "391/391 [==============================] - 29s 73ms/step - loss: 0.0115 - accuracy: 0.9961 - val_loss: 1.9042 - val_accuracy: 0.7345\n",
            "Epoch 76/100\n",
            "391/391 [==============================] - 29s 73ms/step - loss: 0.0085 - accuracy: 0.9970 - val_loss: 1.8916 - val_accuracy: 0.7406\n",
            "Epoch 77/100\n",
            "391/391 [==============================] - 29s 73ms/step - loss: 0.0073 - accuracy: 0.9975 - val_loss: 1.9956 - val_accuracy: 0.7338\n",
            "Epoch 78/100\n",
            "391/391 [==============================] - 29s 73ms/step - loss: 0.0064 - accuracy: 0.9978 - val_loss: 2.1928 - val_accuracy: 0.7306\n",
            "Epoch 79/100\n",
            "391/391 [==============================] - 29s 74ms/step - loss: 0.0068 - accuracy: 0.9977 - val_loss: 2.3638 - val_accuracy: 0.7388\n",
            "Epoch 80/100\n",
            "391/391 [==============================] - 29s 74ms/step - loss: 0.0095 - accuracy: 0.9968 - val_loss: 2.2466 - val_accuracy: 0.7342\n",
            "Epoch 81/100\n",
            "391/391 [==============================] - 29s 73ms/step - loss: 0.0139 - accuracy: 0.9958 - val_loss: 2.1809 - val_accuracy: 0.7200\n",
            "Epoch 82/100\n",
            "391/391 [==============================] - 29s 73ms/step - loss: 0.0186 - accuracy: 0.9939 - val_loss: 1.8278 - val_accuracy: 0.7291\n",
            "Epoch 83/100\n",
            "391/391 [==============================] - 29s 73ms/step - loss: 0.0165 - accuracy: 0.9945 - val_loss: 1.7592 - val_accuracy: 0.7293\n",
            "Epoch 84/100\n",
            "391/391 [==============================] - 29s 73ms/step - loss: 0.0111 - accuracy: 0.9964 - val_loss: 1.8890 - val_accuracy: 0.7330\n",
            "Epoch 85/100\n",
            "391/391 [==============================] - 29s 73ms/step - loss: 0.0090 - accuracy: 0.9969 - val_loss: 2.0406 - val_accuracy: 0.7362\n",
            "Epoch 86/100\n",
            "391/391 [==============================] - 29s 73ms/step - loss: 0.0082 - accuracy: 0.9972 - val_loss: 2.1817 - val_accuracy: 0.7347\n",
            "Epoch 87/100\n",
            "391/391 [==============================] - 29s 73ms/step - loss: 0.0090 - accuracy: 0.9970 - val_loss: 2.1958 - val_accuracy: 0.7339\n",
            "Epoch 88/100\n",
            "391/391 [==============================] - 29s 73ms/step - loss: 0.0096 - accuracy: 0.9967 - val_loss: 2.0839 - val_accuracy: 0.7359\n",
            "Epoch 89/100\n",
            "391/391 [==============================] - 29s 73ms/step - loss: 0.0089 - accuracy: 0.9969 - val_loss: 1.9318 - val_accuracy: 0.7384\n",
            "Epoch 90/100\n",
            "391/391 [==============================] - 29s 74ms/step - loss: 0.0079 - accuracy: 0.9973 - val_loss: 1.9700 - val_accuracy: 0.7337\n",
            "Epoch 91/100\n",
            "391/391 [==============================] - 29s 74ms/step - loss: 0.0080 - accuracy: 0.9973 - val_loss: 2.0927 - val_accuracy: 0.7325\n",
            "Epoch 92/100\n",
            "391/391 [==============================] - 29s 73ms/step - loss: 0.0076 - accuracy: 0.9975 - val_loss: 2.0901 - val_accuracy: 0.7384\n",
            "Epoch 93/100\n",
            "391/391 [==============================] - 29s 73ms/step - loss: 0.0070 - accuracy: 0.9976 - val_loss: 2.1338 - val_accuracy: 0.7333\n",
            "Epoch 94/100\n",
            "391/391 [==============================] - 29s 73ms/step - loss: 0.0060 - accuracy: 0.9978 - val_loss: 2.3357 - val_accuracy: 0.7353\n",
            "Epoch 95/100\n",
            "391/391 [==============================] - 29s 73ms/step - loss: 0.0088 - accuracy: 0.9971 - val_loss: 2.1651 - val_accuracy: 0.7421\n",
            "Epoch 96/100\n",
            "391/391 [==============================] - 29s 73ms/step - loss: 0.0089 - accuracy: 0.9969 - val_loss: 1.9852 - val_accuracy: 0.7387\n",
            "Epoch 97/100\n",
            "391/391 [==============================] - 29s 73ms/step - loss: 0.0111 - accuracy: 0.9963 - val_loss: 1.9874 - val_accuracy: 0.7360\n",
            "Epoch 98/100\n",
            "391/391 [==============================] - 29s 73ms/step - loss: 0.0083 - accuracy: 0.9973 - val_loss: 1.9349 - val_accuracy: 0.7379\n",
            "Epoch 99/100\n",
            "391/391 [==============================] - 29s 73ms/step - loss: 0.0076 - accuracy: 0.9977 - val_loss: 1.9768 - val_accuracy: 0.7332\n",
            "Epoch 100/100\n",
            "391/391 [==============================] - 29s 73ms/step - loss: 0.0059 - accuracy: 0.9983 - val_loss: 2.0660 - val_accuracy: 0.7344\n"
          ],
          "name": "stdout"
        }
      ]
    },
    {
      "cell_type": "code",
      "metadata": {
        "id": "SD5WsQC9VfAa",
        "colab": {
          "base_uri": "https://localhost:8080/"
        },
        "outputId": "a6e49d21-1d04-4670-a13c-c1048cba963f"
      },
      "source": [
        "comment = f\"\"\"Batch Size: {batch_size_cifar10}\n",
        "max_step_grad=1/(tf.reduce_max(tf.abs(grad))+self.epsilon)\"\"\"\n",
        "save_run_info(model_vgg16_cifar10_gravity,\n",
        "              gravity_history,\n",
        "              gravity_opt,\n",
        "              'CIFAR10',\n",
        "              comment=comment)"
      ],
      "execution_count": 25,
      "outputs": [
        {
          "output_type": "stream",
          "text": [
            "{'name': 'Gravity', 'learning_rate': 0.1, 'decay': 0.0, 'beta': 0.999, 'epsilon': 1e-07}\n"
          ],
          "name": "stdout"
        }
      ]
    },
    {
      "cell_type": "code",
      "metadata": {
        "colab": {
          "base_uri": "https://localhost:8080/",
          "height": 573
        },
        "id": "XAHWKEJ1pA65",
        "outputId": "bc35c46e-9bcb-4547-fae0-7e3a0fab2f7f"
      },
      "source": [
        "plot_history(gravity_history)"
      ],
      "execution_count": null,
      "outputs": [
        {
          "output_type": "display_data",
          "data": {
            "image/png": "[encoded data removed]",
            "text/plain": [
              "<Figure size 432x288 with 1 Axes>"
            ]
          },
          "metadata": {
            "tags": []
          }
        },
        {
          "output_type": "display_data",
          "data": {
            "image/png": "[encoded data removed]",
            "text/plain": [
              "<Figure size 432x288 with 1 Axes>"
            ]
          },
          "metadata": {
            "tags": []
          }
        }
      ]
    },
    {
      "cell_type": "code",
      "metadata": {
        "id": "nx1zebgBuDuB"
      },
      "source": [
        ""
      ],
      "execution_count": null,
      "outputs": []
    },
    {
      "cell_type": "markdown",
      "metadata": {
        "id": "6l-Kc4dBHmHc"
      },
      "source": [
        "### Test Optimizer"
      ]
    },
    {
      "cell_type": "code",
      "metadata": {
        "id": "Z5wnQWHVHmHc"
      },
      "source": [
        "model_vgg16_cifar10_test = get_vgg16_cifar10(print_summary=False)\n",
        "\n",
        "model_vgg16_cifar10_test.compile(optimizer=test_opt,\n",
        "                                    loss=sparse_categorical_cost,\n",
        "                                    metrics=['accuracy'])\n",
        "test_history = model_vgg16_cifar10_test.fit(x_train_cifar10, y_train_cifar10,\n",
        "                                            batch_size=batch_size_cifar10,\n",
        "                                            epochs=epochs_cifar10,\n",
        "                                            validation_data=(x_test_cifar10, y_test_cifar10))"
      ],
      "execution_count": null,
      "outputs": []
    },
    {
      "cell_type": "code",
      "metadata": {
        "colab": {
          "base_uri": "https://localhost:8080/"
        },
        "id": "vstXeTbOHmHe",
        "outputId": "6fd88bbc-7d71-4513-8205-e49f6a269316"
      },
      "source": [
        "comment = f\"\"\"Batch Size: {batch_size_cifar10}\n",
        "max_step_grad=1/(tf.reduce_max(tf.abs(grad))+self.epsilon)\"\"\"\n",
        "save_run_info(model_vgg16_cifar10_gravity,\n",
        "              gravity_history,\n",
        "              gravity_opt,\n",
        "              'CIFAR10',\n",
        "              comment=comment)"
      ],
      "execution_count": null,
      "outputs": [
        {
          "output_type": "stream",
          "text": [
            "{'name': 'Gravity', 'learning_rate': 0.1, 'decay': 0.0, 'beta': 0.9, 'epsilon': 0.0}\n"
          ],
          "name": "stdout"
        }
      ]
    },
    {
      "cell_type": "code",
      "metadata": {
        "colab": {
          "base_uri": "https://localhost:8080/",
          "height": 573
        },
        "id": "qL-qdO54HmHe",
        "outputId": "bc35c46e-9bcb-4547-fae0-7e3a0fab2f7f"
      },
      "source": [
        "plot_history(gravity_history)"
      ],
      "execution_count": null,
      "outputs": [
        {
          "output_type": "display_data",
          "data": {
            "image/png": "[encoded data removed]",
            "text/plain": [
              "<Figure size 432x288 with 1 Axes>"
            ]
          },
          "metadata": {
            "tags": []
          }
        },
        {
          "output_type": "display_data",
          "data": {
            "image/png": "[encoded data removed]",
            "text/plain": [
              "<Figure size 432x288 with 1 Axes>"
            ]
          },
          "metadata": {
            "tags": []
          }
        }
      ]
    },
    {
      "cell_type": "code",
      "metadata": {
        "id": "mY4CMegFHmHe"
      },
      "source": [
        ""
      ],
      "execution_count": null,
      "outputs": []
    }
  ]
}